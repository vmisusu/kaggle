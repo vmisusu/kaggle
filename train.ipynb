{
 "cells": [
  {
   "cell_type": "markdown",
   "id": "29c1994c",
   "metadata": {},
   "source": [
    "## INITIAL PREPARATION\n",
    "Imports, root dir\n",
    "\n",
    "#### Data investigation is not included here"
   ]
  },
  {
   "cell_type": "code",
   "execution_count": null,
   "id": "65cdc99f",
   "metadata": {},
   "outputs": [],
   "source": []
  },
  {
   "cell_type": "code",
   "execution_count": 1,
   "id": "f64d6134",
   "metadata": {},
   "outputs": [],
   "source": [
    "DATA_DIR='playground-series-s3e4/'"
   ]
  },
  {
   "cell_type": "code",
   "execution_count": 15,
   "id": "d56e77f1",
   "metadata": {},
   "outputs": [
    {
     "data": {
      "text/html": [
       "<style>.container { width:100% !important; }</style>"
      ],
      "text/plain": [
       "<IPython.core.display.HTML object>"
      ]
     },
     "metadata": {},
     "output_type": "display_data"
    }
   ],
   "source": [
    "from IPython.display import display, HTML\n",
    "display(HTML(\"<style>.container { width:100% !important; }</style>\"))\n",
    "\n",
    "import numpy as np\n",
    "import pandas as pd\n",
    "import random\n",
    "import matplotlib.pyplot as plt\n",
    "import importlib\n",
    "from sklearn.model_selection import StratifiedKFold\n",
    "from sklearn.metrics import roc_auc_score\n",
    "from tqdm import tqdm\n",
    "import datetime\n",
    "import pickle\n",
    "\n",
    "import expander\n",
    "from training_lib import *"
   ]
  },
  {
   "cell_type": "code",
   "execution_count": 5,
   "id": "d50212fa",
   "metadata": {},
   "outputs": [],
   "source": [
    "df=pd.read_csv(DATA_DIR+\"/train.csv\").iloc[:,1:] #drop ID\n",
    "#dfOrig=pd.read_csv(DATA_DIR+\"/orig.csv\")"
   ]
  },
  {
   "cell_type": "markdown",
   "id": "2f971de4",
   "metadata": {},
   "source": [
    "## DATASET PREPARATION\n",
    "column drops, union, one-hoe encoding, normalization"
   ]
  },
  {
   "cell_type": "code",
   "execution_count": 9,
   "id": "ec318d18",
   "metadata": {},
   "outputs": [
    {
     "data": {
      "text/html": [
       "<div>\n",
       "<style scoped>\n",
       "    .dataframe tbody tr th:only-of-type {\n",
       "        vertical-align: middle;\n",
       "    }\n",
       "\n",
       "    .dataframe tbody tr th {\n",
       "        vertical-align: top;\n",
       "    }\n",
       "\n",
       "    .dataframe thead th {\n",
       "        text-align: right;\n",
       "    }\n",
       "</style>\n",
       "<table border=\"1\" class=\"dataframe\">\n",
       "  <thead>\n",
       "    <tr style=\"text-align: right;\">\n",
       "      <th></th>\n",
       "      <th>Time</th>\n",
       "      <th>V1</th>\n",
       "      <th>V2</th>\n",
       "      <th>V3</th>\n",
       "      <th>V4</th>\n",
       "      <th>V5</th>\n",
       "      <th>V6</th>\n",
       "      <th>V7</th>\n",
       "      <th>V8</th>\n",
       "      <th>V9</th>\n",
       "      <th>...</th>\n",
       "      <th>V20</th>\n",
       "      <th>V21</th>\n",
       "      <th>V22</th>\n",
       "      <th>V23</th>\n",
       "      <th>V24</th>\n",
       "      <th>V25</th>\n",
       "      <th>V26</th>\n",
       "      <th>V27</th>\n",
       "      <th>V28</th>\n",
       "      <th>Amount</th>\n",
       "    </tr>\n",
       "  </thead>\n",
       "  <tbody>\n",
       "    <tr>\n",
       "      <th>0</th>\n",
       "      <td>0.0</td>\n",
       "      <td>2.074329</td>\n",
       "      <td>-0.129425</td>\n",
       "      <td>-1.137418</td>\n",
       "      <td>0.412846</td>\n",
       "      <td>-0.192638</td>\n",
       "      <td>-1.210144</td>\n",
       "      <td>0.110697</td>\n",
       "      <td>-0.263477</td>\n",
       "      <td>0.742144</td>\n",
       "      <td>...</td>\n",
       "      <td>-0.292969</td>\n",
       "      <td>-0.334701</td>\n",
       "      <td>-0.887840</td>\n",
       "      <td>0.336701</td>\n",
       "      <td>-0.110835</td>\n",
       "      <td>-0.291459</td>\n",
       "      <td>0.207733</td>\n",
       "      <td>-0.076576</td>\n",
       "      <td>-0.059577</td>\n",
       "      <td>1.98</td>\n",
       "    </tr>\n",
       "    <tr>\n",
       "      <th>1</th>\n",
       "      <td>0.0</td>\n",
       "      <td>1.998827</td>\n",
       "      <td>-1.250891</td>\n",
       "      <td>-0.520969</td>\n",
       "      <td>-0.894539</td>\n",
       "      <td>-1.122528</td>\n",
       "      <td>-0.270866</td>\n",
       "      <td>-1.029289</td>\n",
       "      <td>0.050198</td>\n",
       "      <td>-0.109948</td>\n",
       "      <td>...</td>\n",
       "      <td>0.065717</td>\n",
       "      <td>0.054848</td>\n",
       "      <td>-0.038367</td>\n",
       "      <td>0.133518</td>\n",
       "      <td>-0.461928</td>\n",
       "      <td>-0.465491</td>\n",
       "      <td>-0.464655</td>\n",
       "      <td>-0.009413</td>\n",
       "      <td>-0.038238</td>\n",
       "      <td>84.00</td>\n",
       "    </tr>\n",
       "    <tr>\n",
       "      <th>2</th>\n",
       "      <td>0.0</td>\n",
       "      <td>0.091535</td>\n",
       "      <td>1.004517</td>\n",
       "      <td>-0.223445</td>\n",
       "      <td>-0.435249</td>\n",
       "      <td>0.667548</td>\n",
       "      <td>-0.988351</td>\n",
       "      <td>0.948146</td>\n",
       "      <td>-0.084789</td>\n",
       "      <td>-0.042027</td>\n",
       "      <td>...</td>\n",
       "      <td>-0.021375</td>\n",
       "      <td>-0.326725</td>\n",
       "      <td>-0.803736</td>\n",
       "      <td>0.154495</td>\n",
       "      <td>0.951233</td>\n",
       "      <td>-0.506919</td>\n",
       "      <td>0.085046</td>\n",
       "      <td>0.224458</td>\n",
       "      <td>0.087356</td>\n",
       "      <td>2.69</td>\n",
       "    </tr>\n",
       "    <tr>\n",
       "      <th>3</th>\n",
       "      <td>0.0</td>\n",
       "      <td>1.979649</td>\n",
       "      <td>-0.184949</td>\n",
       "      <td>-1.064206</td>\n",
       "      <td>0.120125</td>\n",
       "      <td>-0.215238</td>\n",
       "      <td>-0.648829</td>\n",
       "      <td>-0.087826</td>\n",
       "      <td>-0.035367</td>\n",
       "      <td>0.885838</td>\n",
       "      <td>...</td>\n",
       "      <td>-0.340089</td>\n",
       "      <td>-0.095514</td>\n",
       "      <td>-0.079792</td>\n",
       "      <td>0.167701</td>\n",
       "      <td>-0.042939</td>\n",
       "      <td>0.000799</td>\n",
       "      <td>-0.096148</td>\n",
       "      <td>-0.057780</td>\n",
       "      <td>-0.073839</td>\n",
       "      <td>1.00</td>\n",
       "    </tr>\n",
       "    <tr>\n",
       "      <th>4</th>\n",
       "      <td>0.0</td>\n",
       "      <td>1.025898</td>\n",
       "      <td>-0.171827</td>\n",
       "      <td>1.203717</td>\n",
       "      <td>1.243900</td>\n",
       "      <td>-0.636572</td>\n",
       "      <td>1.099074</td>\n",
       "      <td>-0.938651</td>\n",
       "      <td>0.569239</td>\n",
       "      <td>0.692665</td>\n",
       "      <td>...</td>\n",
       "      <td>-0.203628</td>\n",
       "      <td>0.099157</td>\n",
       "      <td>0.608908</td>\n",
       "      <td>0.027901</td>\n",
       "      <td>-0.262813</td>\n",
       "      <td>0.257834</td>\n",
       "      <td>-0.252829</td>\n",
       "      <td>0.108338</td>\n",
       "      <td>0.021051</td>\n",
       "      <td>1.00</td>\n",
       "    </tr>\n",
       "    <tr>\n",
       "      <th>5</th>\n",
       "      <td>0.0</td>\n",
       "      <td>1.052469</td>\n",
       "      <td>0.099592</td>\n",
       "      <td>1.077244</td>\n",
       "      <td>1.370024</td>\n",
       "      <td>-0.471625</td>\n",
       "      <td>0.238658</td>\n",
       "      <td>-0.281837</td>\n",
       "      <td>0.055925</td>\n",
       "      <td>0.425970</td>\n",
       "      <td>...</td>\n",
       "      <td>0.002408</td>\n",
       "      <td>-0.013418</td>\n",
       "      <td>0.210670</td>\n",
       "      <td>-0.031069</td>\n",
       "      <td>0.131544</td>\n",
       "      <td>0.452867</td>\n",
       "      <td>-0.376528</td>\n",
       "      <td>0.086428</td>\n",
       "      <td>0.049083</td>\n",
       "      <td>35.97</td>\n",
       "    </tr>\n",
       "    <tr>\n",
       "      <th>6</th>\n",
       "      <td>0.0</td>\n",
       "      <td>1.206129</td>\n",
       "      <td>0.420150</td>\n",
       "      <td>-0.358910</td>\n",
       "      <td>1.037382</td>\n",
       "      <td>0.735224</td>\n",
       "      <td>-0.082449</td>\n",
       "      <td>0.568558</td>\n",
       "      <td>-0.158037</td>\n",
       "      <td>-0.479937</td>\n",
       "      <td>...</td>\n",
       "      <td>-0.009909</td>\n",
       "      <td>-0.366513</td>\n",
       "      <td>-1.113867</td>\n",
       "      <td>0.042265</td>\n",
       "      <td>-0.819477</td>\n",
       "      <td>0.473615</td>\n",
       "      <td>-0.639652</td>\n",
       "      <td>0.006812</td>\n",
       "      <td>0.016747</td>\n",
       "      <td>36.00</td>\n",
       "    </tr>\n",
       "    <tr>\n",
       "      <th>7</th>\n",
       "      <td>0.0</td>\n",
       "      <td>-1.074970</td>\n",
       "      <td>-0.297535</td>\n",
       "      <td>-0.884465</td>\n",
       "      <td>0.065341</td>\n",
       "      <td>-0.239956</td>\n",
       "      <td>0.349602</td>\n",
       "      <td>1.756880</td>\n",
       "      <td>0.054202</td>\n",
       "      <td>-0.860554</td>\n",
       "      <td>...</td>\n",
       "      <td>1.081409</td>\n",
       "      <td>0.624183</td>\n",
       "      <td>0.908389</td>\n",
       "      <td>-0.233799</td>\n",
       "      <td>-0.457045</td>\n",
       "      <td>0.551736</td>\n",
       "      <td>-0.064708</td>\n",
       "      <td>0.137524</td>\n",
       "      <td>0.203869</td>\n",
       "      <td>440.00</td>\n",
       "    </tr>\n",
       "    <tr>\n",
       "      <th>8</th>\n",
       "      <td>0.0</td>\n",
       "      <td>2.154065</td>\n",
       "      <td>-0.000479</td>\n",
       "      <td>-2.125939</td>\n",
       "      <td>-0.121096</td>\n",
       "      <td>0.918473</td>\n",
       "      <td>-0.208507</td>\n",
       "      <td>0.226055</td>\n",
       "      <td>-0.236828</td>\n",
       "      <td>0.314947</td>\n",
       "      <td>...</td>\n",
       "      <td>-0.156510</td>\n",
       "      <td>0.243716</td>\n",
       "      <td>0.780992</td>\n",
       "      <td>-0.148060</td>\n",
       "      <td>-0.280708</td>\n",
       "      <td>0.507044</td>\n",
       "      <td>-0.420133</td>\n",
       "      <td>-0.037652</td>\n",
       "      <td>-0.079346</td>\n",
       "      <td>1.00</td>\n",
       "    </tr>\n",
       "    <tr>\n",
       "      <th>9</th>\n",
       "      <td>0.0</td>\n",
       "      <td>2.172667</td>\n",
       "      <td>-0.704020</td>\n",
       "      <td>-1.447412</td>\n",
       "      <td>-0.715805</td>\n",
       "      <td>-0.530117</td>\n",
       "      <td>-1.007526</td>\n",
       "      <td>-0.436662</td>\n",
       "      <td>-0.176599</td>\n",
       "      <td>-0.426167</td>\n",
       "      <td>...</td>\n",
       "      <td>-0.185965</td>\n",
       "      <td>0.502916</td>\n",
       "      <td>1.442638</td>\n",
       "      <td>-0.063396</td>\n",
       "      <td>0.017817</td>\n",
       "      <td>0.270144</td>\n",
       "      <td>0.240989</td>\n",
       "      <td>-0.057164</td>\n",
       "      <td>-0.081458</td>\n",
       "      <td>10.00</td>\n",
       "    </tr>\n",
       "    <tr>\n",
       "      <th>10</th>\n",
       "      <td>0.0</td>\n",
       "      <td>2.069136</td>\n",
       "      <td>-0.106825</td>\n",
       "      <td>-1.089859</td>\n",
       "      <td>0.409833</td>\n",
       "      <td>-0.191475</td>\n",
       "      <td>-1.226313</td>\n",
       "      <td>0.125850</td>\n",
       "      <td>-0.269841</td>\n",
       "      <td>0.659718</td>\n",
       "      <td>...</td>\n",
       "      <td>-0.268817</td>\n",
       "      <td>-0.298998</td>\n",
       "      <td>-0.772250</td>\n",
       "      <td>0.349970</td>\n",
       "      <td>0.027916</td>\n",
       "      <td>-0.319847</td>\n",
       "      <td>0.199373</td>\n",
       "      <td>-0.076312</td>\n",
       "      <td>-0.062393</td>\n",
       "      <td>1.98</td>\n",
       "    </tr>\n",
       "    <tr>\n",
       "      <th>11</th>\n",
       "      <td>0.0</td>\n",
       "      <td>2.062799</td>\n",
       "      <td>-0.136466</td>\n",
       "      <td>-1.218995</td>\n",
       "      <td>0.381312</td>\n",
       "      <td>-0.146514</td>\n",
       "      <td>-1.139638</td>\n",
       "      <td>0.136969</td>\n",
       "      <td>-0.280867</td>\n",
       "      <td>0.654840</td>\n",
       "      <td>...</td>\n",
       "      <td>-0.266748</td>\n",
       "      <td>-0.296445</td>\n",
       "      <td>-0.811011</td>\n",
       "      <td>0.335937</td>\n",
       "      <td>-0.135858</td>\n",
       "      <td>-0.322842</td>\n",
       "      <td>0.207924</td>\n",
       "      <td>-0.079660</td>\n",
       "      <td>-0.062708</td>\n",
       "      <td>11.99</td>\n",
       "    </tr>\n",
       "  </tbody>\n",
       "</table>\n",
       "<p>12 rows × 30 columns</p>\n",
       "</div>"
      ],
      "text/plain": [
       "    Time        V1        V2        V3        V4        V5        V6  \\\n",
       "0    0.0  2.074329 -0.129425 -1.137418  0.412846 -0.192638 -1.210144   \n",
       "1    0.0  1.998827 -1.250891 -0.520969 -0.894539 -1.122528 -0.270866   \n",
       "2    0.0  0.091535  1.004517 -0.223445 -0.435249  0.667548 -0.988351   \n",
       "3    0.0  1.979649 -0.184949 -1.064206  0.120125 -0.215238 -0.648829   \n",
       "4    0.0  1.025898 -0.171827  1.203717  1.243900 -0.636572  1.099074   \n",
       "5    0.0  1.052469  0.099592  1.077244  1.370024 -0.471625  0.238658   \n",
       "6    0.0  1.206129  0.420150 -0.358910  1.037382  0.735224 -0.082449   \n",
       "7    0.0 -1.074970 -0.297535 -0.884465  0.065341 -0.239956  0.349602   \n",
       "8    0.0  2.154065 -0.000479 -2.125939 -0.121096  0.918473 -0.208507   \n",
       "9    0.0  2.172667 -0.704020 -1.447412 -0.715805 -0.530117 -1.007526   \n",
       "10   0.0  2.069136 -0.106825 -1.089859  0.409833 -0.191475 -1.226313   \n",
       "11   0.0  2.062799 -0.136466 -1.218995  0.381312 -0.146514 -1.139638   \n",
       "\n",
       "          V7        V8        V9  ...       V20       V21       V22       V23  \\\n",
       "0   0.110697 -0.263477  0.742144  ... -0.292969 -0.334701 -0.887840  0.336701   \n",
       "1  -1.029289  0.050198 -0.109948  ...  0.065717  0.054848 -0.038367  0.133518   \n",
       "2   0.948146 -0.084789 -0.042027  ... -0.021375 -0.326725 -0.803736  0.154495   \n",
       "3  -0.087826 -0.035367  0.885838  ... -0.340089 -0.095514 -0.079792  0.167701   \n",
       "4  -0.938651  0.569239  0.692665  ... -0.203628  0.099157  0.608908  0.027901   \n",
       "5  -0.281837  0.055925  0.425970  ...  0.002408 -0.013418  0.210670 -0.031069   \n",
       "6   0.568558 -0.158037 -0.479937  ... -0.009909 -0.366513 -1.113867  0.042265   \n",
       "7   1.756880  0.054202 -0.860554  ...  1.081409  0.624183  0.908389 -0.233799   \n",
       "8   0.226055 -0.236828  0.314947  ... -0.156510  0.243716  0.780992 -0.148060   \n",
       "9  -0.436662 -0.176599 -0.426167  ... -0.185965  0.502916  1.442638 -0.063396   \n",
       "10  0.125850 -0.269841  0.659718  ... -0.268817 -0.298998 -0.772250  0.349970   \n",
       "11  0.136969 -0.280867  0.654840  ... -0.266748 -0.296445 -0.811011  0.335937   \n",
       "\n",
       "         V24       V25       V26       V27       V28  Amount  \n",
       "0  -0.110835 -0.291459  0.207733 -0.076576 -0.059577    1.98  \n",
       "1  -0.461928 -0.465491 -0.464655 -0.009413 -0.038238   84.00  \n",
       "2   0.951233 -0.506919  0.085046  0.224458  0.087356    2.69  \n",
       "3  -0.042939  0.000799 -0.096148 -0.057780 -0.073839    1.00  \n",
       "4  -0.262813  0.257834 -0.252829  0.108338  0.021051    1.00  \n",
       "5   0.131544  0.452867 -0.376528  0.086428  0.049083   35.97  \n",
       "6  -0.819477  0.473615 -0.639652  0.006812  0.016747   36.00  \n",
       "7  -0.457045  0.551736 -0.064708  0.137524  0.203869  440.00  \n",
       "8  -0.280708  0.507044 -0.420133 -0.037652 -0.079346    1.00  \n",
       "9   0.017817  0.270144  0.240989 -0.057164 -0.081458   10.00  \n",
       "10  0.027916 -0.319847  0.199373 -0.076312 -0.062393    1.98  \n",
       "11 -0.135858 -0.322842  0.207924 -0.079660 -0.062708   11.99  \n",
       "\n",
       "[12 rows x 30 columns]"
      ]
     },
     "metadata": {},
     "output_type": "display_data"
    },
    {
     "name": "stdout",
     "output_type": "stream",
     "text": [
      "Index(['Time', 'V1', 'V2', 'V3', 'V4', 'V5', 'V6', 'V7', 'V8', 'V9', 'V10',\n",
      "       'V11', 'V12', 'V13', 'V14', 'V15', 'V16', 'V17', 'V18', 'V19', 'V20',\n",
      "       'V21', 'V22', 'V23', 'V24', 'V25', 'V26', 'V27', 'V28', 'Amount'],\n",
      "      dtype='object')\n"
     ]
    }
   ],
   "source": [
    "#https://www.kaggle.com/competitions/playground-series-s3e2/discussion/377373 SMOTE\n",
    "\n",
    "import category_encoders as ce #https://www.kaggle.com/competitions/playground-series-s3e2/discussion/377827\n",
    "\n",
    "#toBins [('column1',bins1),('column2',bins2)] - turn each specified number fearure into <bin> separate values\n",
    "#unite [['column1','column2','column3'],['column1','column5']] - unite columns, replace with mean target (y) order\n",
    "#     should be good if rows are too few and feats are too many\n",
    "#drop ['column1',2,3] - drop columns\n",
    "#one-hot True - run get_dummies to turn any str feature into one-hot encoding\n",
    "#norm - normalization, \"minmax\" - turn to 0..1\n",
    "\n",
    "def col(df,column): #get column name for non-str column\n",
    "    if type(column)!=str:\n",
    "        return df.columns[column]\n",
    "    return column\n",
    "\n",
    "def prepareDataset(df, targetCol, datasetParams, dfTest=None, verb=0):\n",
    "    #Prepare dataset, using customization parameters\n",
    "    #also prepare test data (without y) if provided\n",
    "    df_updated = df.copy() #copy original df not to spoil it\n",
    "    test = not (dfTest is None)\n",
    "    if test:\n",
    "        dfTest_updated=dfTest.copy()\n",
    "    params = datasetParams.copy()\n",
    "    defaultParams = {\"TO_BINS\":[],\"UNITE\":[],\"DROP\":[],\"KEEP\":[],\"ONE-HOT\":False,\"NORM\":\"None\",\"ENCODING\":[]}\n",
    "    for p in defaultParams: #use default params for missing\n",
    "        if not (p in params): params[p] = defaultParams[p]\n",
    "    targetCol = col(df, targetCol)\n",
    "    df_updated = df_updated.drop(targetCol, axis = 1) #drop target column, to add in the end\n",
    "    if test and (targetCol in dfTest_updated.columns):\n",
    "        dfTest_updated = dfTest_updated.drop(targetCol, axis = 1)\n",
    "    for cols in [params[\"DROP\"], params[\"KEEP\"]]: #make num format for column names in parameters\n",
    "        for i in range(len(cols)):\n",
    "            if type(cols[i] == str):\n",
    "                cols[i] = df.columns.get_loc(cols[i])\n",
    "    #############################################\n",
    "    for pair in params[\"TO_BINS\"]: #slice these num feats by bins\n",
    "        c = col(df_updated,pair[0])\n",
    "        minVal, maxVal = df_updated[c].min(), df_updated[c].max()\n",
    "        binSize = (maxVal-minVal) / pair[1]\n",
    "        df_updated[c] = df_updated[c] - minVal\n",
    "        df_updated[c] = df_updated[c].floordiv(binSize) * binSize\n",
    "        if test:\n",
    "            dfTest_updated[c] = dfTest_updated[c] - minVal\n",
    "            dfTest_updated[c] = dfTest_updated[c].floordiv(binSize) * binSize\n",
    "        if verb >= 2: #make histogram to check how consistent are values\n",
    "            plt.figure()\n",
    "            df_updated[c].hist()\n",
    "    #############################################          \n",
    "    for union in params[\"UNITE\"]: #unite features\n",
    "        cols = [] #get columns in one format\n",
    "        newColumnName = \"\" #new column name from these columns\n",
    "        for column in union:\n",
    "            cols.append(df_updated.columns.get_loc(col(df_updated,column)))\n",
    "            newColumnName += df_updated.columns[cols[-1]] + \"_\"\n",
    "        newColumnName = newColumnName[:-1]\n",
    "        newColumnInd = len(df_updated.columns)\n",
    "        df_updated[newColumnName] = df_updated.iloc[:,0] #just add new column\n",
    "        if test:\n",
    "            dfTest_updated[newColumnName] = dfTest_updated.iloc[:,0] #just add new column\n",
    "\n",
    "        uValues = {} #new unique values and mean target for them\n",
    "        for row in range(df_updated.shape[0]):\n",
    "            unionValue = \"\"\n",
    "            for c in cols: #get new value from union\n",
    "                unionValue += str(df_updated.iat[row,c])+\"_\"\n",
    "            uValues[unionValue] = 0\n",
    "            df_updated.iat[row,newColumnInd] = unionValue #put the new value to the new column\n",
    "            \n",
    "        if test: #same for submission or validation\n",
    "            for row in range(dfTest_updated.shape[0]):\n",
    "                unionValue=\"\"\n",
    "                for c in cols: #get new value from union\n",
    "                    unionValue += str(dfTest_updated.iat[row,c])+\"_\"\n",
    "                uValues[unionValue] = 0\n",
    "                dfTest_updated.iat[row,newColumnInd] = unionValue #put the new value to the new column\n",
    "                \n",
    "        valList=[] #put mean targets in list to sort and get order (useless for decision trees)\n",
    "        for val in uValues:\n",
    "            newVal = df[df_updated[newColumnName] == val][targetCol].mean()\n",
    "            uValues[val] = newVal\n",
    "            valList.append((newVal,val))\n",
    "        valList=sorted(valList)\n",
    "        for p in valList:\n",
    "            df_updated[newColumnName] = df_updated[newColumnName].replace(p[1],p[0])\n",
    "            if test:\n",
    "                dfTest_updated[newColumnName] = dfTest_updated[newColumnName].replace(p[1],p[0])\n",
    "                \n",
    "        if verb >= 2: #make histogram to check how consistent are values\n",
    "            plt.figure()\n",
    "            df_updated[newColumnName].hist()\n",
    "\n",
    "        if verb>=1: #print count of new values, this shouldn't be too big for dataset\n",
    "            print(newColumnName,len(uValues))\n",
    "    #############################################        \n",
    "    #perform columns drop\n",
    "    df_updated = df_updated.drop(df_updated.columns[params[\"DROP\"]], axis = 1)\n",
    "    if test:\n",
    "        dfTest_updated = dfTest_updated.drop(dfTest_updated.columns[params[\"DROP\"]], axis = 1)\n",
    "    #############################################        \n",
    "    #perform columns keep\n",
    "    if len(params[\"KEEP\"]) > 0:\n",
    "        df_updated = df_updated.iloc[:,params[\"KEEP\"]]\n",
    "        if test:\n",
    "            dfTest_updated = dfTest_updated.iloc[:,params[\"KEEP\"]]\n",
    "    #############################################\n",
    "    #perform encoding\n",
    "    for encoding in params[\"ENCODING\"]:\n",
    "        if encoding[0] == \"ORDINAL\":\n",
    "            print(encoding)\n",
    "            #mapping=None\n",
    "            #if len(encoding) > 2:\n",
    "            #    mapping=encoding[2]\n",
    "            encoder = ce.OrdinalEncoder(cols=[col(df_updated, c) for c in encoding[1]], return_df=True) #, mapping=mapping)\n",
    "            df_updated = encoder.fit_transform(df_updated)\n",
    "            if test:\n",
    "                dfTest_updated = encoder.transform(dfTest_updated)\n",
    "    #############################################    \n",
    "    if params[\"ONE-HOT\"]==True:\n",
    "        df_updated = pd.get_dummies(df_updated)\n",
    "        if test:\n",
    "            dfTest_updated = pd.get_dummies(dfTest_updated)\n",
    "    #############################################\n",
    "    if params[\"NORM\"]==\"minmax\":\n",
    "        df_updated=(df_updated-df_updated.min())/(df_updated.max()-df_updated.min())\n",
    "        if test:\n",
    "            dfTest_updated=(dfTest_updated - df_updated.min()) / (df_updated.max() - df_updated.min())\n",
    "        #sc = StandardScaler() #can be used later for something else\n",
    "        #X[num_cols] = sc.fit_transform(X[num_cols])\n",
    "    #############################################\n",
    "    if verb>=3:\n",
    "        display(df_updated.head(12))\n",
    "    if not test:\n",
    "        if verb >= 1:\n",
    "            print(df_updated.columns)\n",
    "        return (df_updated.values, df[targetCol].values)\n",
    "    if test:\n",
    "        if verb >= 1:\n",
    "            print('train',df_updated.columns)\n",
    "            print('val/sub',dfTest_updated.columns)\n",
    "        return (df_updated.values, df[targetCol].values, dfTest_updated.values)\n",
    "    \n",
    "NEED_TEST = True #run test in case of RnD or param search\n",
    "if NEED_TEST:\n",
    "    datasetParams={\"ENCODING\":[\"ORDINAL\",[1,3,\"Gender\"]]}\n",
    "    X, Y = prepareDataset(df, df.columns[-1], datasetParams, verb=3)"
   ]
  },
  {
   "cell_type": "markdown",
   "id": "6fe255cc",
   "metadata": {},
   "source": [
    "## TRAINING FUNCTIONS\n",
    "grid run, tensorflow, catboost, xgboost. Should be in training_lib, but RnD can be done here"
   ]
  },
  {
   "cell_type": "markdown",
   "id": "19d2e176",
   "metadata": {},
   "source": [
    "### Grid run (upper as should be changed less frequently than training (or not))"
   ]
  },
  {
   "cell_type": "code",
   "execution_count": 35,
   "id": "c86e31ab",
   "metadata": {},
   "outputs": [],
   "source": [
    "#dirty\n",
    "\n",
    "#getParamConfigList should be in training_lib\n",
    "def runGridTest(df, datasetParams={}, trainingParams={}, libSpecificParams={}, kfolds=10, stopRightAway=False, dfAdditional=None):\n",
    "    datasetParamsList = getParamConfigList(datasetParams)\n",
    "    trainingParamsList = getParamConfigList(trainingParams)\n",
    "    libSpecificParamsList = getParamConfigList(libSpecificParams)\n",
    "    print(len(datasetParamsList),'dataset params configs')\n",
    "    print(len(trainingParamsList),'training params configs')\n",
    "    print(len(libSpecificParamsList),'lib specific params configs')\n",
    "    print(len(datasetParamsList)*len(trainingParamsList)*len(libSpecificParamsList),'all params configs')\n",
    "    print('datasetParams',datasetParamsList)\n",
    "    print('trainingParams',trainingParamsList)\n",
    "    print('libSpecificParams',libSpecificParamsList)\n",
    "    results=[]\n",
    "    for datasetParamConfig in datasetParamsList:\n",
    "        \n",
    "        if dfAdditional is None:\n",
    "            X, Y = prepareDataset(df, df.columns[-1], datasetParamConfig) #prepare dataset with this param configurations\n",
    "        else:\n",
    "            X, Y, X2 = prepareDataset(df, df.columns[-1], datasetParamConfig, dfAdditional) #prepare dataset with this param configurations\n",
    "            #_, Y2 = prepareDataset(dfAdditional, dfAdditional.columns[-1], datasetParamConfig) #TODO - how to use transform from initial? Or should I make common? Probably its better to use contest dataset and not to adjust to orig\n",
    "            Y2 = dfAdditional.iloc[:,-1].values\n",
    "            #df, targetCol, datasetParams, dfTest=None, verb=0\n",
    "        for trainingParamConfig in trainingParamsList:\n",
    "            for libSpecificParamConfig in libSpecificParamsList:\n",
    "                totalRes=0\n",
    "                AUCs=[]\n",
    "                stf = StratifiedKFold(kfolds, shuffle=True, random_state=1) #make k-folds\n",
    "                for train_ix, test_ix in tqdm(stf.split(X, Y), total = kfolds):\n",
    "                    if False:\n",
    "                        df2=df.iloc[train_ix]\n",
    "                        subDf=df.iloc[test_ix]\n",
    "                        X_Train, Y_Train, X_Test = prepareDataset(df2, df.columns[-1], datasetParamConfig, subDf)\n",
    "                        \n",
    "                        Y_Pred=trainingParamConfig[\"FUNC\"](X_Train, Y_Train, X_Test, subDf.iloc[:,-1].values, X_Test, trainingParamConfig, libSpecificParamConfig) #run training and get predictions\n",
    "                    else:\n",
    "                        if dfAdditional is None:\n",
    "                            Y_Pred=trainingParamConfig[\"FUNC\"](X[train_ix], Y[train_ix], X[test_ix], Y[test_ix], X[test_ix], trainingParamConfig, libSpecificParamConfig) #run training and get predictions\n",
    "                        else:\n",
    "                            Y_Pred=trainingParamConfig[\"FUNC\"](np.vstack([X[train_ix],X2]), np.hstack([Y[train_ix],Y2]), X[test_ix], Y[test_ix], X[test_ix], trainingParamConfig, libSpecificParamConfig) #run training and get predictions\n",
    "                    #auc=roc_auc_score(Y[test_ix], Y_Pred) #calculate AUC\n",
    "                    #print(auc,'pre-auc')\n",
    "                    #Y_Pred=fixPredsForAUC(Y_Pred)\n",
    "                    auc=roc_auc_score(Y[test_ix], Y_Pred) #calculate AUC\n",
    "                    #print(auc,'auc')\n",
    "                    totalRes+=auc\n",
    "                    AUCs.append(auc)\n",
    "                    predsFalse=[]\n",
    "                    predsTrue=[]\n",
    "                    for i in range(len(Y[test_ix])):\n",
    "                        if Y[test_ix][i]==0:\n",
    "                            predsFalse.append(Y_Pred[i])\n",
    "                        else:\n",
    "                            predsTrue.append(Y_Pred[i])\n",
    "                    #plt.figure(figsize=(8,8))\n",
    "                    #plt.hist(predsFalse,color='blue',bins=30)\n",
    "                    #plt.hist(predsTrue*10,color='red',bins=30)\n",
    "                    if stopRightAway:\n",
    "                        break\n",
    "                #plt.figure()\n",
    "                #plt.hist(AUCs) #hist for AUCs in k-folds\n",
    "                #plt.title(str(totalRes/kfolds)+\" \"+str(datasetParamConfig)+\" \"+str(trainingParamConfig))\n",
    "                AUCs=np.array(AUCs)\n",
    "                aucInfo=\"{:.4f}: \".format(totalRes/kfolds)+\"{:.3f}\".format(AUCs.min())+\"-{:.3f}\".format(AUCs.max())+\" var: {:.5f}\".format((AUCs-AUCs.mean()).var())\n",
    "                print(\"kfolded auc\",aucInfo,str(datasetParamConfig)+\" \"+str(trainingParamConfig)+\" \"+str(libSpecificParamConfig))\n",
    "                results.append((totalRes/kfolds,str(datasetParamConfig)+\" \"+str(trainingParamConfig)+\" \"+str(libSpecificParamConfig)))\n",
    "    return results"
   ]
  },
  {
   "cell_type": "markdown",
   "id": "b5ae0d51",
   "metadata": {},
   "source": [
    "## Ensemble"
   ]
  },
  {
   "cell_type": "code",
   "execution_count": 6,
   "id": "b46792dd",
   "metadata": {},
   "outputs": [],
   "source": [
    "#https://www.kaggle.com/competitions/playground-series-s3e2/discussion/377732\n",
    "\n",
    "def ensembleTrain(X,Y,X_val,Y_val,X_test,trainingParams,libSpecificParams):\n",
    "    params=trainingParams.copy()\n",
    "    defaultParams={\"ALG\":\"\", \"SPLIT\":0.5}\n",
    "    for p in defaultParams:\n",
    "        if not (p in params): params[p] = defaultParams[p]\n",
    "    \n",
    "    totalWeight=0\n",
    "    \n",
    "    #simple blending OR train\n",
    "    #\"ALG\", \"VAL\"\n",
    "    #if alg - make one new validation split (better stratified)\n",
    "    if (params[\"ALG\"] != \"\"):\n",
    "        n2 = int(len(X) * params[\"SPLIT\"]) #examples to train ensemble\n",
    "        X2 = X[-n2:]\n",
    "        Y2 = Y[-n2:]\n",
    "        X1 = X[:-n2]\n",
    "        Y1 = Y[:-n2]\n",
    "        totalPreds_train = np.zeros(len(X2))\n",
    "        totalPreds_test = np.zeros(len(X_test))\n",
    "    else:\n",
    "        totalPreds=np.zeros(len(X_test))\n",
    "    \n",
    "    for method in trainingParams[\"METHODS\"]:\n",
    "        #print(method)\n",
    "        #print(X.shape,X_val.shape,X_test.shape)\n",
    "        weight = 1\n",
    "        if len(method) >= 2: weight = method[2]\n",
    "        totalWeight += weight\n",
    "        if (params[\"ALG\"] == \"\"):\n",
    "            Y_Pred = method[0][\"FUNC\"](X, Y, X_val, Y_val, X_test, method[0], method[1])\n",
    "            Y_Pred -= Y_Pred.min() #normalize #TODO RANKING\n",
    "            Y_Pred /= Y_Pred.max() #normalize\n",
    "            #print(totalPreds.shape,Y_Pred.shape)\n",
    "            totalPreds += Y_Pred * weight    \n",
    "        else:\n",
    "            Y_Pred_train = method[0][\"FUNC\"](X1, Y1, X2, Y2, X2, method[0], method[1])\n",
    "            Y_Pred_test = method[0][\"FUNC\"](X2, Y2, X_val, Y_val, X_test, method[0], method[1])\n",
    "            Y_Pred_test -= Y_Pred_train.min()\n",
    "            Y_Pred_train -= Y_Pred_train.min()\n",
    "            Y_Pred_test /= Y_Pred_train.max()\n",
    "            Y_Pred_train /= Y_Pred_train.max()\n",
    "            totalPreds_train += Y_Pred_train * weight\n",
    "            totalPreds_test += Y_Pred_test * weight\n",
    "        \n",
    "        \n",
    "    if params[\"ALG\"] != \"\": #perform meta-training for ensembling\n",
    "        #Y_Pred1 = totalPreds / totalWeight\n",
    "        #print(X.shape,X2.shape,Y_Pred1.shape)\n",
    "        totalPreds_train /= totalWeight\n",
    "        totalPreds_test /= totalWeight\n",
    "        #print(totalPreds_train.shape,totalPreds_test.shape)\n",
    "        Y_Pred = params[\"ALG\"](totalPreds_train.reshape(-1,1), Y2, [], Y_val, totalPreds_test.reshape(-1,1), trainingParams, libSpecificParams)\n",
    "        return Y_Pred\n",
    "    else:    \n",
    "        return totalPreds / totalWeight"
   ]
  },
  {
   "cell_type": "markdown",
   "id": "16be5fbd",
   "metadata": {},
   "source": [
    "### CatBoost, sklearn RandomForest. And other to do (xgboost, something else)..."
   ]
  },
  {
   "cell_type": "code",
   "execution_count": 23,
   "id": "9ef999c4",
   "metadata": {},
   "outputs": [],
   "source": [
    "#dirty\n",
    "\n",
    "#catboost training functions\n",
    "from catboost import CatBoostClassifier, CatBoostRegressor, Pool, cv\n",
    "\n",
    "def catBoostTrain(X,Y,X_val,Y_val,X_test,trainingParams,libSpecificParams):\n",
    "    params=trainingParams.copy()\n",
    "    defaultParams={\"ITERS\":300,\"LOSS\":\"Poisson\",\"SEED\":1} #\"st_weight\":1,\n",
    "    for p in defaultParams:\n",
    "        if not (p in params):\n",
    "            params[p] = defaultParams[p]\n",
    "    cat = CatBoostRegressor(iterations=params[\"ITERS\"], loss_function=params[\"LOSS\"], use_best_model=True, thread_count=2, random_seed=params[\"SEED\"],**libSpecificParams) #, hints=\"skip_train~false\")#, use_best_model=True) #class_weights={0:1,1:params[\"st_weight\"]}, \n",
    "    cat_feats=[] #handle str and other features\n",
    "    sample_weight=np.ones(len(Y))\n",
    "    if (\"CLASS_WEIGHT\" in trainingParams) and (trainingParams[\"CLASS_WEIGHT\"]>1):\n",
    "        w=trainingParams[\"CLASS_WEIGHT\"]\n",
    "        for i in range(len(Y)):\n",
    "            if Y[i]==1:\n",
    "                sample_weight[i]=w\n",
    "    for i in range(X.shape[1]):\n",
    "        if type(X[0,i])==str:\n",
    "            cat_feats.append(i)\n",
    "    cat.fit(X, Y, cat_features=cat_feats, plot=False, verbose=False, eval_set=(X_val,Y_val), sample_weight=sample_weight) #train\n",
    "    #return cat.predict_proba(X_test)[:,1] #return probabilities of 1\n",
    "    return cat.predict(X_test)\n",
    "\n",
    "#random forest training\n",
    "\n",
    "from sklearn.ensemble import RandomForestClassifier\n",
    "\n",
    "def randomForestTrain(X,Y,X_val,Y_val,X_test,trainingParams,libSpecificParams):\n",
    "    rfc = RandomForestClassifier(random_state=1,**libSpecificParams) #n_estimators=3,max_depth=2,\n",
    "    rfc.fit(X, Y.reshape(-1))\n",
    "    return rfc.predict_proba(X_test)[:,1]\n",
    "\n",
    "#xgboost\n",
    "\n",
    "import xgboost as xgb\n",
    "\n",
    "def XGBTrain(X,Y,X_val,Y_val,X_test,trainingParams,libSpecificParams): #trainX,indTrainX,trainY,valX,indValX,params):\n",
    "    model=xgb.XGBRegressor(**libSpecificParams)\n",
    "    model.fit(X,Y)\n",
    "    preds=model.predict(X_test)\n",
    "    return preds\n",
    "\n",
    "#lightgbm\n",
    "\n",
    "import lightgbm as lgbm\n",
    "\n",
    "def LGBMTrain(X,Y,X_val,Y_val,X_test,trainingParams,libSpecificParams):\n",
    "    model=lgbm.LGBMRegressor(**libSpecificParams)\n",
    "    model.fit(X,Y)\n",
    "    preds=model.predict(X_test)\n",
    "    return preds\n",
    "    \n",
    "#Testing development\n",
    "NEED_TEST = False\n",
    "if NEED_TEST:\n",
    "    datasetParams={\"ONE-HOT\":True}\n",
    "    X, Y = prepareDataset(df, datasetParams) #prepare dataset with all the params\n",
    "    rfc = RandomForestClassifier(random_state=1)\n",
    "    rfc.fit(X[:-1000], Y[:-1000].reshape(-1))\n",
    "    Y_Pred=rfc.predict_proba(X[-1000:])[:,1]\n",
    "    auc=roc_auc_score(Y[-1000:], Y_Pred) #cal"
   ]
  },
  {
   "cell_type": "markdown",
   "id": "3d1233ce",
   "metadata": {},
   "source": [
    "### TensorFlow"
   ]
  },
  {
   "cell_type": "code",
   "execution_count": 51,
   "id": "ea70d19e",
   "metadata": {},
   "outputs": [
    {
     "name": "stderr",
     "output_type": "stream",
     "text": [
      "2023-01-20 19:59:53.660740: W tensorflow/stream_executor/platform/default/dso_loader.cc:64] Could not load dynamic library 'libcudart.so.11.0'; dlerror: libcudart.so.11.0: cannot open shared object file: No such file or directory\n",
      "2023-01-20 19:59:53.660763: I tensorflow/stream_executor/cuda/cudart_stub.cc:29] Ignore above cudart dlerror if you do not have a GPU set up on your machine.\n"
     ]
    },
    {
     "name": "stdout",
     "output_type": "stream",
     "text": [
      "tensorflow version 2.8.0\n"
     ]
    },
    {
     "name": "stderr",
     "output_type": "stream",
     "text": [
      "Using TensorFlow backend.\n"
     ]
    }
   ],
   "source": [
    "#dirty and stupid lib version\n",
    "\n",
    "#tensorflow training\n",
    "from tensorflow.python.keras import layers as L\n",
    "from tensorflow.python.keras.models import Model\n",
    "from tensorflow.python.keras.models import Sequential\n",
    "from tensorflow.python.keras import backend as K\n",
    "from tensorflow.python.keras import regularizers\n",
    "import numpy as np\n",
    "\n",
    "import tensorflow as tf\n",
    "print('tensorflow version',tf.__version__)\n",
    "\n",
    "def buildDense(columns,params):\n",
    "    #Build dense neural network model\n",
    "    inputLayer=L.Input(columns,name=\"Input\")\n",
    "    X=inputLayer\n",
    "    for layer in params[\"LAYERS\"]:\n",
    "        X=L.Dense(layer,activation=None,activity_regularizer=params[\"REGULARIZATION\"])(X)\n",
    "        #X=L.BatchNormalization()(X)\n",
    "        if params[\"DROPOUT\"]>0:\n",
    "            X=L.Dropout(params[\"DROPOUT\"])(X)\n",
    "        X=L.Activation(activation=params[\"ACTIVATION\"])(X)\n",
    "    output=L.Dense(1,activation=\"tanh\")(X)\n",
    "    model = Model(inputs=[inputLayer], outputs=[output])\n",
    "    return model\n",
    "\n",
    "def tensorFlowTrain(X,Y,X_val,Y_val,X_test,trainingParams,libSpecificParams):\n",
    "    params=trainingParams.copy()\n",
    "    defaultParams={\"MODEL\":buildDense,\"LAYERS\":[64],\"ACTIVATION\":\"relu\",\"DROPOUT\":0,\"REGULARIZATION\":None,\"LOSS\":\"mse\",\"ITERS\":50,\"OPTIMIZER\":\"Adam\",\"LR\":0.001,\"VERB\":0}\n",
    "    for p in defaultParams:\n",
    "        if not (p in params):\n",
    "            params[p] = defaultParams[p]\n",
    "    model=params[\"MODEL\"](X.shape[1],params)\n",
    "    model.compile(loss=params[\"LOSS\"], optimizer=params[\"OPTIMIZER\"])\n",
    "    K.set_value(model.optimizer.learning_rate, params[\"LR\"])\n",
    "    hist=model.fit(X,Y,epochs=params[\"ITERS\"],validation_split=0.05,verbose=params[\"VERB\"])\n",
    "    preds=model.predict(X_test)\n",
    "    return preds\n",
    "\n",
    "NEED_TEST = False\n",
    "if NEED_TEST:\n",
    "    pass #code to run this"
   ]
  },
  {
   "cell_type": "markdown",
   "id": "dca6f930",
   "metadata": {},
   "source": [
    "## RUNNING CONFIGS\n",
    "\n",
    "#### Can be done in separate files for clarity"
   ]
  },
  {
   "cell_type": "code",
   "execution_count": 8,
   "id": "b40af8df",
   "metadata": {},
   "outputs": [
    {
     "name": "stdout",
     "output_type": "stream",
     "text": [
      "<function catBoostTrain at 0x7f18d80b5ee0> <class 'function'>\n",
      "1 dataset params configs\n",
      "1 training params configs\n",
      "1 lib specific params configs\n",
      "1 all params configs\n",
      "datasetParams [{}]\n",
      "trainingParams [{'FUNC': <function catBoostTrain at 0x7f18d80b5ee0>}]\n",
      "libSpecificParams [{}]\n"
     ]
    },
    {
     "name": "stderr",
     "output_type": "stream",
     "text": [
      "100%|███████████████████████████████████████████| 10/10 [02:51<00:00, 17.19s/it]"
     ]
    },
    {
     "name": "stdout",
     "output_type": "stream",
     "text": [
      "kfolded auc 0.8205: 0.797-0.846 var: 0.00036 {} {'FUNC': <function catBoostTrain at 0x7f18d80b5ee0>} {}\n"
     ]
    },
    {
     "name": "stderr",
     "output_type": "stream",
     "text": [
      "\n"
     ]
    }
   ],
   "source": [
    "datasetParams={}\n",
    "trainingParams={\"FUNC\":catBoostTrain}\n",
    "libSpecificParams={}\n",
    "\n",
    "res=runGridTest(df,datasetParams,trainingParams,libSpecificParams,10)"
   ]
  },
  {
   "cell_type": "code",
   "execution_count": 13,
   "id": "45fd40cb",
   "metadata": {},
   "outputs": [
    {
     "name": "stdout",
     "output_type": "stream",
     "text": [
      "[['Time']] <class 'list'>\n",
      "<function catBoostTrain at 0x7f18d80b5ee0> <class 'function'>\n",
      "1 dataset params configs\n",
      "1 training params configs\n",
      "1 lib specific params configs\n",
      "1 all params configs\n",
      "datasetParams [{'DROP': ['Time']}]\n",
      "trainingParams [{'FUNC': <function catBoostTrain at 0x7f18d80b5ee0>}]\n",
      "libSpecificParams [{}]\n"
     ]
    },
    {
     "name": "stderr",
     "output_type": "stream",
     "text": [
      "100%|███████████████████████████████████████████| 10/10 [02:48<00:00, 16.81s/it]"
     ]
    },
    {
     "name": "stdout",
     "output_type": "stream",
     "text": [
      "kfolded auc 0.8212: 0.802-0.853 var: 0.00028 {'DROP': [0]} {'FUNC': <function catBoostTrain at 0x7f18d80b5ee0>} {}\n"
     ]
    },
    {
     "name": "stderr",
     "output_type": "stream",
     "text": [
      "\n"
     ]
    }
   ],
   "source": [
    "datasetParams={\"DROP\":[[\"Time\"]]}\n",
    "trainingParams={\"FUNC\":catBoostTrain}\n",
    "libSpecificParams={}\n",
    "\n",
    "res=runGridTest(df,datasetParams,trainingParams,libSpecificParams,10)"
   ]
  },
  {
   "cell_type": "code",
   "execution_count": 14,
   "id": "9b200620",
   "metadata": {},
   "outputs": [
    {
     "name": "stdout",
     "output_type": "stream",
     "text": [
      "<function XGBTrain at 0x7f18d7dd6d30> <class 'function'>\n",
      "1 dataset params configs\n",
      "1 training params configs\n",
      "1 lib specific params configs\n",
      "1 all params configs\n",
      "datasetParams [{}]\n",
      "trainingParams [{'FUNC': <function XGBTrain at 0x7f18d7dd6d30>}]\n",
      "libSpecificParams [{}]\n"
     ]
    },
    {
     "name": "stderr",
     "output_type": "stream",
     "text": [
      "100%|███████████████████████████████████████████| 10/10 [07:55<00:00, 47.56s/it]"
     ]
    },
    {
     "name": "stdout",
     "output_type": "stream",
     "text": [
      "kfolded auc 0.7184: 0.654-0.780 var: 0.00175 {} {'FUNC': <function XGBTrain at 0x7f18d7dd6d30>} {}\n"
     ]
    },
    {
     "name": "stderr",
     "output_type": "stream",
     "text": [
      "\n"
     ]
    }
   ],
   "source": [
    "datasetParams={}\n",
    "trainingParams={\"FUNC\":XGBTrain}\n",
    "libSpecificParams={}\n",
    "\n",
    "res=runGridTest(df,datasetParams,trainingParams,libSpecificParams,10)"
   ]
  },
  {
   "cell_type": "code",
   "execution_count": 15,
   "id": "9009cfd6",
   "metadata": {},
   "outputs": [
    {
     "name": "stdout",
     "output_type": "stream",
     "text": [
      "<function LGBMTrain at 0x7f18d74d1f70> <class 'function'>\n",
      "1 dataset params configs\n",
      "1 training params configs\n",
      "1 lib specific params configs\n",
      "1 all params configs\n",
      "datasetParams [{}]\n",
      "trainingParams [{'FUNC': <function LGBMTrain at 0x7f18d74d1f70>}]\n",
      "libSpecificParams [{}]\n"
     ]
    },
    {
     "name": "stderr",
     "output_type": "stream",
     "text": [
      "100%|███████████████████████████████████████████| 10/10 [00:33<00:00,  3.37s/it]"
     ]
    },
    {
     "name": "stdout",
     "output_type": "stream",
     "text": [
      "kfolded auc 0.7447: 0.681-0.841 var: 0.00229 {} {'FUNC': <function LGBMTrain at 0x7f18d74d1f70>} {}\n"
     ]
    },
    {
     "name": "stderr",
     "output_type": "stream",
     "text": [
      "\n"
     ]
    }
   ],
   "source": [
    "datasetParams={}\n",
    "trainingParams={\"FUNC\":LGBMTrain}\n",
    "libSpecificParams={}\n",
    "\n",
    "res=runGridTest(df,datasetParams,trainingParams,libSpecificParams,10)"
   ]
  },
  {
   "cell_type": "code",
   "execution_count": 27,
   "id": "e1173d6e",
   "metadata": {},
   "outputs": [
    {
     "name": "stdout",
     "output_type": "stream",
     "text": [
      "[['Time']] <class 'list'>\n",
      "[[('Amount', 20)]] <class 'list'>\n",
      "<function catBoostTrain at 0x7f18d80b5ee0> <class 'function'>\n",
      "1 dataset params configs\n",
      "1 training params configs\n",
      "1 lib specific params configs\n",
      "1 all params configs\n",
      "datasetParams [{'DROP': ['Time'], 'TO_BINS': [('Amount', 20)]}]\n",
      "trainingParams [{'FUNC': <function catBoostTrain at 0x7f18d80b5ee0>}]\n",
      "libSpecificParams [{}]\n"
     ]
    },
    {
     "name": "stderr",
     "output_type": "stream",
     "text": [
      "100%|███████████████████████████████████████████| 10/10 [02:44<00:00, 16.48s/it]"
     ]
    },
    {
     "name": "stdout",
     "output_type": "stream",
     "text": [
      "kfolded auc 0.8210: 0.796-0.851 var: 0.00026 {'DROP': [0], 'TO_BINS': [('Amount', 20)]} {'FUNC': <function catBoostTrain at 0x7f18d80b5ee0>} {}\n"
     ]
    },
    {
     "name": "stderr",
     "output_type": "stream",
     "text": [
      "\n"
     ]
    }
   ],
   "source": [
    "df2=df.copy()\n",
    "df2[\"Amount\"]=np.log(df[\"Amount\"].values+1)\n",
    "datasetParams={\"DROP\":[[\"Time\"]],\"TO_BINS\":[[(\"Amount\",20)]]}\n",
    "trainingParams={\"FUNC\":catBoostTrain}\n",
    "libSpecificParams={}\n",
    "\n",
    "res=runGridTest(df2,datasetParams,trainingParams,libSpecificParams,10)"
   ]
  },
  {
   "cell_type": "code",
   "execution_count": null,
   "id": "cbd5e7fd",
   "metadata": {},
   "outputs": [],
   "source": [
    "df2=df.copy()\n",
    "df2[\"Amount\"]=np.log(df[\"Amount\"].values)\n",
    "datasetParams={\"DROP\":[[\"Time\"]],\"TO_BINS\":[[(\"Amount\",20)]]}\n",
    "trainingParams={\"FUNC\":catBoostTrain}\n",
    "libSpecificParams={}\n",
    "\n",
    "res=runGridTest(df2,datasetParams,trainingParams,libSpecificParams,10)"
   ]
  },
  {
   "cell_type": "code",
   "execution_count": null,
   "id": "7f8d8e45",
   "metadata": {},
   "outputs": [],
   "source": []
  },
  {
   "cell_type": "code",
   "execution_count": 37,
   "id": "978030a3",
   "metadata": {},
   "outputs": [
    {
     "name": "stdout",
     "output_type": "stream",
     "text": [
      "[['Time']] <class 'list'>\n",
      "[[('Amount', 40)]] <class 'list'>\n",
      "<function catBoostTrain at 0x7fe8ef935f70> <class 'function'>\n",
      "1 dataset params configs\n",
      "1 training params configs\n",
      "1 lib specific params configs\n",
      "1 all params configs\n",
      "datasetParams [{'DROP': ['Time'], 'TO_BINS': [('Amount', 40)]}]\n",
      "trainingParams [{'FUNC': <function catBoostTrain at 0x7fe8ef935f70>}]\n",
      "libSpecificParams [{}]\n"
     ]
    },
    {
     "name": "stderr",
     "output_type": "stream",
     "text": [
      "100%|███████████████████████████████████████████| 10/10 [05:24<00:00, 32.47s/it]"
     ]
    },
    {
     "name": "stdout",
     "output_type": "stream",
     "text": [
      "kfolded auc 0.7989: 0.763-0.829 var: 0.00039 {'DROP': [0], 'TO_BINS': [('Amount', 40)]} {'FUNC': <function catBoostTrain at 0x7fe8ef935f70>} {}\n"
     ]
    },
    {
     "name": "stderr",
     "output_type": "stream",
     "text": [
      "\n"
     ]
    }
   ],
   "source": [
    "df2=df.copy()\n",
    "\n",
    "BINS=40\n",
    "\n",
    "exp=expander.Normalizer1d(BINS)\n",
    "am=np.log(df[\"Amount\"].values+1)\n",
    "exp.fit(am)\n",
    "am2=exp.predict(am)\n",
    "df2[\"Amount\"]=am2\n",
    "\n",
    "df2Add=dfOrig.copy()\n",
    "am=np.log(df2Add[\"Amount\"].values+1)\n",
    "#exp.fit(am)\n",
    "am2=exp.predict(am)\n",
    "df2Add[\"Amount\"]=am\n",
    "\n",
    "datasetParams={\"DROP\":[[\"Time\"]],\"TO_BINS\":[[(\"Amount\",BINS)]]}\n",
    "trainingParams={\"FUNC\":catBoostTrain}\n",
    "libSpecificParams={}\n",
    "\n",
    "res=runGridTest(df2,datasetParams,trainingParams,libSpecificParams,10,dfAdditional=df2Add)"
   ]
  },
  {
   "cell_type": "code",
   "execution_count": null,
   "id": "2127637a",
   "metadata": {},
   "outputs": [],
   "source": [
    "#^^^ additional is bad"
   ]
  },
  {
   "cell_type": "code",
   "execution_count": 46,
   "id": "bb512a1e",
   "metadata": {},
   "outputs": [
    {
     "name": "stdout",
     "output_type": "stream",
     "text": [
      "[['Time']] <class 'list'>\n",
      "[[('Amount', 30)]] <class 'list'>\n",
      "<function catBoostTrain at 0x7fe8ef935f70> <class 'function'>\n",
      "1 dataset params configs\n",
      "1 training params configs\n",
      "1 lib specific params configs\n",
      "1 all params configs\n",
      "datasetParams [{'DROP': ['Time'], 'TO_BINS': [('Amount', 30)]}]\n",
      "trainingParams [{'FUNC': <function catBoostTrain at 0x7fe8ef935f70>}]\n",
      "libSpecificParams [{}]\n"
     ]
    },
    {
     "name": "stderr",
     "output_type": "stream",
     "text": [
      "100%|███████████████████████████████████████████| 10/10 [02:25<00:00, 14.56s/it]"
     ]
    },
    {
     "name": "stdout",
     "output_type": "stream",
     "text": [
      "kfolded auc 0.8195: 0.793-0.851 var: 0.00031 {'DROP': [0], 'TO_BINS': [('Amount', 30)]} {'FUNC': <function catBoostTrain at 0x7fe8ef935f70>} {}\n"
     ]
    },
    {
     "name": "stderr",
     "output_type": "stream",
     "text": [
      "\n"
     ]
    }
   ],
   "source": [
    "df2=df.copy()\n",
    "\n",
    "BINS=30\n",
    "\n",
    "exp=expander.Normalizer1d(BINS)\n",
    "am=np.log2(df[\"Amount\"].values+1)\n",
    "exp.fit(am)\n",
    "am2=exp.predict(am)\n",
    "df2[\"Amount\"]=am2\n",
    "\n",
    "datasetParams={\"DROP\":[[\"Time\"]],\"TO_BINS\":[[(\"Amount\",BINS)]]}\n",
    "trainingParams={\"FUNC\":catBoostTrain}\n",
    "libSpecificParams={}\n",
    "\n",
    "res=runGridTest(df2,datasetParams,trainingParams,libSpecificParams,10)"
   ]
  },
  {
   "cell_type": "code",
   "execution_count": null,
   "id": "befdd240",
   "metadata": {},
   "outputs": [],
   "source": [
    "#kfolded auc 0.8221: 0.798-0.849 var: 0.00030 {'DROP': [0], 'TO_BINS': [('Amount', 100)]} {'FUNC': <function catBoostTrain at 0x7fe8ef935f70>} {}\n",
    "#kfolded auc 0.8241: 0.798-0.855 var: 0.00028 {'DROP': [0], 'TO_BINS': [('Amount', 50)]} {'FUNC': <function catBoostTrain at 0x7fe8ef935f70>} {}\n",
    "#kfolded auc 0.8224: 0.799-0.848 var: 0.00026 {'DROP': [0], 'TO_BINS': [('Amount', 40)]} {'FUNC': <function catBoostTrain at 0x7fe8ef935f70>} {} Stable\n",
    "#kfolded auc 0.8195: 0.793-0.851 var: 0.00031 {'DROP': [0], 'TO_BINS': [('Amount', 30)]} {'FUNC': <function catBoostTrain at 0x7fe8ef935f70>} {}\n",
    "#kfolded auc 0.8213: 0.798-0.850 var: 0.00029 {'DROP': [0], 'TO_BINS': [('Amount', 15)]} {'FUNC': <function catBoostTrain at 0x7fe8ef935f70>} {}\n",
    "#kfolded auc 0.8214: 0.800-0.853 var: 0.00032 {'DROP': [0], 'TO_BINS': [('Amount', 10)]} {'FUNC': <function catBoostTrain at 0x7fe8ef935f70>} {}\n"
   ]
  },
  {
   "cell_type": "code",
   "execution_count": 38,
   "id": "5eb4fbe9",
   "metadata": {},
   "outputs": [
    {
     "name": "stdout",
     "output_type": "stream",
     "text": [
      "True <class 'bool'>\n",
      "[<function randomForestTrain at 0x7fca9b7f28b0>, <function XGBTrain at 0x7fca9937d700>] <class 'list'>\n",
      "1 dataset params configs\n",
      "2 training params configs\n",
      "1 lib specific params configs\n",
      "2 all params configs\n",
      "datasetParams [{'ONE-HOT': True}]\n",
      "trainingParams [{'FUNC': <function randomForestTrain at 0x7fca9b7f28b0>}, {'FUNC': <function XGBTrain at 0x7fca9937d700>}]\n",
      "libSpecificParams [{}]\n"
     ]
    },
    {
     "name": "stderr",
     "output_type": "stream",
     "text": [
      "100%|███████████████████████████████████████████| 10/10 [00:03<00:00,  3.15it/s]\n"
     ]
    },
    {
     "name": "stdout",
     "output_type": "stream",
     "text": [
      "kfolded auc 0.8128746093031808 {'ONE-HOT': True} {'FUNC': <function randomForestTrain at 0x7fca9b7f28b0>} {}\n"
     ]
    },
    {
     "name": "stderr",
     "output_type": "stream",
     "text": [
      "100%|███████████████████████████████████████████| 10/10 [00:10<00:00,  1.07s/it]"
     ]
    },
    {
     "name": "stdout",
     "output_type": "stream",
     "text": [
      "kfolded auc 0.742064487957345 {'ONE-HOT': True} {'FUNC': <function XGBTrain at 0x7fca9937d700>} {}\n"
     ]
    },
    {
     "name": "stderr",
     "output_type": "stream",
     "text": [
      "\n"
     ]
    }
   ],
   "source": [
    "datasetParams={\"ONE-HOT\":True}\n",
    "trainingParams={\"FUNC\":[randomForestTrain,XGBTrain]}\n",
    "libSpecificParams={}\n",
    "\n",
    "res=runGridTest(df,datasetParams,trainingParams,libSpecificParams,10)"
   ]
  },
  {
   "cell_type": "code",
   "execution_count": 22,
   "id": "2dc69b5b",
   "metadata": {},
   "outputs": [
    {
     "name": "stdout",
     "output_type": "stream",
     "text": [
      "True <class 'bool'>\n",
      "<function ensembleTrain at 0x7f951908e4c0> <class 'function'>\n",
      "[[({'FUNC': <function randomForestTrain at 0x7f964c257ee0>}, {}, 1), ({'FUNC': <function catBoostTrain at 0x7f95f7a22c10>}, {}, 3), ({'FUNC': <function XGBTrain at 0x7f95dc7c4280>}, {}, 2)]] <class 'list'>\n",
      "1 dataset params configs\n",
      "1 training params configs\n",
      "1 lib specific params configs\n",
      "1 all params configs\n",
      "datasetParams [{'ONE-HOT': True}]\n",
      "trainingParams [{'FUNC': <function ensembleTrain at 0x7f951908e4c0>, 'METHODS': [({'FUNC': <function randomForestTrain at 0x7f964c257ee0>}, {}, 1), ({'FUNC': <function catBoostTrain at 0x7f95f7a22c10>}, {}, 3), ({'FUNC': <function XGBTrain at 0x7f95dc7c4280>}, {}, 2)]}]\n",
      "libSpecificParams [{}]\n"
     ]
    },
    {
     "name": "stderr",
     "output_type": "stream",
     "text": [
      "\r",
      "  0%|                                                    | 0/10 [00:00<?, ?it/s]"
     ]
    },
    {
     "name": "stdout",
     "output_type": "stream",
     "text": [
      "({'FUNC': <function randomForestTrain at 0x7f964c257ee0>}, {}, 1)\n",
      "(1509, 54) (168, 54) (168, 54)\n",
      "({'FUNC': <function catBoostTrain at 0x7f95f7a22c10>}, {}, 3)\n",
      "(1509, 54) (168, 54) (168, 54)\n",
      "({'FUNC': <function XGBTrain at 0x7f95dc7c4280>}, {}, 2)\n",
      "(1509, 54) (168, 54) (168, 54)\n"
     ]
    },
    {
     "name": "stderr",
     "output_type": "stream",
     "text": [
      "\r",
      " 10%|████▍                                       | 1/10 [00:10<01:30, 10.03s/it]"
     ]
    },
    {
     "name": "stdout",
     "output_type": "stream",
     "text": [
      "({'FUNC': <function randomForestTrain at 0x7f964c257ee0>}, {}, 1)\n",
      "(1509, 54) (168, 54) (168, 54)\n",
      "({'FUNC': <function catBoostTrain at 0x7f95f7a22c10>}, {}, 3)\n",
      "(1509, 54) (168, 54) (168, 54)\n",
      "({'FUNC': <function XGBTrain at 0x7f95dc7c4280>}, {}, 2)\n",
      "(1509, 54) (168, 54) (168, 54)\n"
     ]
    },
    {
     "name": "stderr",
     "output_type": "stream",
     "text": [
      "\r",
      " 20%|████████▊                                   | 2/10 [00:16<01:04,  8.10s/it]"
     ]
    },
    {
     "name": "stdout",
     "output_type": "stream",
     "text": [
      "({'FUNC': <function randomForestTrain at 0x7f964c257ee0>}, {}, 1)\n",
      "(1509, 54) (168, 54) (168, 54)\n",
      "({'FUNC': <function catBoostTrain at 0x7f95f7a22c10>}, {}, 3)\n",
      "(1509, 54) (168, 54) (168, 54)\n",
      "({'FUNC': <function XGBTrain at 0x7f95dc7c4280>}, {}, 2)\n",
      "(1509, 54) (168, 54) (168, 54)\n"
     ]
    },
    {
     "name": "stderr",
     "output_type": "stream",
     "text": [
      "\r",
      " 30%|█████████████▏                              | 3/10 [00:21<00:45,  6.54s/it]"
     ]
    },
    {
     "name": "stdout",
     "output_type": "stream",
     "text": [
      "({'FUNC': <function randomForestTrain at 0x7f964c257ee0>}, {}, 1)\n",
      "(1509, 54) (168, 54) (168, 54)\n",
      "({'FUNC': <function catBoostTrain at 0x7f95f7a22c10>}, {}, 3)\n",
      "(1509, 54) (168, 54) (168, 54)\n",
      "({'FUNC': <function XGBTrain at 0x7f95dc7c4280>}, {}, 2)\n",
      "(1509, 54) (168, 54) (168, 54)\n"
     ]
    },
    {
     "name": "stderr",
     "output_type": "stream",
     "text": [
      "\r",
      " 40%|█████████████████▌                          | 4/10 [00:25<00:32,  5.45s/it]"
     ]
    },
    {
     "name": "stdout",
     "output_type": "stream",
     "text": [
      "({'FUNC': <function randomForestTrain at 0x7f964c257ee0>}, {}, 1)\n",
      "(1509, 54) (168, 54) (168, 54)\n",
      "({'FUNC': <function catBoostTrain at 0x7f95f7a22c10>}, {}, 3)\n",
      "(1509, 54) (168, 54) (168, 54)\n",
      "({'FUNC': <function XGBTrain at 0x7f95dc7c4280>}, {}, 2)\n",
      "(1509, 54) (168, 54) (168, 54)\n"
     ]
    },
    {
     "name": "stderr",
     "output_type": "stream",
     "text": [
      "\r",
      " 50%|██████████████████████                      | 5/10 [00:30<00:26,  5.32s/it]"
     ]
    },
    {
     "name": "stdout",
     "output_type": "stream",
     "text": [
      "({'FUNC': <function randomForestTrain at 0x7f964c257ee0>}, {}, 1)\n",
      "(1509, 54) (168, 54) (168, 54)\n",
      "({'FUNC': <function catBoostTrain at 0x7f95f7a22c10>}, {}, 3)\n",
      "(1509, 54) (168, 54) (168, 54)\n",
      "({'FUNC': <function XGBTrain at 0x7f95dc7c4280>}, {}, 2)\n",
      "(1509, 54) (168, 54) (168, 54)\n"
     ]
    },
    {
     "name": "stderr",
     "output_type": "stream",
     "text": [
      "\r",
      " 60%|██████████████████████████▍                 | 6/10 [00:33<00:18,  4.71s/it]"
     ]
    },
    {
     "name": "stdout",
     "output_type": "stream",
     "text": [
      "({'FUNC': <function randomForestTrain at 0x7f964c257ee0>}, {}, 1)\n",
      "(1509, 54) (168, 54) (168, 54)\n",
      "({'FUNC': <function catBoostTrain at 0x7f95f7a22c10>}, {}, 3)\n",
      "(1509, 54) (168, 54) (168, 54)\n",
      "({'FUNC': <function XGBTrain at 0x7f95dc7c4280>}, {}, 2)\n",
      "(1509, 54) (168, 54) (168, 54)\n"
     ]
    },
    {
     "name": "stderr",
     "output_type": "stream",
     "text": [
      "\r",
      " 70%|██████████████████████████████▊             | 7/10 [00:37<00:13,  4.35s/it]"
     ]
    },
    {
     "name": "stdout",
     "output_type": "stream",
     "text": [
      "({'FUNC': <function randomForestTrain at 0x7f964c257ee0>}, {}, 1)\n",
      "(1510, 54) (167, 54) (167, 54)\n",
      "({'FUNC': <function catBoostTrain at 0x7f95f7a22c10>}, {}, 3)\n",
      "(1510, 54) (167, 54) (167, 54)\n",
      "({'FUNC': <function XGBTrain at 0x7f95dc7c4280>}, {}, 2)\n",
      "(1510, 54) (167, 54) (167, 54)\n"
     ]
    },
    {
     "name": "stderr",
     "output_type": "stream",
     "text": [
      "\r",
      " 80%|███████████████████████████████████▏        | 8/10 [00:41<00:08,  4.13s/it]"
     ]
    },
    {
     "name": "stdout",
     "output_type": "stream",
     "text": [
      "({'FUNC': <function randomForestTrain at 0x7f964c257ee0>}, {}, 1)\n",
      "(1510, 54) (167, 54) (167, 54)\n",
      "({'FUNC': <function catBoostTrain at 0x7f95f7a22c10>}, {}, 3)\n",
      "(1510, 54) (167, 54) (167, 54)\n",
      "({'FUNC': <function XGBTrain at 0x7f95dc7c4280>}, {}, 2)\n",
      "(1510, 54) (167, 54) (167, 54)\n"
     ]
    },
    {
     "name": "stderr",
     "output_type": "stream",
     "text": [
      "\r",
      " 90%|███████████████████████████████████████▌    | 9/10 [00:44<00:04,  4.02s/it]"
     ]
    },
    {
     "name": "stdout",
     "output_type": "stream",
     "text": [
      "({'FUNC': <function randomForestTrain at 0x7f964c257ee0>}, {}, 1)\n",
      "(1510, 54) (167, 54) (167, 54)\n",
      "({'FUNC': <function catBoostTrain at 0x7f95f7a22c10>}, {}, 3)\n",
      "(1510, 54) (167, 54) (167, 54)\n",
      "({'FUNC': <function XGBTrain at 0x7f95dc7c4280>}, {}, 2)\n",
      "(1510, 54) (167, 54) (167, 54)\n"
     ]
    },
    {
     "name": "stderr",
     "output_type": "stream",
     "text": [
      "100%|███████████████████████████████████████████| 10/10 [00:48<00:00,  4.82s/it]"
     ]
    },
    {
     "name": "stdout",
     "output_type": "stream",
     "text": [
      "kfolded auc 0.8174000275785991 {'ONE-HOT': True} {'FUNC': <function ensembleTrain at 0x7f951908e4c0>, 'METHODS': [({'FUNC': <function randomForestTrain at 0x7f964c257ee0>}, {}, 1), ({'FUNC': <function catBoostTrain at 0x7f95f7a22c10>}, {}, 3), ({'FUNC': <function XGBTrain at 0x7f95dc7c4280>}, {}, 2)]} {}\n"
     ]
    },
    {
     "name": "stderr",
     "output_type": "stream",
     "text": [
      "\n"
     ]
    }
   ],
   "source": [
    "datasetParams={\"ONE-HOT\":True}\n",
    "trainingParams={\"FUNC\":ensembleTrain,\"METHODS\":[[]]}\n",
    "trainingParams[\"METHODS\"][0].append(({\"FUNC\":randomForestTrain},{},1))\n",
    "trainingParams[\"METHODS\"][0].append(({\"FUNC\":catBoostTrain},{},3))\n",
    "trainingParams[\"METHODS\"][0].append(({\"FUNC\":XGBTrain},{},2))\n",
    "#print()\n",
    "#print(trainingParams[\"METHODS\"][0])\n",
    "#print()\n",
    "libSpecificParams={}\n",
    "\n",
    "res=runGridTest(df,datasetParams,trainingParams,libSpecificParams,10)"
   ]
  },
  {
   "cell_type": "code",
   "execution_count": null,
   "id": "c494f432",
   "metadata": {},
   "outputs": [],
   "source": []
  },
  {
   "cell_type": "code",
   "execution_count": null,
   "id": "bba28181",
   "metadata": {},
   "outputs": [],
   "source": []
  },
  {
   "cell_type": "code",
   "execution_count": null,
   "id": "a972a526",
   "metadata": {},
   "outputs": [],
   "source": []
  },
  {
   "cell_type": "code",
   "execution_count": null,
   "id": "d220771e",
   "metadata": {},
   "outputs": [],
   "source": []
  },
  {
   "cell_type": "code",
   "execution_count": null,
   "id": "3e8b910b",
   "metadata": {},
   "outputs": [],
   "source": []
  },
  {
   "cell_type": "code",
   "execution_count": 81,
   "id": "d2d4bffc",
   "metadata": {
    "scrolled": true
   },
   "outputs": [
    {
     "name": "stdout",
     "output_type": "stream",
     "text": [
      "True <class 'bool'>\n",
      "<function ensembleTrain at 0x7f8596fca280> <class 'function'>\n",
      "[[({'FUNC': <function randomForestTrain at 0x7f8596fca310>}, {}, 1), ({'FUNC': <function catBoostTrain at 0x7f8596fca430>}, {}, 4), ({'FUNC': <function XGBTrain at 0x7f85d67c9ee0>}, {}, 2), ({'FUNC': <function LGBMTrain at 0x7f858b423dc0>}, {}, 2)]] <class 'list'>\n",
      "1 dataset params configs\n",
      "1 training params configs\n",
      "1 lib specific params configs\n",
      "1 all params configs\n",
      "datasetParams [{'ONE-HOT': True}]\n",
      "trainingParams [{'FUNC': <function ensembleTrain at 0x7f8596fca280>, 'METHODS': [({'FUNC': <function randomForestTrain at 0x7f8596fca310>}, {}, 1), ({'FUNC': <function catBoostTrain at 0x7f8596fca430>}, {}, 4), ({'FUNC': <function XGBTrain at 0x7f85d67c9ee0>}, {}, 2), ({'FUNC': <function LGBMTrain at 0x7f858b423dc0>}, {}, 2)]}]\n",
      "libSpecificParams [{}]\n"
     ]
    },
    {
     "name": "stderr",
     "output_type": "stream",
     "text": [
      "100%|███████████████████████████████████████████| 10/10 [00:22<00:00,  2.22s/it]"
     ]
    },
    {
     "name": "stdout",
     "output_type": "stream",
     "text": [
      "kfolded auc 0.8173: 0.756-0.905 var: 0.002 {'ONE-HOT': True} {'FUNC': <function ensembleTrain at 0x7f8596fca280>, 'METHODS': [({'FUNC': <function randomForestTrain at 0x7f8596fca310>}, {}, 1), ({'FUNC': <function catBoostTrain at 0x7f8596fca430>}, {}, 4), ({'FUNC': <function XGBTrain at 0x7f85d67c9ee0>}, {}, 2), ({'FUNC': <function LGBMTrain at 0x7f858b423dc0>}, {}, 2)]} {}\n"
     ]
    },
    {
     "name": "stderr",
     "output_type": "stream",
     "text": [
      "\n"
     ]
    }
   ],
   "source": [
    "datasetParams={\"ONE-HOT\":True}\n",
    "trainingParams={\"FUNC\":ensembleTrain,\"METHODS\":[[]]} #,\"ALG\":tensorFlowTrain,\"LAYERS\":[[1]]}\n",
    "trainingParams[\"METHODS\"][0].append(({\"FUNC\":randomForestTrain},{},1))\n",
    "trainingParams[\"METHODS\"][0].append(({\"FUNC\":catBoostTrain},{},4))\n",
    "trainingParams[\"METHODS\"][0].append(({\"FUNC\":XGBTrain},{},2))\n",
    "trainingParams[\"METHODS\"][0].append(({\"FUNC\":LGBMTrain},{},2))\n",
    "#print()\n",
    "#print(trainingParams[\"METHODS\"][0])\n",
    "#print()\n",
    "libSpecificParams={}\n",
    "\n",
    "res=runGridTest(df,datasetParams,trainingParams,libSpecificParams,10)"
   ]
  },
  {
   "cell_type": "code",
   "execution_count": 70,
   "id": "00eab111",
   "metadata": {
    "scrolled": true
   },
   "outputs": [
    {
     "name": "stdout",
     "output_type": "stream",
     "text": [
      "True <class 'bool'>\n",
      "<function ensembleTrain at 0x7fb9d1bb90d0> <class 'function'>\n",
      "0.3 <class 'float'>\n",
      "[[({'FUNC': <function randomForestTrain at 0x7fb9e01fdb80>}, {}, 1), ({'FUNC': <function catBoostTrain at 0x7fb9e01fd550>}, {}, 4), ({'FUNC': <function XGBTrain at 0x7fb9d1ba6d30>}, {}, 2), ({'FUNC': <function LGBMTrain at 0x7fb9d1ba6790>}, {}, 2)]] <class 'list'>\n",
      "<function tensorFlowTrain at 0x7fba2f801280> <class 'function'>\n",
      "[[8]] <class 'list'>\n",
      "['Hinge', 'CategoricalHinge', 'CategoricalCrossentropy'] <class 'list'>\n",
      "1 dataset params configs\n",
      "3 training params configs\n",
      "1 lib specific params configs\n",
      "3 all params configs\n",
      "datasetParams [{'ONE-HOT': True}]\n",
      "trainingParams [{'FUNC': <function ensembleTrain at 0x7fb9d1bb90d0>, 'SPLIT': 0.3, 'METHODS': [({'FUNC': <function randomForestTrain at 0x7fb9e01fdb80>}, {}, 1), ({'FUNC': <function catBoostTrain at 0x7fb9e01fd550>}, {}, 4), ({'FUNC': <function XGBTrain at 0x7fb9d1ba6d30>}, {}, 2), ({'FUNC': <function LGBMTrain at 0x7fb9d1ba6790>}, {}, 2)], 'ALG': <function tensorFlowTrain at 0x7fba2f801280>, 'LAYERS': [8], 'LOSS': 'Hinge'}, {'FUNC': <function ensembleTrain at 0x7fb9d1bb90d0>, 'SPLIT': 0.3, 'METHODS': [({'FUNC': <function randomForestTrain at 0x7fb9e01fdb80>}, {}, 1), ({'FUNC': <function catBoostTrain at 0x7fb9e01fd550>}, {}, 4), ({'FUNC': <function XGBTrain at 0x7fb9d1ba6d30>}, {}, 2), ({'FUNC': <function LGBMTrain at 0x7fb9d1ba6790>}, {}, 2)], 'ALG': <function tensorFlowTrain at 0x7fba2f801280>, 'LAYERS': [8], 'LOSS': 'CategoricalHinge'}, {'FUNC': <function ensembleTrain at 0x7fb9d1bb90d0>, 'SPLIT': 0.3, 'METHODS': [({'FUNC': <function randomForestTrain at 0x7fb9e01fdb80>}, {}, 1), ({'FUNC': <function catBoostTrain at 0x7fb9e01fd550>}, {}, 4), ({'FUNC': <function XGBTrain at 0x7fb9d1ba6d30>}, {}, 2), ({'FUNC': <function LGBMTrain at 0x7fb9d1ba6790>}, {}, 2)], 'ALG': <function tensorFlowTrain at 0x7fba2f801280>, 'LAYERS': [8], 'LOSS': 'CategoricalCrossentropy'}]\n",
      "libSpecificParams [{}]\n"
     ]
    },
    {
     "name": "stderr",
     "output_type": "stream",
     "text": [
      "\r",
      "  0%|                                                    | 0/10 [00:00<?, ?it/s]"
     ]
    },
    {
     "name": "stdout",
     "output_type": "stream",
     "text": [
      "({'FUNC': <function randomForestTrain at 0x7fb9e01fdb80>}, {}, 1)\n",
      "(1509, 54) (168, 54) (168, 54)\n",
      "({'FUNC': <function catBoostTrain at 0x7fb9e01fd550>}, {}, 4)\n",
      "(1509, 54) (168, 54) (168, 54)\n",
      "({'FUNC': <function XGBTrain at 0x7fb9d1ba6d30>}, {}, 2)\n",
      "(1509, 54) (168, 54) (168, 54)\n",
      "({'FUNC': <function LGBMTrain at 0x7fb9d1ba6790>}, {}, 2)\n",
      "(1509, 54) (168, 54) (168, 54)\n",
      "(452,) (168,)\n"
     ]
    },
    {
     "name": "stderr",
     "output_type": "stream",
     "text": [
      "\r",
      " 10%|████▍                                       | 1/10 [00:06<00:57,  6.44s/it]"
     ]
    },
    {
     "name": "stdout",
     "output_type": "stream",
     "text": [
      "({'FUNC': <function randomForestTrain at 0x7fb9e01fdb80>}, {}, 1)\n",
      "(1509, 54) (168, 54) (168, 54)\n",
      "({'FUNC': <function catBoostTrain at 0x7fb9e01fd550>}, {}, 4)\n",
      "(1509, 54) (168, 54) (168, 54)\n",
      "({'FUNC': <function XGBTrain at 0x7fb9d1ba6d30>}, {}, 2)\n",
      "(1509, 54) (168, 54) (168, 54)\n",
      "({'FUNC': <function LGBMTrain at 0x7fb9d1ba6790>}, {}, 2)\n",
      "(1509, 54) (168, 54) (168, 54)\n",
      "(452,) (168,)\n"
     ]
    },
    {
     "name": "stderr",
     "output_type": "stream",
     "text": [
      "\r",
      " 20%|████████▊                                   | 2/10 [00:12<00:50,  6.35s/it]"
     ]
    },
    {
     "name": "stdout",
     "output_type": "stream",
     "text": [
      "({'FUNC': <function randomForestTrain at 0x7fb9e01fdb80>}, {}, 1)\n",
      "(1509, 54) (168, 54) (168, 54)\n",
      "({'FUNC': <function catBoostTrain at 0x7fb9e01fd550>}, {}, 4)\n",
      "(1509, 54) (168, 54) (168, 54)\n",
      "({'FUNC': <function XGBTrain at 0x7fb9d1ba6d30>}, {}, 2)\n",
      "(1509, 54) (168, 54) (168, 54)\n",
      "({'FUNC': <function LGBMTrain at 0x7fb9d1ba6790>}, {}, 2)\n",
      "(1509, 54) (168, 54) (168, 54)\n",
      "(452,) (168,)\n"
     ]
    },
    {
     "name": "stderr",
     "output_type": "stream",
     "text": [
      "\r",
      " 30%|█████████████▏                              | 3/10 [00:20<00:48,  6.90s/it]"
     ]
    },
    {
     "name": "stdout",
     "output_type": "stream",
     "text": [
      "({'FUNC': <function randomForestTrain at 0x7fb9e01fdb80>}, {}, 1)\n",
      "(1509, 54) (168, 54) (168, 54)\n",
      "({'FUNC': <function catBoostTrain at 0x7fb9e01fd550>}, {}, 4)\n",
      "(1509, 54) (168, 54) (168, 54)\n",
      "({'FUNC': <function XGBTrain at 0x7fb9d1ba6d30>}, {}, 2)\n",
      "(1509, 54) (168, 54) (168, 54)\n",
      "({'FUNC': <function LGBMTrain at 0x7fb9d1ba6790>}, {}, 2)\n",
      "(1509, 54) (168, 54) (168, 54)\n",
      "(452,) (168,)\n"
     ]
    },
    {
     "name": "stderr",
     "output_type": "stream",
     "text": [
      "\r",
      " 40%|█████████████████▌                          | 4/10 [00:28<00:43,  7.25s/it]"
     ]
    },
    {
     "name": "stdout",
     "output_type": "stream",
     "text": [
      "({'FUNC': <function randomForestTrain at 0x7fb9e01fdb80>}, {}, 1)\n",
      "(1509, 54) (168, 54) (168, 54)\n",
      "({'FUNC': <function catBoostTrain at 0x7fb9e01fd550>}, {}, 4)\n",
      "(1509, 54) (168, 54) (168, 54)\n",
      "({'FUNC': <function XGBTrain at 0x7fb9d1ba6d30>}, {}, 2)\n",
      "(1509, 54) (168, 54) (168, 54)\n",
      "({'FUNC': <function LGBMTrain at 0x7fb9d1ba6790>}, {}, 2)\n",
      "(1509, 54) (168, 54) (168, 54)\n",
      "(452,) (168,)\n"
     ]
    },
    {
     "name": "stderr",
     "output_type": "stream",
     "text": [
      "\r",
      " 50%|██████████████████████                      | 5/10 [00:36<00:37,  7.50s/it]"
     ]
    },
    {
     "name": "stdout",
     "output_type": "stream",
     "text": [
      "({'FUNC': <function randomForestTrain at 0x7fb9e01fdb80>}, {}, 1)\n",
      "(1509, 54) (168, 54) (168, 54)\n",
      "({'FUNC': <function catBoostTrain at 0x7fb9e01fd550>}, {}, 4)\n",
      "(1509, 54) (168, 54) (168, 54)\n",
      "({'FUNC': <function XGBTrain at 0x7fb9d1ba6d30>}, {}, 2)\n",
      "(1509, 54) (168, 54) (168, 54)\n",
      "({'FUNC': <function LGBMTrain at 0x7fb9d1ba6790>}, {}, 2)\n",
      "(1509, 54) (168, 54) (168, 54)\n",
      "(452,) (168,)\n"
     ]
    },
    {
     "name": "stderr",
     "output_type": "stream",
     "text": [
      "\r",
      " 60%|██████████████████████████▍                 | 6/10 [00:44<00:31,  7.80s/it]"
     ]
    },
    {
     "name": "stdout",
     "output_type": "stream",
     "text": [
      "({'FUNC': <function randomForestTrain at 0x7fb9e01fdb80>}, {}, 1)\n",
      "(1509, 54) (168, 54) (168, 54)\n",
      "({'FUNC': <function catBoostTrain at 0x7fb9e01fd550>}, {}, 4)\n",
      "(1509, 54) (168, 54) (168, 54)\n",
      "({'FUNC': <function XGBTrain at 0x7fb9d1ba6d30>}, {}, 2)\n",
      "(1509, 54) (168, 54) (168, 54)\n",
      "({'FUNC': <function LGBMTrain at 0x7fb9d1ba6790>}, {}, 2)\n",
      "(1509, 54) (168, 54) (168, 54)\n",
      "(452,) (168,)\n"
     ]
    },
    {
     "name": "stderr",
     "output_type": "stream",
     "text": [
      "\r",
      " 70%|██████████████████████████████▊             | 7/10 [00:51<00:22,  7.62s/it]"
     ]
    },
    {
     "name": "stdout",
     "output_type": "stream",
     "text": [
      "({'FUNC': <function randomForestTrain at 0x7fb9e01fdb80>}, {}, 1)\n",
      "(1510, 54) (167, 54) (167, 54)\n",
      "({'FUNC': <function catBoostTrain at 0x7fb9e01fd550>}, {}, 4)\n",
      "(1510, 54) (167, 54) (167, 54)\n",
      "({'FUNC': <function XGBTrain at 0x7fb9d1ba6d30>}, {}, 2)\n",
      "(1510, 54) (167, 54) (167, 54)\n",
      "({'FUNC': <function LGBMTrain at 0x7fb9d1ba6790>}, {}, 2)\n",
      "(1510, 54) (167, 54) (167, 54)\n",
      "(453,) (167,)\n"
     ]
    },
    {
     "name": "stderr",
     "output_type": "stream",
     "text": [
      "\r",
      " 80%|███████████████████████████████████▏        | 8/10 [00:59<00:15,  7.55s/it]"
     ]
    },
    {
     "name": "stdout",
     "output_type": "stream",
     "text": [
      "({'FUNC': <function randomForestTrain at 0x7fb9e01fdb80>}, {}, 1)\n",
      "(1510, 54) (167, 54) (167, 54)\n",
      "({'FUNC': <function catBoostTrain at 0x7fb9e01fd550>}, {}, 4)\n",
      "(1510, 54) (167, 54) (167, 54)\n",
      "({'FUNC': <function XGBTrain at 0x7fb9d1ba6d30>}, {}, 2)\n",
      "(1510, 54) (167, 54) (167, 54)\n",
      "({'FUNC': <function LGBMTrain at 0x7fb9d1ba6790>}, {}, 2)\n",
      "(1510, 54) (167, 54) (167, 54)\n",
      "(453,) (167,)\n"
     ]
    },
    {
     "name": "stderr",
     "output_type": "stream",
     "text": [
      "\r",
      " 90%|███████████████████████████████████████▌    | 9/10 [01:06<00:07,  7.61s/it]"
     ]
    },
    {
     "name": "stdout",
     "output_type": "stream",
     "text": [
      "({'FUNC': <function randomForestTrain at 0x7fb9e01fdb80>}, {}, 1)\n",
      "(1510, 54) (167, 54) (167, 54)\n",
      "({'FUNC': <function catBoostTrain at 0x7fb9e01fd550>}, {}, 4)\n",
      "(1510, 54) (167, 54) (167, 54)\n",
      "({'FUNC': <function XGBTrain at 0x7fb9d1ba6d30>}, {}, 2)\n",
      "(1510, 54) (167, 54) (167, 54)\n",
      "({'FUNC': <function LGBMTrain at 0x7fb9d1ba6790>}, {}, 2)\n",
      "(1510, 54) (167, 54) (167, 54)\n",
      "(453,) (167,)\n"
     ]
    },
    {
     "name": "stderr",
     "output_type": "stream",
     "text": [
      "100%|███████████████████████████████████████████| 10/10 [01:14<00:00,  7.41s/it]\n"
     ]
    },
    {
     "name": "stdout",
     "output_type": "stream",
     "text": [
      "kfolded auc 0.19266386284243425 {'ONE-HOT': True} {'FUNC': <function ensembleTrain at 0x7fb9d1bb90d0>, 'SPLIT': 0.3, 'METHODS': [({'FUNC': <function randomForestTrain at 0x7fb9e01fdb80>}, {}, 1), ({'FUNC': <function catBoostTrain at 0x7fb9e01fd550>}, {}, 4), ({'FUNC': <function XGBTrain at 0x7fb9d1ba6d30>}, {}, 2), ({'FUNC': <function LGBMTrain at 0x7fb9d1ba6790>}, {}, 2)], 'ALG': <function tensorFlowTrain at 0x7fba2f801280>, 'LAYERS': [8], 'LOSS': 'Hinge'} {}\n"
     ]
    },
    {
     "name": "stderr",
     "output_type": "stream",
     "text": [
      "\r",
      "  0%|                                                    | 0/10 [00:00<?, ?it/s]"
     ]
    },
    {
     "name": "stdout",
     "output_type": "stream",
     "text": [
      "({'FUNC': <function randomForestTrain at 0x7fb9e01fdb80>}, {}, 1)\n",
      "(1509, 54) (168, 54) (168, 54)\n",
      "({'FUNC': <function catBoostTrain at 0x7fb9e01fd550>}, {}, 4)\n",
      "(1509, 54) (168, 54) (168, 54)\n",
      "({'FUNC': <function XGBTrain at 0x7fb9d1ba6d30>}, {}, 2)\n",
      "(1509, 54) (168, 54) (168, 54)\n",
      "({'FUNC': <function LGBMTrain at 0x7fb9d1ba6790>}, {}, 2)\n",
      "(1509, 54) (168, 54) (168, 54)\n",
      "(452,) (168,)\n"
     ]
    },
    {
     "name": "stderr",
     "output_type": "stream",
     "text": [
      "\r",
      " 10%|████▍                                       | 1/10 [00:07<01:06,  7.42s/it]"
     ]
    },
    {
     "name": "stdout",
     "output_type": "stream",
     "text": [
      "({'FUNC': <function randomForestTrain at 0x7fb9e01fdb80>}, {}, 1)\n",
      "(1509, 54) (168, 54) (168, 54)\n",
      "({'FUNC': <function catBoostTrain at 0x7fb9e01fd550>}, {}, 4)\n",
      "(1509, 54) (168, 54) (168, 54)\n",
      "({'FUNC': <function XGBTrain at 0x7fb9d1ba6d30>}, {}, 2)\n",
      "(1509, 54) (168, 54) (168, 54)\n",
      "({'FUNC': <function LGBMTrain at 0x7fb9d1ba6790>}, {}, 2)\n",
      "(1509, 54) (168, 54) (168, 54)\n",
      "(452,) (168,)\n"
     ]
    },
    {
     "name": "stderr",
     "output_type": "stream",
     "text": [
      "\r",
      " 20%|████████▊                                   | 2/10 [00:15<01:03,  7.89s/it]"
     ]
    },
    {
     "name": "stdout",
     "output_type": "stream",
     "text": [
      "({'FUNC': <function randomForestTrain at 0x7fb9e01fdb80>}, {}, 1)\n",
      "(1509, 54) (168, 54) (168, 54)\n",
      "({'FUNC': <function catBoostTrain at 0x7fb9e01fd550>}, {}, 4)\n",
      "(1509, 54) (168, 54) (168, 54)\n",
      "({'FUNC': <function XGBTrain at 0x7fb9d1ba6d30>}, {}, 2)\n",
      "(1509, 54) (168, 54) (168, 54)\n",
      "({'FUNC': <function LGBMTrain at 0x7fb9d1ba6790>}, {}, 2)\n",
      "(1509, 54) (168, 54) (168, 54)\n",
      "(452,) (168,)\n"
     ]
    },
    {
     "name": "stderr",
     "output_type": "stream",
     "text": [
      "\r",
      " 30%|█████████████▏                              | 3/10 [00:25<00:59,  8.57s/it]"
     ]
    },
    {
     "name": "stdout",
     "output_type": "stream",
     "text": [
      "({'FUNC': <function randomForestTrain at 0x7fb9e01fdb80>}, {}, 1)\n",
      "(1509, 54) (168, 54) (168, 54)\n",
      "({'FUNC': <function catBoostTrain at 0x7fb9e01fd550>}, {}, 4)\n",
      "(1509, 54) (168, 54) (168, 54)\n",
      "({'FUNC': <function XGBTrain at 0x7fb9d1ba6d30>}, {}, 2)\n",
      "(1509, 54) (168, 54) (168, 54)\n",
      "({'FUNC': <function LGBMTrain at 0x7fb9d1ba6790>}, {}, 2)\n",
      "(1509, 54) (168, 54) (168, 54)\n",
      "(452,) (168,)\n"
     ]
    },
    {
     "name": "stderr",
     "output_type": "stream",
     "text": [
      "\r",
      " 40%|█████████████████▌                          | 4/10 [00:34<00:52,  8.78s/it]"
     ]
    },
    {
     "name": "stdout",
     "output_type": "stream",
     "text": [
      "({'FUNC': <function randomForestTrain at 0x7fb9e01fdb80>}, {}, 1)\n",
      "(1509, 54) (168, 54) (168, 54)\n",
      "({'FUNC': <function catBoostTrain at 0x7fb9e01fd550>}, {}, 4)\n",
      "(1509, 54) (168, 54) (168, 54)\n",
      "({'FUNC': <function XGBTrain at 0x7fb9d1ba6d30>}, {}, 2)\n",
      "(1509, 54) (168, 54) (168, 54)\n",
      "({'FUNC': <function LGBMTrain at 0x7fb9d1ba6790>}, {}, 2)\n",
      "(1509, 54) (168, 54) (168, 54)\n",
      "(452,) (168,)\n"
     ]
    },
    {
     "name": "stderr",
     "output_type": "stream",
     "text": [
      "\r",
      " 50%|██████████████████████                      | 5/10 [00:44<00:46,  9.26s/it]"
     ]
    },
    {
     "name": "stdout",
     "output_type": "stream",
     "text": [
      "({'FUNC': <function randomForestTrain at 0x7fb9e01fdb80>}, {}, 1)\n",
      "(1509, 54) (168, 54) (168, 54)\n",
      "({'FUNC': <function catBoostTrain at 0x7fb9e01fd550>}, {}, 4)\n",
      "(1509, 54) (168, 54) (168, 54)\n",
      "({'FUNC': <function XGBTrain at 0x7fb9d1ba6d30>}, {}, 2)\n",
      "(1509, 54) (168, 54) (168, 54)\n",
      "({'FUNC': <function LGBMTrain at 0x7fb9d1ba6790>}, {}, 2)\n",
      "(1509, 54) (168, 54) (168, 54)\n",
      "(452,) (168,)\n"
     ]
    },
    {
     "name": "stderr",
     "output_type": "stream",
     "text": [
      "\r",
      " 60%|██████████████████████████▍                 | 6/10 [00:56<00:40, 10.14s/it]"
     ]
    },
    {
     "name": "stdout",
     "output_type": "stream",
     "text": [
      "({'FUNC': <function randomForestTrain at 0x7fb9e01fdb80>}, {}, 1)\n",
      "(1509, 54) (168, 54) (168, 54)\n",
      "({'FUNC': <function catBoostTrain at 0x7fb9e01fd550>}, {}, 4)\n",
      "(1509, 54) (168, 54) (168, 54)\n",
      "({'FUNC': <function XGBTrain at 0x7fb9d1ba6d30>}, {}, 2)\n",
      "(1509, 54) (168, 54) (168, 54)\n",
      "({'FUNC': <function LGBMTrain at 0x7fb9d1ba6790>}, {}, 2)\n",
      "(1509, 54) (168, 54) (168, 54)\n",
      "(452,) (168,)\n"
     ]
    },
    {
     "name": "stderr",
     "output_type": "stream",
     "text": [
      "\r",
      " 70%|██████████████████████████████▊             | 7/10 [01:06<00:30, 10.13s/it]"
     ]
    },
    {
     "name": "stdout",
     "output_type": "stream",
     "text": [
      "({'FUNC': <function randomForestTrain at 0x7fb9e01fdb80>}, {}, 1)\n",
      "(1510, 54) (167, 54) (167, 54)\n",
      "({'FUNC': <function catBoostTrain at 0x7fb9e01fd550>}, {}, 4)\n",
      "(1510, 54) (167, 54) (167, 54)\n",
      "({'FUNC': <function XGBTrain at 0x7fb9d1ba6d30>}, {}, 2)\n",
      "(1510, 54) (167, 54) (167, 54)\n",
      "({'FUNC': <function LGBMTrain at 0x7fb9d1ba6790>}, {}, 2)\n",
      "(1510, 54) (167, 54) (167, 54)\n",
      "(453,) (167,)\n"
     ]
    },
    {
     "name": "stderr",
     "output_type": "stream",
     "text": [
      "\r",
      " 80%|███████████████████████████████████▏        | 8/10 [01:17<00:20, 10.43s/it]"
     ]
    },
    {
     "name": "stdout",
     "output_type": "stream",
     "text": [
      "({'FUNC': <function randomForestTrain at 0x7fb9e01fdb80>}, {}, 1)\n",
      "(1510, 54) (167, 54) (167, 54)\n",
      "({'FUNC': <function catBoostTrain at 0x7fb9e01fd550>}, {}, 4)\n",
      "(1510, 54) (167, 54) (167, 54)\n",
      "({'FUNC': <function XGBTrain at 0x7fb9d1ba6d30>}, {}, 2)\n",
      "(1510, 54) (167, 54) (167, 54)\n",
      "({'FUNC': <function LGBMTrain at 0x7fb9d1ba6790>}, {}, 2)\n",
      "(1510, 54) (167, 54) (167, 54)\n",
      "(453,) (167,)\n"
     ]
    },
    {
     "name": "stderr",
     "output_type": "stream",
     "text": [
      "\r",
      " 90%|███████████████████████████████████████▌    | 9/10 [01:27<00:10, 10.36s/it]"
     ]
    },
    {
     "name": "stdout",
     "output_type": "stream",
     "text": [
      "({'FUNC': <function randomForestTrain at 0x7fb9e01fdb80>}, {}, 1)\n",
      "(1510, 54) (167, 54) (167, 54)\n",
      "({'FUNC': <function catBoostTrain at 0x7fb9e01fd550>}, {}, 4)\n",
      "(1510, 54) (167, 54) (167, 54)\n",
      "({'FUNC': <function XGBTrain at 0x7fb9d1ba6d30>}, {}, 2)\n",
      "(1510, 54) (167, 54) (167, 54)\n",
      "({'FUNC': <function LGBMTrain at 0x7fb9d1ba6790>}, {}, 2)\n",
      "(1510, 54) (167, 54) (167, 54)\n",
      "(453,) (167,)\n"
     ]
    },
    {
     "name": "stderr",
     "output_type": "stream",
     "text": [
      "100%|███████████████████████████████████████████| 10/10 [01:38<00:00,  9.85s/it]\n"
     ]
    },
    {
     "name": "stdout",
     "output_type": "stream",
     "text": [
      "kfolded auc 0.19266386284243425 {'ONE-HOT': True} {'FUNC': <function ensembleTrain at 0x7fb9d1bb90d0>, 'SPLIT': 0.3, 'METHODS': [({'FUNC': <function randomForestTrain at 0x7fb9e01fdb80>}, {}, 1), ({'FUNC': <function catBoostTrain at 0x7fb9e01fd550>}, {}, 4), ({'FUNC': <function XGBTrain at 0x7fb9d1ba6d30>}, {}, 2), ({'FUNC': <function LGBMTrain at 0x7fb9d1ba6790>}, {}, 2)], 'ALG': <function tensorFlowTrain at 0x7fba2f801280>, 'LAYERS': [8], 'LOSS': 'CategoricalHinge'} {}\n"
     ]
    },
    {
     "name": "stderr",
     "output_type": "stream",
     "text": [
      "\r",
      "  0%|                                                    | 0/10 [00:00<?, ?it/s]"
     ]
    },
    {
     "name": "stdout",
     "output_type": "stream",
     "text": [
      "({'FUNC': <function randomForestTrain at 0x7fb9e01fdb80>}, {}, 1)\n",
      "(1509, 54) (168, 54) (168, 54)\n",
      "({'FUNC': <function catBoostTrain at 0x7fb9e01fd550>}, {}, 4)\n",
      "(1509, 54) (168, 54) (168, 54)\n",
      "({'FUNC': <function XGBTrain at 0x7fb9d1ba6d30>}, {}, 2)\n",
      "(1509, 54) (168, 54) (168, 54)\n",
      "({'FUNC': <function LGBMTrain at 0x7fb9d1ba6790>}, {}, 2)\n",
      "(1509, 54) (168, 54) (168, 54)\n",
      "(452,) (168,)\n"
     ]
    },
    {
     "name": "stderr",
     "output_type": "stream",
     "text": [
      "\r",
      " 10%|████▍                                       | 1/10 [00:11<01:40, 11.22s/it]"
     ]
    },
    {
     "name": "stdout",
     "output_type": "stream",
     "text": [
      "({'FUNC': <function randomForestTrain at 0x7fb9e01fdb80>}, {}, 1)\n",
      "(1509, 54) (168, 54) (168, 54)\n",
      "({'FUNC': <function catBoostTrain at 0x7fb9e01fd550>}, {}, 4)\n",
      "(1509, 54) (168, 54) (168, 54)\n",
      "({'FUNC': <function XGBTrain at 0x7fb9d1ba6d30>}, {}, 2)\n",
      "(1509, 54) (168, 54) (168, 54)\n",
      "({'FUNC': <function LGBMTrain at 0x7fb9d1ba6790>}, {}, 2)\n",
      "(1509, 54) (168, 54) (168, 54)\n",
      "(452,) (168,)\n"
     ]
    },
    {
     "name": "stderr",
     "output_type": "stream",
     "text": [
      "\r",
      " 20%|████████▊                                   | 2/10 [00:23<01:32, 11.61s/it]"
     ]
    },
    {
     "name": "stdout",
     "output_type": "stream",
     "text": [
      "({'FUNC': <function randomForestTrain at 0x7fb9e01fdb80>}, {}, 1)\n",
      "(1509, 54) (168, 54) (168, 54)\n",
      "({'FUNC': <function catBoostTrain at 0x7fb9e01fd550>}, {}, 4)\n",
      "(1509, 54) (168, 54) (168, 54)\n",
      "({'FUNC': <function XGBTrain at 0x7fb9d1ba6d30>}, {}, 2)\n",
      "(1509, 54) (168, 54) (168, 54)\n",
      "({'FUNC': <function LGBMTrain at 0x7fb9d1ba6790>}, {}, 2)\n",
      "(1509, 54) (168, 54) (168, 54)\n",
      "(452,) (168,)\n"
     ]
    },
    {
     "name": "stderr",
     "output_type": "stream",
     "text": [
      "\r",
      " 30%|█████████████▏                              | 3/10 [00:33<01:18, 11.14s/it]"
     ]
    },
    {
     "name": "stdout",
     "output_type": "stream",
     "text": [
      "({'FUNC': <function randomForestTrain at 0x7fb9e01fdb80>}, {}, 1)\n",
      "(1509, 54) (168, 54) (168, 54)\n",
      "({'FUNC': <function catBoostTrain at 0x7fb9e01fd550>}, {}, 4)\n",
      "(1509, 54) (168, 54) (168, 54)\n",
      "({'FUNC': <function XGBTrain at 0x7fb9d1ba6d30>}, {}, 2)\n",
      "(1509, 54) (168, 54) (168, 54)\n",
      "({'FUNC': <function LGBMTrain at 0x7fb9d1ba6790>}, {}, 2)\n",
      "(1509, 54) (168, 54) (168, 54)\n",
      "(452,) (168,)\n"
     ]
    },
    {
     "name": "stderr",
     "output_type": "stream",
     "text": [
      "\r",
      " 40%|█████████████████▌                          | 4/10 [00:49<01:17, 12.84s/it]"
     ]
    },
    {
     "name": "stdout",
     "output_type": "stream",
     "text": [
      "({'FUNC': <function randomForestTrain at 0x7fb9e01fdb80>}, {}, 1)\n",
      "(1509, 54) (168, 54) (168, 54)\n",
      "({'FUNC': <function catBoostTrain at 0x7fb9e01fd550>}, {}, 4)\n",
      "(1509, 54) (168, 54) (168, 54)\n",
      "({'FUNC': <function XGBTrain at 0x7fb9d1ba6d30>}, {}, 2)\n",
      "(1509, 54) (168, 54) (168, 54)\n",
      "({'FUNC': <function LGBMTrain at 0x7fb9d1ba6790>}, {}, 2)\n",
      "(1509, 54) (168, 54) (168, 54)\n",
      "(452,) (168,)\n"
     ]
    },
    {
     "name": "stderr",
     "output_type": "stream",
     "text": [
      "\r",
      " 50%|██████████████████████                      | 5/10 [00:59<00:59, 11.84s/it]"
     ]
    },
    {
     "name": "stdout",
     "output_type": "stream",
     "text": [
      "({'FUNC': <function randomForestTrain at 0x7fb9e01fdb80>}, {}, 1)\n",
      "(1509, 54) (168, 54) (168, 54)\n",
      "({'FUNC': <function catBoostTrain at 0x7fb9e01fd550>}, {}, 4)\n",
      "(1509, 54) (168, 54) (168, 54)\n",
      "({'FUNC': <function XGBTrain at 0x7fb9d1ba6d30>}, {}, 2)\n",
      "(1509, 54) (168, 54) (168, 54)\n",
      "({'FUNC': <function LGBMTrain at 0x7fb9d1ba6790>}, {}, 2)\n",
      "(1509, 54) (168, 54) (168, 54)\n",
      "(452,) (168,)\n"
     ]
    },
    {
     "name": "stderr",
     "output_type": "stream",
     "text": [
      "\r",
      " 60%|██████████████████████████▍                 | 6/10 [01:07<00:42, 10.53s/it]"
     ]
    },
    {
     "name": "stdout",
     "output_type": "stream",
     "text": [
      "({'FUNC': <function randomForestTrain at 0x7fb9e01fdb80>}, {}, 1)\n",
      "(1509, 54) (168, 54) (168, 54)\n",
      "({'FUNC': <function catBoostTrain at 0x7fb9e01fd550>}, {}, 4)\n",
      "(1509, 54) (168, 54) (168, 54)\n",
      "({'FUNC': <function XGBTrain at 0x7fb9d1ba6d30>}, {}, 2)\n",
      "(1509, 54) (168, 54) (168, 54)\n",
      "({'FUNC': <function LGBMTrain at 0x7fb9d1ba6790>}, {}, 2)\n",
      "(1509, 54) (168, 54) (168, 54)\n",
      "(452,) (168,)\n"
     ]
    },
    {
     "name": "stderr",
     "output_type": "stream",
     "text": [
      "\r",
      " 70%|██████████████████████████████▊             | 7/10 [01:13<00:27,  9.27s/it]"
     ]
    },
    {
     "name": "stdout",
     "output_type": "stream",
     "text": [
      "({'FUNC': <function randomForestTrain at 0x7fb9e01fdb80>}, {}, 1)\n",
      "(1510, 54) (167, 54) (167, 54)\n",
      "({'FUNC': <function catBoostTrain at 0x7fb9e01fd550>}, {}, 4)\n",
      "(1510, 54) (167, 54) (167, 54)\n",
      "({'FUNC': <function XGBTrain at 0x7fb9d1ba6d30>}, {}, 2)\n",
      "(1510, 54) (167, 54) (167, 54)\n",
      "({'FUNC': <function LGBMTrain at 0x7fb9d1ba6790>}, {}, 2)\n",
      "(1510, 54) (167, 54) (167, 54)\n",
      "(453,) (167,)\n"
     ]
    },
    {
     "name": "stderr",
     "output_type": "stream",
     "text": [
      "\r",
      " 80%|███████████████████████████████████▏        | 8/10 [01:20<00:17,  8.53s/it]"
     ]
    },
    {
     "name": "stdout",
     "output_type": "stream",
     "text": [
      "({'FUNC': <function randomForestTrain at 0x7fb9e01fdb80>}, {}, 1)\n",
      "(1510, 54) (167, 54) (167, 54)\n",
      "({'FUNC': <function catBoostTrain at 0x7fb9e01fd550>}, {}, 4)\n",
      "(1510, 54) (167, 54) (167, 54)\n",
      "({'FUNC': <function XGBTrain at 0x7fb9d1ba6d30>}, {}, 2)\n",
      "(1510, 54) (167, 54) (167, 54)\n",
      "({'FUNC': <function LGBMTrain at 0x7fb9d1ba6790>}, {}, 2)\n",
      "(1510, 54) (167, 54) (167, 54)\n",
      "(453,) (167,)\n"
     ]
    },
    {
     "name": "stderr",
     "output_type": "stream",
     "text": [
      "\r",
      " 90%|███████████████████████████████████████▌    | 9/10 [01:27<00:08,  8.03s/it]"
     ]
    },
    {
     "name": "stdout",
     "output_type": "stream",
     "text": [
      "({'FUNC': <function randomForestTrain at 0x7fb9e01fdb80>}, {}, 1)\n",
      "(1510, 54) (167, 54) (167, 54)\n",
      "({'FUNC': <function catBoostTrain at 0x7fb9e01fd550>}, {}, 4)\n",
      "(1510, 54) (167, 54) (167, 54)\n",
      "({'FUNC': <function XGBTrain at 0x7fb9d1ba6d30>}, {}, 2)\n",
      "(1510, 54) (167, 54) (167, 54)\n",
      "({'FUNC': <function LGBMTrain at 0x7fb9d1ba6790>}, {}, 2)\n",
      "(1510, 54) (167, 54) (167, 54)\n",
      "(453,) (167,)\n"
     ]
    },
    {
     "name": "stderr",
     "output_type": "stream",
     "text": [
      "100%|███████████████████████████████████████████| 10/10 [01:34<00:00,  9.45s/it]"
     ]
    },
    {
     "name": "stdout",
     "output_type": "stream",
     "text": [
      "kfolded auc 0.37268730465159033 {'ONE-HOT': True} {'FUNC': <function ensembleTrain at 0x7fb9d1bb90d0>, 'SPLIT': 0.3, 'METHODS': [({'FUNC': <function randomForestTrain at 0x7fb9e01fdb80>}, {}, 1), ({'FUNC': <function catBoostTrain at 0x7fb9e01fd550>}, {}, 4), ({'FUNC': <function XGBTrain at 0x7fb9d1ba6d30>}, {}, 2), ({'FUNC': <function LGBMTrain at 0x7fb9d1ba6790>}, {}, 2)], 'ALG': <function tensorFlowTrain at 0x7fba2f801280>, 'LAYERS': [8], 'LOSS': 'CategoricalCrossentropy'} {}\n"
     ]
    },
    {
     "name": "stderr",
     "output_type": "stream",
     "text": [
      "\n"
     ]
    }
   ],
   "source": [
    "datasetParams={\"ONE-HOT\":True}\n",
    "trainingParams={\"FUNC\":ensembleTrain,\"SPLIT\":0.3,\"METHODS\":[[]],\"ALG\":tensorFlowTrain,\"LAYERS\":[[8]],\"LOSS\":[\"Hinge\",\"CategoricalHinge\",\"CategoricalCrossentropy\"]}\n",
    "trainingParams[\"METHODS\"][0].append(({\"FUNC\":randomForestTrain},{},1))\n",
    "trainingParams[\"METHODS\"][0].append(({\"FUNC\":catBoostTrain},{},4))\n",
    "trainingParams[\"METHODS\"][0].append(({\"FUNC\":XGBTrain},{},2))\n",
    "trainingParams[\"METHODS\"][0].append(({\"FUNC\":LGBMTrain},{},2))\n",
    "#print()\n",
    "#print(trainingParams[\"METHODS\"][0])\n",
    "#print()\n",
    "libSpecificParams={}\n",
    "\n",
    "res=runGridTest(df,datasetParams,trainingParams,libSpecificParams,10)"
   ]
  },
  {
   "cell_type": "code",
   "execution_count": null,
   "id": "2e3766de",
   "metadata": {},
   "outputs": [],
   "source": [
    "datasetParams={\"KEEP\":[[\"MartialStatus\",\"OverTime\",\"StockOptionLevel\",\"YearsInCurrentRole\",\"YearsAtCompany\",\"EnvironmentSatisfaction\",\"JobLevel\",\"JobRole\",\"MonthlyIncome\",\"YearsWithCurrManager\",\"YearsSinceLastPromotion\",\"TotalWorkingYears\",\"JobSatisfaction\"]],\"UNITE\":[]}\n",
    "trainingParams={\"FUNC\":catBoostTrain,\"LOSS\":[\"Poisson\",\"LogLinQuantile\",\"RMSE\"],\"ITERS\":[500,1000]}\n",
    "libSpecificParams={}\n",
    "\n",
    "res=runGridTest(df,datasetParams,trainingParams,libSpecificParams,10)"
   ]
  },
  {
   "cell_type": "code",
   "execution_count": 14,
   "id": "75536b22",
   "metadata": {},
   "outputs": [
    {
     "name": "stdout",
     "output_type": "stream",
     "text": [
      "562\n",
      "[[], [0], [0, 1], [0, 2], [0, 3], [0, 4], [0, 5], [0, 6], [0, 7], [0, 8], [0, 9], [0, 10], [0, 11], [0, 12], [0, 13], [0, 14], [0, 15], [0, 16], [0, 17], [0, 18], [0, 19], [0, 20], [0, 21], [0, 22], [0, 23], [0, 24], [0, 25], [0, 26], [0, 27], [0, 28], [0, 29], [0, 30], [0, 31], [0, 32], [1], [1, 2], [1, 3], [1, 4], [1, 5], [1, 6], [1, 7], [1, 8], [1, 9], [1, 10], [1, 11], [1, 12], [1, 13], [1, 14], [1, 15], [1, 16], [1, 17], [1, 18], [1, 19], [1, 20], [1, 21], [1, 22], [1, 23], [1, 24], [1, 25], [1, 26], [1, 27], [1, 28], [1, 29], [1, 30], [1, 31], [1, 32], [2], [2, 3], [2, 4], [2, 5], [2, 6], [2, 7], [2, 8], [2, 9], [2, 10], [2, 11], [2, 12], [2, 13], [2, 14], [2, 15], [2, 16], [2, 17], [2, 18], [2, 19], [2, 20], [2, 21], [2, 22], [2, 23], [2, 24], [2, 25], [2, 26], [2, 27], [2, 28], [2, 29], [2, 30], [2, 31], [2, 32], [3], [3, 4], [3, 5], [3, 6], [3, 7], [3, 8], [3, 9], [3, 10], [3, 11], [3, 12], [3, 13], [3, 14], [3, 15], [3, 16], [3, 17], [3, 18], [3, 19], [3, 20], [3, 21], [3, 22], [3, 23], [3, 24], [3, 25], [3, 26], [3, 27], [3, 28], [3, 29], [3, 30], [3, 31], [3, 32], [4], [4, 5], [4, 6], [4, 7], [4, 8], [4, 9], [4, 10], [4, 11], [4, 12], [4, 13], [4, 14], [4, 15], [4, 16], [4, 17], [4, 18], [4, 19], [4, 20], [4, 21], [4, 22], [4, 23], [4, 24], [4, 25], [4, 26], [4, 27], [4, 28], [4, 29], [4, 30], [4, 31], [4, 32], [5], [5, 6], [5, 7], [5, 8], [5, 9], [5, 10], [5, 11], [5, 12], [5, 13], [5, 14], [5, 15], [5, 16], [5, 17], [5, 18], [5, 19], [5, 20], [5, 21], [5, 22], [5, 23], [5, 24], [5, 25], [5, 26], [5, 27], [5, 28], [5, 29], [5, 30], [5, 31], [5, 32], [6], [6, 7], [6, 8], [6, 9], [6, 10], [6, 11], [6, 12], [6, 13], [6, 14], [6, 15], [6, 16], [6, 17], [6, 18], [6, 19], [6, 20], [6, 21], [6, 22], [6, 23], [6, 24], [6, 25], [6, 26], [6, 27], [6, 28], [6, 29], [6, 30], [6, 31], [6, 32], [7], [7, 8], [7, 9], [7, 10], [7, 11], [7, 12], [7, 13], [7, 14], [7, 15], [7, 16], [7, 17], [7, 18], [7, 19], [7, 20], [7, 21], [7, 22], [7, 23], [7, 24], [7, 25], [7, 26], [7, 27], [7, 28], [7, 29], [7, 30], [7, 31], [7, 32], [8], [8, 9], [8, 10], [8, 11], [8, 12], [8, 13], [8, 14], [8, 15], [8, 16], [8, 17], [8, 18], [8, 19], [8, 20], [8, 21], [8, 22], [8, 23], [8, 24], [8, 25], [8, 26], [8, 27], [8, 28], [8, 29], [8, 30], [8, 31], [8, 32], [9], [9, 10], [9, 11], [9, 12], [9, 13], [9, 14], [9, 15], [9, 16], [9, 17], [9, 18], [9, 19], [9, 20], [9, 21], [9, 22], [9, 23], [9, 24], [9, 25], [9, 26], [9, 27], [9, 28], [9, 29], [9, 30], [9, 31], [9, 32], [10], [10, 11], [10, 12], [10, 13], [10, 14], [10, 15], [10, 16], [10, 17], [10, 18], [10, 19], [10, 20], [10, 21], [10, 22], [10, 23], [10, 24], [10, 25], [10, 26], [10, 27], [10, 28], [10, 29], [10, 30], [10, 31], [10, 32], [11], [11, 12], [11, 13], [11, 14], [11, 15], [11, 16], [11, 17], [11, 18], [11, 19], [11, 20], [11, 21], [11, 22], [11, 23], [11, 24], [11, 25], [11, 26], [11, 27], [11, 28], [11, 29], [11, 30], [11, 31], [11, 32], [12], [12, 13], [12, 14], [12, 15], [12, 16], [12, 17], [12, 18], [12, 19], [12, 20], [12, 21], [12, 22], [12, 23], [12, 24], [12, 25], [12, 26], [12, 27], [12, 28], [12, 29], [12, 30], [12, 31], [12, 32], [13], [13, 14], [13, 15], [13, 16], [13, 17], [13, 18], [13, 19], [13, 20], [13, 21], [13, 22], [13, 23], [13, 24], [13, 25], [13, 26], [13, 27], [13, 28], [13, 29], [13, 30], [13, 31], [13, 32], [14], [14, 15], [14, 16], [14, 17], [14, 18], [14, 19], [14, 20], [14, 21], [14, 22], [14, 23], [14, 24], [14, 25], [14, 26], [14, 27], [14, 28], [14, 29], [14, 30], [14, 31], [14, 32], [15], [15, 16], [15, 17], [15, 18], [15, 19], [15, 20], [15, 21], [15, 22], [15, 23], [15, 24], [15, 25], [15, 26], [15, 27], [15, 28], [15, 29], [15, 30], [15, 31], [15, 32], [16], [16, 17], [16, 18], [16, 19], [16, 20], [16, 21], [16, 22], [16, 23], [16, 24], [16, 25], [16, 26], [16, 27], [16, 28], [16, 29], [16, 30], [16, 31], [16, 32], [17], [17, 18], [17, 19], [17, 20], [17, 21], [17, 22], [17, 23], [17, 24], [17, 25], [17, 26], [17, 27], [17, 28], [17, 29], [17, 30], [17, 31], [17, 32], [18], [18, 19], [18, 20], [18, 21], [18, 22], [18, 23], [18, 24], [18, 25], [18, 26], [18, 27], [18, 28], [18, 29], [18, 30], [18, 31], [18, 32], [19], [19, 20], [19, 21], [19, 22], [19, 23], [19, 24], [19, 25], [19, 26], [19, 27], [19, 28], [19, 29], [19, 30], [19, 31], [19, 32], [20], [20, 21], [20, 22], [20, 23], [20, 24], [20, 25], [20, 26], [20, 27], [20, 28], [20, 29], [20, 30], [20, 31], [20, 32], [21], [21, 22], [21, 23], [21, 24], [21, 25], [21, 26], [21, 27], [21, 28], [21, 29], [21, 30], [21, 31], [21, 32], [22], [22, 23], [22, 24], [22, 25], [22, 26], [22, 27], [22, 28], [22, 29], [22, 30], [22, 31], [22, 32], [23], [23, 24], [23, 25], [23, 26], [23, 27], [23, 28], [23, 29], [23, 30], [23, 31], [23, 32], [24], [24, 25], [24, 26], [24, 27], [24, 28], [24, 29], [24, 30], [24, 31], [24, 32], [25], [25, 26], [25, 27], [25, 28], [25, 29], [25, 30], [25, 31], [25, 32], [26], [26, 27], [26, 28], [26, 29], [26, 30], [26, 31], [26, 32], [27], [27, 28], [27, 29], [27, 30], [27, 31], [27, 32], [28], [28, 29], [28, 30], [28, 31], [28, 32], [29], [29, 30], [29, 31], [29, 32], [30], [30, 31], [30, 32], [31], [31, 32], [32]] <class 'list'>\n",
      "<function catBoostTrain at 0x7fb474529dc0> <class 'function'>\n",
      "10 <class 'int'>\n",
      "562 dataset params configs\n",
      "1 training params configs\n",
      "1 lib specific params configs\n",
      "562 all params configs\n",
      "datasetParams [{'DROP': []}, {'DROP': [0]}, {'DROP': [0, 1]}, {'DROP': [0, 2]}, {'DROP': [0, 3]}, {'DROP': [0, 4]}, {'DROP': [0, 5]}, {'DROP': [0, 6]}, {'DROP': [0, 7]}, {'DROP': [0, 8]}, {'DROP': [0, 9]}, {'DROP': [0, 10]}, {'DROP': [0, 11]}, {'DROP': [0, 12]}, {'DROP': [0, 13]}, {'DROP': [0, 14]}, {'DROP': [0, 15]}, {'DROP': [0, 16]}, {'DROP': [0, 17]}, {'DROP': [0, 18]}, {'DROP': [0, 19]}, {'DROP': [0, 20]}, {'DROP': [0, 21]}, {'DROP': [0, 22]}, {'DROP': [0, 23]}, {'DROP': [0, 24]}, {'DROP': [0, 25]}, {'DROP': [0, 26]}, {'DROP': [0, 27]}, {'DROP': [0, 28]}, {'DROP': [0, 29]}, {'DROP': [0, 30]}, {'DROP': [0, 31]}, {'DROP': [0, 32]}, {'DROP': [1]}, {'DROP': [1, 2]}, {'DROP': [1, 3]}, {'DROP': [1, 4]}, {'DROP': [1, 5]}, {'DROP': [1, 6]}, {'DROP': [1, 7]}, {'DROP': [1, 8]}, {'DROP': [1, 9]}, {'DROP': [1, 10]}, {'DROP': [1, 11]}, {'DROP': [1, 12]}, {'DROP': [1, 13]}, {'DROP': [1, 14]}, {'DROP': [1, 15]}, {'DROP': [1, 16]}, {'DROP': [1, 17]}, {'DROP': [1, 18]}, {'DROP': [1, 19]}, {'DROP': [1, 20]}, {'DROP': [1, 21]}, {'DROP': [1, 22]}, {'DROP': [1, 23]}, {'DROP': [1, 24]}, {'DROP': [1, 25]}, {'DROP': [1, 26]}, {'DROP': [1, 27]}, {'DROP': [1, 28]}, {'DROP': [1, 29]}, {'DROP': [1, 30]}, {'DROP': [1, 31]}, {'DROP': [1, 32]}, {'DROP': [2]}, {'DROP': [2, 3]}, {'DROP': [2, 4]}, {'DROP': [2, 5]}, {'DROP': [2, 6]}, {'DROP': [2, 7]}, {'DROP': [2, 8]}, {'DROP': [2, 9]}, {'DROP': [2, 10]}, {'DROP': [2, 11]}, {'DROP': [2, 12]}, {'DROP': [2, 13]}, {'DROP': [2, 14]}, {'DROP': [2, 15]}, {'DROP': [2, 16]}, {'DROP': [2, 17]}, {'DROP': [2, 18]}, {'DROP': [2, 19]}, {'DROP': [2, 20]}, {'DROP': [2, 21]}, {'DROP': [2, 22]}, {'DROP': [2, 23]}, {'DROP': [2, 24]}, {'DROP': [2, 25]}, {'DROP': [2, 26]}, {'DROP': [2, 27]}, {'DROP': [2, 28]}, {'DROP': [2, 29]}, {'DROP': [2, 30]}, {'DROP': [2, 31]}, {'DROP': [2, 32]}, {'DROP': [3]}, {'DROP': [3, 4]}, {'DROP': [3, 5]}, {'DROP': [3, 6]}, {'DROP': [3, 7]}, {'DROP': [3, 8]}, {'DROP': [3, 9]}, {'DROP': [3, 10]}, {'DROP': [3, 11]}, {'DROP': [3, 12]}, {'DROP': [3, 13]}, {'DROP': [3, 14]}, {'DROP': [3, 15]}, {'DROP': [3, 16]}, {'DROP': [3, 17]}, {'DROP': [3, 18]}, {'DROP': [3, 19]}, {'DROP': [3, 20]}, {'DROP': [3, 21]}, {'DROP': [3, 22]}, {'DROP': [3, 23]}, {'DROP': [3, 24]}, {'DROP': [3, 25]}, {'DROP': [3, 26]}, {'DROP': [3, 27]}, {'DROP': [3, 28]}, {'DROP': [3, 29]}, {'DROP': [3, 30]}, {'DROP': [3, 31]}, {'DROP': [3, 32]}, {'DROP': [4]}, {'DROP': [4, 5]}, {'DROP': [4, 6]}, {'DROP': [4, 7]}, {'DROP': [4, 8]}, {'DROP': [4, 9]}, {'DROP': [4, 10]}, {'DROP': [4, 11]}, {'DROP': [4, 12]}, {'DROP': [4, 13]}, {'DROP': [4, 14]}, {'DROP': [4, 15]}, {'DROP': [4, 16]}, {'DROP': [4, 17]}, {'DROP': [4, 18]}, {'DROP': [4, 19]}, {'DROP': [4, 20]}, {'DROP': [4, 21]}, {'DROP': [4, 22]}, {'DROP': [4, 23]}, {'DROP': [4, 24]}, {'DROP': [4, 25]}, {'DROP': [4, 26]}, {'DROP': [4, 27]}, {'DROP': [4, 28]}, {'DROP': [4, 29]}, {'DROP': [4, 30]}, {'DROP': [4, 31]}, {'DROP': [4, 32]}, {'DROP': [5]}, {'DROP': [5, 6]}, {'DROP': [5, 7]}, {'DROP': [5, 8]}, {'DROP': [5, 9]}, {'DROP': [5, 10]}, {'DROP': [5, 11]}, {'DROP': [5, 12]}, {'DROP': [5, 13]}, {'DROP': [5, 14]}, {'DROP': [5, 15]}, {'DROP': [5, 16]}, {'DROP': [5, 17]}, {'DROP': [5, 18]}, {'DROP': [5, 19]}, {'DROP': [5, 20]}, {'DROP': [5, 21]}, {'DROP': [5, 22]}, {'DROP': [5, 23]}, {'DROP': [5, 24]}, {'DROP': [5, 25]}, {'DROP': [5, 26]}, {'DROP': [5, 27]}, {'DROP': [5, 28]}, {'DROP': [5, 29]}, {'DROP': [5, 30]}, {'DROP': [5, 31]}, {'DROP': [5, 32]}, {'DROP': [6]}, {'DROP': [6, 7]}, {'DROP': [6, 8]}, {'DROP': [6, 9]}, {'DROP': [6, 10]}, {'DROP': [6, 11]}, {'DROP': [6, 12]}, {'DROP': [6, 13]}, {'DROP': [6, 14]}, {'DROP': [6, 15]}, {'DROP': [6, 16]}, {'DROP': [6, 17]}, {'DROP': [6, 18]}, {'DROP': [6, 19]}, {'DROP': [6, 20]}, {'DROP': [6, 21]}, {'DROP': [6, 22]}, {'DROP': [6, 23]}, {'DROP': [6, 24]}, {'DROP': [6, 25]}, {'DROP': [6, 26]}, {'DROP': [6, 27]}, {'DROP': [6, 28]}, {'DROP': [6, 29]}, {'DROP': [6, 30]}, {'DROP': [6, 31]}, {'DROP': [6, 32]}, {'DROP': [7]}, {'DROP': [7, 8]}, {'DROP': [7, 9]}, {'DROP': [7, 10]}, {'DROP': [7, 11]}, {'DROP': [7, 12]}, {'DROP': [7, 13]}, {'DROP': [7, 14]}, {'DROP': [7, 15]}, {'DROP': [7, 16]}, {'DROP': [7, 17]}, {'DROP': [7, 18]}, {'DROP': [7, 19]}, {'DROP': [7, 20]}, {'DROP': [7, 21]}, {'DROP': [7, 22]}, {'DROP': [7, 23]}, {'DROP': [7, 24]}, {'DROP': [7, 25]}, {'DROP': [7, 26]}, {'DROP': [7, 27]}, {'DROP': [7, 28]}, {'DROP': [7, 29]}, {'DROP': [7, 30]}, {'DROP': [7, 31]}, {'DROP': [7, 32]}, {'DROP': [8]}, {'DROP': [8, 9]}, {'DROP': [8, 10]}, {'DROP': [8, 11]}, {'DROP': [8, 12]}, {'DROP': [8, 13]}, {'DROP': [8, 14]}, {'DROP': [8, 15]}, {'DROP': [8, 16]}, {'DROP': [8, 17]}, {'DROP': [8, 18]}, {'DROP': [8, 19]}, {'DROP': [8, 20]}, {'DROP': [8, 21]}, {'DROP': [8, 22]}, {'DROP': [8, 23]}, {'DROP': [8, 24]}, {'DROP': [8, 25]}, {'DROP': [8, 26]}, {'DROP': [8, 27]}, {'DROP': [8, 28]}, {'DROP': [8, 29]}, {'DROP': [8, 30]}, {'DROP': [8, 31]}, {'DROP': [8, 32]}, {'DROP': [9]}, {'DROP': [9, 10]}, {'DROP': [9, 11]}, {'DROP': [9, 12]}, {'DROP': [9, 13]}, {'DROP': [9, 14]}, {'DROP': [9, 15]}, {'DROP': [9, 16]}, {'DROP': [9, 17]}, {'DROP': [9, 18]}, {'DROP': [9, 19]}, {'DROP': [9, 20]}, {'DROP': [9, 21]}, {'DROP': [9, 22]}, {'DROP': [9, 23]}, {'DROP': [9, 24]}, {'DROP': [9, 25]}, {'DROP': [9, 26]}, {'DROP': [9, 27]}, {'DROP': [9, 28]}, {'DROP': [9, 29]}, {'DROP': [9, 30]}, {'DROP': [9, 31]}, {'DROP': [9, 32]}, {'DROP': [10]}, {'DROP': [10, 11]}, {'DROP': [10, 12]}, {'DROP': [10, 13]}, {'DROP': [10, 14]}, {'DROP': [10, 15]}, {'DROP': [10, 16]}, {'DROP': [10, 17]}, {'DROP': [10, 18]}, {'DROP': [10, 19]}, {'DROP': [10, 20]}, {'DROP': [10, 21]}, {'DROP': [10, 22]}, {'DROP': [10, 23]}, {'DROP': [10, 24]}, {'DROP': [10, 25]}, {'DROP': [10, 26]}, {'DROP': [10, 27]}, {'DROP': [10, 28]}, {'DROP': [10, 29]}, {'DROP': [10, 30]}, {'DROP': [10, 31]}, {'DROP': [10, 32]}, {'DROP': [11]}, {'DROP': [11, 12]}, {'DROP': [11, 13]}, {'DROP': [11, 14]}, {'DROP': [11, 15]}, {'DROP': [11, 16]}, {'DROP': [11, 17]}, {'DROP': [11, 18]}, {'DROP': [11, 19]}, {'DROP': [11, 20]}, {'DROP': [11, 21]}, {'DROP': [11, 22]}, {'DROP': [11, 23]}, {'DROP': [11, 24]}, {'DROP': [11, 25]}, {'DROP': [11, 26]}, {'DROP': [11, 27]}, {'DROP': [11, 28]}, {'DROP': [11, 29]}, {'DROP': [11, 30]}, {'DROP': [11, 31]}, {'DROP': [11, 32]}, {'DROP': [12]}, {'DROP': [12, 13]}, {'DROP': [12, 14]}, {'DROP': [12, 15]}, {'DROP': [12, 16]}, {'DROP': [12, 17]}, {'DROP': [12, 18]}, {'DROP': [12, 19]}, {'DROP': [12, 20]}, {'DROP': [12, 21]}, {'DROP': [12, 22]}, {'DROP': [12, 23]}, {'DROP': [12, 24]}, {'DROP': [12, 25]}, {'DROP': [12, 26]}, {'DROP': [12, 27]}, {'DROP': [12, 28]}, {'DROP': [12, 29]}, {'DROP': [12, 30]}, {'DROP': [12, 31]}, {'DROP': [12, 32]}, {'DROP': [13]}, {'DROP': [13, 14]}, {'DROP': [13, 15]}, {'DROP': [13, 16]}, {'DROP': [13, 17]}, {'DROP': [13, 18]}, {'DROP': [13, 19]}, {'DROP': [13, 20]}, {'DROP': [13, 21]}, {'DROP': [13, 22]}, {'DROP': [13, 23]}, {'DROP': [13, 24]}, {'DROP': [13, 25]}, {'DROP': [13, 26]}, {'DROP': [13, 27]}, {'DROP': [13, 28]}, {'DROP': [13, 29]}, {'DROP': [13, 30]}, {'DROP': [13, 31]}, {'DROP': [13, 32]}, {'DROP': [14]}, {'DROP': [14, 15]}, {'DROP': [14, 16]}, {'DROP': [14, 17]}, {'DROP': [14, 18]}, {'DROP': [14, 19]}, {'DROP': [14, 20]}, {'DROP': [14, 21]}, {'DROP': [14, 22]}, {'DROP': [14, 23]}, {'DROP': [14, 24]}, {'DROP': [14, 25]}, {'DROP': [14, 26]}, {'DROP': [14, 27]}, {'DROP': [14, 28]}, {'DROP': [14, 29]}, {'DROP': [14, 30]}, {'DROP': [14, 31]}, {'DROP': [14, 32]}, {'DROP': [15]}, {'DROP': [15, 16]}, {'DROP': [15, 17]}, {'DROP': [15, 18]}, {'DROP': [15, 19]}, {'DROP': [15, 20]}, {'DROP': [15, 21]}, {'DROP': [15, 22]}, {'DROP': [15, 23]}, {'DROP': [15, 24]}, {'DROP': [15, 25]}, {'DROP': [15, 26]}, {'DROP': [15, 27]}, {'DROP': [15, 28]}, {'DROP': [15, 29]}, {'DROP': [15, 30]}, {'DROP': [15, 31]}, {'DROP': [15, 32]}, {'DROP': [16]}, {'DROP': [16, 17]}, {'DROP': [16, 18]}, {'DROP': [16, 19]}, {'DROP': [16, 20]}, {'DROP': [16, 21]}, {'DROP': [16, 22]}, {'DROP': [16, 23]}, {'DROP': [16, 24]}, {'DROP': [16, 25]}, {'DROP': [16, 26]}, {'DROP': [16, 27]}, {'DROP': [16, 28]}, {'DROP': [16, 29]}, {'DROP': [16, 30]}, {'DROP': [16, 31]}, {'DROP': [16, 32]}, {'DROP': [17]}, {'DROP': [17, 18]}, {'DROP': [17, 19]}, {'DROP': [17, 20]}, {'DROP': [17, 21]}, {'DROP': [17, 22]}, {'DROP': [17, 23]}, {'DROP': [17, 24]}, {'DROP': [17, 25]}, {'DROP': [17, 26]}, {'DROP': [17, 27]}, {'DROP': [17, 28]}, {'DROP': [17, 29]}, {'DROP': [17, 30]}, {'DROP': [17, 31]}, {'DROP': [17, 32]}, {'DROP': [18]}, {'DROP': [18, 19]}, {'DROP': [18, 20]}, {'DROP': [18, 21]}, {'DROP': [18, 22]}, {'DROP': [18, 23]}, {'DROP': [18, 24]}, {'DROP': [18, 25]}, {'DROP': [18, 26]}, {'DROP': [18, 27]}, {'DROP': [18, 28]}, {'DROP': [18, 29]}, {'DROP': [18, 30]}, {'DROP': [18, 31]}, {'DROP': [18, 32]}, {'DROP': [19]}, {'DROP': [19, 20]}, {'DROP': [19, 21]}, {'DROP': [19, 22]}, {'DROP': [19, 23]}, {'DROP': [19, 24]}, {'DROP': [19, 25]}, {'DROP': [19, 26]}, {'DROP': [19, 27]}, {'DROP': [19, 28]}, {'DROP': [19, 29]}, {'DROP': [19, 30]}, {'DROP': [19, 31]}, {'DROP': [19, 32]}, {'DROP': [20]}, {'DROP': [20, 21]}, {'DROP': [20, 22]}, {'DROP': [20, 23]}, {'DROP': [20, 24]}, {'DROP': [20, 25]}, {'DROP': [20, 26]}, {'DROP': [20, 27]}, {'DROP': [20, 28]}, {'DROP': [20, 29]}, {'DROP': [20, 30]}, {'DROP': [20, 31]}, {'DROP': [20, 32]}, {'DROP': [21]}, {'DROP': [21, 22]}, {'DROP': [21, 23]}, {'DROP': [21, 24]}, {'DROP': [21, 25]}, {'DROP': [21, 26]}, {'DROP': [21, 27]}, {'DROP': [21, 28]}, {'DROP': [21, 29]}, {'DROP': [21, 30]}, {'DROP': [21, 31]}, {'DROP': [21, 32]}, {'DROP': [22]}, {'DROP': [22, 23]}, {'DROP': [22, 24]}, {'DROP': [22, 25]}, {'DROP': [22, 26]}, {'DROP': [22, 27]}, {'DROP': [22, 28]}, {'DROP': [22, 29]}, {'DROP': [22, 30]}, {'DROP': [22, 31]}, {'DROP': [22, 32]}, {'DROP': [23]}, {'DROP': [23, 24]}, {'DROP': [23, 25]}, {'DROP': [23, 26]}, {'DROP': [23, 27]}, {'DROP': [23, 28]}, {'DROP': [23, 29]}, {'DROP': [23, 30]}, {'DROP': [23, 31]}, {'DROP': [23, 32]}, {'DROP': [24]}, {'DROP': [24, 25]}, {'DROP': [24, 26]}, {'DROP': [24, 27]}, {'DROP': [24, 28]}, {'DROP': [24, 29]}, {'DROP': [24, 30]}, {'DROP': [24, 31]}, {'DROP': [24, 32]}, {'DROP': [25]}, {'DROP': [25, 26]}, {'DROP': [25, 27]}, {'DROP': [25, 28]}, {'DROP': [25, 29]}, {'DROP': [25, 30]}, {'DROP': [25, 31]}, {'DROP': [25, 32]}, {'DROP': [26]}, {'DROP': [26, 27]}, {'DROP': [26, 28]}, {'DROP': [26, 29]}, {'DROP': [26, 30]}, {'DROP': [26, 31]}, {'DROP': [26, 32]}, {'DROP': [27]}, {'DROP': [27, 28]}, {'DROP': [27, 29]}, {'DROP': [27, 30]}, {'DROP': [27, 31]}, {'DROP': [27, 32]}, {'DROP': [28]}, {'DROP': [28, 29]}, {'DROP': [28, 30]}, {'DROP': [28, 31]}, {'DROP': [28, 32]}, {'DROP': [29]}, {'DROP': [29, 30]}, {'DROP': [29, 31]}, {'DROP': [29, 32]}, {'DROP': [30]}, {'DROP': [30, 31]}, {'DROP': [30, 32]}, {'DROP': [31]}, {'DROP': [31, 32]}, {'DROP': [32]}]\n",
      "trainingParams [{'FUNC': <function catBoostTrain at 0x7fb474529dc0>, 'ITERS': 10}]\n",
      "libSpecificParams [{}]\n"
     ]
    },
    {
     "name": "stderr",
     "output_type": "stream",
     "text": [
      "100%|███████████████████████████████████████████| 10/10 [00:00<00:00, 11.18it/s]\n"
     ]
    },
    {
     "name": "stdout",
     "output_type": "stream",
     "text": [
      "kfolded auc 0.7500981338481337 {'DROP': []} {'FUNC': <function catBoostTrain at 0x7fb474529dc0>, 'ITERS': 10} {}\n"
     ]
    },
    {
     "name": "stderr",
     "output_type": "stream",
     "text": [
      "100%|███████████████████████████████████████████| 10/10 [00:00<00:00, 13.14it/s]\n"
     ]
    },
    {
     "name": "stdout",
     "output_type": "stream",
     "text": [
      "kfolded auc 0.7535911932340503 {'DROP': [0]} {'FUNC': <function catBoostTrain at 0x7fb474529dc0>, 'ITERS': 10} {}\n"
     ]
    },
    {
     "name": "stderr",
     "output_type": "stream",
     "text": [
      "100%|███████████████████████████████████████████| 10/10 [00:00<00:00, 13.32it/s]\n"
     ]
    },
    {
     "name": "stdout",
     "output_type": "stream",
     "text": [
      "kfolded auc 0.7710891248391248 {'DROP': [0, 1]} {'FUNC': <function catBoostTrain at 0x7fb474529dc0>, 'ITERS': 10} {}\n"
     ]
    },
    {
     "name": "stderr",
     "output_type": "stream",
     "text": [
      "100%|███████████████████████████████████████████| 10/10 [00:00<00:00, 13.57it/s]\n"
     ]
    },
    {
     "name": "stdout",
     "output_type": "stream",
     "text": [
      "kfolded auc 0.7705056076484648 {'DROP': [0, 2]} {'FUNC': <function catBoostTrain at 0x7fb474529dc0>, 'ITERS': 10} {}\n"
     ]
    },
    {
     "name": "stderr",
     "output_type": "stream",
     "text": [
      "100%|███████████████████████████████████████████| 10/10 [00:00<00:00, 13.90it/s]\n"
     ]
    },
    {
     "name": "stdout",
     "output_type": "stream",
     "text": [
      "kfolded auc 0.7710891248391248 {'DROP': [0, 3]} {'FUNC': <function catBoostTrain at 0x7fb474529dc0>, 'ITERS': 10} {}\n"
     ]
    },
    {
     "name": "stderr",
     "output_type": "stream",
     "text": [
      "100%|███████████████████████████████████████████| 10/10 [00:00<00:00, 12.74it/s]\n"
     ]
    },
    {
     "name": "stdout",
     "output_type": "stream",
     "text": [
      "kfolded auc 0.7634549089906232 {'DROP': [0, 4]} {'FUNC': <function catBoostTrain at 0x7fb474529dc0>, 'ITERS': 10} {}\n"
     ]
    },
    {
     "name": "stderr",
     "output_type": "stream",
     "text": [
      "100%|███████████████████████████████████████████| 10/10 [00:00<00:00, 13.31it/s]\n"
     ]
    },
    {
     "name": "stdout",
     "output_type": "stream",
     "text": [
      "kfolded auc 0.7653762180547895 {'DROP': [0, 5]} {'FUNC': <function catBoostTrain at 0x7fb474529dc0>, 'ITERS': 10} {}\n"
     ]
    },
    {
     "name": "stderr",
     "output_type": "stream",
     "text": [
      "100%|███████████████████████████████████████████| 10/10 [00:00<00:00, 13.88it/s]\n"
     ]
    },
    {
     "name": "stdout",
     "output_type": "stream",
     "text": [
      "kfolded auc 0.7710891248391248 {'DROP': [0, 6]} {'FUNC': <function catBoostTrain at 0x7fb474529dc0>, 'ITERS': 10} {}\n"
     ]
    },
    {
     "name": "stderr",
     "output_type": "stream",
     "text": [
      "100%|███████████████████████████████████████████| 10/10 [00:00<00:00, 13.58it/s]\n"
     ]
    },
    {
     "name": "stdout",
     "output_type": "stream",
     "text": [
      "kfolded auc 0.7535911932340503 {'DROP': [0, 7]} {'FUNC': <function catBoostTrain at 0x7fb474529dc0>, 'ITERS': 10} {}\n"
     ]
    },
    {
     "name": "stderr",
     "output_type": "stream",
     "text": [
      "100%|███████████████████████████████████████████| 10/10 [00:00<00:00, 13.47it/s]\n"
     ]
    },
    {
     "name": "stdout",
     "output_type": "stream",
     "text": [
      "kfolded auc 0.7589214469571612 {'DROP': [0, 8]} {'FUNC': <function catBoostTrain at 0x7fb474529dc0>, 'ITERS': 10} {}\n"
     ]
    },
    {
     "name": "stderr",
     "output_type": "stream",
     "text": [
      "100%|███████████████████████████████████████████| 10/10 [00:00<00:00, 13.30it/s]\n"
     ]
    },
    {
     "name": "stdout",
     "output_type": "stream",
     "text": [
      "kfolded auc 0.768034335355764 {'DROP': [0, 9]} {'FUNC': <function catBoostTrain at 0x7fb474529dc0>, 'ITERS': 10} {}\n"
     ]
    },
    {
     "name": "stderr",
     "output_type": "stream",
     "text": [
      "100%|███████████████████████████████████████████| 10/10 [00:00<00:00, 14.18it/s]\n"
     ]
    },
    {
     "name": "stdout",
     "output_type": "stream",
     "text": [
      "kfolded auc 0.7619222283507997 {'DROP': [0, 10]} {'FUNC': <function catBoostTrain at 0x7fb474529dc0>, 'ITERS': 10} {}\n"
     ]
    },
    {
     "name": "stderr",
     "output_type": "stream",
     "text": [
      "100%|███████████████████████████████████████████| 10/10 [00:00<00:00, 13.74it/s]\n"
     ]
    },
    {
     "name": "stdout",
     "output_type": "stream",
     "text": [
      "kfolded auc 0.7580224995403567 {'DROP': [0, 11]} {'FUNC': <function catBoostTrain at 0x7fb474529dc0>, 'ITERS': 10} {}\n"
     ]
    },
    {
     "name": "stderr",
     "output_type": "stream",
     "text": [
      "100%|███████████████████████████████████████████| 10/10 [00:00<00:00, 12.90it/s]\n"
     ]
    },
    {
     "name": "stdout",
     "output_type": "stream",
     "text": [
      "kfolded auc 0.7746442360728074 {'DROP': [0, 12]} {'FUNC': <function catBoostTrain at 0x7fb474529dc0>, 'ITERS': 10} {}\n"
     ]
    },
    {
     "name": "stderr",
     "output_type": "stream",
     "text": [
      "100%|███████████████████████████████████████████| 10/10 [00:00<00:00, 13.47it/s]\n"
     ]
    },
    {
     "name": "stdout",
     "output_type": "stream",
     "text": [
      "kfolded auc 0.7710891248391248 {'DROP': [0, 13]} {'FUNC': <function catBoostTrain at 0x7fb474529dc0>, 'ITERS': 10} {}\n"
     ]
    },
    {
     "name": "stderr",
     "output_type": "stream",
     "text": [
      "100%|███████████████████████████████████████████| 10/10 [00:00<00:00, 14.34it/s]\n"
     ]
    },
    {
     "name": "stdout",
     "output_type": "stream",
     "text": [
      "kfolded auc 0.7917211343997058 {'DROP': [0, 14]} {'FUNC': <function catBoostTrain at 0x7fb474529dc0>, 'ITERS': 10} {}\n"
     ]
    },
    {
     "name": "stderr",
     "output_type": "stream",
     "text": [
      "100%|███████████████████████████████████████████| 10/10 [00:00<00:00, 12.72it/s]\n"
     ]
    },
    {
     "name": "stdout",
     "output_type": "stream",
     "text": [
      "kfolded auc 0.7710891248391248 {'DROP': [0, 15]} {'FUNC': <function catBoostTrain at 0x7fb474529dc0>, 'ITERS': 10} {}\n"
     ]
    },
    {
     "name": "stderr",
     "output_type": "stream",
     "text": [
      "100%|███████████████████████████████████████████| 10/10 [00:00<00:00, 13.86it/s]\n"
     ]
    },
    {
     "name": "stdout",
     "output_type": "stream",
     "text": [
      "kfolded auc 0.7719865784151498 {'DROP': [0, 16]} {'FUNC': <function catBoostTrain at 0x7fb474529dc0>, 'ITERS': 10} {}\n"
     ]
    },
    {
     "name": "stderr",
     "output_type": "stream",
     "text": [
      "100%|███████████████████████████████████████████| 10/10 [00:00<00:00, 12.72it/s]\n"
     ]
    },
    {
     "name": "stdout",
     "output_type": "stream",
     "text": [
      "kfolded auc 0.7784592756021327 {'DROP': [0, 17]} {'FUNC': <function catBoostTrain at 0x7fb474529dc0>, 'ITERS': 10} {}\n"
     ]
    },
    {
     "name": "stderr",
     "output_type": "stream",
     "text": [
      "100%|███████████████████████████████████████████| 10/10 [00:00<00:00, 13.33it/s]\n"
     ]
    },
    {
     "name": "stdout",
     "output_type": "stream",
     "text": [
      "kfolded auc 0.7629649292149293 {'DROP': [0, 18]} {'FUNC': <function catBoostTrain at 0x7fb474529dc0>, 'ITERS': 10} {}\n"
     ]
    },
    {
     "name": "stderr",
     "output_type": "stream",
     "text": [
      "100%|███████████████████████████████████████████| 10/10 [00:00<00:00, 12.61it/s]\n"
     ]
    },
    {
     "name": "stdout",
     "output_type": "stream",
     "text": [
      "kfolded auc 0.7535911932340503 {'DROP': [0, 19]} {'FUNC': <function catBoostTrain at 0x7fb474529dc0>, 'ITERS': 10} {}\n"
     ]
    },
    {
     "name": "stderr",
     "output_type": "stream",
     "text": [
      "100%|███████████████████████████████████████████| 10/10 [00:01<00:00,  5.08it/s]\n"
     ]
    },
    {
     "name": "stdout",
     "output_type": "stream",
     "text": [
      "kfolded auc 0.7518004228718516 {'DROP': [0, 20]} {'FUNC': <function catBoostTrain at 0x7fb474529dc0>, 'ITERS': 10} {}\n"
     ]
    },
    {
     "name": "stderr",
     "output_type": "stream",
     "text": [
      "100%|███████████████████████████████████████████| 10/10 [00:03<00:00,  2.92it/s]\n"
     ]
    },
    {
     "name": "stdout",
     "output_type": "stream",
     "text": [
      "kfolded auc 0.7703778268063983 {'DROP': [0, 21]} {'FUNC': <function catBoostTrain at 0x7fb474529dc0>, 'ITERS': 10} {}\n"
     ]
    },
    {
     "name": "stderr",
     "output_type": "stream",
     "text": [
      "100%|███████████████████████████████████████████| 10/10 [00:03<00:00,  2.88it/s]\n"
     ]
    },
    {
     "name": "stdout",
     "output_type": "stream",
     "text": [
      "kfolded auc 0.7636424434638721 {'DROP': [0, 22]} {'FUNC': <function catBoostTrain at 0x7fb474529dc0>, 'ITERS': 10} {}\n"
     ]
    },
    {
     "name": "stderr",
     "output_type": "stream",
     "text": [
      "100%|███████████████████████████████████████████| 10/10 [00:03<00:00,  2.78it/s]\n"
     ]
    },
    {
     "name": "stdout",
     "output_type": "stream",
     "text": [
      "kfolded auc 0.7562920573634858 {'DROP': [0, 23]} {'FUNC': <function catBoostTrain at 0x7fb474529dc0>, 'ITERS': 10} {}\n"
     ]
    },
    {
     "name": "stderr",
     "output_type": "stream",
     "text": [
      "100%|███████████████████████████████████████████| 10/10 [00:03<00:00,  2.81it/s]\n"
     ]
    },
    {
     "name": "stdout",
     "output_type": "stream",
     "text": [
      "kfolded auc 0.7535911932340503 {'DROP': [0, 24]} {'FUNC': <function catBoostTrain at 0x7fb474529dc0>, 'ITERS': 10} {}\n"
     ]
    },
    {
     "name": "stderr",
     "output_type": "stream",
     "text": [
      "100%|███████████████████████████████████████████| 10/10 [00:04<00:00,  2.42it/s]\n"
     ]
    },
    {
     "name": "stdout",
     "output_type": "stream",
     "text": [
      "kfolded auc 0.7106584390512962 {'DROP': [0, 25]} {'FUNC': <function catBoostTrain at 0x7fb474529dc0>, 'ITERS': 10} {}\n"
     ]
    },
    {
     "name": "stderr",
     "output_type": "stream",
     "text": [
      "100%|███████████████████████████████████████████| 10/10 [00:03<00:00,  2.85it/s]\n"
     ]
    },
    {
     "name": "stdout",
     "output_type": "stream",
     "text": [
      "kfolded auc 0.7468992461849605 {'DROP': [0, 26]} {'FUNC': <function catBoostTrain at 0x7fb474529dc0>, 'ITERS': 10} {}\n"
     ]
    },
    {
     "name": "stderr",
     "output_type": "stream",
     "text": [
      "100%|███████████████████████████████████████████| 10/10 [00:03<00:00,  2.65it/s]\n"
     ]
    },
    {
     "name": "stdout",
     "output_type": "stream",
     "text": [
      "kfolded auc 0.76295481706196 {'DROP': [0, 27]} {'FUNC': <function catBoostTrain at 0x7fb474529dc0>, 'ITERS': 10} {}\n"
     ]
    },
    {
     "name": "stderr",
     "output_type": "stream",
     "text": [
      "100%|███████████████████████████████████████████| 10/10 [00:03<00:00,  2.89it/s]\n"
     ]
    },
    {
     "name": "stdout",
     "output_type": "stream",
     "text": [
      "kfolded auc 0.7688152693509835 {'DROP': [0, 28]} {'FUNC': <function catBoostTrain at 0x7fb474529dc0>, 'ITERS': 10} {}\n"
     ]
    },
    {
     "name": "stderr",
     "output_type": "stream",
     "text": [
      "100%|███████████████████████████████████████████| 10/10 [00:02<00:00,  3.69it/s]\n"
     ]
    },
    {
     "name": "stdout",
     "output_type": "stream",
     "text": [
      "kfolded auc 0.7641241496598641 {'DROP': [0, 29]} {'FUNC': <function catBoostTrain at 0x7fb474529dc0>, 'ITERS': 10} {}\n"
     ]
    },
    {
     "name": "stderr",
     "output_type": "stream",
     "text": [
      "100%|███████████████████████████████████████████| 10/10 [00:00<00:00, 14.86it/s]\n"
     ]
    },
    {
     "name": "stdout",
     "output_type": "stream",
     "text": [
      "kfolded auc 0.7724834528405957 {'DROP': [0, 30]} {'FUNC': <function catBoostTrain at 0x7fb474529dc0>, 'ITERS': 10} {}\n"
     ]
    },
    {
     "name": "stderr",
     "output_type": "stream",
     "text": [
      "100%|███████████████████████████████████████████| 10/10 [00:00<00:00, 13.77it/s]\n"
     ]
    },
    {
     "name": "stdout",
     "output_type": "stream",
     "text": [
      "kfolded auc 0.7670387479316052 {'DROP': [0, 31]} {'FUNC': <function catBoostTrain at 0x7fb474529dc0>, 'ITERS': 10} {}\n"
     ]
    },
    {
     "name": "stderr",
     "output_type": "stream",
     "text": [
      "100%|███████████████████████████████████████████| 10/10 [00:00<00:00, 12.85it/s]\n"
     ]
    },
    {
     "name": "stdout",
     "output_type": "stream",
     "text": [
      "kfolded auc 0.768189924618496 {'DROP': [0, 32]} {'FUNC': <function catBoostTrain at 0x7fb474529dc0>, 'ITERS': 10} {}\n"
     ]
    },
    {
     "name": "stderr",
     "output_type": "stream",
     "text": [
      "100%|███████████████████████████████████████████| 10/10 [00:00<00:00, 12.86it/s]\n"
     ]
    },
    {
     "name": "stdout",
     "output_type": "stream",
     "text": [
      "kfolded auc 0.7663685879757308 {'DROP': [1]} {'FUNC': <function catBoostTrain at 0x7fb474529dc0>, 'ITERS': 10} {}\n"
     ]
    },
    {
     "name": "stderr",
     "output_type": "stream",
     "text": [
      "100%|███████████████████████████████████████████| 10/10 [00:00<00:00, 14.39it/s]\n"
     ]
    },
    {
     "name": "stdout",
     "output_type": "stream",
     "text": [
      "kfolded auc 0.7742284886927744 {'DROP': [1, 2]} {'FUNC': <function catBoostTrain at 0x7fb474529dc0>, 'ITERS': 10} {}\n"
     ]
    },
    {
     "name": "stderr",
     "output_type": "stream",
     "text": [
      "100%|███████████████████████████████████████████| 10/10 [00:00<00:00, 13.16it/s]\n"
     ]
    },
    {
     "name": "stdout",
     "output_type": "stream",
     "text": [
      "kfolded auc 0.7576542103327818 {'DROP': [1, 3]} {'FUNC': <function catBoostTrain at 0x7fb474529dc0>, 'ITERS': 10} {}\n"
     ]
    },
    {
     "name": "stderr",
     "output_type": "stream",
     "text": [
      "100%|███████████████████████████████████████████| 10/10 [00:00<00:00, 13.43it/s]\n"
     ]
    },
    {
     "name": "stdout",
     "output_type": "stream",
     "text": [
      "kfolded auc 0.7731425813568672 {'DROP': [1, 4]} {'FUNC': <function catBoostTrain at 0x7fb474529dc0>, 'ITERS': 10} {}\n"
     ]
    },
    {
     "name": "stderr",
     "output_type": "stream",
     "text": [
      "100%|███████████████████████████████████████████| 10/10 [00:00<00:00, 13.40it/s]\n"
     ]
    },
    {
     "name": "stdout",
     "output_type": "stream",
     "text": [
      "kfolded auc 0.7728300239014525 {'DROP': [1, 5]} {'FUNC': <function catBoostTrain at 0x7fb474529dc0>, 'ITERS': 10} {}\n"
     ]
    },
    {
     "name": "stderr",
     "output_type": "stream",
     "text": [
      "100%|███████████████████████████████████████████| 10/10 [00:00<00:00, 13.78it/s]\n"
     ]
    },
    {
     "name": "stdout",
     "output_type": "stream",
     "text": [
      "kfolded auc 0.7576542103327818 {'DROP': [1, 6]} {'FUNC': <function catBoostTrain at 0x7fb474529dc0>, 'ITERS': 10} {}\n"
     ]
    },
    {
     "name": "stderr",
     "output_type": "stream",
     "text": [
      "100%|███████████████████████████████████████████| 10/10 [00:00<00:00, 12.62it/s]\n"
     ]
    },
    {
     "name": "stdout",
     "output_type": "stream",
     "text": [
      "kfolded auc 0.7663685879757308 {'DROP': [1, 7]} {'FUNC': <function catBoostTrain at 0x7fb474529dc0>, 'ITERS': 10} {}\n"
     ]
    },
    {
     "name": "stderr",
     "output_type": "stream",
     "text": [
      "100%|███████████████████████████████████████████| 10/10 [00:00<00:00, 13.73it/s]\n"
     ]
    },
    {
     "name": "stdout",
     "output_type": "stream",
     "text": [
      "kfolded auc 0.7739039805111234 {'DROP': [1, 8]} {'FUNC': <function catBoostTrain at 0x7fb474529dc0>, 'ITERS': 10} {}\n"
     ]
    },
    {
     "name": "stderr",
     "output_type": "stream",
     "text": [
      "100%|███████████████████████████████████████████| 10/10 [00:00<00:00, 13.26it/s]\n"
     ]
    },
    {
     "name": "stdout",
     "output_type": "stream",
     "text": [
      "kfolded auc 0.7394700312557456 {'DROP': [1, 9]} {'FUNC': <function catBoostTrain at 0x7fb474529dc0>, 'ITERS': 10} {}\n"
     ]
    },
    {
     "name": "stderr",
     "output_type": "stream",
     "text": [
      "100%|███████████████████████████████████████████| 10/10 [00:00<00:00, 13.87it/s]\n"
     ]
    },
    {
     "name": "stdout",
     "output_type": "stream",
     "text": [
      "kfolded auc 0.7744594594594595 {'DROP': [1, 10]} {'FUNC': <function catBoostTrain at 0x7fb474529dc0>, 'ITERS': 10} {}\n"
     ]
    },
    {
     "name": "stderr",
     "output_type": "stream",
     "text": [
      "100%|███████████████████████████████████████████| 10/10 [00:00<00:00, 13.42it/s]\n"
     ]
    },
    {
     "name": "stdout",
     "output_type": "stream",
     "text": [
      "kfolded auc 0.7683620610406324 {'DROP': [1, 11]} {'FUNC': <function catBoostTrain at 0x7fb474529dc0>, 'ITERS': 10} {}\n"
     ]
    },
    {
     "name": "stderr",
     "output_type": "stream",
     "text": [
      "100%|███████████████████████████████████████████| 10/10 [00:00<00:00, 13.61it/s]\n"
     ]
    },
    {
     "name": "stdout",
     "output_type": "stream",
     "text": [
      "kfolded auc 0.7770410461481889 {'DROP': [1, 12]} {'FUNC': <function catBoostTrain at 0x7fb474529dc0>, 'ITERS': 10} {}\n"
     ]
    },
    {
     "name": "stderr",
     "output_type": "stream",
     "text": [
      "100%|███████████████████████████████████████████| 10/10 [00:00<00:00, 15.35it/s]\n"
     ]
    },
    {
     "name": "stdout",
     "output_type": "stream",
     "text": [
      "kfolded auc 0.7576542103327818 {'DROP': [1, 13]} {'FUNC': <function catBoostTrain at 0x7fb474529dc0>, 'ITERS': 10} {}\n"
     ]
    },
    {
     "name": "stderr",
     "output_type": "stream",
     "text": [
      "100%|███████████████████████████████████████████| 10/10 [00:00<00:00, 14.25it/s]\n"
     ]
    },
    {
     "name": "stdout",
     "output_type": "stream",
     "text": [
      "kfolded auc 0.7702953208310351 {'DROP': [1, 14]} {'FUNC': <function catBoostTrain at 0x7fb474529dc0>, 'ITERS': 10} {}\n"
     ]
    },
    {
     "name": "stderr",
     "output_type": "stream",
     "text": [
      "100%|███████████████████████████████████████████| 10/10 [00:00<00:00, 13.65it/s]\n"
     ]
    },
    {
     "name": "stdout",
     "output_type": "stream",
     "text": [
      "kfolded auc 0.7576542103327818 {'DROP': [1, 15]} {'FUNC': <function catBoostTrain at 0x7fb474529dc0>, 'ITERS': 10} {}\n"
     ]
    },
    {
     "name": "stderr",
     "output_type": "stream",
     "text": [
      "100%|███████████████████████████████████████████| 10/10 [00:00<00:00, 13.97it/s]\n"
     ]
    },
    {
     "name": "stdout",
     "output_type": "stream",
     "text": [
      "kfolded auc 0.7552369461298032 {'DROP': [1, 16]} {'FUNC': <function catBoostTrain at 0x7fb474529dc0>, 'ITERS': 10} {}\n"
     ]
    },
    {
     "name": "stderr",
     "output_type": "stream",
     "text": [
      "100%|███████████████████████████████████████████| 10/10 [00:00<00:00, 15.01it/s]\n"
     ]
    },
    {
     "name": "stdout",
     "output_type": "stream",
     "text": [
      "kfolded auc 0.7635580989152417 {'DROP': [1, 17]} {'FUNC': <function catBoostTrain at 0x7fb474529dc0>, 'ITERS': 10} {}\n"
     ]
    },
    {
     "name": "stderr",
     "output_type": "stream",
     "text": [
      "100%|███████████████████████████████████████████| 10/10 [00:00<00:00, 14.28it/s]\n"
     ]
    },
    {
     "name": "stdout",
     "output_type": "stream",
     "text": [
      "kfolded auc 0.7743139823496966 {'DROP': [1, 18]} {'FUNC': <function catBoostTrain at 0x7fb474529dc0>, 'ITERS': 10} {}\n"
     ]
    },
    {
     "name": "stderr",
     "output_type": "stream",
     "text": [
      "100%|███████████████████████████████████████████| 10/10 [00:00<00:00, 14.45it/s]\n"
     ]
    },
    {
     "name": "stdout",
     "output_type": "stream",
     "text": [
      "kfolded auc 0.7663685879757308 {'DROP': [1, 19]} {'FUNC': <function catBoostTrain at 0x7fb474529dc0>, 'ITERS': 10} {}\n"
     ]
    },
    {
     "name": "stderr",
     "output_type": "stream",
     "text": [
      "100%|███████████████████████████████████████████| 10/10 [00:00<00:00, 13.90it/s]\n"
     ]
    },
    {
     "name": "stdout",
     "output_type": "stream",
     "text": [
      "kfolded auc 0.7344020040448611 {'DROP': [1, 20]} {'FUNC': <function catBoostTrain at 0x7fb474529dc0>, 'ITERS': 10} {}\n"
     ]
    },
    {
     "name": "stderr",
     "output_type": "stream",
     "text": [
      "100%|███████████████████████████████████████████| 10/10 [00:00<00:00, 14.31it/s]\n"
     ]
    },
    {
     "name": "stdout",
     "output_type": "stream",
     "text": [
      "kfolded auc 0.7763295182938041 {'DROP': [1, 21]} {'FUNC': <function catBoostTrain at 0x7fb474529dc0>, 'ITERS': 10} {}\n"
     ]
    },
    {
     "name": "stderr",
     "output_type": "stream",
     "text": [
      "100%|███████████████████████████████████████████| 10/10 [00:00<00:00, 14.02it/s]\n"
     ]
    },
    {
     "name": "stdout",
     "output_type": "stream",
     "text": [
      "kfolded auc 0.7428137065637065 {'DROP': [1, 22]} {'FUNC': <function catBoostTrain at 0x7fb474529dc0>, 'ITERS': 10} {}\n"
     ]
    },
    {
     "name": "stderr",
     "output_type": "stream",
     "text": [
      "100%|███████████████████████████████████████████| 10/10 [00:00<00:00, 14.08it/s]\n"
     ]
    },
    {
     "name": "stdout",
     "output_type": "stream",
     "text": [
      "kfolded auc 0.7624367990439418 {'DROP': [1, 23]} {'FUNC': <function catBoostTrain at 0x7fb474529dc0>, 'ITERS': 10} {}\n"
     ]
    },
    {
     "name": "stderr",
     "output_type": "stream",
     "text": [
      "100%|███████████████████████████████████████████| 10/10 [00:00<00:00, 13.01it/s]\n"
     ]
    },
    {
     "name": "stdout",
     "output_type": "stream",
     "text": [
      "kfolded auc 0.7663685879757308 {'DROP': [1, 24]} {'FUNC': <function catBoostTrain at 0x7fb474529dc0>, 'ITERS': 10} {}\n"
     ]
    },
    {
     "name": "stderr",
     "output_type": "stream",
     "text": [
      "100%|███████████████████████████████████████████| 10/10 [00:00<00:00, 13.97it/s]\n"
     ]
    },
    {
     "name": "stdout",
     "output_type": "stream",
     "text": [
      "kfolded auc 0.6977824508181649 {'DROP': [1, 25]} {'FUNC': <function catBoostTrain at 0x7fb474529dc0>, 'ITERS': 10} {}\n"
     ]
    },
    {
     "name": "stderr",
     "output_type": "stream",
     "text": [
      "100%|███████████████████████████████████████████| 10/10 [00:00<00:00, 14.07it/s]\n"
     ]
    },
    {
     "name": "stdout",
     "output_type": "stream",
     "text": [
      "kfolded auc 0.7544447508733223 {'DROP': [1, 26]} {'FUNC': <function catBoostTrain at 0x7fb474529dc0>, 'ITERS': 10} {}\n"
     ]
    },
    {
     "name": "stderr",
     "output_type": "stream",
     "text": [
      "100%|███████████████████████████████████████████| 10/10 [00:00<00:00, 13.54it/s]\n"
     ]
    },
    {
     "name": "stdout",
     "output_type": "stream",
     "text": [
      "kfolded auc 0.745274177238463 {'DROP': [1, 27]} {'FUNC': <function catBoostTrain at 0x7fb474529dc0>, 'ITERS': 10} {}\n"
     ]
    },
    {
     "name": "stderr",
     "output_type": "stream",
     "text": [
      "100%|███████████████████████████████████████████| 10/10 [00:00<00:00, 14.01it/s]\n"
     ]
    },
    {
     "name": "stdout",
     "output_type": "stream",
     "text": [
      "kfolded auc 0.7418932708218423 {'DROP': [1, 28]} {'FUNC': <function catBoostTrain at 0x7fb474529dc0>, 'ITERS': 10} {}\n"
     ]
    },
    {
     "name": "stderr",
     "output_type": "stream",
     "text": [
      "100%|███████████████████████████████████████████| 10/10 [00:00<00:00, 14.54it/s]\n"
     ]
    },
    {
     "name": "stdout",
     "output_type": "stream",
     "text": [
      "kfolded auc 0.7481731476374333 {'DROP': [1, 29]} {'FUNC': <function catBoostTrain at 0x7fb474529dc0>, 'ITERS': 10} {}\n"
     ]
    },
    {
     "name": "stderr",
     "output_type": "stream",
     "text": [
      "100%|███████████████████████████████████████████| 10/10 [00:00<00:00, 13.94it/s]\n"
     ]
    },
    {
     "name": "stdout",
     "output_type": "stream",
     "text": [
      "kfolded auc 0.754531623460195 {'DROP': [1, 30]} {'FUNC': <function catBoostTrain at 0x7fb474529dc0>, 'ITERS': 10} {}\n"
     ]
    },
    {
     "name": "stderr",
     "output_type": "stream",
     "text": [
      "100%|███████████████████████████████████████████| 10/10 [00:00<00:00, 13.49it/s]\n"
     ]
    },
    {
     "name": "stdout",
     "output_type": "stream",
     "text": [
      "kfolded auc 0.7625137892995036 {'DROP': [1, 31]} {'FUNC': <function catBoostTrain at 0x7fb474529dc0>, 'ITERS': 10} {}\n"
     ]
    },
    {
     "name": "stderr",
     "output_type": "stream",
     "text": [
      "100%|███████████████████████████████████████████| 10/10 [00:00<00:00, 14.84it/s]\n"
     ]
    },
    {
     "name": "stdout",
     "output_type": "stream",
     "text": [
      "kfolded auc 0.7578755285898142 {'DROP': [1, 32]} {'FUNC': <function catBoostTrain at 0x7fb474529dc0>, 'ITERS': 10} {}\n"
     ]
    },
    {
     "name": "stderr",
     "output_type": "stream",
     "text": [
      "100%|███████████████████████████████████████████| 10/10 [00:00<00:00, 13.35it/s]\n"
     ]
    },
    {
     "name": "stdout",
     "output_type": "stream",
     "text": [
      "kfolded auc 0.7766181742967457 {'DROP': [2]} {'FUNC': <function catBoostTrain at 0x7fb474529dc0>, 'ITERS': 10} {}\n"
     ]
    },
    {
     "name": "stderr",
     "output_type": "stream",
     "text": [
      "100%|███████████████████████████████████████████| 10/10 [00:00<00:00, 13.97it/s]\n"
     ]
    },
    {
     "name": "stdout",
     "output_type": "stream",
     "text": [
      "kfolded auc 0.7742284886927744 {'DROP': [2, 3]} {'FUNC': <function catBoostTrain at 0x7fb474529dc0>, 'ITERS': 10} {}\n"
     ]
    },
    {
     "name": "stderr",
     "output_type": "stream",
     "text": [
      "100%|███████████████████████████████████████████| 10/10 [00:00<00:00, 14.68it/s]\n"
     ]
    },
    {
     "name": "stdout",
     "output_type": "stream",
     "text": [
      "kfolded auc 0.7580717962860821 {'DROP': [2, 4]} {'FUNC': <function catBoostTrain at 0x7fb474529dc0>, 'ITERS': 10} {}\n"
     ]
    },
    {
     "name": "stderr",
     "output_type": "stream",
     "text": [
      "100%|███████████████████████████████████████████| 10/10 [00:00<00:00, 15.48it/s]\n"
     ]
    },
    {
     "name": "stdout",
     "output_type": "stream",
     "text": [
      "kfolded auc 0.7360096065453209 {'DROP': [2, 5]} {'FUNC': <function catBoostTrain at 0x7fb474529dc0>, 'ITERS': 10} {}\n"
     ]
    },
    {
     "name": "stderr",
     "output_type": "stream",
     "text": [
      "100%|███████████████████████████████████████████| 10/10 [00:00<00:00, 13.55it/s]\n"
     ]
    },
    {
     "name": "stdout",
     "output_type": "stream",
     "text": [
      "kfolded auc 0.7742284886927744 {'DROP': [2, 6]} {'FUNC': <function catBoostTrain at 0x7fb474529dc0>, 'ITERS': 10} {}\n"
     ]
    },
    {
     "name": "stderr",
     "output_type": "stream",
     "text": [
      "100%|███████████████████████████████████████████| 10/10 [00:00<00:00, 13.52it/s]\n"
     ]
    },
    {
     "name": "stdout",
     "output_type": "stream",
     "text": [
      "kfolded auc 0.7766181742967457 {'DROP': [2, 7]} {'FUNC': <function catBoostTrain at 0x7fb474529dc0>, 'ITERS': 10} {}\n"
     ]
    },
    {
     "name": "stderr",
     "output_type": "stream",
     "text": [
      "100%|███████████████████████████████████████████| 10/10 [00:00<00:00, 11.08it/s]\n"
     ]
    },
    {
     "name": "stdout",
     "output_type": "stream",
     "text": [
      "kfolded auc 0.7507528957528958 {'DROP': [2, 8]} {'FUNC': <function catBoostTrain at 0x7fb474529dc0>, 'ITERS': 10} {}\n"
     ]
    },
    {
     "name": "stderr",
     "output_type": "stream",
     "text": [
      "100%|███████████████████████████████████████████| 10/10 [00:00<00:00, 13.32it/s]\n"
     ]
    },
    {
     "name": "stdout",
     "output_type": "stream",
     "text": [
      "kfolded auc 0.7779628608200037 {'DROP': [2, 9]} {'FUNC': <function catBoostTrain at 0x7fb474529dc0>, 'ITERS': 10} {}\n"
     ]
    },
    {
     "name": "stderr",
     "output_type": "stream",
     "text": [
      "100%|███████████████████████████████████████████| 10/10 [00:00<00:00, 14.07it/s]\n"
     ]
    },
    {
     "name": "stdout",
     "output_type": "stream",
     "text": [
      "kfolded auc 0.750915034932892 {'DROP': [2, 10]} {'FUNC': <function catBoostTrain at 0x7fb474529dc0>, 'ITERS': 10} {}\n"
     ]
    },
    {
     "name": "stderr",
     "output_type": "stream",
     "text": [
      "100%|███████████████████████████████████████████| 10/10 [00:00<00:00, 14.41it/s]\n"
     ]
    },
    {
     "name": "stdout",
     "output_type": "stream",
     "text": [
      "kfolded auc 0.7548739428203715 {'DROP': [2, 11]} {'FUNC': <function catBoostTrain at 0x7fb474529dc0>, 'ITERS': 10} {}\n"
     ]
    },
    {
     "name": "stderr",
     "output_type": "stream",
     "text": [
      "100%|███████████████████████████████████████████| 10/10 [00:00<00:00, 13.71it/s]\n"
     ]
    },
    {
     "name": "stdout",
     "output_type": "stream",
     "text": [
      "kfolded auc 0.7887219617576761 {'DROP': [2, 12]} {'FUNC': <function catBoostTrain at 0x7fb474529dc0>, 'ITERS': 10} {}\n"
     ]
    },
    {
     "name": "stderr",
     "output_type": "stream",
     "text": [
      "100%|███████████████████████████████████████████| 10/10 [00:00<00:00, 14.21it/s]\n"
     ]
    },
    {
     "name": "stdout",
     "output_type": "stream",
     "text": [
      "kfolded auc 0.7742284886927744 {'DROP': [2, 13]} {'FUNC': <function catBoostTrain at 0x7fb474529dc0>, 'ITERS': 10} {}\n"
     ]
    },
    {
     "name": "stderr",
     "output_type": "stream",
     "text": [
      "100%|███████████████████████████████████████████| 10/10 [00:00<00:00, 14.08it/s]\n"
     ]
    },
    {
     "name": "stdout",
     "output_type": "stream",
     "text": [
      "kfolded auc 0.7650014938407794 {'DROP': [2, 14]} {'FUNC': <function catBoostTrain at 0x7fb474529dc0>, 'ITERS': 10} {}\n"
     ]
    },
    {
     "name": "stderr",
     "output_type": "stream",
     "text": [
      "100%|███████████████████████████████████████████| 10/10 [00:00<00:00, 14.11it/s]\n"
     ]
    },
    {
     "name": "stdout",
     "output_type": "stream",
     "text": [
      "kfolded auc 0.7742284886927744 {'DROP': [2, 15]} {'FUNC': <function catBoostTrain at 0x7fb474529dc0>, 'ITERS': 10} {}\n"
     ]
    },
    {
     "name": "stderr",
     "output_type": "stream",
     "text": [
      "100%|███████████████████████████████████████████| 10/10 [00:00<00:00, 14.57it/s]\n"
     ]
    },
    {
     "name": "stdout",
     "output_type": "stream",
     "text": [
      "kfolded auc 0.7657951829380399 {'DROP': [2, 16]} {'FUNC': <function catBoostTrain at 0x7fb474529dc0>, 'ITERS': 10} {}\n"
     ]
    },
    {
     "name": "stderr",
     "output_type": "stream",
     "text": [
      "100%|███████████████████████████████████████████| 10/10 [00:00<00:00, 13.86it/s]\n"
     ]
    },
    {
     "name": "stdout",
     "output_type": "stream",
     "text": [
      "kfolded auc 0.7843319084390512 {'DROP': [2, 17]} {'FUNC': <function catBoostTrain at 0x7fb474529dc0>, 'ITERS': 10} {}\n"
     ]
    },
    {
     "name": "stderr",
     "output_type": "stream",
     "text": [
      "100%|███████████████████████████████████████████| 10/10 [00:00<00:00, 13.63it/s]\n"
     ]
    },
    {
     "name": "stdout",
     "output_type": "stream",
     "text": [
      "kfolded auc 0.7635378746093032 {'DROP': [2, 18]} {'FUNC': <function catBoostTrain at 0x7fb474529dc0>, 'ITERS': 10} {}\n"
     ]
    },
    {
     "name": "stderr",
     "output_type": "stream",
     "text": [
      "100%|███████████████████████████████████████████| 10/10 [00:00<00:00, 12.71it/s]\n"
     ]
    },
    {
     "name": "stdout",
     "output_type": "stream",
     "text": [
      "kfolded auc 0.7766181742967457 {'DROP': [2, 19]} {'FUNC': <function catBoostTrain at 0x7fb474529dc0>, 'ITERS': 10} {}\n"
     ]
    },
    {
     "name": "stderr",
     "output_type": "stream",
     "text": [
      "100%|███████████████████████████████████████████| 10/10 [00:00<00:00, 14.60it/s]\n"
     ]
    },
    {
     "name": "stdout",
     "output_type": "stream",
     "text": [
      "kfolded auc 0.7600638904210333 {'DROP': [2, 20]} {'FUNC': <function catBoostTrain at 0x7fb474529dc0>, 'ITERS': 10} {}\n"
     ]
    },
    {
     "name": "stderr",
     "output_type": "stream",
     "text": [
      "100%|███████████████████████████████████████████| 10/10 [00:00<00:00, 13.67it/s]\n"
     ]
    },
    {
     "name": "stdout",
     "output_type": "stream",
     "text": [
      "kfolded auc 0.7771309064166207 {'DROP': [2, 21]} {'FUNC': <function catBoostTrain at 0x7fb474529dc0>, 'ITERS': 10} {}\n"
     ]
    },
    {
     "name": "stderr",
     "output_type": "stream",
     "text": [
      "100%|███████████████████████████████████████████| 10/10 [00:00<00:00, 13.45it/s]\n"
     ]
    },
    {
     "name": "stdout",
     "output_type": "stream",
     "text": [
      "kfolded auc 0.770733131090274 {'DROP': [2, 22]} {'FUNC': <function catBoostTrain at 0x7fb474529dc0>, 'ITERS': 10} {}\n"
     ]
    },
    {
     "name": "stderr",
     "output_type": "stream",
     "text": [
      "100%|███████████████████████████████████████████| 10/10 [00:00<00:00, 13.63it/s]\n"
     ]
    },
    {
     "name": "stdout",
     "output_type": "stream",
     "text": [
      "kfolded auc 0.7630113531899246 {'DROP': [2, 23]} {'FUNC': <function catBoostTrain at 0x7fb474529dc0>, 'ITERS': 10} {}\n"
     ]
    },
    {
     "name": "stderr",
     "output_type": "stream",
     "text": [
      "100%|███████████████████████████████████████████| 10/10 [00:00<00:00, 14.28it/s]\n"
     ]
    },
    {
     "name": "stdout",
     "output_type": "stream",
     "text": [
      "kfolded auc 0.7766181742967457 {'DROP': [2, 24]} {'FUNC': <function catBoostTrain at 0x7fb474529dc0>, 'ITERS': 10} {}\n"
     ]
    },
    {
     "name": "stderr",
     "output_type": "stream",
     "text": [
      "100%|███████████████████████████████████████████| 10/10 [00:00<00:00, 14.38it/s]\n"
     ]
    },
    {
     "name": "stdout",
     "output_type": "stream",
     "text": [
      "kfolded auc 0.7148398143040999 {'DROP': [2, 25]} {'FUNC': <function catBoostTrain at 0x7fb474529dc0>, 'ITERS': 10} {}\n"
     ]
    },
    {
     "name": "stderr",
     "output_type": "stream",
     "text": [
      "100%|███████████████████████████████████████████| 10/10 [00:00<00:00, 12.80it/s]\n"
     ]
    },
    {
     "name": "stdout",
     "output_type": "stream",
     "text": [
      "kfolded auc 0.7750584896120609 {'DROP': [2, 26]} {'FUNC': <function catBoostTrain at 0x7fb474529dc0>, 'ITERS': 10} {}\n"
     ]
    },
    {
     "name": "stderr",
     "output_type": "stream",
     "text": [
      "100%|███████████████████████████████████████████| 10/10 [00:00<00:00, 14.57it/s]\n"
     ]
    },
    {
     "name": "stdout",
     "output_type": "stream",
     "text": [
      "kfolded auc 0.7600975592939878 {'DROP': [2, 27]} {'FUNC': <function catBoostTrain at 0x7fb474529dc0>, 'ITERS': 10} {}\n"
     ]
    },
    {
     "name": "stderr",
     "output_type": "stream",
     "text": [
      "100%|███████████████████████████████████████████| 10/10 [00:00<00:00, 12.81it/s]\n"
     ]
    },
    {
     "name": "stdout",
     "output_type": "stream",
     "text": [
      "kfolded auc 0.768203943739658 {'DROP': [2, 28]} {'FUNC': <function catBoostTrain at 0x7fb474529dc0>, 'ITERS': 10} {}\n"
     ]
    },
    {
     "name": "stderr",
     "output_type": "stream",
     "text": [
      "100%|███████████████████████████████████████████| 10/10 [00:00<00:00, 13.07it/s]\n"
     ]
    },
    {
     "name": "stdout",
     "output_type": "stream",
     "text": [
      "kfolded auc 0.767373598087884 {'DROP': [2, 29]} {'FUNC': <function catBoostTrain at 0x7fb474529dc0>, 'ITERS': 10} {}\n"
     ]
    },
    {
     "name": "stderr",
     "output_type": "stream",
     "text": [
      "100%|███████████████████████████████████████████| 10/10 [00:00<00:00, 13.13it/s]\n"
     ]
    },
    {
     "name": "stdout",
     "output_type": "stream",
     "text": [
      "kfolded auc 0.7659560580989153 {'DROP': [2, 30]} {'FUNC': <function catBoostTrain at 0x7fb474529dc0>, 'ITERS': 10} {}\n"
     ]
    },
    {
     "name": "stderr",
     "output_type": "stream",
     "text": [
      "100%|███████████████████████████████████████████| 10/10 [00:00<00:00, 13.01it/s]\n"
     ]
    },
    {
     "name": "stdout",
     "output_type": "stream",
     "text": [
      "kfolded auc 0.767996989336275 {'DROP': [2, 31]} {'FUNC': <function catBoostTrain at 0x7fb474529dc0>, 'ITERS': 10} {}\n"
     ]
    },
    {
     "name": "stderr",
     "output_type": "stream",
     "text": [
      "100%|███████████████████████████████████████████| 10/10 [00:00<00:00, 13.58it/s]\n"
     ]
    },
    {
     "name": "stdout",
     "output_type": "stream",
     "text": [
      "kfolded auc 0.7672055984555984 {'DROP': [2, 32]} {'FUNC': <function catBoostTrain at 0x7fb474529dc0>, 'ITERS': 10} {}\n"
     ]
    },
    {
     "name": "stderr",
     "output_type": "stream",
     "text": [
      "100%|███████████████████████████████████████████| 10/10 [00:00<00:00, 12.96it/s]\n"
     ]
    },
    {
     "name": "stdout",
     "output_type": "stream",
     "text": [
      "kfolded auc 0.7663685879757308 {'DROP': [3]} {'FUNC': <function catBoostTrain at 0x7fb474529dc0>, 'ITERS': 10} {}\n"
     ]
    },
    {
     "name": "stderr",
     "output_type": "stream",
     "text": [
      "100%|███████████████████████████████████████████| 10/10 [00:00<00:00, 13.81it/s]\n"
     ]
    },
    {
     "name": "stdout",
     "output_type": "stream",
     "text": [
      "kfolded auc 0.7731425813568672 {'DROP': [3, 4]} {'FUNC': <function catBoostTrain at 0x7fb474529dc0>, 'ITERS': 10} {}\n"
     ]
    },
    {
     "name": "stderr",
     "output_type": "stream",
     "text": [
      "100%|███████████████████████████████████████████| 10/10 [00:00<00:00, 13.80it/s]\n"
     ]
    },
    {
     "name": "stdout",
     "output_type": "stream",
     "text": [
      "kfolded auc 0.7728300239014525 {'DROP': [3, 5]} {'FUNC': <function catBoostTrain at 0x7fb474529dc0>, 'ITERS': 10} {}\n"
     ]
    },
    {
     "name": "stderr",
     "output_type": "stream",
     "text": [
      "100%|███████████████████████████████████████████| 10/10 [00:00<00:00, 14.81it/s]\n"
     ]
    },
    {
     "name": "stdout",
     "output_type": "stream",
     "text": [
      "kfolded auc 0.7576542103327818 {'DROP': [3, 6]} {'FUNC': <function catBoostTrain at 0x7fb474529dc0>, 'ITERS': 10} {}\n"
     ]
    },
    {
     "name": "stderr",
     "output_type": "stream",
     "text": [
      "100%|███████████████████████████████████████████| 10/10 [00:00<00:00, 13.82it/s]\n"
     ]
    },
    {
     "name": "stdout",
     "output_type": "stream",
     "text": [
      "kfolded auc 0.7663685879757308 {'DROP': [3, 7]} {'FUNC': <function catBoostTrain at 0x7fb474529dc0>, 'ITERS': 10} {}\n"
     ]
    },
    {
     "name": "stderr",
     "output_type": "stream",
     "text": [
      "100%|███████████████████████████████████████████| 10/10 [00:00<00:00, 13.46it/s]\n"
     ]
    },
    {
     "name": "stdout",
     "output_type": "stream",
     "text": [
      "kfolded auc 0.7739039805111234 {'DROP': [3, 8]} {'FUNC': <function catBoostTrain at 0x7fb474529dc0>, 'ITERS': 10} {}\n"
     ]
    },
    {
     "name": "stderr",
     "output_type": "stream",
     "text": [
      "100%|███████████████████████████████████████████| 10/10 [00:00<00:00, 13.78it/s]\n"
     ]
    },
    {
     "name": "stdout",
     "output_type": "stream",
     "text": [
      "kfolded auc 0.7394700312557456 {'DROP': [3, 9]} {'FUNC': <function catBoostTrain at 0x7fb474529dc0>, 'ITERS': 10} {}\n"
     ]
    },
    {
     "name": "stderr",
     "output_type": "stream",
     "text": [
      "100%|███████████████████████████████████████████| 10/10 [00:00<00:00, 14.28it/s]\n"
     ]
    },
    {
     "name": "stdout",
     "output_type": "stream",
     "text": [
      "kfolded auc 0.7744594594594595 {'DROP': [3, 10]} {'FUNC': <function catBoostTrain at 0x7fb474529dc0>, 'ITERS': 10} {}\n"
     ]
    },
    {
     "name": "stderr",
     "output_type": "stream",
     "text": [
      "100%|███████████████████████████████████████████| 10/10 [00:00<00:00, 14.30it/s]\n"
     ]
    },
    {
     "name": "stdout",
     "output_type": "stream",
     "text": [
      "kfolded auc 0.7683620610406324 {'DROP': [3, 11]} {'FUNC': <function catBoostTrain at 0x7fb474529dc0>, 'ITERS': 10} {}\n"
     ]
    },
    {
     "name": "stderr",
     "output_type": "stream",
     "text": [
      "100%|███████████████████████████████████████████| 10/10 [00:00<00:00, 14.47it/s]\n"
     ]
    },
    {
     "name": "stdout",
     "output_type": "stream",
     "text": [
      "kfolded auc 0.7770410461481889 {'DROP': [3, 12]} {'FUNC': <function catBoostTrain at 0x7fb474529dc0>, 'ITERS': 10} {}\n"
     ]
    },
    {
     "name": "stderr",
     "output_type": "stream",
     "text": [
      "100%|███████████████████████████████████████████| 10/10 [00:00<00:00, 15.27it/s]\n"
     ]
    },
    {
     "name": "stdout",
     "output_type": "stream",
     "text": [
      "kfolded auc 0.7576542103327818 {'DROP': [3, 13]} {'FUNC': <function catBoostTrain at 0x7fb474529dc0>, 'ITERS': 10} {}\n"
     ]
    },
    {
     "name": "stderr",
     "output_type": "stream",
     "text": [
      "100%|███████████████████████████████████████████| 10/10 [00:00<00:00, 14.09it/s]\n"
     ]
    },
    {
     "name": "stdout",
     "output_type": "stream",
     "text": [
      "kfolded auc 0.7702953208310351 {'DROP': [3, 14]} {'FUNC': <function catBoostTrain at 0x7fb474529dc0>, 'ITERS': 10} {}\n"
     ]
    },
    {
     "name": "stderr",
     "output_type": "stream",
     "text": [
      "100%|███████████████████████████████████████████| 10/10 [00:00<00:00, 14.09it/s]\n"
     ]
    },
    {
     "name": "stdout",
     "output_type": "stream",
     "text": [
      "kfolded auc 0.7576542103327818 {'DROP': [3, 15]} {'FUNC': <function catBoostTrain at 0x7fb474529dc0>, 'ITERS': 10} {}\n"
     ]
    },
    {
     "name": "stderr",
     "output_type": "stream",
     "text": [
      "100%|███████████████████████████████████████████| 10/10 [00:00<00:00, 13.71it/s]\n"
     ]
    },
    {
     "name": "stdout",
     "output_type": "stream",
     "text": [
      "kfolded auc 0.7552369461298032 {'DROP': [3, 16]} {'FUNC': <function catBoostTrain at 0x7fb474529dc0>, 'ITERS': 10} {}\n"
     ]
    },
    {
     "name": "stderr",
     "output_type": "stream",
     "text": [
      "100%|███████████████████████████████████████████| 10/10 [00:00<00:00, 15.35it/s]\n"
     ]
    },
    {
     "name": "stdout",
     "output_type": "stream",
     "text": [
      "kfolded auc 0.7635580989152417 {'DROP': [3, 17]} {'FUNC': <function catBoostTrain at 0x7fb474529dc0>, 'ITERS': 10} {}\n"
     ]
    },
    {
     "name": "stderr",
     "output_type": "stream",
     "text": [
      "100%|███████████████████████████████████████████| 10/10 [00:00<00:00, 13.60it/s]\n"
     ]
    },
    {
     "name": "stdout",
     "output_type": "stream",
     "text": [
      "kfolded auc 0.7743139823496966 {'DROP': [3, 18]} {'FUNC': <function catBoostTrain at 0x7fb474529dc0>, 'ITERS': 10} {}\n"
     ]
    },
    {
     "name": "stderr",
     "output_type": "stream",
     "text": [
      "100%|███████████████████████████████████████████| 10/10 [00:00<00:00, 13.68it/s]\n"
     ]
    },
    {
     "name": "stdout",
     "output_type": "stream",
     "text": [
      "kfolded auc 0.7663685879757308 {'DROP': [3, 19]} {'FUNC': <function catBoostTrain at 0x7fb474529dc0>, 'ITERS': 10} {}\n"
     ]
    },
    {
     "name": "stderr",
     "output_type": "stream",
     "text": [
      "100%|███████████████████████████████████████████| 10/10 [00:00<00:00, 14.03it/s]\n"
     ]
    },
    {
     "name": "stdout",
     "output_type": "stream",
     "text": [
      "kfolded auc 0.7344020040448611 {'DROP': [3, 20]} {'FUNC': <function catBoostTrain at 0x7fb474529dc0>, 'ITERS': 10} {}\n"
     ]
    },
    {
     "name": "stderr",
     "output_type": "stream",
     "text": [
      "100%|███████████████████████████████████████████| 10/10 [00:00<00:00, 14.95it/s]\n"
     ]
    },
    {
     "name": "stdout",
     "output_type": "stream",
     "text": [
      "kfolded auc 0.7763295182938041 {'DROP': [3, 21]} {'FUNC': <function catBoostTrain at 0x7fb474529dc0>, 'ITERS': 10} {}\n"
     ]
    },
    {
     "name": "stderr",
     "output_type": "stream",
     "text": [
      "100%|███████████████████████████████████████████| 10/10 [00:00<00:00, 13.59it/s]\n"
     ]
    },
    {
     "name": "stdout",
     "output_type": "stream",
     "text": [
      "kfolded auc 0.7428137065637065 {'DROP': [3, 22]} {'FUNC': <function catBoostTrain at 0x7fb474529dc0>, 'ITERS': 10} {}\n"
     ]
    },
    {
     "name": "stderr",
     "output_type": "stream",
     "text": [
      "100%|███████████████████████████████████████████| 10/10 [00:00<00:00, 13.41it/s]\n"
     ]
    },
    {
     "name": "stdout",
     "output_type": "stream",
     "text": [
      "kfolded auc 0.7624367990439418 {'DROP': [3, 23]} {'FUNC': <function catBoostTrain at 0x7fb474529dc0>, 'ITERS': 10} {}\n"
     ]
    },
    {
     "name": "stderr",
     "output_type": "stream",
     "text": [
      "100%|███████████████████████████████████████████| 10/10 [00:00<00:00, 13.75it/s]\n"
     ]
    },
    {
     "name": "stdout",
     "output_type": "stream",
     "text": [
      "kfolded auc 0.7663685879757308 {'DROP': [3, 24]} {'FUNC': <function catBoostTrain at 0x7fb474529dc0>, 'ITERS': 10} {}\n"
     ]
    },
    {
     "name": "stderr",
     "output_type": "stream",
     "text": [
      "100%|███████████████████████████████████████████| 10/10 [00:00<00:00, 14.29it/s]\n"
     ]
    },
    {
     "name": "stdout",
     "output_type": "stream",
     "text": [
      "kfolded auc 0.6977824508181649 {'DROP': [3, 25]} {'FUNC': <function catBoostTrain at 0x7fb474529dc0>, 'ITERS': 10} {}\n"
     ]
    },
    {
     "name": "stderr",
     "output_type": "stream",
     "text": [
      "100%|███████████████████████████████████████████| 10/10 [00:00<00:00, 14.06it/s]\n"
     ]
    },
    {
     "name": "stdout",
     "output_type": "stream",
     "text": [
      "kfolded auc 0.7544447508733223 {'DROP': [3, 26]} {'FUNC': <function catBoostTrain at 0x7fb474529dc0>, 'ITERS': 10} {}\n"
     ]
    },
    {
     "name": "stderr",
     "output_type": "stream",
     "text": [
      "100%|███████████████████████████████████████████| 10/10 [00:00<00:00, 13.90it/s]\n"
     ]
    },
    {
     "name": "stdout",
     "output_type": "stream",
     "text": [
      "kfolded auc 0.745274177238463 {'DROP': [3, 27]} {'FUNC': <function catBoostTrain at 0x7fb474529dc0>, 'ITERS': 10} {}\n"
     ]
    },
    {
     "name": "stderr",
     "output_type": "stream",
     "text": [
      "100%|███████████████████████████████████████████| 10/10 [00:00<00:00, 14.17it/s]\n"
     ]
    },
    {
     "name": "stdout",
     "output_type": "stream",
     "text": [
      "kfolded auc 0.7418932708218423 {'DROP': [3, 28]} {'FUNC': <function catBoostTrain at 0x7fb474529dc0>, 'ITERS': 10} {}\n"
     ]
    },
    {
     "name": "stderr",
     "output_type": "stream",
     "text": [
      "100%|███████████████████████████████████████████| 10/10 [00:00<00:00, 14.30it/s]\n"
     ]
    },
    {
     "name": "stdout",
     "output_type": "stream",
     "text": [
      "kfolded auc 0.7481731476374333 {'DROP': [3, 29]} {'FUNC': <function catBoostTrain at 0x7fb474529dc0>, 'ITERS': 10} {}\n"
     ]
    },
    {
     "name": "stderr",
     "output_type": "stream",
     "text": [
      "100%|███████████████████████████████████████████| 10/10 [00:00<00:00, 14.01it/s]\n"
     ]
    },
    {
     "name": "stdout",
     "output_type": "stream",
     "text": [
      "kfolded auc 0.754531623460195 {'DROP': [3, 30]} {'FUNC': <function catBoostTrain at 0x7fb474529dc0>, 'ITERS': 10} {}\n"
     ]
    },
    {
     "name": "stderr",
     "output_type": "stream",
     "text": [
      "100%|███████████████████████████████████████████| 10/10 [00:00<00:00, 13.84it/s]\n"
     ]
    },
    {
     "name": "stdout",
     "output_type": "stream",
     "text": [
      "kfolded auc 0.7625137892995036 {'DROP': [3, 31]} {'FUNC': <function catBoostTrain at 0x7fb474529dc0>, 'ITERS': 10} {}\n"
     ]
    },
    {
     "name": "stderr",
     "output_type": "stream",
     "text": [
      "100%|███████████████████████████████████████████| 10/10 [00:00<00:00, 14.54it/s]\n"
     ]
    },
    {
     "name": "stdout",
     "output_type": "stream",
     "text": [
      "kfolded auc 0.7578755285898142 {'DROP': [3, 32]} {'FUNC': <function catBoostTrain at 0x7fb474529dc0>, 'ITERS': 10} {}\n"
     ]
    },
    {
     "name": "stderr",
     "output_type": "stream",
     "text": [
      "100%|███████████████████████████████████████████| 10/10 [00:00<00:00, 13.07it/s]\n"
     ]
    },
    {
     "name": "stdout",
     "output_type": "stream",
     "text": [
      "kfolded auc 0.7679522890237175 {'DROP': [4]} {'FUNC': <function catBoostTrain at 0x7fb474529dc0>, 'ITERS': 10} {}\n"
     ]
    },
    {
     "name": "stderr",
     "output_type": "stream",
     "text": [
      "100%|███████████████████████████████████████████| 10/10 [00:00<00:00, 13.74it/s]\n"
     ]
    },
    {
     "name": "stdout",
     "output_type": "stream",
     "text": [
      "kfolded auc 0.7513547986762272 {'DROP': [4, 5]} {'FUNC': <function catBoostTrain at 0x7fb474529dc0>, 'ITERS': 10} {}\n"
     ]
    },
    {
     "name": "stderr",
     "output_type": "stream",
     "text": [
      "100%|███████████████████████████████████████████| 10/10 [00:00<00:00, 13.46it/s]\n"
     ]
    },
    {
     "name": "stdout",
     "output_type": "stream",
     "text": [
      "kfolded auc 0.7731425813568672 {'DROP': [4, 6]} {'FUNC': <function catBoostTrain at 0x7fb474529dc0>, 'ITERS': 10} {}\n"
     ]
    },
    {
     "name": "stderr",
     "output_type": "stream",
     "text": [
      "100%|███████████████████████████████████████████| 10/10 [00:00<00:00, 14.47it/s]\n"
     ]
    },
    {
     "name": "stdout",
     "output_type": "stream",
     "text": [
      "kfolded auc 0.7679522890237175 {'DROP': [4, 7]} {'FUNC': <function catBoostTrain at 0x7fb474529dc0>, 'ITERS': 10} {}\n"
     ]
    },
    {
     "name": "stderr",
     "output_type": "stream",
     "text": [
      "100%|███████████████████████████████████████████| 10/10 [00:00<00:00, 13.77it/s]\n"
     ]
    },
    {
     "name": "stdout",
     "output_type": "stream",
     "text": [
      "kfolded auc 0.7423393546607832 {'DROP': [4, 8]} {'FUNC': <function catBoostTrain at 0x7fb474529dc0>, 'ITERS': 10} {}\n"
     ]
    },
    {
     "name": "stderr",
     "output_type": "stream",
     "text": [
      "100%|███████████████████████████████████████████| 10/10 [00:00<00:00, 13.21it/s]\n"
     ]
    },
    {
     "name": "stdout",
     "output_type": "stream",
     "text": [
      "kfolded auc 0.7700105717962861 {'DROP': [4, 9]} {'FUNC': <function catBoostTrain at 0x7fb474529dc0>, 'ITERS': 10} {}\n"
     ]
    },
    {
     "name": "stderr",
     "output_type": "stream",
     "text": [
      "100%|███████████████████████████████████████████| 10/10 [00:00<00:00, 14.01it/s]\n"
     ]
    },
    {
     "name": "stdout",
     "output_type": "stream",
     "text": [
      "kfolded auc 0.7460058144879574 {'DROP': [4, 10]} {'FUNC': <function catBoostTrain at 0x7fb474529dc0>, 'ITERS': 10} {}\n"
     ]
    },
    {
     "name": "stderr",
     "output_type": "stream",
     "text": [
      "100%|███████████████████████████████████████████| 10/10 [00:00<00:00, 13.84it/s]\n"
     ]
    },
    {
     "name": "stdout",
     "output_type": "stream",
     "text": [
      "kfolded auc 0.7523257951829381 {'DROP': [4, 11]} {'FUNC': <function catBoostTrain at 0x7fb474529dc0>, 'ITERS': 10} {}\n"
     ]
    },
    {
     "name": "stderr",
     "output_type": "stream",
     "text": [
      "100%|███████████████████████████████████████████| 10/10 [00:00<00:00, 14.09it/s]\n"
     ]
    },
    {
     "name": "stdout",
     "output_type": "stream",
     "text": [
      "kfolded auc 0.7683956150027578 {'DROP': [4, 12]} {'FUNC': <function catBoostTrain at 0x7fb474529dc0>, 'ITERS': 10} {}\n"
     ]
    },
    {
     "name": "stderr",
     "output_type": "stream",
     "text": [
      "100%|███████████████████████████████████████████| 10/10 [00:00<00:00, 13.55it/s]\n"
     ]
    },
    {
     "name": "stdout",
     "output_type": "stream",
     "text": [
      "kfolded auc 0.7731425813568672 {'DROP': [4, 13]} {'FUNC': <function catBoostTrain at 0x7fb474529dc0>, 'ITERS': 10} {}\n"
     ]
    },
    {
     "name": "stderr",
     "output_type": "stream",
     "text": [
      "100%|███████████████████████████████████████████| 10/10 [00:00<00:00, 13.72it/s]\n"
     ]
    },
    {
     "name": "stdout",
     "output_type": "stream",
     "text": [
      "kfolded auc 0.7815905956977385 {'DROP': [4, 14]} {'FUNC': <function catBoostTrain at 0x7fb474529dc0>, 'ITERS': 10} {}\n"
     ]
    },
    {
     "name": "stderr",
     "output_type": "stream",
     "text": [
      "100%|███████████████████████████████████████████| 10/10 [00:00<00:00, 15.26it/s]\n"
     ]
    },
    {
     "name": "stdout",
     "output_type": "stream",
     "text": [
      "kfolded auc 0.7731425813568672 {'DROP': [4, 15]} {'FUNC': <function catBoostTrain at 0x7fb474529dc0>, 'ITERS': 10} {}\n"
     ]
    },
    {
     "name": "stderr",
     "output_type": "stream",
     "text": [
      "100%|███████████████████████████████████████████| 10/10 [00:00<00:00, 13.59it/s]\n"
     ]
    },
    {
     "name": "stdout",
     "output_type": "stream",
     "text": [
      "kfolded auc 0.7706326990255562 {'DROP': [4, 16]} {'FUNC': <function catBoostTrain at 0x7fb474529dc0>, 'ITERS': 10} {}\n"
     ]
    },
    {
     "name": "stderr",
     "output_type": "stream",
     "text": [
      "100%|███████████████████████████████████████████| 10/10 [00:00<00:00, 13.24it/s]\n"
     ]
    },
    {
     "name": "stdout",
     "output_type": "stream",
     "text": [
      "kfolded auc 0.7719589998161427 {'DROP': [4, 17]} {'FUNC': <function catBoostTrain at 0x7fb474529dc0>, 'ITERS': 10} {}\n"
     ]
    },
    {
     "name": "stderr",
     "output_type": "stream",
     "text": [
      "100%|███████████████████████████████████████████| 10/10 [00:00<00:00, 14.50it/s]\n"
     ]
    },
    {
     "name": "stdout",
     "output_type": "stream",
     "text": [
      "kfolded auc 0.7563479040264754 {'DROP': [4, 18]} {'FUNC': <function catBoostTrain at 0x7fb474529dc0>, 'ITERS': 10} {}\n"
     ]
    },
    {
     "name": "stderr",
     "output_type": "stream",
     "text": [
      "100%|███████████████████████████████████████████| 10/10 [00:00<00:00, 12.83it/s]\n"
     ]
    },
    {
     "name": "stdout",
     "output_type": "stream",
     "text": [
      "kfolded auc 0.7679522890237175 {'DROP': [4, 19]} {'FUNC': <function catBoostTrain at 0x7fb474529dc0>, 'ITERS': 10} {}\n"
     ]
    },
    {
     "name": "stderr",
     "output_type": "stream",
     "text": [
      "100%|███████████████████████████████████████████| 10/10 [00:00<00:00, 13.69it/s]\n"
     ]
    },
    {
     "name": "stdout",
     "output_type": "stream",
     "text": [
      "kfolded auc 0.7544300422871852 {'DROP': [4, 20]} {'FUNC': <function catBoostTrain at 0x7fb474529dc0>, 'ITERS': 10} {}\n"
     ]
    },
    {
     "name": "stderr",
     "output_type": "stream",
     "text": [
      "100%|███████████████████████████████████████████| 10/10 [00:00<00:00, 12.97it/s]\n"
     ]
    },
    {
     "name": "stdout",
     "output_type": "stream",
     "text": [
      "kfolded auc 0.7596240117668689 {'DROP': [4, 21]} {'FUNC': <function catBoostTrain at 0x7fb474529dc0>, 'ITERS': 10} {}\n"
     ]
    },
    {
     "name": "stderr",
     "output_type": "stream",
     "text": [
      "100%|███████████████████████████████████████████| 10/10 [00:00<00:00, 13.97it/s]\n"
     ]
    },
    {
     "name": "stdout",
     "output_type": "stream",
     "text": [
      "kfolded auc 0.7632200312557456 {'DROP': [4, 22]} {'FUNC': <function catBoostTrain at 0x7fb474529dc0>, 'ITERS': 10} {}\n"
     ]
    },
    {
     "name": "stderr",
     "output_type": "stream",
     "text": [
      "100%|███████████████████████████████████████████| 10/10 [00:00<00:00, 14.42it/s]\n"
     ]
    },
    {
     "name": "stdout",
     "output_type": "stream",
     "text": [
      "kfolded auc 0.7573834804191948 {'DROP': [4, 23]} {'FUNC': <function catBoostTrain at 0x7fb474529dc0>, 'ITERS': 10} {}\n"
     ]
    },
    {
     "name": "stderr",
     "output_type": "stream",
     "text": [
      "100%|███████████████████████████████████████████| 10/10 [00:00<00:00, 13.83it/s]\n"
     ]
    },
    {
     "name": "stdout",
     "output_type": "stream",
     "text": [
      "kfolded auc 0.7679522890237175 {'DROP': [4, 24]} {'FUNC': <function catBoostTrain at 0x7fb474529dc0>, 'ITERS': 10} {}\n"
     ]
    },
    {
     "name": "stderr",
     "output_type": "stream",
     "text": [
      "100%|███████████████████████████████████████████| 10/10 [00:00<00:00, 13.83it/s]\n"
     ]
    },
    {
     "name": "stdout",
     "output_type": "stream",
     "text": [
      "kfolded auc 0.7128539253539253 {'DROP': [4, 25]} {'FUNC': <function catBoostTrain at 0x7fb474529dc0>, 'ITERS': 10} {}\n"
     ]
    },
    {
     "name": "stderr",
     "output_type": "stream",
     "text": [
      "100%|███████████████████████████████████████████| 10/10 [00:00<00:00, 14.71it/s]\n"
     ]
    },
    {
     "name": "stdout",
     "output_type": "stream",
     "text": [
      "kfolded auc 0.7696455000919287 {'DROP': [4, 26]} {'FUNC': <function catBoostTrain at 0x7fb474529dc0>, 'ITERS': 10} {}\n"
     ]
    },
    {
     "name": "stderr",
     "output_type": "stream",
     "text": [
      "100%|███████████████████████████████████████████| 10/10 [00:00<00:00, 14.10it/s]\n"
     ]
    },
    {
     "name": "stdout",
     "output_type": "stream",
     "text": [
      "kfolded auc 0.7573344134951278 {'DROP': [4, 27]} {'FUNC': <function catBoostTrain at 0x7fb474529dc0>, 'ITERS': 10} {}\n"
     ]
    },
    {
     "name": "stderr",
     "output_type": "stream",
     "text": [
      "100%|███████████████████████████████████████████| 10/10 [00:00<00:00, 14.42it/s]\n"
     ]
    },
    {
     "name": "stdout",
     "output_type": "stream",
     "text": [
      "kfolded auc 0.7710649935649936 {'DROP': [4, 28]} {'FUNC': <function catBoostTrain at 0x7fb474529dc0>, 'ITERS': 10} {}\n"
     ]
    },
    {
     "name": "stderr",
     "output_type": "stream",
     "text": [
      "100%|███████████████████████████████████████████| 10/10 [00:00<00:00, 14.31it/s]\n"
     ]
    },
    {
     "name": "stdout",
     "output_type": "stream",
     "text": [
      "kfolded auc 0.7719994484280198 {'DROP': [4, 29]} {'FUNC': <function catBoostTrain at 0x7fb474529dc0>, 'ITERS': 10} {}\n"
     ]
    },
    {
     "name": "stderr",
     "output_type": "stream",
     "text": [
      "100%|███████████████████████████████████████████| 10/10 [00:00<00:00, 14.36it/s]\n"
     ]
    },
    {
     "name": "stdout",
     "output_type": "stream",
     "text": [
      "kfolded auc 0.775145017466446 {'DROP': [4, 30]} {'FUNC': <function catBoostTrain at 0x7fb474529dc0>, 'ITERS': 10} {}\n"
     ]
    },
    {
     "name": "stderr",
     "output_type": "stream",
     "text": [
      "100%|███████████████████████████████████████████| 10/10 [00:00<00:00, 14.05it/s]\n"
     ]
    },
    {
     "name": "stdout",
     "output_type": "stream",
     "text": [
      "kfolded auc 0.7780769672733958 {'DROP': [4, 31]} {'FUNC': <function catBoostTrain at 0x7fb474529dc0>, 'ITERS': 10} {}\n"
     ]
    },
    {
     "name": "stderr",
     "output_type": "stream",
     "text": [
      "100%|███████████████████████████████████████████| 10/10 [00:00<00:00, 14.40it/s]\n"
     ]
    },
    {
     "name": "stdout",
     "output_type": "stream",
     "text": [
      "kfolded auc 0.7722768431697002 {'DROP': [4, 32]} {'FUNC': <function catBoostTrain at 0x7fb474529dc0>, 'ITERS': 10} {}\n"
     ]
    },
    {
     "name": "stderr",
     "output_type": "stream",
     "text": [
      "100%|███████████████████████████████████████████| 10/10 [00:00<00:00, 14.74it/s]\n"
     ]
    },
    {
     "name": "stdout",
     "output_type": "stream",
     "text": [
      "kfolded auc 0.7615795642581358 {'DROP': [5]} {'FUNC': <function catBoostTrain at 0x7fb474529dc0>, 'ITERS': 10} {}\n"
     ]
    },
    {
     "name": "stderr",
     "output_type": "stream",
     "text": [
      "100%|███████████████████████████████████████████| 10/10 [00:00<00:00, 14.29it/s]\n"
     ]
    },
    {
     "name": "stdout",
     "output_type": "stream",
     "text": [
      "kfolded auc 0.7728300239014525 {'DROP': [5, 6]} {'FUNC': <function catBoostTrain at 0x7fb474529dc0>, 'ITERS': 10} {}\n"
     ]
    },
    {
     "name": "stderr",
     "output_type": "stream",
     "text": [
      "100%|███████████████████████████████████████████| 10/10 [00:00<00:00, 13.97it/s]\n"
     ]
    },
    {
     "name": "stdout",
     "output_type": "stream",
     "text": [
      "kfolded auc 0.7615795642581358 {'DROP': [5, 7]} {'FUNC': <function catBoostTrain at 0x7fb474529dc0>, 'ITERS': 10} {}\n"
     ]
    },
    {
     "name": "stderr",
     "output_type": "stream",
     "text": [
      "100%|███████████████████████████████████████████| 10/10 [00:00<00:00, 13.56it/s]\n"
     ]
    },
    {
     "name": "stdout",
     "output_type": "stream",
     "text": [
      "kfolded auc 0.7532809339952198 {'DROP': [5, 8]} {'FUNC': <function catBoostTrain at 0x7fb474529dc0>, 'ITERS': 10} {}\n"
     ]
    },
    {
     "name": "stderr",
     "output_type": "stream",
     "text": [
      "100%|███████████████████████████████████████████| 10/10 [00:00<00:00, 14.02it/s]\n"
     ]
    },
    {
     "name": "stdout",
     "output_type": "stream",
     "text": [
      "kfolded auc 0.7713520408163266 {'DROP': [5, 9]} {'FUNC': <function catBoostTrain at 0x7fb474529dc0>, 'ITERS': 10} {}\n"
     ]
    },
    {
     "name": "stderr",
     "output_type": "stream",
     "text": [
      "100%|███████████████████████████████████████████| 10/10 [00:00<00:00, 13.36it/s]\n"
     ]
    },
    {
     "name": "stdout",
     "output_type": "stream",
     "text": [
      "kfolded auc 0.755387709137709 {'DROP': [5, 10]} {'FUNC': <function catBoostTrain at 0x7fb474529dc0>, 'ITERS': 10} {}\n"
     ]
    },
    {
     "name": "stderr",
     "output_type": "stream",
     "text": [
      "100%|███████████████████████████████████████████| 10/10 [00:00<00:00, 13.24it/s]\n"
     ]
    },
    {
     "name": "stdout",
     "output_type": "stream",
     "text": [
      "kfolded auc 0.7692634215848502 {'DROP': [5, 11]} {'FUNC': <function catBoostTrain at 0x7fb474529dc0>, 'ITERS': 10} {}\n"
     ]
    },
    {
     "name": "stderr",
     "output_type": "stream",
     "text": [
      "100%|███████████████████████████████████████████| 10/10 [00:00<00:00, 13.22it/s]\n"
     ]
    },
    {
     "name": "stdout",
     "output_type": "stream",
     "text": [
      "kfolded auc 0.7882335907335907 {'DROP': [5, 12]} {'FUNC': <function catBoostTrain at 0x7fb474529dc0>, 'ITERS': 10} {}\n"
     ]
    },
    {
     "name": "stderr",
     "output_type": "stream",
     "text": [
      "100%|███████████████████████████████████████████| 10/10 [00:00<00:00, 14.77it/s]\n"
     ]
    },
    {
     "name": "stdout",
     "output_type": "stream",
     "text": [
      "kfolded auc 0.7728300239014525 {'DROP': [5, 13]} {'FUNC': <function catBoostTrain at 0x7fb474529dc0>, 'ITERS': 10} {}\n"
     ]
    },
    {
     "name": "stderr",
     "output_type": "stream",
     "text": [
      "100%|███████████████████████████████████████████| 10/10 [00:00<00:00, 14.03it/s]\n"
     ]
    },
    {
     "name": "stdout",
     "output_type": "stream",
     "text": [
      "kfolded auc 0.7650944567015996 {'DROP': [5, 14]} {'FUNC': <function catBoostTrain at 0x7fb474529dc0>, 'ITERS': 10} {}\n"
     ]
    },
    {
     "name": "stderr",
     "output_type": "stream",
     "text": [
      "100%|███████████████████████████████████████████| 10/10 [00:00<00:00, 13.15it/s]\n"
     ]
    },
    {
     "name": "stdout",
     "output_type": "stream",
     "text": [
      "kfolded auc 0.7728300239014525 {'DROP': [5, 15]} {'FUNC': <function catBoostTrain at 0x7fb474529dc0>, 'ITERS': 10} {}\n"
     ]
    },
    {
     "name": "stderr",
     "output_type": "stream",
     "text": [
      "100%|███████████████████████████████████████████| 10/10 [00:00<00:00, 14.20it/s]\n"
     ]
    },
    {
     "name": "stdout",
     "output_type": "stream",
     "text": [
      "kfolded auc 0.767628010663725 {'DROP': [5, 16]} {'FUNC': <function catBoostTrain at 0x7fb474529dc0>, 'ITERS': 10} {}\n"
     ]
    },
    {
     "name": "stderr",
     "output_type": "stream",
     "text": [
      "100%|███████████████████████████████████████████| 10/10 [00:00<00:00, 13.60it/s]\n"
     ]
    },
    {
     "name": "stdout",
     "output_type": "stream",
     "text": [
      "kfolded auc 0.7753785162713734 {'DROP': [5, 17]} {'FUNC': <function catBoostTrain at 0x7fb474529dc0>, 'ITERS': 10} {}\n"
     ]
    },
    {
     "name": "stderr",
     "output_type": "stream",
     "text": [
      "100%|███████████████████████████████████████████| 10/10 [00:00<00:00, 14.03it/s]\n"
     ]
    },
    {
     "name": "stdout",
     "output_type": "stream",
     "text": [
      "kfolded auc 0.7528463412391984 {'DROP': [5, 18]} {'FUNC': <function catBoostTrain at 0x7fb474529dc0>, 'ITERS': 10} {}\n"
     ]
    },
    {
     "name": "stderr",
     "output_type": "stream",
     "text": [
      "100%|███████████████████████████████████████████| 10/10 [00:00<00:00, 13.49it/s]\n"
     ]
    },
    {
     "name": "stdout",
     "output_type": "stream",
     "text": [
      "kfolded auc 0.7615795642581358 {'DROP': [5, 19]} {'FUNC': <function catBoostTrain at 0x7fb474529dc0>, 'ITERS': 10} {}\n"
     ]
    },
    {
     "name": "stderr",
     "output_type": "stream",
     "text": [
      "100%|███████████████████████████████████████████| 10/10 [00:00<00:00, 14.19it/s]\n"
     ]
    },
    {
     "name": "stdout",
     "output_type": "stream",
     "text": [
      "kfolded auc 0.7556747563890422 {'DROP': [5, 20]} {'FUNC': <function catBoostTrain at 0x7fb474529dc0>, 'ITERS': 10} {}\n"
     ]
    },
    {
     "name": "stderr",
     "output_type": "stream",
     "text": [
      "100%|███████████████████████████████████████████| 10/10 [00:00<00:00, 13.77it/s]\n"
     ]
    },
    {
     "name": "stdout",
     "output_type": "stream",
     "text": [
      "kfolded auc 0.7570026659312373 {'DROP': [5, 21]} {'FUNC': <function catBoostTrain at 0x7fb474529dc0>, 'ITERS': 10} {}\n"
     ]
    },
    {
     "name": "stderr",
     "output_type": "stream",
     "text": [
      "100%|███████████████████████████████████████████| 10/10 [00:00<00:00, 13.02it/s]\n"
     ]
    },
    {
     "name": "stdout",
     "output_type": "stream",
     "text": [
      "kfolded auc 0.7672642029784887 {'DROP': [5, 22]} {'FUNC': <function catBoostTrain at 0x7fb474529dc0>, 'ITERS': 10} {}\n"
     ]
    },
    {
     "name": "stderr",
     "output_type": "stream",
     "text": [
      "100%|███████████████████████████████████████████| 10/10 [00:00<00:00, 14.19it/s]\n"
     ]
    },
    {
     "name": "stdout",
     "output_type": "stream",
     "text": [
      "kfolded auc 0.7557774866703438 {'DROP': [5, 23]} {'FUNC': <function catBoostTrain at 0x7fb474529dc0>, 'ITERS': 10} {}\n"
     ]
    },
    {
     "name": "stderr",
     "output_type": "stream",
     "text": [
      "100%|███████████████████████████████████████████| 10/10 [00:00<00:00, 12.49it/s]\n"
     ]
    },
    {
     "name": "stdout",
     "output_type": "stream",
     "text": [
      "kfolded auc 0.7615795642581358 {'DROP': [5, 24]} {'FUNC': <function catBoostTrain at 0x7fb474529dc0>, 'ITERS': 10} {}\n"
     ]
    },
    {
     "name": "stderr",
     "output_type": "stream",
     "text": [
      "100%|███████████████████████████████████████████| 10/10 [00:00<00:00, 14.78it/s]\n"
     ]
    },
    {
     "name": "stdout",
     "output_type": "stream",
     "text": [
      "kfolded auc 0.720387019672734 {'DROP': [5, 25]} {'FUNC': <function catBoostTrain at 0x7fb474529dc0>, 'ITERS': 10} {}\n"
     ]
    },
    {
     "name": "stderr",
     "output_type": "stream",
     "text": [
      "100%|███████████████████████████████████████████| 10/10 [00:00<00:00, 13.54it/s]\n"
     ]
    },
    {
     "name": "stdout",
     "output_type": "stream",
     "text": [
      "kfolded auc 0.7444610682110683 {'DROP': [5, 26]} {'FUNC': <function catBoostTrain at 0x7fb474529dc0>, 'ITERS': 10} {}\n"
     ]
    },
    {
     "name": "stderr",
     "output_type": "stream",
     "text": [
      "100%|███████████████████████████████████████████| 10/10 [00:05<00:00,  1.94it/s]\n"
     ]
    },
    {
     "name": "stdout",
     "output_type": "stream",
     "text": [
      "kfolded auc 0.7577499310535025 {'DROP': [5, 27]} {'FUNC': <function catBoostTrain at 0x7fb474529dc0>, 'ITERS': 10} {}\n"
     ]
    },
    {
     "name": "stderr",
     "output_type": "stream",
     "text": [
      "100%|███████████████████████████████████████████| 10/10 [00:16<00:00,  1.61s/it]\n"
     ]
    },
    {
     "name": "stdout",
     "output_type": "stream",
     "text": [
      "kfolded auc 0.7711720904578048 {'DROP': [5, 28]} {'FUNC': <function catBoostTrain at 0x7fb474529dc0>, 'ITERS': 10} {}\n"
     ]
    },
    {
     "name": "stderr",
     "output_type": "stream",
     "text": [
      "100%|███████████████████████████████████████████| 10/10 [00:10<00:00,  1.02s/it]\n"
     ]
    },
    {
     "name": "stdout",
     "output_type": "stream",
     "text": [
      "kfolded auc 0.7768955690384262 {'DROP': [5, 29]} {'FUNC': <function catBoostTrain at 0x7fb474529dc0>, 'ITERS': 10} {}\n"
     ]
    },
    {
     "name": "stderr",
     "output_type": "stream",
     "text": [
      "100%|███████████████████████████████████████████| 10/10 [00:00<00:00, 11.05it/s]\n"
     ]
    },
    {
     "name": "stdout",
     "output_type": "stream",
     "text": [
      "kfolded auc 0.7686497977569405 {'DROP': [5, 30]} {'FUNC': <function catBoostTrain at 0x7fb474529dc0>, 'ITERS': 10} {}\n"
     ]
    },
    {
     "name": "stderr",
     "output_type": "stream",
     "text": [
      "100%|███████████████████████████████████████████| 10/10 [00:00<00:00, 13.57it/s]\n"
     ]
    },
    {
     "name": "stdout",
     "output_type": "stream",
     "text": [
      "kfolded auc 0.76968250137893 {'DROP': [5, 31]} {'FUNC': <function catBoostTrain at 0x7fb474529dc0>, 'ITERS': 10} {}\n"
     ]
    },
    {
     "name": "stderr",
     "output_type": "stream",
     "text": [
      "100%|███████████████████████████████████████████| 10/10 [00:00<00:00, 14.48it/s]\n"
     ]
    },
    {
     "name": "stdout",
     "output_type": "stream",
     "text": [
      "kfolded auc 0.7673683121897408 {'DROP': [5, 32]} {'FUNC': <function catBoostTrain at 0x7fb474529dc0>, 'ITERS': 10} {}\n"
     ]
    },
    {
     "name": "stderr",
     "output_type": "stream",
     "text": [
      "100%|███████████████████████████████████████████| 10/10 [00:00<00:00, 13.37it/s]\n"
     ]
    },
    {
     "name": "stdout",
     "output_type": "stream",
     "text": [
      "kfolded auc 0.7663685879757308 {'DROP': [6]} {'FUNC': <function catBoostTrain at 0x7fb474529dc0>, 'ITERS': 10} {}\n"
     ]
    },
    {
     "name": "stderr",
     "output_type": "stream",
     "text": [
      "100%|███████████████████████████████████████████| 10/10 [00:00<00:00, 13.09it/s]\n"
     ]
    },
    {
     "name": "stdout",
     "output_type": "stream",
     "text": [
      "kfolded auc 0.7663685879757308 {'DROP': [6, 7]} {'FUNC': <function catBoostTrain at 0x7fb474529dc0>, 'ITERS': 10} {}\n"
     ]
    },
    {
     "name": "stderr",
     "output_type": "stream",
     "text": [
      "100%|███████████████████████████████████████████| 10/10 [00:00<00:00, 13.53it/s]\n"
     ]
    },
    {
     "name": "stdout",
     "output_type": "stream",
     "text": [
      "kfolded auc 0.7739039805111234 {'DROP': [6, 8]} {'FUNC': <function catBoostTrain at 0x7fb474529dc0>, 'ITERS': 10} {}\n"
     ]
    },
    {
     "name": "stderr",
     "output_type": "stream",
     "text": [
      "100%|███████████████████████████████████████████| 10/10 [00:00<00:00, 14.61it/s]\n"
     ]
    },
    {
     "name": "stdout",
     "output_type": "stream",
     "text": [
      "kfolded auc 0.7394700312557456 {'DROP': [6, 9]} {'FUNC': <function catBoostTrain at 0x7fb474529dc0>, 'ITERS': 10} {}\n"
     ]
    },
    {
     "name": "stderr",
     "output_type": "stream",
     "text": [
      "100%|███████████████████████████████████████████| 10/10 [00:00<00:00, 14.14it/s]\n"
     ]
    },
    {
     "name": "stdout",
     "output_type": "stream",
     "text": [
      "kfolded auc 0.7744594594594595 {'DROP': [6, 10]} {'FUNC': <function catBoostTrain at 0x7fb474529dc0>, 'ITERS': 10} {}\n"
     ]
    },
    {
     "name": "stderr",
     "output_type": "stream",
     "text": [
      "100%|███████████████████████████████████████████| 10/10 [00:00<00:00, 13.92it/s]\n"
     ]
    },
    {
     "name": "stdout",
     "output_type": "stream",
     "text": [
      "kfolded auc 0.7683620610406324 {'DROP': [6, 11]} {'FUNC': <function catBoostTrain at 0x7fb474529dc0>, 'ITERS': 10} {}\n"
     ]
    },
    {
     "name": "stderr",
     "output_type": "stream",
     "text": [
      "100%|███████████████████████████████████████████| 10/10 [00:00<00:00, 13.35it/s]\n"
     ]
    },
    {
     "name": "stdout",
     "output_type": "stream",
     "text": [
      "kfolded auc 0.7770410461481889 {'DROP': [6, 12]} {'FUNC': <function catBoostTrain at 0x7fb474529dc0>, 'ITERS': 10} {}\n"
     ]
    },
    {
     "name": "stderr",
     "output_type": "stream",
     "text": [
      "100%|███████████████████████████████████████████| 10/10 [00:00<00:00, 14.89it/s]\n"
     ]
    },
    {
     "name": "stdout",
     "output_type": "stream",
     "text": [
      "kfolded auc 0.7576542103327818 {'DROP': [6, 13]} {'FUNC': <function catBoostTrain at 0x7fb474529dc0>, 'ITERS': 10} {}\n"
     ]
    },
    {
     "name": "stderr",
     "output_type": "stream",
     "text": [
      "100%|███████████████████████████████████████████| 10/10 [00:00<00:00, 14.67it/s]\n"
     ]
    },
    {
     "name": "stdout",
     "output_type": "stream",
     "text": [
      "kfolded auc 0.7702953208310351 {'DROP': [6, 14]} {'FUNC': <function catBoostTrain at 0x7fb474529dc0>, 'ITERS': 10} {}\n"
     ]
    },
    {
     "name": "stderr",
     "output_type": "stream",
     "text": [
      "100%|███████████████████████████████████████████| 10/10 [00:00<00:00, 14.13it/s]\n"
     ]
    },
    {
     "name": "stdout",
     "output_type": "stream",
     "text": [
      "kfolded auc 0.7576542103327818 {'DROP': [6, 15]} {'FUNC': <function catBoostTrain at 0x7fb474529dc0>, 'ITERS': 10} {}\n"
     ]
    },
    {
     "name": "stderr",
     "output_type": "stream",
     "text": [
      "100%|███████████████████████████████████████████| 10/10 [00:00<00:00, 12.05it/s]\n"
     ]
    },
    {
     "name": "stdout",
     "output_type": "stream",
     "text": [
      "kfolded auc 0.7552369461298032 {'DROP': [6, 16]} {'FUNC': <function catBoostTrain at 0x7fb474529dc0>, 'ITERS': 10} {}\n"
     ]
    },
    {
     "name": "stderr",
     "output_type": "stream",
     "text": [
      "100%|███████████████████████████████████████████| 10/10 [00:00<00:00, 15.00it/s]\n"
     ]
    },
    {
     "name": "stdout",
     "output_type": "stream",
     "text": [
      "kfolded auc 0.7635580989152417 {'DROP': [6, 17]} {'FUNC': <function catBoostTrain at 0x7fb474529dc0>, 'ITERS': 10} {}\n"
     ]
    },
    {
     "name": "stderr",
     "output_type": "stream",
     "text": [
      "100%|███████████████████████████████████████████| 10/10 [00:00<00:00, 13.63it/s]\n"
     ]
    },
    {
     "name": "stdout",
     "output_type": "stream",
     "text": [
      "kfolded auc 0.7743139823496966 {'DROP': [6, 18]} {'FUNC': <function catBoostTrain at 0x7fb474529dc0>, 'ITERS': 10} {}\n"
     ]
    },
    {
     "name": "stderr",
     "output_type": "stream",
     "text": [
      "100%|███████████████████████████████████████████| 10/10 [00:00<00:00, 13.81it/s]\n"
     ]
    },
    {
     "name": "stdout",
     "output_type": "stream",
     "text": [
      "kfolded auc 0.7663685879757308 {'DROP': [6, 19]} {'FUNC': <function catBoostTrain at 0x7fb474529dc0>, 'ITERS': 10} {}\n"
     ]
    },
    {
     "name": "stderr",
     "output_type": "stream",
     "text": [
      "100%|███████████████████████████████████████████| 10/10 [00:00<00:00, 13.45it/s]\n"
     ]
    },
    {
     "name": "stdout",
     "output_type": "stream",
     "text": [
      "kfolded auc 0.7344020040448611 {'DROP': [6, 20]} {'FUNC': <function catBoostTrain at 0x7fb474529dc0>, 'ITERS': 10} {}\n"
     ]
    },
    {
     "name": "stderr",
     "output_type": "stream",
     "text": [
      "100%|███████████████████████████████████████████| 10/10 [00:00<00:00, 14.29it/s]\n"
     ]
    },
    {
     "name": "stdout",
     "output_type": "stream",
     "text": [
      "kfolded auc 0.7763295182938041 {'DROP': [6, 21]} {'FUNC': <function catBoostTrain at 0x7fb474529dc0>, 'ITERS': 10} {}\n"
     ]
    },
    {
     "name": "stderr",
     "output_type": "stream",
     "text": [
      "100%|███████████████████████████████████████████| 10/10 [00:00<00:00, 13.47it/s]\n"
     ]
    },
    {
     "name": "stdout",
     "output_type": "stream",
     "text": [
      "kfolded auc 0.7428137065637065 {'DROP': [6, 22]} {'FUNC': <function catBoostTrain at 0x7fb474529dc0>, 'ITERS': 10} {}\n"
     ]
    },
    {
     "name": "stderr",
     "output_type": "stream",
     "text": [
      "100%|███████████████████████████████████████████| 10/10 [00:00<00:00, 13.62it/s]\n"
     ]
    },
    {
     "name": "stdout",
     "output_type": "stream",
     "text": [
      "kfolded auc 0.7624367990439418 {'DROP': [6, 23]} {'FUNC': <function catBoostTrain at 0x7fb474529dc0>, 'ITERS': 10} {}\n"
     ]
    },
    {
     "name": "stderr",
     "output_type": "stream",
     "text": [
      "100%|███████████████████████████████████████████| 10/10 [00:00<00:00, 12.79it/s]\n"
     ]
    },
    {
     "name": "stdout",
     "output_type": "stream",
     "text": [
      "kfolded auc 0.7663685879757308 {'DROP': [6, 24]} {'FUNC': <function catBoostTrain at 0x7fb474529dc0>, 'ITERS': 10} {}\n"
     ]
    },
    {
     "name": "stderr",
     "output_type": "stream",
     "text": [
      "100%|███████████████████████████████████████████| 10/10 [00:00<00:00, 13.55it/s]\n"
     ]
    },
    {
     "name": "stdout",
     "output_type": "stream",
     "text": [
      "kfolded auc 0.6977824508181649 {'DROP': [6, 25]} {'FUNC': <function catBoostTrain at 0x7fb474529dc0>, 'ITERS': 10} {}\n"
     ]
    },
    {
     "name": "stderr",
     "output_type": "stream",
     "text": [
      "100%|███████████████████████████████████████████| 10/10 [00:00<00:00, 11.94it/s]\n"
     ]
    },
    {
     "name": "stdout",
     "output_type": "stream",
     "text": [
      "kfolded auc 0.7544447508733223 {'DROP': [6, 26]} {'FUNC': <function catBoostTrain at 0x7fb474529dc0>, 'ITERS': 10} {}\n"
     ]
    },
    {
     "name": "stderr",
     "output_type": "stream",
     "text": [
      "100%|███████████████████████████████████████████| 10/10 [00:00<00:00, 10.72it/s]\n"
     ]
    },
    {
     "name": "stdout",
     "output_type": "stream",
     "text": [
      "kfolded auc 0.745274177238463 {'DROP': [6, 27]} {'FUNC': <function catBoostTrain at 0x7fb474529dc0>, 'ITERS': 10} {}\n"
     ]
    },
    {
     "name": "stderr",
     "output_type": "stream",
     "text": [
      "100%|███████████████████████████████████████████| 10/10 [00:00<00:00, 12.57it/s]\n"
     ]
    },
    {
     "name": "stdout",
     "output_type": "stream",
     "text": [
      "kfolded auc 0.7418932708218423 {'DROP': [6, 28]} {'FUNC': <function catBoostTrain at 0x7fb474529dc0>, 'ITERS': 10} {}\n"
     ]
    },
    {
     "name": "stderr",
     "output_type": "stream",
     "text": [
      "100%|███████████████████████████████████████████| 10/10 [00:00<00:00, 11.49it/s]\n"
     ]
    },
    {
     "name": "stdout",
     "output_type": "stream",
     "text": [
      "kfolded auc 0.7481731476374333 {'DROP': [6, 29]} {'FUNC': <function catBoostTrain at 0x7fb474529dc0>, 'ITERS': 10} {}\n"
     ]
    },
    {
     "name": "stderr",
     "output_type": "stream",
     "text": [
      "100%|███████████████████████████████████████████| 10/10 [00:00<00:00, 12.25it/s]\n"
     ]
    },
    {
     "name": "stdout",
     "output_type": "stream",
     "text": [
      "kfolded auc 0.754531623460195 {'DROP': [6, 30]} {'FUNC': <function catBoostTrain at 0x7fb474529dc0>, 'ITERS': 10} {}\n"
     ]
    },
    {
     "name": "stderr",
     "output_type": "stream",
     "text": [
      "100%|███████████████████████████████████████████| 10/10 [00:00<00:00, 10.67it/s]\n"
     ]
    },
    {
     "name": "stdout",
     "output_type": "stream",
     "text": [
      "kfolded auc 0.7625137892995036 {'DROP': [6, 31]} {'FUNC': <function catBoostTrain at 0x7fb474529dc0>, 'ITERS': 10} {}\n"
     ]
    },
    {
     "name": "stderr",
     "output_type": "stream",
     "text": [
      "100%|███████████████████████████████████████████| 10/10 [00:04<00:00,  2.03it/s]\n"
     ]
    },
    {
     "name": "stdout",
     "output_type": "stream",
     "text": [
      "kfolded auc 0.7578755285898142 {'DROP': [6, 32]} {'FUNC': <function catBoostTrain at 0x7fb474529dc0>, 'ITERS': 10} {}\n"
     ]
    },
    {
     "name": "stderr",
     "output_type": "stream",
     "text": [
      "100%|███████████████████████████████████████████| 10/10 [00:05<00:00,  1.92it/s]\n"
     ]
    },
    {
     "name": "stdout",
     "output_type": "stream",
     "text": [
      "kfolded auc 0.7500981338481337 {'DROP': [7]} {'FUNC': <function catBoostTrain at 0x7fb474529dc0>, 'ITERS': 10} {}\n"
     ]
    },
    {
     "name": "stderr",
     "output_type": "stream",
     "text": [
      "100%|███████████████████████████████████████████| 10/10 [00:05<00:00,  1.77it/s]\n"
     ]
    },
    {
     "name": "stdout",
     "output_type": "stream",
     "text": [
      "kfolded auc 0.7568086964515535 {'DROP': [7, 8]} {'FUNC': <function catBoostTrain at 0x7fb474529dc0>, 'ITERS': 10} {}\n"
     ]
    },
    {
     "name": "stderr",
     "output_type": "stream",
     "text": [
      "100%|███████████████████████████████████████████| 10/10 [00:05<00:00,  1.70it/s]\n"
     ]
    },
    {
     "name": "stdout",
     "output_type": "stream",
     "text": [
      "kfolded auc 0.7949342710056995 {'DROP': [7, 9]} {'FUNC': <function catBoostTrain at 0x7fb474529dc0>, 'ITERS': 10} {}\n"
     ]
    },
    {
     "name": "stderr",
     "output_type": "stream",
     "text": [
      "100%|███████████████████████████████████████████| 10/10 [00:05<00:00,  1.91it/s]\n"
     ]
    },
    {
     "name": "stdout",
     "output_type": "stream",
     "text": [
      "kfolded auc 0.7566623000551572 {'DROP': [7, 10]} {'FUNC': <function catBoostTrain at 0x7fb474529dc0>, 'ITERS': 10} {}\n"
     ]
    },
    {
     "name": "stderr",
     "output_type": "stream",
     "text": [
      "100%|███████████████████████████████████████████| 10/10 [00:02<00:00,  4.81it/s]\n"
     ]
    },
    {
     "name": "stdout",
     "output_type": "stream",
     "text": [
      "kfolded auc 0.7518668413311271 {'DROP': [7, 11]} {'FUNC': <function catBoostTrain at 0x7fb474529dc0>, 'ITERS': 10} {}\n"
     ]
    },
    {
     "name": "stderr",
     "output_type": "stream",
     "text": [
      "100%|███████████████████████████████████████████| 10/10 [00:00<00:00, 12.68it/s]\n"
     ]
    },
    {
     "name": "stdout",
     "output_type": "stream",
     "text": [
      "kfolded auc 0.7621812373598089 {'DROP': [7, 12]} {'FUNC': <function catBoostTrain at 0x7fb474529dc0>, 'ITERS': 10} {}\n"
     ]
    },
    {
     "name": "stderr",
     "output_type": "stream",
     "text": [
      "100%|███████████████████████████████████████████| 10/10 [00:00<00:00, 14.80it/s]\n"
     ]
    },
    {
     "name": "stdout",
     "output_type": "stream",
     "text": [
      "kfolded auc 0.7663685879757308 {'DROP': [7, 13]} {'FUNC': <function catBoostTrain at 0x7fb474529dc0>, 'ITERS': 10} {}\n"
     ]
    },
    {
     "name": "stderr",
     "output_type": "stream",
     "text": [
      "100%|███████████████████████████████████████████| 10/10 [00:00<00:00, 13.68it/s]\n"
     ]
    },
    {
     "name": "stdout",
     "output_type": "stream",
     "text": [
      "kfolded auc 0.756859716859717 {'DROP': [7, 14]} {'FUNC': <function catBoostTrain at 0x7fb474529dc0>, 'ITERS': 10} {}\n"
     ]
    },
    {
     "name": "stderr",
     "output_type": "stream",
     "text": [
      "100%|███████████████████████████████████████████| 10/10 [00:00<00:00, 14.19it/s]\n"
     ]
    },
    {
     "name": "stdout",
     "output_type": "stream",
     "text": [
      "kfolded auc 0.7663685879757308 {'DROP': [7, 15]} {'FUNC': <function catBoostTrain at 0x7fb474529dc0>, 'ITERS': 10} {}\n"
     ]
    },
    {
     "name": "stderr",
     "output_type": "stream",
     "text": [
      "100%|███████████████████████████████████████████| 10/10 [00:00<00:00, 14.98it/s]\n"
     ]
    },
    {
     "name": "stdout",
     "output_type": "stream",
     "text": [
      "kfolded auc 0.7704658485015627 {'DROP': [7, 16]} {'FUNC': <function catBoostTrain at 0x7fb474529dc0>, 'ITERS': 10} {}\n"
     ]
    },
    {
     "name": "stderr",
     "output_type": "stream",
     "text": [
      "100%|███████████████████████████████████████████| 10/10 [00:00<00:00, 15.21it/s]\n"
     ]
    },
    {
     "name": "stdout",
     "output_type": "stream",
     "text": [
      "kfolded auc 0.7686394557823129 {'DROP': [7, 17]} {'FUNC': <function catBoostTrain at 0x7fb474529dc0>, 'ITERS': 10} {}\n"
     ]
    },
    {
     "name": "stderr",
     "output_type": "stream",
     "text": [
      "100%|███████████████████████████████████████████| 10/10 [00:00<00:00, 13.61it/s]\n"
     ]
    },
    {
     "name": "stdout",
     "output_type": "stream",
     "text": [
      "kfolded auc 0.7735711987497702 {'DROP': [7, 18]} {'FUNC': <function catBoostTrain at 0x7fb474529dc0>, 'ITERS': 10} {}\n"
     ]
    },
    {
     "name": "stderr",
     "output_type": "stream",
     "text": [
      "100%|███████████████████████████████████████████| 10/10 [00:00<00:00, 13.44it/s]\n"
     ]
    },
    {
     "name": "stdout",
     "output_type": "stream",
     "text": [
      "kfolded auc 0.7500981338481337 {'DROP': [7, 19]} {'FUNC': <function catBoostTrain at 0x7fb474529dc0>, 'ITERS': 10} {}\n"
     ]
    },
    {
     "name": "stderr",
     "output_type": "stream",
     "text": [
      "100%|███████████████████████████████████████████| 10/10 [00:00<00:00, 13.17it/s]\n"
     ]
    },
    {
     "name": "stdout",
     "output_type": "stream",
     "text": [
      "kfolded auc 0.7845084114726971 {'DROP': [7, 20]} {'FUNC': <function catBoostTrain at 0x7fb474529dc0>, 'ITERS': 10} {}\n"
     ]
    },
    {
     "name": "stderr",
     "output_type": "stream",
     "text": [
      "100%|███████████████████████████████████████████| 10/10 [00:00<00:00, 14.88it/s]\n"
     ]
    },
    {
     "name": "stdout",
     "output_type": "stream",
     "text": [
      "kfolded auc 0.77845536863394 {'DROP': [7, 21]} {'FUNC': <function catBoostTrain at 0x7fb474529dc0>, 'ITERS': 10} {}\n"
     ]
    },
    {
     "name": "stderr",
     "output_type": "stream",
     "text": [
      "100%|███████████████████████████████████████████| 10/10 [00:00<00:00, 13.69it/s]\n"
     ]
    },
    {
     "name": "stdout",
     "output_type": "stream",
     "text": [
      "kfolded auc 0.7917105626034198 {'DROP': [7, 22]} {'FUNC': <function catBoostTrain at 0x7fb474529dc0>, 'ITERS': 10} {}\n"
     ]
    },
    {
     "name": "stderr",
     "output_type": "stream",
     "text": [
      "100%|███████████████████████████████████████████| 10/10 [00:00<00:00, 13.69it/s]\n"
     ]
    },
    {
     "name": "stdout",
     "output_type": "stream",
     "text": [
      "kfolded auc 0.7754274682846112 {'DROP': [7, 23]} {'FUNC': <function catBoostTrain at 0x7fb474529dc0>, 'ITERS': 10} {}\n"
     ]
    },
    {
     "name": "stderr",
     "output_type": "stream",
     "text": [
      "100%|███████████████████████████████████████████| 10/10 [00:00<00:00, 13.32it/s]\n"
     ]
    },
    {
     "name": "stdout",
     "output_type": "stream",
     "text": [
      "kfolded auc 0.7500981338481337 {'DROP': [7, 24]} {'FUNC': <function catBoostTrain at 0x7fb474529dc0>, 'ITERS': 10} {}\n"
     ]
    },
    {
     "name": "stderr",
     "output_type": "stream",
     "text": [
      "100%|███████████████████████████████████████████| 10/10 [00:00<00:00, 13.99it/s]\n"
     ]
    },
    {
     "name": "stdout",
     "output_type": "stream",
     "text": [
      "kfolded auc 0.7159896120610407 {'DROP': [7, 25]} {'FUNC': <function catBoostTrain at 0x7fb474529dc0>, 'ITERS': 10} {}\n"
     ]
    },
    {
     "name": "stderr",
     "output_type": "stream",
     "text": [
      "100%|███████████████████████████████████████████| 10/10 [00:00<00:00, 13.52it/s]\n"
     ]
    },
    {
     "name": "stdout",
     "output_type": "stream",
     "text": [
      "kfolded auc 0.7330014708586138 {'DROP': [7, 26]} {'FUNC': <function catBoostTrain at 0x7fb474529dc0>, 'ITERS': 10} {}\n"
     ]
    },
    {
     "name": "stderr",
     "output_type": "stream",
     "text": [
      "100%|███████████████████████████████████████████| 10/10 [00:00<00:00, 13.55it/s]\n"
     ]
    },
    {
     "name": "stdout",
     "output_type": "stream",
     "text": [
      "kfolded auc 0.7293496047067475 {'DROP': [7, 27]} {'FUNC': <function catBoostTrain at 0x7fb474529dc0>, 'ITERS': 10} {}\n"
     ]
    },
    {
     "name": "stderr",
     "output_type": "stream",
     "text": [
      "100%|███████████████████████████████████████████| 10/10 [00:00<00:00, 12.86it/s]\n"
     ]
    },
    {
     "name": "stdout",
     "output_type": "stream",
     "text": [
      "kfolded auc 0.7329633204633204 {'DROP': [7, 28]} {'FUNC': <function catBoostTrain at 0x7fb474529dc0>, 'ITERS': 10} {}\n"
     ]
    },
    {
     "name": "stderr",
     "output_type": "stream",
     "text": [
      "100%|███████████████████████████████████████████| 10/10 [00:00<00:00, 13.48it/s]\n"
     ]
    },
    {
     "name": "stdout",
     "output_type": "stream",
     "text": [
      "kfolded auc 0.7315671538885825 {'DROP': [7, 29]} {'FUNC': <function catBoostTrain at 0x7fb474529dc0>, 'ITERS': 10} {}\n"
     ]
    },
    {
     "name": "stderr",
     "output_type": "stream",
     "text": [
      "100%|███████████████████████████████████████████| 10/10 [00:00<00:00, 14.15it/s]\n"
     ]
    },
    {
     "name": "stdout",
     "output_type": "stream",
     "text": [
      "kfolded auc 0.7323494668137526 {'DROP': [7, 30]} {'FUNC': <function catBoostTrain at 0x7fb474529dc0>, 'ITERS': 10} {}\n"
     ]
    },
    {
     "name": "stderr",
     "output_type": "stream",
     "text": [
      "100%|███████████████████████████████████████████| 10/10 [00:00<00:00, 13.15it/s]\n"
     ]
    },
    {
     "name": "stdout",
     "output_type": "stream",
     "text": [
      "kfolded auc 0.7219201599558742 {'DROP': [7, 31]} {'FUNC': <function catBoostTrain at 0x7fb474529dc0>, 'ITERS': 10} {}\n"
     ]
    },
    {
     "name": "stderr",
     "output_type": "stream",
     "text": [
      "100%|███████████████████████████████████████████| 10/10 [00:00<00:00, 13.61it/s]\n"
     ]
    },
    {
     "name": "stdout",
     "output_type": "stream",
     "text": [
      "kfolded auc 0.7186982901268616 {'DROP': [7, 32]} {'FUNC': <function catBoostTrain at 0x7fb474529dc0>, 'ITERS': 10} {}\n"
     ]
    },
    {
     "name": "stderr",
     "output_type": "stream",
     "text": [
      "100%|███████████████████████████████████████████| 10/10 [00:00<00:00, 14.15it/s]\n"
     ]
    },
    {
     "name": "stdout",
     "output_type": "stream",
     "text": [
      "kfolded auc 0.7568086964515535 {'DROP': [8]} {'FUNC': <function catBoostTrain at 0x7fb474529dc0>, 'ITERS': 10} {}\n"
     ]
    },
    {
     "name": "stderr",
     "output_type": "stream",
     "text": [
      "100%|███████████████████████████████████████████| 10/10 [00:00<00:00, 14.39it/s]\n"
     ]
    },
    {
     "name": "stdout",
     "output_type": "stream",
     "text": [
      "kfolded auc 0.7638416988416988 {'DROP': [8, 9]} {'FUNC': <function catBoostTrain at 0x7fb474529dc0>, 'ITERS': 10} {}\n"
     ]
    },
    {
     "name": "stderr",
     "output_type": "stream",
     "text": [
      "100%|███████████████████████████████████████████| 10/10 [00:00<00:00, 13.78it/s]\n"
     ]
    },
    {
     "name": "stdout",
     "output_type": "stream",
     "text": [
      "kfolded auc 0.7635151222651222 {'DROP': [8, 10]} {'FUNC': <function catBoostTrain at 0x7fb474529dc0>, 'ITERS': 10} {}\n"
     ]
    },
    {
     "name": "stderr",
     "output_type": "stream",
     "text": [
      "100%|███████████████████████████████████████████| 10/10 [00:00<00:00, 13.80it/s]\n"
     ]
    },
    {
     "name": "stdout",
     "output_type": "stream",
     "text": [
      "kfolded auc 0.7688081448795735 {'DROP': [8, 11]} {'FUNC': <function catBoostTrain at 0x7fb474529dc0>, 'ITERS': 10} {}\n"
     ]
    },
    {
     "name": "stderr",
     "output_type": "stream",
     "text": [
      "100%|███████████████████████████████████████████| 10/10 [00:00<00:00, 14.10it/s]\n"
     ]
    },
    {
     "name": "stdout",
     "output_type": "stream",
     "text": [
      "kfolded auc 0.7690699117484832 {'DROP': [8, 12]} {'FUNC': <function catBoostTrain at 0x7fb474529dc0>, 'ITERS': 10} {}\n"
     ]
    },
    {
     "name": "stderr",
     "output_type": "stream",
     "text": [
      "100%|███████████████████████████████████████████| 10/10 [00:00<00:00, 13.71it/s]\n"
     ]
    },
    {
     "name": "stdout",
     "output_type": "stream",
     "text": [
      "kfolded auc 0.7739039805111234 {'DROP': [8, 13]} {'FUNC': <function catBoostTrain at 0x7fb474529dc0>, 'ITERS': 10} {}\n"
     ]
    },
    {
     "name": "stderr",
     "output_type": "stream",
     "text": [
      "100%|███████████████████████████████████████████| 10/10 [00:00<00:00, 13.74it/s]\n"
     ]
    },
    {
     "name": "stdout",
     "output_type": "stream",
     "text": [
      "kfolded auc 0.7587252941717227 {'DROP': [8, 14]} {'FUNC': <function catBoostTrain at 0x7fb474529dc0>, 'ITERS': 10} {}\n"
     ]
    },
    {
     "name": "stderr",
     "output_type": "stream",
     "text": [
      "100%|███████████████████████████████████████████| 10/10 [00:00<00:00, 14.53it/s]\n"
     ]
    },
    {
     "name": "stdout",
     "output_type": "stream",
     "text": [
      "kfolded auc 0.7739039805111234 {'DROP': [8, 15]} {'FUNC': <function catBoostTrain at 0x7fb474529dc0>, 'ITERS': 10} {}\n"
     ]
    },
    {
     "name": "stderr",
     "output_type": "stream",
     "text": [
      "100%|███████████████████████████████████████████| 10/10 [00:00<00:00, 14.73it/s]\n"
     ]
    },
    {
     "name": "stdout",
     "output_type": "stream",
     "text": [
      "kfolded auc 0.7653915011950726 {'DROP': [8, 16]} {'FUNC': <function catBoostTrain at 0x7fb474529dc0>, 'ITERS': 10} {}\n"
     ]
    },
    {
     "name": "stderr",
     "output_type": "stream",
     "text": [
      "100%|███████████████████████████████████████████| 10/10 [00:00<00:00, 14.03it/s]\n"
     ]
    },
    {
     "name": "stdout",
     "output_type": "stream",
     "text": [
      "kfolded auc 0.7600273487773487 {'DROP': [8, 17]} {'FUNC': <function catBoostTrain at 0x7fb474529dc0>, 'ITERS': 10} {}\n"
     ]
    },
    {
     "name": "stderr",
     "output_type": "stream",
     "text": [
      "100%|███████████████████████████████████████████| 10/10 [00:00<00:00, 14.00it/s]\n"
     ]
    },
    {
     "name": "stdout",
     "output_type": "stream",
     "text": [
      "kfolded auc 0.7483733223018938 {'DROP': [8, 18]} {'FUNC': <function catBoostTrain at 0x7fb474529dc0>, 'ITERS': 10} {}\n"
     ]
    },
    {
     "name": "stderr",
     "output_type": "stream",
     "text": [
      "100%|███████████████████████████████████████████| 10/10 [00:00<00:00, 12.22it/s]\n"
     ]
    },
    {
     "name": "stdout",
     "output_type": "stream",
     "text": [
      "kfolded auc 0.7568086964515535 {'DROP': [8, 19]} {'FUNC': <function catBoostTrain at 0x7fb474529dc0>, 'ITERS': 10} {}\n"
     ]
    },
    {
     "name": "stderr",
     "output_type": "stream",
     "text": [
      "100%|███████████████████████████████████████████| 10/10 [00:00<00:00, 11.82it/s]\n"
     ]
    },
    {
     "name": "stdout",
     "output_type": "stream",
     "text": [
      "kfolded auc 0.7548434914506343 {'DROP': [8, 20]} {'FUNC': <function catBoostTrain at 0x7fb474529dc0>, 'ITERS': 10} {}\n"
     ]
    },
    {
     "name": "stderr",
     "output_type": "stream",
     "text": [
      "100%|███████████████████████████████████████████| 10/10 [00:00<00:00, 12.67it/s]\n"
     ]
    },
    {
     "name": "stdout",
     "output_type": "stream",
     "text": [
      "kfolded auc 0.7518005377826806 {'DROP': [8, 21]} {'FUNC': <function catBoostTrain at 0x7fb474529dc0>, 'ITERS': 10} {}\n"
     ]
    },
    {
     "name": "stderr",
     "output_type": "stream",
     "text": [
      "100%|███████████████████████████████████████████| 10/10 [00:00<00:00, 11.76it/s]\n"
     ]
    },
    {
     "name": "stdout",
     "output_type": "stream",
     "text": [
      "kfolded auc 0.764584942084942 {'DROP': [8, 22]} {'FUNC': <function catBoostTrain at 0x7fb474529dc0>, 'ITERS': 10} {}\n"
     ]
    },
    {
     "name": "stderr",
     "output_type": "stream",
     "text": [
      "100%|███████████████████████████████████████████| 10/10 [00:00<00:00, 13.67it/s]\n"
     ]
    },
    {
     "name": "stdout",
     "output_type": "stream",
     "text": [
      "kfolded auc 0.7556285622357051 {'DROP': [8, 23]} {'FUNC': <function catBoostTrain at 0x7fb474529dc0>, 'ITERS': 10} {}\n"
     ]
    },
    {
     "name": "stderr",
     "output_type": "stream",
     "text": [
      "100%|███████████████████████████████████████████| 10/10 [00:00<00:00, 12.49it/s]\n"
     ]
    },
    {
     "name": "stdout",
     "output_type": "stream",
     "text": [
      "kfolded auc 0.7568086964515535 {'DROP': [8, 24]} {'FUNC': <function catBoostTrain at 0x7fb474529dc0>, 'ITERS': 10} {}\n"
     ]
    },
    {
     "name": "stderr",
     "output_type": "stream",
     "text": [
      "100%|███████████████████████████████████████████| 10/10 [00:00<00:00, 11.52it/s]\n"
     ]
    },
    {
     "name": "stdout",
     "output_type": "stream",
     "text": [
      "kfolded auc 0.7230917907703622 {'DROP': [8, 25]} {'FUNC': <function catBoostTrain at 0x7fb474529dc0>, 'ITERS': 10} {}\n"
     ]
    },
    {
     "name": "stderr",
     "output_type": "stream",
     "text": [
      "100%|███████████████████████████████████████████| 10/10 [00:00<00:00, 12.64it/s]\n"
     ]
    },
    {
     "name": "stdout",
     "output_type": "stream",
     "text": [
      "kfolded auc 0.7551622540908255 {'DROP': [8, 26]} {'FUNC': <function catBoostTrain at 0x7fb474529dc0>, 'ITERS': 10} {}\n"
     ]
    },
    {
     "name": "stderr",
     "output_type": "stream",
     "text": [
      "100%|███████████████████████████████████████████| 10/10 [00:00<00:00, 12.49it/s]\n"
     ]
    },
    {
     "name": "stdout",
     "output_type": "stream",
     "text": [
      "kfolded auc 0.7743226006618864 {'DROP': [8, 27]} {'FUNC': <function catBoostTrain at 0x7fb474529dc0>, 'ITERS': 10} {}\n"
     ]
    },
    {
     "name": "stderr",
     "output_type": "stream",
     "text": [
      "100%|███████████████████████████████████████████| 10/10 [00:00<00:00, 11.48it/s]\n"
     ]
    },
    {
     "name": "stdout",
     "output_type": "stream",
     "text": [
      "kfolded auc 0.7733457437028866 {'DROP': [8, 28]} {'FUNC': <function catBoostTrain at 0x7fb474529dc0>, 'ITERS': 10} {}\n"
     ]
    },
    {
     "name": "stderr",
     "output_type": "stream",
     "text": [
      "100%|███████████████████████████████████████████| 10/10 [00:00<00:00, 11.39it/s]\n"
     ]
    },
    {
     "name": "stdout",
     "output_type": "stream",
     "text": [
      "kfolded auc 0.7731074186431328 {'DROP': [8, 29]} {'FUNC': <function catBoostTrain at 0x7fb474529dc0>, 'ITERS': 10} {}\n"
     ]
    },
    {
     "name": "stderr",
     "output_type": "stream",
     "text": [
      "100%|███████████████████████████████████████████| 10/10 [00:00<00:00, 12.38it/s]\n"
     ]
    },
    {
     "name": "stdout",
     "output_type": "stream",
     "text": [
      "kfolded auc 0.7710948703805847 {'DROP': [8, 30]} {'FUNC': <function catBoostTrain at 0x7fb474529dc0>, 'ITERS': 10} {}\n"
     ]
    },
    {
     "name": "stderr",
     "output_type": "stream",
     "text": [
      "100%|███████████████████████████████████████████| 10/10 [00:00<00:00, 11.64it/s]\n"
     ]
    },
    {
     "name": "stdout",
     "output_type": "stream",
     "text": [
      "kfolded auc 0.767199508181651 {'DROP': [8, 31]} {'FUNC': <function catBoostTrain at 0x7fb474529dc0>, 'ITERS': 10} {}\n"
     ]
    },
    {
     "name": "stderr",
     "output_type": "stream",
     "text": [
      "100%|███████████████████████████████████████████| 10/10 [00:00<00:00, 11.62it/s]\n"
     ]
    },
    {
     "name": "stdout",
     "output_type": "stream",
     "text": [
      "kfolded auc 0.7646150487221917 {'DROP': [8, 32]} {'FUNC': <function catBoostTrain at 0x7fb474529dc0>, 'ITERS': 10} {}\n"
     ]
    },
    {
     "name": "stderr",
     "output_type": "stream",
     "text": [
      "100%|███████████████████████████████████████████| 10/10 [00:00<00:00, 12.29it/s]\n"
     ]
    },
    {
     "name": "stdout",
     "output_type": "stream",
     "text": [
      "kfolded auc 0.7949342710056995 {'DROP': [9]} {'FUNC': <function catBoostTrain at 0x7fb474529dc0>, 'ITERS': 10} {}\n"
     ]
    },
    {
     "name": "stderr",
     "output_type": "stream",
     "text": [
      "100%|███████████████████████████████████████████| 10/10 [00:00<00:00, 11.92it/s]\n"
     ]
    },
    {
     "name": "stdout",
     "output_type": "stream",
     "text": [
      "kfolded auc 0.7646437764294907 {'DROP': [9, 10]} {'FUNC': <function catBoostTrain at 0x7fb474529dc0>, 'ITERS': 10} {}\n"
     ]
    },
    {
     "name": "stderr",
     "output_type": "stream",
     "text": [
      "100%|███████████████████████████████████████████| 10/10 [00:00<00:00, 11.94it/s]\n"
     ]
    },
    {
     "name": "stdout",
     "output_type": "stream",
     "text": [
      "kfolded auc 0.7447598363669792 {'DROP': [9, 11]} {'FUNC': <function catBoostTrain at 0x7fb474529dc0>, 'ITERS': 10} {}\n"
     ]
    },
    {
     "name": "stderr",
     "output_type": "stream",
     "text": [
      "100%|███████████████████████████████████████████| 10/10 [00:00<00:00, 11.67it/s]\n"
     ]
    },
    {
     "name": "stdout",
     "output_type": "stream",
     "text": [
      "kfolded auc 0.7572262824048538 {'DROP': [9, 12]} {'FUNC': <function catBoostTrain at 0x7fb474529dc0>, 'ITERS': 10} {}\n"
     ]
    },
    {
     "name": "stderr",
     "output_type": "stream",
     "text": [
      "100%|███████████████████████████████████████████| 10/10 [00:00<00:00, 11.38it/s]\n"
     ]
    },
    {
     "name": "stdout",
     "output_type": "stream",
     "text": [
      "kfolded auc 0.7394700312557456 {'DROP': [9, 13]} {'FUNC': <function catBoostTrain at 0x7fb474529dc0>, 'ITERS': 10} {}\n"
     ]
    },
    {
     "name": "stderr",
     "output_type": "stream",
     "text": [
      "100%|███████████████████████████████████████████| 10/10 [00:00<00:00, 12.91it/s]\n"
     ]
    },
    {
     "name": "stdout",
     "output_type": "stream",
     "text": [
      "kfolded auc 0.7661304927376356 {'DROP': [9, 14]} {'FUNC': <function catBoostTrain at 0x7fb474529dc0>, 'ITERS': 10} {}\n"
     ]
    },
    {
     "name": "stderr",
     "output_type": "stream",
     "text": [
      "100%|███████████████████████████████████████████| 10/10 [00:00<00:00, 11.94it/s]\n"
     ]
    },
    {
     "name": "stdout",
     "output_type": "stream",
     "text": [
      "kfolded auc 0.7394700312557456 {'DROP': [9, 15]} {'FUNC': <function catBoostTrain at 0x7fb474529dc0>, 'ITERS': 10} {}\n"
     ]
    },
    {
     "name": "stderr",
     "output_type": "stream",
     "text": [
      "100%|███████████████████████████████████████████| 10/10 [00:00<00:00, 11.82it/s]\n"
     ]
    },
    {
     "name": "stdout",
     "output_type": "stream",
     "text": [
      "kfolded auc 0.7584158393086964 {'DROP': [9, 16]} {'FUNC': <function catBoostTrain at 0x7fb474529dc0>, 'ITERS': 10} {}\n"
     ]
    },
    {
     "name": "stderr",
     "output_type": "stream",
     "text": [
      "100%|███████████████████████████████████████████| 10/10 [00:00<00:00, 12.91it/s]\n"
     ]
    },
    {
     "name": "stdout",
     "output_type": "stream",
     "text": [
      "kfolded auc 0.7516310443096159 {'DROP': [9, 17]} {'FUNC': <function catBoostTrain at 0x7fb474529dc0>, 'ITERS': 10} {}\n"
     ]
    },
    {
     "name": "stderr",
     "output_type": "stream",
     "text": [
      "100%|███████████████████████████████████████████| 10/10 [00:00<00:00, 12.63it/s]\n"
     ]
    },
    {
     "name": "stdout",
     "output_type": "stream",
     "text": [
      "kfolded auc 0.7603320922963779 {'DROP': [9, 18]} {'FUNC': <function catBoostTrain at 0x7fb474529dc0>, 'ITERS': 10} {}\n"
     ]
    },
    {
     "name": "stderr",
     "output_type": "stream",
     "text": [
      "100%|███████████████████████████████████████████| 10/10 [00:00<00:00, 11.79it/s]\n"
     ]
    },
    {
     "name": "stdout",
     "output_type": "stream",
     "text": [
      "kfolded auc 0.7949342710056995 {'DROP': [9, 19]} {'FUNC': <function catBoostTrain at 0x7fb474529dc0>, 'ITERS': 10} {}\n"
     ]
    },
    {
     "name": "stderr",
     "output_type": "stream",
     "text": [
      "100%|███████████████████████████████████████████| 10/10 [00:00<00:00, 12.61it/s]\n"
     ]
    },
    {
     "name": "stdout",
     "output_type": "stream",
     "text": [
      "kfolded auc 0.7348777348777349 {'DROP': [9, 20]} {'FUNC': <function catBoostTrain at 0x7fb474529dc0>, 'ITERS': 10} {}\n"
     ]
    },
    {
     "name": "stderr",
     "output_type": "stream",
     "text": [
      "100%|███████████████████████████████████████████| 10/10 [00:00<00:00, 12.99it/s]\n"
     ]
    },
    {
     "name": "stdout",
     "output_type": "stream",
     "text": [
      "kfolded auc 0.7738405497334068 {'DROP': [9, 21]} {'FUNC': <function catBoostTrain at 0x7fb474529dc0>, 'ITERS': 10} {}\n"
     ]
    },
    {
     "name": "stderr",
     "output_type": "stream",
     "text": [
      "100%|███████████████████████████████████████████| 10/10 [00:00<00:00, 12.81it/s]\n"
     ]
    },
    {
     "name": "stdout",
     "output_type": "stream",
     "text": [
      "kfolded auc 0.7731398234969664 {'DROP': [9, 22]} {'FUNC': <function catBoostTrain at 0x7fb474529dc0>, 'ITERS': 10} {}\n"
     ]
    },
    {
     "name": "stderr",
     "output_type": "stream",
     "text": [
      "100%|███████████████████████████████████████████| 10/10 [00:00<00:00, 11.07it/s]\n"
     ]
    },
    {
     "name": "stdout",
     "output_type": "stream",
     "text": [
      "kfolded auc 0.7609622632836919 {'DROP': [9, 23]} {'FUNC': <function catBoostTrain at 0x7fb474529dc0>, 'ITERS': 10} {}\n"
     ]
    },
    {
     "name": "stderr",
     "output_type": "stream",
     "text": [
      "100%|███████████████████████████████████████████| 10/10 [00:00<00:00, 12.63it/s]\n"
     ]
    },
    {
     "name": "stdout",
     "output_type": "stream",
     "text": [
      "kfolded auc 0.7949342710056995 {'DROP': [9, 24]} {'FUNC': <function catBoostTrain at 0x7fb474529dc0>, 'ITERS': 10} {}\n"
     ]
    },
    {
     "name": "stderr",
     "output_type": "stream",
     "text": [
      "100%|███████████████████████████████████████████| 10/10 [00:00<00:00, 11.57it/s]\n"
     ]
    },
    {
     "name": "stdout",
     "output_type": "stream",
     "text": [
      "kfolded auc 0.7136548538334252 {'DROP': [9, 25]} {'FUNC': <function catBoostTrain at 0x7fb474529dc0>, 'ITERS': 10} {}\n"
     ]
    },
    {
     "name": "stderr",
     "output_type": "stream",
     "text": [
      "100%|███████████████████████████████████████████| 10/10 [00:00<00:00, 12.77it/s]\n"
     ]
    },
    {
     "name": "stdout",
     "output_type": "stream",
     "text": [
      "kfolded auc 0.7577670527670527 {'DROP': [9, 26]} {'FUNC': <function catBoostTrain at 0x7fb474529dc0>, 'ITERS': 10} {}\n"
     ]
    },
    {
     "name": "stderr",
     "output_type": "stream",
     "text": [
      "100%|███████████████████████████████████████████| 10/10 [00:00<00:00, 12.20it/s]\n"
     ]
    },
    {
     "name": "stdout",
     "output_type": "stream",
     "text": [
      "kfolded auc 0.7579644695716125 {'DROP': [9, 27]} {'FUNC': <function catBoostTrain at 0x7fb474529dc0>, 'ITERS': 10} {}\n"
     ]
    },
    {
     "name": "stderr",
     "output_type": "stream",
     "text": [
      "100%|███████████████████████████████████████████| 10/10 [00:00<00:00, 12.12it/s]\n"
     ]
    },
    {
     "name": "stdout",
     "output_type": "stream",
     "text": [
      "kfolded auc 0.7591944750873322 {'DROP': [9, 28]} {'FUNC': <function catBoostTrain at 0x7fb474529dc0>, 'ITERS': 10} {}\n"
     ]
    },
    {
     "name": "stderr",
     "output_type": "stream",
     "text": [
      "100%|███████████████████████████████████████████| 10/10 [00:00<00:00, 10.89it/s]\n"
     ]
    },
    {
     "name": "stdout",
     "output_type": "stream",
     "text": [
      "kfolded auc 0.7582487589630446 {'DROP': [9, 29]} {'FUNC': <function catBoostTrain at 0x7fb474529dc0>, 'ITERS': 10} {}\n"
     ]
    },
    {
     "name": "stderr",
     "output_type": "stream",
     "text": [
      "100%|███████████████████████████████████████████| 10/10 [00:00<00:00, 13.45it/s]\n"
     ]
    },
    {
     "name": "stdout",
     "output_type": "stream",
     "text": [
      "kfolded auc 0.7692978948336091 {'DROP': [9, 30]} {'FUNC': <function catBoostTrain at 0x7fb474529dc0>, 'ITERS': 10} {}\n"
     ]
    },
    {
     "name": "stderr",
     "output_type": "stream",
     "text": [
      "100%|███████████████████████████████████████████| 10/10 [00:00<00:00, 11.62it/s]\n"
     ]
    },
    {
     "name": "stdout",
     "output_type": "stream",
     "text": [
      "kfolded auc 0.7703801250229823 {'DROP': [9, 31]} {'FUNC': <function catBoostTrain at 0x7fb474529dc0>, 'ITERS': 10} {}\n"
     ]
    },
    {
     "name": "stderr",
     "output_type": "stream",
     "text": [
      "100%|███████████████████████████████████████████| 10/10 [00:00<00:00, 11.91it/s]\n"
     ]
    },
    {
     "name": "stdout",
     "output_type": "stream",
     "text": [
      "kfolded auc 0.7636504872219159 {'DROP': [9, 32]} {'FUNC': <function catBoostTrain at 0x7fb474529dc0>, 'ITERS': 10} {}\n"
     ]
    },
    {
     "name": "stderr",
     "output_type": "stream",
     "text": [
      "100%|███████████████████████████████████████████| 10/10 [00:00<00:00, 12.41it/s]\n"
     ]
    },
    {
     "name": "stdout",
     "output_type": "stream",
     "text": [
      "kfolded auc 0.7566623000551572 {'DROP': [10]} {'FUNC': <function catBoostTrain at 0x7fb474529dc0>, 'ITERS': 10} {}\n"
     ]
    },
    {
     "name": "stderr",
     "output_type": "stream",
     "text": [
      "100%|███████████████████████████████████████████| 10/10 [00:00<00:00, 13.22it/s]\n"
     ]
    },
    {
     "name": "stdout",
     "output_type": "stream",
     "text": [
      "kfolded auc 0.7603199117484831 {'DROP': [10, 11]} {'FUNC': <function catBoostTrain at 0x7fb474529dc0>, 'ITERS': 10} {}\n"
     ]
    },
    {
     "name": "stderr",
     "output_type": "stream",
     "text": [
      "100%|███████████████████████████████████████████| 10/10 [00:00<00:00, 11.60it/s]\n"
     ]
    },
    {
     "name": "stdout",
     "output_type": "stream",
     "text": [
      "kfolded auc 0.7876827082184226 {'DROP': [10, 12]} {'FUNC': <function catBoostTrain at 0x7fb474529dc0>, 'ITERS': 10} {}\n"
     ]
    },
    {
     "name": "stderr",
     "output_type": "stream",
     "text": [
      "100%|███████████████████████████████████████████| 10/10 [00:00<00:00, 12.78it/s]\n"
     ]
    },
    {
     "name": "stdout",
     "output_type": "stream",
     "text": [
      "kfolded auc 0.7744594594594595 {'DROP': [10, 13]} {'FUNC': <function catBoostTrain at 0x7fb474529dc0>, 'ITERS': 10} {}\n"
     ]
    },
    {
     "name": "stderr",
     "output_type": "stream",
     "text": [
      "100%|███████████████████████████████████████████| 10/10 [00:00<00:00, 13.66it/s]\n"
     ]
    },
    {
     "name": "stdout",
     "output_type": "stream",
     "text": [
      "kfolded auc 0.7667497471961757 {'DROP': [10, 14]} {'FUNC': <function catBoostTrain at 0x7fb474529dc0>, 'ITERS': 10} {}\n"
     ]
    },
    {
     "name": "stderr",
     "output_type": "stream",
     "text": [
      "100%|███████████████████████████████████████████| 10/10 [00:00<00:00, 12.81it/s]\n"
     ]
    },
    {
     "name": "stdout",
     "output_type": "stream",
     "text": [
      "kfolded auc 0.7744594594594595 {'DROP': [10, 15]} {'FUNC': <function catBoostTrain at 0x7fb474529dc0>, 'ITERS': 10} {}\n"
     ]
    },
    {
     "name": "stderr",
     "output_type": "stream",
     "text": [
      "100%|███████████████████████████████████████████| 10/10 [00:00<00:00, 12.97it/s]\n"
     ]
    },
    {
     "name": "stdout",
     "output_type": "stream",
     "text": [
      "kfolded auc 0.7669326852362568 {'DROP': [10, 16]} {'FUNC': <function catBoostTrain at 0x7fb474529dc0>, 'ITERS': 10} {}\n"
     ]
    },
    {
     "name": "stderr",
     "output_type": "stream",
     "text": [
      "100%|███████████████████████████████████████████| 10/10 [00:00<00:00, 13.32it/s]\n"
     ]
    },
    {
     "name": "stdout",
     "output_type": "stream",
     "text": [
      "kfolded auc 0.7649539207574921 {'DROP': [10, 17]} {'FUNC': <function catBoostTrain at 0x7fb474529dc0>, 'ITERS': 10} {}\n"
     ]
    },
    {
     "name": "stderr",
     "output_type": "stream",
     "text": [
      "100%|███████████████████████████████████████████| 10/10 [00:00<00:00, 13.84it/s]\n"
     ]
    },
    {
     "name": "stdout",
     "output_type": "stream",
     "text": [
      "kfolded auc 0.7512713734142304 {'DROP': [10, 18]} {'FUNC': <function catBoostTrain at 0x7fb474529dc0>, 'ITERS': 10} {}\n"
     ]
    },
    {
     "name": "stderr",
     "output_type": "stream",
     "text": [
      "100%|███████████████████████████████████████████| 10/10 [00:00<00:00, 12.38it/s]\n"
     ]
    },
    {
     "name": "stdout",
     "output_type": "stream",
     "text": [
      "kfolded auc 0.7566623000551572 {'DROP': [10, 19]} {'FUNC': <function catBoostTrain at 0x7fb474529dc0>, 'ITERS': 10} {}\n"
     ]
    },
    {
     "name": "stderr",
     "output_type": "stream",
     "text": [
      "100%|███████████████████████████████████████████| 10/10 [00:00<00:00, 11.80it/s]\n"
     ]
    },
    {
     "name": "stdout",
     "output_type": "stream",
     "text": [
      "kfolded auc 0.7513954771097628 {'DROP': [10, 20]} {'FUNC': <function catBoostTrain at 0x7fb474529dc0>, 'ITERS': 10} {}\n"
     ]
    },
    {
     "name": "stderr",
     "output_type": "stream",
     "text": [
      "100%|███████████████████████████████████████████| 10/10 [00:00<00:00, 13.07it/s]\n"
     ]
    },
    {
     "name": "stdout",
     "output_type": "stream",
     "text": [
      "kfolded auc 0.7614738462952749 {'DROP': [10, 21]} {'FUNC': <function catBoostTrain at 0x7fb474529dc0>, 'ITERS': 10} {}\n"
     ]
    },
    {
     "name": "stderr",
     "output_type": "stream",
     "text": [
      "100%|███████████████████████████████████████████| 10/10 [00:00<00:00, 13.39it/s]\n"
     ]
    },
    {
     "name": "stdout",
     "output_type": "stream",
     "text": [
      "kfolded auc 0.7629545872403015 {'DROP': [10, 22]} {'FUNC': <function catBoostTrain at 0x7fb474529dc0>, 'ITERS': 10} {}\n"
     ]
    },
    {
     "name": "stderr",
     "output_type": "stream",
     "text": [
      "100%|███████████████████████████████████████████| 10/10 [00:00<00:00, 12.26it/s]\n"
     ]
    },
    {
     "name": "stdout",
     "output_type": "stream",
     "text": [
      "kfolded auc 0.7529566556352272 {'DROP': [10, 23]} {'FUNC': <function catBoostTrain at 0x7fb474529dc0>, 'ITERS': 10} {}\n"
     ]
    },
    {
     "name": "stderr",
     "output_type": "stream",
     "text": [
      "100%|███████████████████████████████████████████| 10/10 [00:00<00:00, 12.42it/s]\n"
     ]
    },
    {
     "name": "stdout",
     "output_type": "stream",
     "text": [
      "kfolded auc 0.7566623000551572 {'DROP': [10, 24]} {'FUNC': <function catBoostTrain at 0x7fb474529dc0>, 'ITERS': 10} {}\n"
     ]
    },
    {
     "name": "stderr",
     "output_type": "stream",
     "text": [
      "100%|███████████████████████████████████████████| 10/10 [00:00<00:00, 12.81it/s]\n"
     ]
    },
    {
     "name": "stdout",
     "output_type": "stream",
     "text": [
      "kfolded auc 0.7218348961206102 {'DROP': [10, 25]} {'FUNC': <function catBoostTrain at 0x7fb474529dc0>, 'ITERS': 10} {}\n"
     ]
    },
    {
     "name": "stderr",
     "output_type": "stream",
     "text": [
      "100%|███████████████████████████████████████████| 10/10 [00:00<00:00, 13.39it/s]\n"
     ]
    },
    {
     "name": "stdout",
     "output_type": "stream",
     "text": [
      "kfolded auc 0.7658904440154439 {'DROP': [10, 26]} {'FUNC': <function catBoostTrain at 0x7fb474529dc0>, 'ITERS': 10} {}\n"
     ]
    },
    {
     "name": "stderr",
     "output_type": "stream",
     "text": [
      "100%|███████████████████████████████████████████| 10/10 [00:00<00:00, 12.56it/s]\n"
     ]
    },
    {
     "name": "stdout",
     "output_type": "stream",
     "text": [
      "kfolded auc 0.7674488646810075 {'DROP': [10, 27]} {'FUNC': <function catBoostTrain at 0x7fb474529dc0>, 'ITERS': 10} {}\n"
     ]
    },
    {
     "name": "stderr",
     "output_type": "stream",
     "text": [
      "100%|███████████████████████████████████████████| 10/10 [00:00<00:00, 11.68it/s]\n"
     ]
    },
    {
     "name": "stdout",
     "output_type": "stream",
     "text": [
      "kfolded auc 0.7725802077587791 {'DROP': [10, 28]} {'FUNC': <function catBoostTrain at 0x7fb474529dc0>, 'ITERS': 10} {}\n"
     ]
    },
    {
     "name": "stderr",
     "output_type": "stream",
     "text": [
      "100%|███████████████████████████████████████████| 10/10 [00:00<00:00, 12.34it/s]\n"
     ]
    },
    {
     "name": "stdout",
     "output_type": "stream",
     "text": [
      "kfolded auc 0.7754605626034199 {'DROP': [10, 29]} {'FUNC': <function catBoostTrain at 0x7fb474529dc0>, 'ITERS': 10} {}\n"
     ]
    },
    {
     "name": "stderr",
     "output_type": "stream",
     "text": [
      "100%|███████████████████████████████████████████| 10/10 [00:00<00:00, 13.47it/s]\n"
     ]
    },
    {
     "name": "stdout",
     "output_type": "stream",
     "text": [
      "kfolded auc 0.7713904210332782 {'DROP': [10, 30]} {'FUNC': <function catBoostTrain at 0x7fb474529dc0>, 'ITERS': 10} {}\n"
     ]
    },
    {
     "name": "stderr",
     "output_type": "stream",
     "text": [
      "100%|███████████████████████████████████████████| 10/10 [00:00<00:00, 12.34it/s]\n"
     ]
    },
    {
     "name": "stdout",
     "output_type": "stream",
     "text": [
      "kfolded auc 0.7717221685971686 {'DROP': [10, 31]} {'FUNC': <function catBoostTrain at 0x7fb474529dc0>, 'ITERS': 10} {}\n"
     ]
    },
    {
     "name": "stderr",
     "output_type": "stream",
     "text": [
      "100%|███████████████████████████████████████████| 10/10 [00:00<00:00, 11.08it/s]\n"
     ]
    },
    {
     "name": "stdout",
     "output_type": "stream",
     "text": [
      "kfolded auc 0.775387709137709 {'DROP': [10, 32]} {'FUNC': <function catBoostTrain at 0x7fb474529dc0>, 'ITERS': 10} {}\n"
     ]
    },
    {
     "name": "stderr",
     "output_type": "stream",
     "text": [
      "100%|███████████████████████████████████████████| 10/10 [00:00<00:00, 12.33it/s]\n"
     ]
    },
    {
     "name": "stdout",
     "output_type": "stream",
     "text": [
      "kfolded auc 0.7518668413311271 {'DROP': [11]} {'FUNC': <function catBoostTrain at 0x7fb474529dc0>, 'ITERS': 10} {}\n"
     ]
    },
    {
     "name": "stderr",
     "output_type": "stream",
     "text": [
      "100%|███████████████████████████████████████████| 10/10 [00:00<00:00, 13.41it/s]\n"
     ]
    },
    {
     "name": "stdout",
     "output_type": "stream",
     "text": [
      "kfolded auc 0.7638649108291965 {'DROP': [11, 12]} {'FUNC': <function catBoostTrain at 0x7fb474529dc0>, 'ITERS': 10} {}\n"
     ]
    },
    {
     "name": "stderr",
     "output_type": "stream",
     "text": [
      "100%|███████████████████████████████████████████| 10/10 [00:00<00:00, 12.12it/s]\n"
     ]
    },
    {
     "name": "stdout",
     "output_type": "stream",
     "text": [
      "kfolded auc 0.7683620610406324 {'DROP': [11, 13]} {'FUNC': <function catBoostTrain at 0x7fb474529dc0>, 'ITERS': 10} {}\n"
     ]
    },
    {
     "name": "stderr",
     "output_type": "stream",
     "text": [
      "100%|███████████████████████████████████████████| 10/10 [00:00<00:00, 11.91it/s]\n"
     ]
    },
    {
     "name": "stdout",
     "output_type": "stream",
     "text": [
      "kfolded auc 0.7540205000919288 {'DROP': [11, 14]} {'FUNC': <function catBoostTrain at 0x7fb474529dc0>, 'ITERS': 10} {}\n"
     ]
    },
    {
     "name": "stderr",
     "output_type": "stream",
     "text": [
      "100%|███████████████████████████████████████████| 10/10 [00:00<00:00, 13.57it/s]\n"
     ]
    },
    {
     "name": "stdout",
     "output_type": "stream",
     "text": [
      "kfolded auc 0.7683620610406324 {'DROP': [11, 15]} {'FUNC': <function catBoostTrain at 0x7fb474529dc0>, 'ITERS': 10} {}\n"
     ]
    },
    {
     "name": "stderr",
     "output_type": "stream",
     "text": [
      "100%|███████████████████████████████████████████| 10/10 [00:00<00:00, 12.02it/s]\n"
     ]
    },
    {
     "name": "stdout",
     "output_type": "stream",
     "text": [
      "kfolded auc 0.7567875528589815 {'DROP': [11, 16]} {'FUNC': <function catBoostTrain at 0x7fb474529dc0>, 'ITERS': 10} {}\n"
     ]
    },
    {
     "name": "stderr",
     "output_type": "stream",
     "text": [
      "100%|███████████████████████████████████████████| 10/10 [00:00<00:00, 12.63it/s]\n"
     ]
    },
    {
     "name": "stdout",
     "output_type": "stream",
     "text": [
      "kfolded auc 0.7469052215480787 {'DROP': [11, 17]} {'FUNC': <function catBoostTrain at 0x7fb474529dc0>, 'ITERS': 10} {}\n"
     ]
    },
    {
     "name": "stderr",
     "output_type": "stream",
     "text": [
      "100%|███████████████████████████████████████████| 10/10 [00:00<00:00, 11.45it/s]\n"
     ]
    },
    {
     "name": "stdout",
     "output_type": "stream",
     "text": [
      "kfolded auc 0.7304318348961205 {'DROP': [11, 18]} {'FUNC': <function catBoostTrain at 0x7fb474529dc0>, 'ITERS': 10} {}\n"
     ]
    },
    {
     "name": "stderr",
     "output_type": "stream",
     "text": [
      "100%|███████████████████████████████████████████| 10/10 [00:00<00:00, 12.12it/s]\n"
     ]
    },
    {
     "name": "stdout",
     "output_type": "stream",
     "text": [
      "kfolded auc 0.7518668413311271 {'DROP': [11, 19]} {'FUNC': <function catBoostTrain at 0x7fb474529dc0>, 'ITERS': 10} {}\n"
     ]
    },
    {
     "name": "stderr",
     "output_type": "stream",
     "text": [
      "100%|███████████████████████████████████████████| 10/10 [00:00<00:00, 12.82it/s]\n"
     ]
    },
    {
     "name": "stdout",
     "output_type": "stream",
     "text": [
      "kfolded auc 0.7261833517190659 {'DROP': [11, 20]} {'FUNC': <function catBoostTrain at 0x7fb474529dc0>, 'ITERS': 10} {}\n"
     ]
    },
    {
     "name": "stderr",
     "output_type": "stream",
     "text": [
      "100%|███████████████████████████████████████████| 10/10 [00:00<00:00, 12.75it/s]\n"
     ]
    },
    {
     "name": "stdout",
     "output_type": "stream",
     "text": [
      "kfolded auc 0.7445899981614266 {'DROP': [11, 21]} {'FUNC': <function catBoostTrain at 0x7fb474529dc0>, 'ITERS': 10} {}\n"
     ]
    },
    {
     "name": "stderr",
     "output_type": "stream",
     "text": [
      "100%|███████████████████████████████████████████| 10/10 [00:00<00:00, 11.39it/s]\n"
     ]
    },
    {
     "name": "stdout",
     "output_type": "stream",
     "text": [
      "kfolded auc 0.7413138904210334 {'DROP': [11, 22]} {'FUNC': <function catBoostTrain at 0x7fb474529dc0>, 'ITERS': 10} {}\n"
     ]
    },
    {
     "name": "stderr",
     "output_type": "stream",
     "text": [
      "100%|███████████████████████████████████████████| 10/10 [00:00<00:00, 13.09it/s]\n"
     ]
    },
    {
     "name": "stdout",
     "output_type": "stream",
     "text": [
      "kfolded auc 0.7420173745173745 {'DROP': [11, 23]} {'FUNC': <function catBoostTrain at 0x7fb474529dc0>, 'ITERS': 10} {}\n"
     ]
    },
    {
     "name": "stderr",
     "output_type": "stream",
     "text": [
      "100%|███████████████████████████████████████████| 10/10 [00:00<00:00, 11.90it/s]\n"
     ]
    },
    {
     "name": "stdout",
     "output_type": "stream",
     "text": [
      "kfolded auc 0.7518668413311271 {'DROP': [11, 24]} {'FUNC': <function catBoostTrain at 0x7fb474529dc0>, 'ITERS': 10} {}\n"
     ]
    },
    {
     "name": "stderr",
     "output_type": "stream",
     "text": [
      "100%|███████████████████████████████████████████| 10/10 [00:00<00:00, 12.14it/s]\n"
     ]
    },
    {
     "name": "stdout",
     "output_type": "stream",
     "text": [
      "kfolded auc 0.7093336321014893 {'DROP': [11, 25]} {'FUNC': <function catBoostTrain at 0x7fb474529dc0>, 'ITERS': 10} {}\n"
     ]
    },
    {
     "name": "stderr",
     "output_type": "stream",
     "text": [
      "100%|███████████████████████████████████████████| 10/10 [00:00<00:00, 12.81it/s]\n"
     ]
    },
    {
     "name": "stdout",
     "output_type": "stream",
     "text": [
      "kfolded auc 0.7461497977569405 {'DROP': [11, 26]} {'FUNC': <function catBoostTrain at 0x7fb474529dc0>, 'ITERS': 10} {}\n"
     ]
    },
    {
     "name": "stderr",
     "output_type": "stream",
     "text": [
      "100%|███████████████████████████████████████████| 10/10 [00:00<00:00, 10.22it/s]\n"
     ]
    },
    {
     "name": "stdout",
     "output_type": "stream",
     "text": [
      "kfolded auc 0.7439547710976282 {'DROP': [11, 27]} {'FUNC': <function catBoostTrain at 0x7fb474529dc0>, 'ITERS': 10} {}\n"
     ]
    },
    {
     "name": "stderr",
     "output_type": "stream",
     "text": [
      "100%|███████████████████████████████████████████| 10/10 [00:00<00:00, 10.22it/s]\n"
     ]
    },
    {
     "name": "stdout",
     "output_type": "stream",
     "text": [
      "kfolded auc 0.7625181559110131 {'DROP': [11, 28]} {'FUNC': <function catBoostTrain at 0x7fb474529dc0>, 'ITERS': 10} {}\n"
     ]
    },
    {
     "name": "stderr",
     "output_type": "stream",
     "text": [
      "100%|███████████████████████████████████████████| 10/10 [00:00<00:00, 10.18it/s]\n"
     ]
    },
    {
     "name": "stdout",
     "output_type": "stream",
     "text": [
      "kfolded auc 0.7646561867990439 {'DROP': [11, 29]} {'FUNC': <function catBoostTrain at 0x7fb474529dc0>, 'ITERS': 10} {}\n"
     ]
    },
    {
     "name": "stderr",
     "output_type": "stream",
     "text": [
      "100%|███████████████████████████████████████████| 10/10 [00:00<00:00, 10.38it/s]\n"
     ]
    },
    {
     "name": "stdout",
     "output_type": "stream",
     "text": [
      "kfolded auc 0.7654513697370839 {'DROP': [11, 30]} {'FUNC': <function catBoostTrain at 0x7fb474529dc0>, 'ITERS': 10} {}\n"
     ]
    },
    {
     "name": "stderr",
     "output_type": "stream",
     "text": [
      "100%|███████████████████████████████████████████| 10/10 [00:00<00:00, 10.71it/s]\n"
     ]
    },
    {
     "name": "stdout",
     "output_type": "stream",
     "text": [
      "kfolded auc 0.7642646856039712 {'DROP': [11, 31]} {'FUNC': <function catBoostTrain at 0x7fb474529dc0>, 'ITERS': 10} {}\n"
     ]
    },
    {
     "name": "stderr",
     "output_type": "stream",
     "text": [
      "100%|███████████████████████████████████████████| 10/10 [00:00<00:00, 12.18it/s]\n"
     ]
    },
    {
     "name": "stdout",
     "output_type": "stream",
     "text": [
      "kfolded auc 0.7631329288472146 {'DROP': [11, 32]} {'FUNC': <function catBoostTrain at 0x7fb474529dc0>, 'ITERS': 10} {}\n"
     ]
    },
    {
     "name": "stderr",
     "output_type": "stream",
     "text": [
      "100%|███████████████████████████████████████████| 10/10 [00:00<00:00, 11.85it/s]\n"
     ]
    },
    {
     "name": "stdout",
     "output_type": "stream",
     "text": [
      "kfolded auc 0.7621812373598089 {'DROP': [12]} {'FUNC': <function catBoostTrain at 0x7fb474529dc0>, 'ITERS': 10} {}\n"
     ]
    },
    {
     "name": "stderr",
     "output_type": "stream",
     "text": [
      "100%|███████████████████████████████████████████| 10/10 [00:00<00:00, 12.24it/s]\n"
     ]
    },
    {
     "name": "stdout",
     "output_type": "stream",
     "text": [
      "kfolded auc 0.7770410461481889 {'DROP': [12, 13]} {'FUNC': <function catBoostTrain at 0x7fb474529dc0>, 'ITERS': 10} {}\n"
     ]
    },
    {
     "name": "stderr",
     "output_type": "stream",
     "text": [
      "100%|███████████████████████████████████████████| 10/10 [00:00<00:00, 12.69it/s]\n"
     ]
    },
    {
     "name": "stdout",
     "output_type": "stream",
     "text": [
      "kfolded auc 0.7689818900533186 {'DROP': [12, 14]} {'FUNC': <function catBoostTrain at 0x7fb474529dc0>, 'ITERS': 10} {}\n"
     ]
    },
    {
     "name": "stderr",
     "output_type": "stream",
     "text": [
      "100%|███████████████████████████████████████████| 10/10 [00:00<00:00, 13.22it/s]\n"
     ]
    },
    {
     "name": "stdout",
     "output_type": "stream",
     "text": [
      "kfolded auc 0.7770410461481889 {'DROP': [12, 15]} {'FUNC': <function catBoostTrain at 0x7fb474529dc0>, 'ITERS': 10} {}\n"
     ]
    },
    {
     "name": "stderr",
     "output_type": "stream",
     "text": [
      "100%|███████████████████████████████████████████| 10/10 [00:00<00:00, 11.95it/s]\n"
     ]
    },
    {
     "name": "stdout",
     "output_type": "stream",
     "text": [
      "kfolded auc 0.7558032266960837 {'DROP': [12, 16]} {'FUNC': <function catBoostTrain at 0x7fb474529dc0>, 'ITERS': 10} {}\n"
     ]
    },
    {
     "name": "stderr",
     "output_type": "stream",
     "text": [
      "100%|███████████████████████████████████████████| 10/10 [00:00<00:00, 12.40it/s]\n"
     ]
    },
    {
     "name": "stdout",
     "output_type": "stream",
     "text": [
      "kfolded auc 0.7636343997058282 {'DROP': [12, 17]} {'FUNC': <function catBoostTrain at 0x7fb474529dc0>, 'ITERS': 10} {}\n"
     ]
    },
    {
     "name": "stderr",
     "output_type": "stream",
     "text": [
      "100%|███████████████████████████████████████████| 10/10 [00:00<00:00, 12.84it/s]\n"
     ]
    },
    {
     "name": "stdout",
     "output_type": "stream",
     "text": [
      "kfolded auc 0.7608769994484279 {'DROP': [12, 18]} {'FUNC': <function catBoostTrain at 0x7fb474529dc0>, 'ITERS': 10} {}\n"
     ]
    },
    {
     "name": "stderr",
     "output_type": "stream",
     "text": [
      "100%|███████████████████████████████████████████| 10/10 [00:00<00:00, 13.03it/s]\n"
     ]
    },
    {
     "name": "stdout",
     "output_type": "stream",
     "text": [
      "kfolded auc 0.7621812373598089 {'DROP': [12, 19]} {'FUNC': <function catBoostTrain at 0x7fb474529dc0>, 'ITERS': 10} {}\n"
     ]
    },
    {
     "name": "stderr",
     "output_type": "stream",
     "text": [
      "100%|███████████████████████████████████████████| 10/10 [00:00<00:00, 11.13it/s]\n"
     ]
    },
    {
     "name": "stdout",
     "output_type": "stream",
     "text": [
      "kfolded auc 0.7461141753998898 {'DROP': [12, 20]} {'FUNC': <function catBoostTrain at 0x7fb474529dc0>, 'ITERS': 10} {}\n"
     ]
    },
    {
     "name": "stderr",
     "output_type": "stream",
     "text": [
      "100%|███████████████████████████████████████████| 10/10 [00:00<00:00, 13.15it/s]\n"
     ]
    },
    {
     "name": "stdout",
     "output_type": "stream",
     "text": [
      "kfolded auc 0.752701093951094 {'DROP': [12, 21]} {'FUNC': <function catBoostTrain at 0x7fb474529dc0>, 'ITERS': 10} {}\n"
     ]
    },
    {
     "name": "stderr",
     "output_type": "stream",
     "text": [
      "100%|███████████████████████████████████████████| 10/10 [00:00<00:00, 11.58it/s]\n"
     ]
    },
    {
     "name": "stdout",
     "output_type": "stream",
     "text": [
      "kfolded auc 0.7518208769994483 {'DROP': [12, 22]} {'FUNC': <function catBoostTrain at 0x7fb474529dc0>, 'ITERS': 10} {}\n"
     ]
    },
    {
     "name": "stderr",
     "output_type": "stream",
     "text": [
      "100%|███████████████████████████████████████████| 10/10 [00:00<00:00, 13.17it/s]\n"
     ]
    },
    {
     "name": "stdout",
     "output_type": "stream",
     "text": [
      "kfolded auc 0.7407335907335908 {'DROP': [12, 23]} {'FUNC': <function catBoostTrain at 0x7fb474529dc0>, 'ITERS': 10} {}\n"
     ]
    },
    {
     "name": "stderr",
     "output_type": "stream",
     "text": [
      "100%|███████████████████████████████████████████| 10/10 [00:00<00:00, 12.67it/s]\n"
     ]
    },
    {
     "name": "stdout",
     "output_type": "stream",
     "text": [
      "kfolded auc 0.7621812373598089 {'DROP': [12, 24]} {'FUNC': <function catBoostTrain at 0x7fb474529dc0>, 'ITERS': 10} {}\n"
     ]
    },
    {
     "name": "stderr",
     "output_type": "stream",
     "text": [
      "100%|███████████████████████████████████████████| 10/10 [00:00<00:00, 13.31it/s]\n"
     ]
    },
    {
     "name": "stdout",
     "output_type": "stream",
     "text": [
      "kfolded auc 0.7114522430593859 {'DROP': [12, 25]} {'FUNC': <function catBoostTrain at 0x7fb474529dc0>, 'ITERS': 10} {}\n"
     ]
    },
    {
     "name": "stderr",
     "output_type": "stream",
     "text": [
      "100%|███████████████████████████████████████████| 10/10 [00:00<00:00, 13.37it/s]\n"
     ]
    },
    {
     "name": "stdout",
     "output_type": "stream",
     "text": [
      "kfolded auc 0.7477300514800513 {'DROP': [12, 26]} {'FUNC': <function catBoostTrain at 0x7fb474529dc0>, 'ITERS': 10} {}\n"
     ]
    },
    {
     "name": "stderr",
     "output_type": "stream",
     "text": [
      "100%|███████████████████████████████████████████| 10/10 [00:00<00:00, 12.46it/s]\n"
     ]
    },
    {
     "name": "stdout",
     "output_type": "stream",
     "text": [
      "kfolded auc 0.7599951737451736 {'DROP': [12, 27]} {'FUNC': <function catBoostTrain at 0x7fb474529dc0>, 'ITERS': 10} {}\n"
     ]
    },
    {
     "name": "stderr",
     "output_type": "stream",
     "text": [
      "100%|███████████████████████████████████████████| 10/10 [00:00<00:00, 11.75it/s]\n"
     ]
    },
    {
     "name": "stdout",
     "output_type": "stream",
     "text": [
      "kfolded auc 0.7731037414965984 {'DROP': [12, 28]} {'FUNC': <function catBoostTrain at 0x7fb474529dc0>, 'ITERS': 10} {}\n"
     ]
    },
    {
     "name": "stderr",
     "output_type": "stream",
     "text": [
      "100%|███████████████████████████████████████████| 10/10 [00:00<00:00, 12.82it/s]\n"
     ]
    },
    {
     "name": "stdout",
     "output_type": "stream",
     "text": [
      "kfolded auc 0.7675310259238831 {'DROP': [12, 29]} {'FUNC': <function catBoostTrain at 0x7fb474529dc0>, 'ITERS': 10} {}\n"
     ]
    },
    {
     "name": "stderr",
     "output_type": "stream",
     "text": [
      "100%|███████████████████████████████████████████| 10/10 [00:00<00:00, 12.17it/s]\n"
     ]
    },
    {
     "name": "stdout",
     "output_type": "stream",
     "text": [
      "kfolded auc 0.7705543298400441 {'DROP': [12, 30]} {'FUNC': <function catBoostTrain at 0x7fb474529dc0>, 'ITERS': 10} {}\n"
     ]
    },
    {
     "name": "stderr",
     "output_type": "stream",
     "text": [
      "100%|███████████████████████████████████████████| 10/10 [00:00<00:00, 11.28it/s]\n"
     ]
    },
    {
     "name": "stdout",
     "output_type": "stream",
     "text": [
      "kfolded auc 0.7724933351719067 {'DROP': [12, 31]} {'FUNC': <function catBoostTrain at 0x7fb474529dc0>, 'ITERS': 10} {}\n"
     ]
    },
    {
     "name": "stderr",
     "output_type": "stream",
     "text": [
      "100%|███████████████████████████████████████████| 10/10 [00:00<00:00, 12.59it/s]\n"
     ]
    },
    {
     "name": "stdout",
     "output_type": "stream",
     "text": [
      "kfolded auc 0.7660406324692038 {'DROP': [12, 32]} {'FUNC': <function catBoostTrain at 0x7fb474529dc0>, 'ITERS': 10} {}\n"
     ]
    },
    {
     "name": "stderr",
     "output_type": "stream",
     "text": [
      "100%|███████████████████████████████████████████| 10/10 [00:00<00:00, 11.83it/s]\n"
     ]
    },
    {
     "name": "stdout",
     "output_type": "stream",
     "text": [
      "kfolded auc 0.7663685879757308 {'DROP': [13]} {'FUNC': <function catBoostTrain at 0x7fb474529dc0>, 'ITERS': 10} {}\n"
     ]
    },
    {
     "name": "stderr",
     "output_type": "stream",
     "text": [
      "100%|███████████████████████████████████████████| 10/10 [00:00<00:00, 12.38it/s]\n"
     ]
    },
    {
     "name": "stdout",
     "output_type": "stream",
     "text": [
      "kfolded auc 0.7702953208310351 {'DROP': [13, 14]} {'FUNC': <function catBoostTrain at 0x7fb474529dc0>, 'ITERS': 10} {}\n"
     ]
    },
    {
     "name": "stderr",
     "output_type": "stream",
     "text": [
      "100%|███████████████████████████████████████████| 10/10 [00:00<00:00, 12.89it/s]\n"
     ]
    },
    {
     "name": "stdout",
     "output_type": "stream",
     "text": [
      "kfolded auc 0.7576542103327818 {'DROP': [13, 15]} {'FUNC': <function catBoostTrain at 0x7fb474529dc0>, 'ITERS': 10} {}\n"
     ]
    },
    {
     "name": "stderr",
     "output_type": "stream",
     "text": [
      "100%|███████████████████████████████████████████| 10/10 [00:00<00:00, 12.80it/s]\n"
     ]
    },
    {
     "name": "stdout",
     "output_type": "stream",
     "text": [
      "kfolded auc 0.7552369461298032 {'DROP': [13, 16]} {'FUNC': <function catBoostTrain at 0x7fb474529dc0>, 'ITERS': 10} {}\n"
     ]
    },
    {
     "name": "stderr",
     "output_type": "stream",
     "text": [
      "100%|███████████████████████████████████████████| 10/10 [00:00<00:00, 11.86it/s]\n"
     ]
    },
    {
     "name": "stdout",
     "output_type": "stream",
     "text": [
      "kfolded auc 0.7635580989152417 {'DROP': [13, 17]} {'FUNC': <function catBoostTrain at 0x7fb474529dc0>, 'ITERS': 10} {}\n"
     ]
    },
    {
     "name": "stderr",
     "output_type": "stream",
     "text": [
      "100%|███████████████████████████████████████████| 10/10 [00:00<00:00, 13.14it/s]\n"
     ]
    },
    {
     "name": "stdout",
     "output_type": "stream",
     "text": [
      "kfolded auc 0.7743139823496966 {'DROP': [13, 18]} {'FUNC': <function catBoostTrain at 0x7fb474529dc0>, 'ITERS': 10} {}\n"
     ]
    },
    {
     "name": "stderr",
     "output_type": "stream",
     "text": [
      "100%|███████████████████████████████████████████| 10/10 [00:00<00:00, 11.54it/s]\n"
     ]
    },
    {
     "name": "stdout",
     "output_type": "stream",
     "text": [
      "kfolded auc 0.7663685879757308 {'DROP': [13, 19]} {'FUNC': <function catBoostTrain at 0x7fb474529dc0>, 'ITERS': 10} {}\n"
     ]
    },
    {
     "name": "stderr",
     "output_type": "stream",
     "text": [
      "100%|███████████████████████████████████████████| 10/10 [00:00<00:00, 11.92it/s]\n"
     ]
    },
    {
     "name": "stdout",
     "output_type": "stream",
     "text": [
      "kfolded auc 0.7344020040448611 {'DROP': [13, 20]} {'FUNC': <function catBoostTrain at 0x7fb474529dc0>, 'ITERS': 10} {}\n"
     ]
    },
    {
     "name": "stderr",
     "output_type": "stream",
     "text": [
      "100%|███████████████████████████████████████████| 10/10 [00:00<00:00, 11.97it/s]\n"
     ]
    },
    {
     "name": "stdout",
     "output_type": "stream",
     "text": [
      "kfolded auc 0.7763295182938041 {'DROP': [13, 21]} {'FUNC': <function catBoostTrain at 0x7fb474529dc0>, 'ITERS': 10} {}\n"
     ]
    },
    {
     "name": "stderr",
     "output_type": "stream",
     "text": [
      "100%|███████████████████████████████████████████| 10/10 [00:00<00:00, 11.52it/s]\n"
     ]
    },
    {
     "name": "stdout",
     "output_type": "stream",
     "text": [
      "kfolded auc 0.7428137065637065 {'DROP': [13, 22]} {'FUNC': <function catBoostTrain at 0x7fb474529dc0>, 'ITERS': 10} {}\n"
     ]
    },
    {
     "name": "stderr",
     "output_type": "stream",
     "text": [
      "100%|███████████████████████████████████████████| 10/10 [00:00<00:00, 13.03it/s]\n"
     ]
    },
    {
     "name": "stdout",
     "output_type": "stream",
     "text": [
      "kfolded auc 0.7624367990439418 {'DROP': [13, 23]} {'FUNC': <function catBoostTrain at 0x7fb474529dc0>, 'ITERS': 10} {}\n"
     ]
    },
    {
     "name": "stderr",
     "output_type": "stream",
     "text": [
      "100%|███████████████████████████████████████████| 10/10 [00:00<00:00, 11.10it/s]\n"
     ]
    },
    {
     "name": "stdout",
     "output_type": "stream",
     "text": [
      "kfolded auc 0.7663685879757308 {'DROP': [13, 24]} {'FUNC': <function catBoostTrain at 0x7fb474529dc0>, 'ITERS': 10} {}\n"
     ]
    },
    {
     "name": "stderr",
     "output_type": "stream",
     "text": [
      "100%|███████████████████████████████████████████| 10/10 [00:00<00:00, 12.56it/s]\n"
     ]
    },
    {
     "name": "stdout",
     "output_type": "stream",
     "text": [
      "kfolded auc 0.6977824508181649 {'DROP': [13, 25]} {'FUNC': <function catBoostTrain at 0x7fb474529dc0>, 'ITERS': 10} {}\n"
     ]
    },
    {
     "name": "stderr",
     "output_type": "stream",
     "text": [
      "100%|███████████████████████████████████████████| 10/10 [00:00<00:00, 12.66it/s]\n"
     ]
    },
    {
     "name": "stdout",
     "output_type": "stream",
     "text": [
      "kfolded auc 0.7544447508733223 {'DROP': [13, 26]} {'FUNC': <function catBoostTrain at 0x7fb474529dc0>, 'ITERS': 10} {}\n"
     ]
    },
    {
     "name": "stderr",
     "output_type": "stream",
     "text": [
      "100%|███████████████████████████████████████████| 10/10 [00:00<00:00, 11.60it/s]\n"
     ]
    },
    {
     "name": "stdout",
     "output_type": "stream",
     "text": [
      "kfolded auc 0.745274177238463 {'DROP': [13, 27]} {'FUNC': <function catBoostTrain at 0x7fb474529dc0>, 'ITERS': 10} {}\n"
     ]
    },
    {
     "name": "stderr",
     "output_type": "stream",
     "text": [
      "100%|███████████████████████████████████████████| 10/10 [00:00<00:00, 12.96it/s]\n"
     ]
    },
    {
     "name": "stdout",
     "output_type": "stream",
     "text": [
      "kfolded auc 0.7418932708218423 {'DROP': [13, 28]} {'FUNC': <function catBoostTrain at 0x7fb474529dc0>, 'ITERS': 10} {}\n"
     ]
    },
    {
     "name": "stderr",
     "output_type": "stream",
     "text": [
      "100%|███████████████████████████████████████████| 10/10 [00:00<00:00, 13.34it/s]\n"
     ]
    },
    {
     "name": "stdout",
     "output_type": "stream",
     "text": [
      "kfolded auc 0.7481731476374333 {'DROP': [13, 29]} {'FUNC': <function catBoostTrain at 0x7fb474529dc0>, 'ITERS': 10} {}\n"
     ]
    },
    {
     "name": "stderr",
     "output_type": "stream",
     "text": [
      "100%|███████████████████████████████████████████| 10/10 [00:00<00:00, 12.48it/s]\n"
     ]
    },
    {
     "name": "stdout",
     "output_type": "stream",
     "text": [
      "kfolded auc 0.754531623460195 {'DROP': [13, 30]} {'FUNC': <function catBoostTrain at 0x7fb474529dc0>, 'ITERS': 10} {}\n"
     ]
    },
    {
     "name": "stderr",
     "output_type": "stream",
     "text": [
      "100%|███████████████████████████████████████████| 10/10 [00:00<00:00, 11.46it/s]\n"
     ]
    },
    {
     "name": "stdout",
     "output_type": "stream",
     "text": [
      "kfolded auc 0.7625137892995036 {'DROP': [13, 31]} {'FUNC': <function catBoostTrain at 0x7fb474529dc0>, 'ITERS': 10} {}\n"
     ]
    },
    {
     "name": "stderr",
     "output_type": "stream",
     "text": [
      "100%|███████████████████████████████████████████| 10/10 [00:00<00:00, 12.54it/s]\n"
     ]
    },
    {
     "name": "stdout",
     "output_type": "stream",
     "text": [
      "kfolded auc 0.7578755285898142 {'DROP': [13, 32]} {'FUNC': <function catBoostTrain at 0x7fb474529dc0>, 'ITERS': 10} {}\n"
     ]
    },
    {
     "name": "stderr",
     "output_type": "stream",
     "text": [
      "100%|███████████████████████████████████████████| 10/10 [00:00<00:00, 11.86it/s]\n"
     ]
    },
    {
     "name": "stdout",
     "output_type": "stream",
     "text": [
      "kfolded auc 0.756859716859717 {'DROP': [14]} {'FUNC': <function catBoostTrain at 0x7fb474529dc0>, 'ITERS': 10} {}\n"
     ]
    },
    {
     "name": "stderr",
     "output_type": "stream",
     "text": [
      "100%|███████████████████████████████████████████| 10/10 [00:00<00:00, 12.90it/s]\n"
     ]
    },
    {
     "name": "stdout",
     "output_type": "stream",
     "text": [
      "kfolded auc 0.7702953208310351 {'DROP': [14, 15]} {'FUNC': <function catBoostTrain at 0x7fb474529dc0>, 'ITERS': 10} {}\n"
     ]
    },
    {
     "name": "stderr",
     "output_type": "stream",
     "text": [
      "100%|███████████████████████████████████████████| 10/10 [00:00<00:00, 11.96it/s]\n"
     ]
    },
    {
     "name": "stdout",
     "output_type": "stream",
     "text": [
      "kfolded auc 0.7604371207942637 {'DROP': [14, 16]} {'FUNC': <function catBoostTrain at 0x7fb474529dc0>, 'ITERS': 10} {}\n"
     ]
    },
    {
     "name": "stderr",
     "output_type": "stream",
     "text": [
      "100%|███████████████████████████████████████████| 10/10 [00:00<00:00, 12.21it/s]\n"
     ]
    },
    {
     "name": "stdout",
     "output_type": "stream",
     "text": [
      "kfolded auc 0.7701612198933627 {'DROP': [14, 17]} {'FUNC': <function catBoostTrain at 0x7fb474529dc0>, 'ITERS': 10} {}\n"
     ]
    },
    {
     "name": "stderr",
     "output_type": "stream",
     "text": [
      "100%|███████████████████████████████████████████| 10/10 [00:00<00:00, 12.66it/s]\n"
     ]
    },
    {
     "name": "stdout",
     "output_type": "stream",
     "text": [
      "kfolded auc 0.7680785760250046 {'DROP': [14, 18]} {'FUNC': <function catBoostTrain at 0x7fb474529dc0>, 'ITERS': 10} {}\n"
     ]
    },
    {
     "name": "stderr",
     "output_type": "stream",
     "text": [
      "100%|███████████████████████████████████████████| 10/10 [00:00<00:00, 10.96it/s]\n"
     ]
    },
    {
     "name": "stdout",
     "output_type": "stream",
     "text": [
      "kfolded auc 0.756859716859717 {'DROP': [14, 19]} {'FUNC': <function catBoostTrain at 0x7fb474529dc0>, 'ITERS': 10} {}\n"
     ]
    },
    {
     "name": "stderr",
     "output_type": "stream",
     "text": [
      "100%|███████████████████████████████████████████| 10/10 [00:00<00:00, 12.32it/s]\n"
     ]
    },
    {
     "name": "stdout",
     "output_type": "stream",
     "text": [
      "kfolded auc 0.7497593767236624 {'DROP': [14, 20]} {'FUNC': <function catBoostTrain at 0x7fb474529dc0>, 'ITERS': 10} {}\n"
     ]
    },
    {
     "name": "stderr",
     "output_type": "stream",
     "text": [
      "100%|███████████████████████████████████████████| 10/10 [00:00<00:00, 11.10it/s]\n"
     ]
    },
    {
     "name": "stdout",
     "output_type": "stream",
     "text": [
      "kfolded auc 0.7644442912300056 {'DROP': [14, 21]} {'FUNC': <function catBoostTrain at 0x7fb474529dc0>, 'ITERS': 10} {}\n"
     ]
    },
    {
     "name": "stderr",
     "output_type": "stream",
     "text": [
      "100%|███████████████████████████████████████████| 10/10 [00:00<00:00, 13.06it/s]\n"
     ]
    },
    {
     "name": "stdout",
     "output_type": "stream",
     "text": [
      "kfolded auc 0.7579548170619599 {'DROP': [14, 22]} {'FUNC': <function catBoostTrain at 0x7fb474529dc0>, 'ITERS': 10} {}\n"
     ]
    },
    {
     "name": "stderr",
     "output_type": "stream",
     "text": [
      "100%|███████████████████████████████████████████| 10/10 [00:00<00:00, 12.77it/s]\n"
     ]
    },
    {
     "name": "stdout",
     "output_type": "stream",
     "text": [
      "kfolded auc 0.7487932064717778 {'DROP': [14, 23]} {'FUNC': <function catBoostTrain at 0x7fb474529dc0>, 'ITERS': 10} {}\n"
     ]
    },
    {
     "name": "stderr",
     "output_type": "stream",
     "text": [
      "100%|███████████████████████████████████████████| 10/10 [00:00<00:00, 13.03it/s]\n"
     ]
    },
    {
     "name": "stdout",
     "output_type": "stream",
     "text": [
      "kfolded auc 0.756859716859717 {'DROP': [14, 24]} {'FUNC': <function catBoostTrain at 0x7fb474529dc0>, 'ITERS': 10} {}\n"
     ]
    },
    {
     "name": "stderr",
     "output_type": "stream",
     "text": [
      "100%|███████████████████████████████████████████| 10/10 [00:00<00:00, 12.84it/s]\n"
     ]
    },
    {
     "name": "stdout",
     "output_type": "stream",
     "text": [
      "kfolded auc 0.7147566188637619 {'DROP': [14, 25]} {'FUNC': <function catBoostTrain at 0x7fb474529dc0>, 'ITERS': 10} {}\n"
     ]
    },
    {
     "name": "stderr",
     "output_type": "stream",
     "text": [
      "100%|███████████████████████████████████████████| 10/10 [00:00<00:00, 13.40it/s]\n"
     ]
    },
    {
     "name": "stdout",
     "output_type": "stream",
     "text": [
      "kfolded auc 0.7483797573083288 {'DROP': [14, 26]} {'FUNC': <function catBoostTrain at 0x7fb474529dc0>, 'ITERS': 10} {}\n"
     ]
    },
    {
     "name": "stderr",
     "output_type": "stream",
     "text": [
      "100%|███████████████████████████████████████████| 10/10 [00:00<00:00, 12.62it/s]\n"
     ]
    },
    {
     "name": "stdout",
     "output_type": "stream",
     "text": [
      "kfolded auc 0.7357958724030154 {'DROP': [14, 27]} {'FUNC': <function catBoostTrain at 0x7fb474529dc0>, 'ITERS': 10} {}\n"
     ]
    },
    {
     "name": "stderr",
     "output_type": "stream",
     "text": [
      "100%|███████████████████████████████████████████| 10/10 [00:00<00:00, 11.85it/s]\n"
     ]
    },
    {
     "name": "stdout",
     "output_type": "stream",
     "text": [
      "kfolded auc 0.756281025923883 {'DROP': [14, 28]} {'FUNC': <function catBoostTrain at 0x7fb474529dc0>, 'ITERS': 10} {}\n"
     ]
    },
    {
     "name": "stderr",
     "output_type": "stream",
     "text": [
      "100%|███████████████████████████████████████████| 10/10 [00:00<00:00, 11.81it/s]\n"
     ]
    },
    {
     "name": "stdout",
     "output_type": "stream",
     "text": [
      "kfolded auc 0.7511160139731569 {'DROP': [14, 29]} {'FUNC': <function catBoostTrain at 0x7fb474529dc0>, 'ITERS': 10} {}\n"
     ]
    },
    {
     "name": "stderr",
     "output_type": "stream",
     "text": [
      "100%|███████████████████████████████████████████| 10/10 [00:00<00:00, 13.02it/s]\n"
     ]
    },
    {
     "name": "stdout",
     "output_type": "stream",
     "text": [
      "kfolded auc 0.7575068946497517 {'DROP': [14, 30]} {'FUNC': <function catBoostTrain at 0x7fb474529dc0>, 'ITERS': 10} {}\n"
     ]
    },
    {
     "name": "stderr",
     "output_type": "stream",
     "text": [
      "100%|███████████████████████████████████████████| 10/10 [00:00<00:00, 11.53it/s]\n"
     ]
    },
    {
     "name": "stdout",
     "output_type": "stream",
     "text": [
      "kfolded auc 0.7532767972053687 {'DROP': [14, 31]} {'FUNC': <function catBoostTrain at 0x7fb474529dc0>, 'ITERS': 10} {}\n"
     ]
    },
    {
     "name": "stderr",
     "output_type": "stream",
     "text": [
      "100%|███████████████████████████████████████████| 10/10 [00:00<00:00, 13.06it/s]\n"
     ]
    },
    {
     "name": "stdout",
     "output_type": "stream",
     "text": [
      "kfolded auc 0.7526011215296929 {'DROP': [14, 32]} {'FUNC': <function catBoostTrain at 0x7fb474529dc0>, 'ITERS': 10} {}\n"
     ]
    },
    {
     "name": "stderr",
     "output_type": "stream",
     "text": [
      "100%|███████████████████████████████████████████| 10/10 [00:00<00:00, 11.91it/s]\n"
     ]
    },
    {
     "name": "stdout",
     "output_type": "stream",
     "text": [
      "kfolded auc 0.7663685879757308 {'DROP': [15]} {'FUNC': <function catBoostTrain at 0x7fb474529dc0>, 'ITERS': 10} {}\n"
     ]
    },
    {
     "name": "stderr",
     "output_type": "stream",
     "text": [
      "100%|███████████████████████████████████████████| 10/10 [00:00<00:00, 12.90it/s]\n"
     ]
    },
    {
     "name": "stdout",
     "output_type": "stream",
     "text": [
      "kfolded auc 0.7552369461298032 {'DROP': [15, 16]} {'FUNC': <function catBoostTrain at 0x7fb474529dc0>, 'ITERS': 10} {}\n"
     ]
    },
    {
     "name": "stderr",
     "output_type": "stream",
     "text": [
      "100%|███████████████████████████████████████████| 10/10 [00:00<00:00, 13.06it/s]\n"
     ]
    },
    {
     "name": "stdout",
     "output_type": "stream",
     "text": [
      "kfolded auc 0.7635580989152417 {'DROP': [15, 17]} {'FUNC': <function catBoostTrain at 0x7fb474529dc0>, 'ITERS': 10} {}\n"
     ]
    },
    {
     "name": "stderr",
     "output_type": "stream",
     "text": [
      "100%|███████████████████████████████████████████| 10/10 [00:00<00:00, 11.55it/s]\n"
     ]
    },
    {
     "name": "stdout",
     "output_type": "stream",
     "text": [
      "kfolded auc 0.7743139823496966 {'DROP': [15, 18]} {'FUNC': <function catBoostTrain at 0x7fb474529dc0>, 'ITERS': 10} {}\n"
     ]
    },
    {
     "name": "stderr",
     "output_type": "stream",
     "text": [
      "100%|███████████████████████████████████████████| 10/10 [00:00<00:00, 13.60it/s]\n"
     ]
    },
    {
     "name": "stdout",
     "output_type": "stream",
     "text": [
      "kfolded auc 0.7663685879757308 {'DROP': [15, 19]} {'FUNC': <function catBoostTrain at 0x7fb474529dc0>, 'ITERS': 10} {}\n"
     ]
    },
    {
     "name": "stderr",
     "output_type": "stream",
     "text": [
      "100%|███████████████████████████████████████████| 10/10 [00:00<00:00, 11.83it/s]\n"
     ]
    },
    {
     "name": "stdout",
     "output_type": "stream",
     "text": [
      "kfolded auc 0.7344020040448611 {'DROP': [15, 20]} {'FUNC': <function catBoostTrain at 0x7fb474529dc0>, 'ITERS': 10} {}\n"
     ]
    },
    {
     "name": "stderr",
     "output_type": "stream",
     "text": [
      "100%|███████████████████████████████████████████| 10/10 [00:00<00:00, 11.69it/s]\n"
     ]
    },
    {
     "name": "stdout",
     "output_type": "stream",
     "text": [
      "kfolded auc 0.7763295182938041 {'DROP': [15, 21]} {'FUNC': <function catBoostTrain at 0x7fb474529dc0>, 'ITERS': 10} {}\n"
     ]
    },
    {
     "name": "stderr",
     "output_type": "stream",
     "text": [
      "100%|███████████████████████████████████████████| 10/10 [00:00<00:00, 12.05it/s]\n"
     ]
    },
    {
     "name": "stdout",
     "output_type": "stream",
     "text": [
      "kfolded auc 0.7428137065637065 {'DROP': [15, 22]} {'FUNC': <function catBoostTrain at 0x7fb474529dc0>, 'ITERS': 10} {}\n"
     ]
    },
    {
     "name": "stderr",
     "output_type": "stream",
     "text": [
      "100%|███████████████████████████████████████████| 10/10 [00:00<00:00, 12.48it/s]\n"
     ]
    },
    {
     "name": "stdout",
     "output_type": "stream",
     "text": [
      "kfolded auc 0.7624367990439418 {'DROP': [15, 23]} {'FUNC': <function catBoostTrain at 0x7fb474529dc0>, 'ITERS': 10} {}\n"
     ]
    },
    {
     "name": "stderr",
     "output_type": "stream",
     "text": [
      "100%|███████████████████████████████████████████| 10/10 [00:00<00:00, 12.41it/s]\n"
     ]
    },
    {
     "name": "stdout",
     "output_type": "stream",
     "text": [
      "kfolded auc 0.7663685879757308 {'DROP': [15, 24]} {'FUNC': <function catBoostTrain at 0x7fb474529dc0>, 'ITERS': 10} {}\n"
     ]
    },
    {
     "name": "stderr",
     "output_type": "stream",
     "text": [
      "100%|███████████████████████████████████████████| 10/10 [00:00<00:00, 12.07it/s]\n"
     ]
    },
    {
     "name": "stdout",
     "output_type": "stream",
     "text": [
      "kfolded auc 0.6977824508181649 {'DROP': [15, 25]} {'FUNC': <function catBoostTrain at 0x7fb474529dc0>, 'ITERS': 10} {}\n"
     ]
    },
    {
     "name": "stderr",
     "output_type": "stream",
     "text": [
      "100%|███████████████████████████████████████████| 10/10 [00:00<00:00, 12.23it/s]\n"
     ]
    },
    {
     "name": "stdout",
     "output_type": "stream",
     "text": [
      "kfolded auc 0.7544447508733223 {'DROP': [15, 26]} {'FUNC': <function catBoostTrain at 0x7fb474529dc0>, 'ITERS': 10} {}\n"
     ]
    },
    {
     "name": "stderr",
     "output_type": "stream",
     "text": [
      "100%|███████████████████████████████████████████| 10/10 [00:04<00:00,  2.02it/s]\n"
     ]
    },
    {
     "name": "stdout",
     "output_type": "stream",
     "text": [
      "kfolded auc 0.745274177238463 {'DROP': [15, 27]} {'FUNC': <function catBoostTrain at 0x7fb474529dc0>, 'ITERS': 10} {}\n"
     ]
    },
    {
     "name": "stderr",
     "output_type": "stream",
     "text": [
      "100%|███████████████████████████████████████████| 10/10 [00:05<00:00,  1.97it/s]\n"
     ]
    },
    {
     "name": "stdout",
     "output_type": "stream",
     "text": [
      "kfolded auc 0.7418932708218423 {'DROP': [15, 28]} {'FUNC': <function catBoostTrain at 0x7fb474529dc0>, 'ITERS': 10} {}\n"
     ]
    },
    {
     "name": "stderr",
     "output_type": "stream",
     "text": [
      "100%|███████████████████████████████████████████| 10/10 [00:05<00:00,  1.92it/s]\n"
     ]
    },
    {
     "name": "stdout",
     "output_type": "stream",
     "text": [
      "kfolded auc 0.7481731476374333 {'DROP': [15, 29]} {'FUNC': <function catBoostTrain at 0x7fb474529dc0>, 'ITERS': 10} {}\n"
     ]
    },
    {
     "name": "stderr",
     "output_type": "stream",
     "text": [
      "100%|███████████████████████████████████████████| 10/10 [00:04<00:00,  2.00it/s]\n"
     ]
    },
    {
     "name": "stdout",
     "output_type": "stream",
     "text": [
      "kfolded auc 0.754531623460195 {'DROP': [15, 30]} {'FUNC': <function catBoostTrain at 0x7fb474529dc0>, 'ITERS': 10} {}\n"
     ]
    },
    {
     "name": "stderr",
     "output_type": "stream",
     "text": [
      "100%|███████████████████████████████████████████| 10/10 [00:05<00:00,  1.72it/s]\n"
     ]
    },
    {
     "name": "stdout",
     "output_type": "stream",
     "text": [
      "kfolded auc 0.7625137892995036 {'DROP': [15, 31]} {'FUNC': <function catBoostTrain at 0x7fb474529dc0>, 'ITERS': 10} {}\n"
     ]
    },
    {
     "name": "stderr",
     "output_type": "stream",
     "text": [
      "100%|███████████████████████████████████████████| 10/10 [00:02<00:00,  3.74it/s]\n"
     ]
    },
    {
     "name": "stdout",
     "output_type": "stream",
     "text": [
      "kfolded auc 0.7578755285898142 {'DROP': [15, 32]} {'FUNC': <function catBoostTrain at 0x7fb474529dc0>, 'ITERS': 10} {}\n"
     ]
    },
    {
     "name": "stderr",
     "output_type": "stream",
     "text": [
      "100%|███████████████████████████████████████████| 10/10 [00:00<00:00, 13.07it/s]\n"
     ]
    },
    {
     "name": "stdout",
     "output_type": "stream",
     "text": [
      "kfolded auc 0.7704658485015627 {'DROP': [16]} {'FUNC': <function catBoostTrain at 0x7fb474529dc0>, 'ITERS': 10} {}\n"
     ]
    },
    {
     "name": "stderr",
     "output_type": "stream",
     "text": [
      "100%|███████████████████████████████████████████| 10/10 [00:00<00:00, 13.32it/s]\n"
     ]
    },
    {
     "name": "stdout",
     "output_type": "stream",
     "text": [
      "kfolded auc 0.7786562327633757 {'DROP': [16, 17]} {'FUNC': <function catBoostTrain at 0x7fb474529dc0>, 'ITERS': 10} {}\n"
     ]
    },
    {
     "name": "stderr",
     "output_type": "stream",
     "text": [
      "100%|███████████████████████████████████████████| 10/10 [00:00<00:00, 12.40it/s]\n"
     ]
    },
    {
     "name": "stdout",
     "output_type": "stream",
     "text": [
      "kfolded auc 0.765733131090274 {'DROP': [16, 18]} {'FUNC': <function catBoostTrain at 0x7fb474529dc0>, 'ITERS': 10} {}\n"
     ]
    },
    {
     "name": "stderr",
     "output_type": "stream",
     "text": [
      "100%|███████████████████████████████████████████| 10/10 [00:00<00:00, 12.85it/s]\n"
     ]
    },
    {
     "name": "stdout",
     "output_type": "stream",
     "text": [
      "kfolded auc 0.7704658485015627 {'DROP': [16, 19]} {'FUNC': <function catBoostTrain at 0x7fb474529dc0>, 'ITERS': 10} {}\n"
     ]
    },
    {
     "name": "stderr",
     "output_type": "stream",
     "text": [
      "100%|███████████████████████████████████████████| 10/10 [00:00<00:00, 12.52it/s]\n"
     ]
    },
    {
     "name": "stdout",
     "output_type": "stream",
     "text": [
      "kfolded auc 0.7428603603603603 {'DROP': [16, 20]} {'FUNC': <function catBoostTrain at 0x7fb474529dc0>, 'ITERS': 10} {}\n"
     ]
    },
    {
     "name": "stderr",
     "output_type": "stream",
     "text": [
      "100%|███████████████████████████████████████████| 10/10 [00:00<00:00, 11.59it/s]\n"
     ]
    },
    {
     "name": "stdout",
     "output_type": "stream",
     "text": [
      "kfolded auc 0.7536998988784704 {'DROP': [16, 21]} {'FUNC': <function catBoostTrain at 0x7fb474529dc0>, 'ITERS': 10} {}\n"
     ]
    },
    {
     "name": "stderr",
     "output_type": "stream",
     "text": [
      "100%|███████████████████████████████████████████| 10/10 [00:00<00:00, 12.97it/s]\n"
     ]
    },
    {
     "name": "stdout",
     "output_type": "stream",
     "text": [
      "kfolded auc 0.7481455690384261 {'DROP': [16, 22]} {'FUNC': <function catBoostTrain at 0x7fb474529dc0>, 'ITERS': 10} {}\n"
     ]
    },
    {
     "name": "stderr",
     "output_type": "stream",
     "text": [
      "100%|███████████████████████████████████████████| 10/10 [00:00<00:00, 13.49it/s]\n"
     ]
    },
    {
     "name": "stdout",
     "output_type": "stream",
     "text": [
      "kfolded auc 0.7522789115646259 {'DROP': [16, 23]} {'FUNC': <function catBoostTrain at 0x7fb474529dc0>, 'ITERS': 10} {}\n"
     ]
    },
    {
     "name": "stderr",
     "output_type": "stream",
     "text": [
      "100%|███████████████████████████████████████████| 10/10 [00:00<00:00, 12.29it/s]\n"
     ]
    },
    {
     "name": "stdout",
     "output_type": "stream",
     "text": [
      "kfolded auc 0.7704658485015627 {'DROP': [16, 24]} {'FUNC': <function catBoostTrain at 0x7fb474529dc0>, 'ITERS': 10} {}\n"
     ]
    },
    {
     "name": "stderr",
     "output_type": "stream",
     "text": [
      "100%|███████████████████████████████████████████| 10/10 [00:00<00:00, 12.05it/s]\n"
     ]
    },
    {
     "name": "stdout",
     "output_type": "stream",
     "text": [
      "kfolded auc 0.7083133388490531 {'DROP': [16, 25]} {'FUNC': <function catBoostTrain at 0x7fb474529dc0>, 'ITERS': 10} {}\n"
     ]
    },
    {
     "name": "stderr",
     "output_type": "stream",
     "text": [
      "100%|███████████████████████████████████████████| 10/10 [00:00<00:00, 12.54it/s]\n"
     ]
    },
    {
     "name": "stdout",
     "output_type": "stream",
     "text": [
      "kfolded auc 0.7400425170068026 {'DROP': [16, 26]} {'FUNC': <function catBoostTrain at 0x7fb474529dc0>, 'ITERS': 10} {}\n"
     ]
    },
    {
     "name": "stderr",
     "output_type": "stream",
     "text": [
      "100%|███████████████████████████████████████████| 10/10 [00:00<00:00, 11.74it/s]\n"
     ]
    },
    {
     "name": "stdout",
     "output_type": "stream",
     "text": [
      "kfolded auc 0.7480982257767972 {'DROP': [16, 27]} {'FUNC': <function catBoostTrain at 0x7fb474529dc0>, 'ITERS': 10} {}\n"
     ]
    },
    {
     "name": "stderr",
     "output_type": "stream",
     "text": [
      "100%|███████████████████████████████████████████| 10/10 [00:00<00:00, 13.80it/s]\n"
     ]
    },
    {
     "name": "stdout",
     "output_type": "stream",
     "text": [
      "kfolded auc 0.748037323037323 {'DROP': [16, 28]} {'FUNC': <function catBoostTrain at 0x7fb474529dc0>, 'ITERS': 10} {}\n"
     ]
    },
    {
     "name": "stderr",
     "output_type": "stream",
     "text": [
      "100%|███████████████████████████████████████████| 10/10 [00:00<00:00, 13.32it/s]\n"
     ]
    },
    {
     "name": "stdout",
     "output_type": "stream",
     "text": [
      "kfolded auc 0.7264281117852546 {'DROP': [16, 29]} {'FUNC': <function catBoostTrain at 0x7fb474529dc0>, 'ITERS': 10} {}\n"
     ]
    },
    {
     "name": "stderr",
     "output_type": "stream",
     "text": [
      "100%|███████████████████████████████████████████| 10/10 [00:00<00:00, 13.11it/s]\n"
     ]
    },
    {
     "name": "stdout",
     "output_type": "stream",
     "text": [
      "kfolded auc 0.7403178433535578 {'DROP': [16, 30]} {'FUNC': <function catBoostTrain at 0x7fb474529dc0>, 'ITERS': 10} {}\n"
     ]
    },
    {
     "name": "stderr",
     "output_type": "stream",
     "text": [
      "100%|███████████████████████████████████████████| 10/10 [00:00<00:00, 12.94it/s]\n"
     ]
    },
    {
     "name": "stdout",
     "output_type": "stream",
     "text": [
      "kfolded auc 0.7437437948152235 {'DROP': [16, 31]} {'FUNC': <function catBoostTrain at 0x7fb474529dc0>, 'ITERS': 10} {}\n"
     ]
    },
    {
     "name": "stderr",
     "output_type": "stream",
     "text": [
      "100%|███████████████████████████████████████████| 10/10 [00:00<00:00, 13.93it/s]\n"
     ]
    },
    {
     "name": "stdout",
     "output_type": "stream",
     "text": [
      "kfolded auc 0.7355005515719801 {'DROP': [16, 32]} {'FUNC': <function catBoostTrain at 0x7fb474529dc0>, 'ITERS': 10} {}\n"
     ]
    },
    {
     "name": "stderr",
     "output_type": "stream",
     "text": [
      "100%|███████████████████████████████████████████| 10/10 [00:00<00:00, 13.31it/s]\n"
     ]
    },
    {
     "name": "stdout",
     "output_type": "stream",
     "text": [
      "kfolded auc 0.7686394557823129 {'DROP': [17]} {'FUNC': <function catBoostTrain at 0x7fb474529dc0>, 'ITERS': 10} {}\n"
     ]
    },
    {
     "name": "stderr",
     "output_type": "stream",
     "text": [
      "100%|███████████████████████████████████████████| 10/10 [00:00<00:00, 13.42it/s]\n"
     ]
    },
    {
     "name": "stdout",
     "output_type": "stream",
     "text": [
      "kfolded auc 0.7465954219525648 {'DROP': [17, 18]} {'FUNC': <function catBoostTrain at 0x7fb474529dc0>, 'ITERS': 10} {}\n"
     ]
    },
    {
     "name": "stderr",
     "output_type": "stream",
     "text": [
      "100%|███████████████████████████████████████████| 10/10 [00:00<00:00, 13.07it/s]\n"
     ]
    },
    {
     "name": "stdout",
     "output_type": "stream",
     "text": [
      "kfolded auc 0.7686394557823129 {'DROP': [17, 19]} {'FUNC': <function catBoostTrain at 0x7fb474529dc0>, 'ITERS': 10} {}\n"
     ]
    },
    {
     "name": "stderr",
     "output_type": "stream",
     "text": [
      "100%|███████████████████████████████████████████| 10/10 [00:00<00:00, 14.09it/s]\n"
     ]
    },
    {
     "name": "stdout",
     "output_type": "stream",
     "text": [
      "kfolded auc 0.7384592756021326 {'DROP': [17, 20]} {'FUNC': <function catBoostTrain at 0x7fb474529dc0>, 'ITERS': 10} {}\n"
     ]
    },
    {
     "name": "stderr",
     "output_type": "stream",
     "text": [
      "100%|███████████████████████████████████████████| 10/10 [00:00<00:00, 12.33it/s]\n"
     ]
    },
    {
     "name": "stdout",
     "output_type": "stream",
     "text": [
      "kfolded auc 0.750343813200956 {'DROP': [17, 21]} {'FUNC': <function catBoostTrain at 0x7fb474529dc0>, 'ITERS': 10} {}\n"
     ]
    },
    {
     "name": "stderr",
     "output_type": "stream",
     "text": [
      "100%|███████████████████████████████████████████| 10/10 [00:00<00:00, 12.12it/s]\n"
     ]
    },
    {
     "name": "stdout",
     "output_type": "stream",
     "text": [
      "kfolded auc 0.755651314579886 {'DROP': [17, 22]} {'FUNC': <function catBoostTrain at 0x7fb474529dc0>, 'ITERS': 10} {}\n"
     ]
    },
    {
     "name": "stderr",
     "output_type": "stream",
     "text": [
      "100%|███████████████████████████████████████████| 10/10 [00:00<00:00, 13.70it/s]\n"
     ]
    },
    {
     "name": "stdout",
     "output_type": "stream",
     "text": [
      "kfolded auc 0.7352767052767052 {'DROP': [17, 23]} {'FUNC': <function catBoostTrain at 0x7fb474529dc0>, 'ITERS': 10} {}\n"
     ]
    },
    {
     "name": "stderr",
     "output_type": "stream",
     "text": [
      "100%|███████████████████████████████████████████| 10/10 [00:00<00:00, 11.79it/s]\n"
     ]
    },
    {
     "name": "stdout",
     "output_type": "stream",
     "text": [
      "kfolded auc 0.7686394557823129 {'DROP': [17, 24]} {'FUNC': <function catBoostTrain at 0x7fb474529dc0>, 'ITERS': 10} {}\n"
     ]
    },
    {
     "name": "stderr",
     "output_type": "stream",
     "text": [
      "100%|███████████████████████████████████████████| 10/10 [00:00<00:00, 13.10it/s]\n"
     ]
    },
    {
     "name": "stdout",
     "output_type": "stream",
     "text": [
      "kfolded auc 0.7150721640007355 {'DROP': [17, 25]} {'FUNC': <function catBoostTrain at 0x7fb474529dc0>, 'ITERS': 10} {}\n"
     ]
    },
    {
     "name": "stderr",
     "output_type": "stream",
     "text": [
      "100%|███████████████████████████████████████████| 10/10 [00:00<00:00, 12.37it/s]\n"
     ]
    },
    {
     "name": "stdout",
     "output_type": "stream",
     "text": [
      "kfolded auc 0.7342719249862106 {'DROP': [17, 26]} {'FUNC': <function catBoostTrain at 0x7fb474529dc0>, 'ITERS': 10} {}\n"
     ]
    },
    {
     "name": "stderr",
     "output_type": "stream",
     "text": [
      "100%|███████████████████████████████████████████| 10/10 [00:00<00:00, 12.18it/s]\n"
     ]
    },
    {
     "name": "stdout",
     "output_type": "stream",
     "text": [
      "kfolded auc 0.7470242691671265 {'DROP': [17, 27]} {'FUNC': <function catBoostTrain at 0x7fb474529dc0>, 'ITERS': 10} {}\n"
     ]
    },
    {
     "name": "stderr",
     "output_type": "stream",
     "text": [
      "100%|███████████████████████████████████████████| 10/10 [00:00<00:00, 13.35it/s]\n"
     ]
    },
    {
     "name": "stdout",
     "output_type": "stream",
     "text": [
      "kfolded auc 0.760766455230741 {'DROP': [17, 28]} {'FUNC': <function catBoostTrain at 0x7fb474529dc0>, 'ITERS': 10} {}\n"
     ]
    },
    {
     "name": "stderr",
     "output_type": "stream",
     "text": [
      "100%|███████████████████████████████████████████| 10/10 [00:00<00:00, 11.75it/s]\n"
     ]
    },
    {
     "name": "stdout",
     "output_type": "stream",
     "text": [
      "kfolded auc 0.7515145247288103 {'DROP': [17, 29]} {'FUNC': <function catBoostTrain at 0x7fb474529dc0>, 'ITERS': 10} {}\n"
     ]
    },
    {
     "name": "stderr",
     "output_type": "stream",
     "text": [
      "100%|███████████████████████████████████████████| 10/10 [00:00<00:00, 12.97it/s]\n"
     ]
    },
    {
     "name": "stdout",
     "output_type": "stream",
     "text": [
      "kfolded auc 0.7546361923147638 {'DROP': [17, 30]} {'FUNC': <function catBoostTrain at 0x7fb474529dc0>, 'ITERS': 10} {}\n"
     ]
    },
    {
     "name": "stderr",
     "output_type": "stream",
     "text": [
      "100%|███████████████████████████████████████████| 10/10 [00:00<00:00, 12.02it/s]\n"
     ]
    },
    {
     "name": "stdout",
     "output_type": "stream",
     "text": [
      "kfolded auc 0.7583910185695901 {'DROP': [17, 31]} {'FUNC': <function catBoostTrain at 0x7fb474529dc0>, 'ITERS': 10} {}\n"
     ]
    },
    {
     "name": "stderr",
     "output_type": "stream",
     "text": [
      "100%|███████████████████████████████████████████| 10/10 [00:00<00:00, 11.11it/s]\n"
     ]
    },
    {
     "name": "stdout",
     "output_type": "stream",
     "text": [
      "kfolded auc 0.7560092618128332 {'DROP': [17, 32]} {'FUNC': <function catBoostTrain at 0x7fb474529dc0>, 'ITERS': 10} {}\n"
     ]
    },
    {
     "name": "stderr",
     "output_type": "stream",
     "text": [
      "100%|███████████████████████████████████████████| 10/10 [00:00<00:00, 11.83it/s]\n"
     ]
    },
    {
     "name": "stdout",
     "output_type": "stream",
     "text": [
      "kfolded auc 0.7735711987497702 {'DROP': [18]} {'FUNC': <function catBoostTrain at 0x7fb474529dc0>, 'ITERS': 10} {}\n"
     ]
    },
    {
     "name": "stderr",
     "output_type": "stream",
     "text": [
      "100%|███████████████████████████████████████████| 10/10 [00:00<00:00, 12.96it/s]\n"
     ]
    },
    {
     "name": "stdout",
     "output_type": "stream",
     "text": [
      "kfolded auc 0.7735711987497702 {'DROP': [18, 19]} {'FUNC': <function catBoostTrain at 0x7fb474529dc0>, 'ITERS': 10} {}\n"
     ]
    },
    {
     "name": "stderr",
     "output_type": "stream",
     "text": [
      "100%|███████████████████████████████████████████| 10/10 [00:00<00:00, 11.63it/s]\n"
     ]
    },
    {
     "name": "stdout",
     "output_type": "stream",
     "text": [
      "kfolded auc 0.7452353373781946 {'DROP': [18, 20]} {'FUNC': <function catBoostTrain at 0x7fb474529dc0>, 'ITERS': 10} {}\n"
     ]
    },
    {
     "name": "stderr",
     "output_type": "stream",
     "text": [
      "100%|███████████████████████████████████████████| 10/10 [00:00<00:00, 13.31it/s]\n"
     ]
    },
    {
     "name": "stdout",
     "output_type": "stream",
     "text": [
      "kfolded auc 0.7476897177790034 {'DROP': [18, 21]} {'FUNC': <function catBoostTrain at 0x7fb474529dc0>, 'ITERS': 10} {}\n"
     ]
    },
    {
     "name": "stderr",
     "output_type": "stream",
     "text": [
      "100%|███████████████████████████████████████████| 10/10 [00:00<00:00, 12.94it/s]\n"
     ]
    },
    {
     "name": "stdout",
     "output_type": "stream",
     "text": [
      "kfolded auc 0.7619199301342159 {'DROP': [18, 22]} {'FUNC': <function catBoostTrain at 0x7fb474529dc0>, 'ITERS': 10} {}\n"
     ]
    },
    {
     "name": "stderr",
     "output_type": "stream",
     "text": [
      "100%|███████████████████████████████████████████| 10/10 [00:00<00:00, 12.59it/s]\n"
     ]
    },
    {
     "name": "stdout",
     "output_type": "stream",
     "text": [
      "kfolded auc 0.7373919838205553 {'DROP': [18, 23]} {'FUNC': <function catBoostTrain at 0x7fb474529dc0>, 'ITERS': 10} {}\n"
     ]
    },
    {
     "name": "stderr",
     "output_type": "stream",
     "text": [
      "100%|███████████████████████████████████████████| 10/10 [00:00<00:00, 12.21it/s]\n"
     ]
    },
    {
     "name": "stdout",
     "output_type": "stream",
     "text": [
      "kfolded auc 0.7735711987497702 {'DROP': [18, 24]} {'FUNC': <function catBoostTrain at 0x7fb474529dc0>, 'ITERS': 10} {}\n"
     ]
    },
    {
     "name": "stderr",
     "output_type": "stream",
     "text": [
      "100%|███████████████████████████████████████████| 10/10 [00:00<00:00, 11.09it/s]\n"
     ]
    },
    {
     "name": "stdout",
     "output_type": "stream",
     "text": [
      "kfolded auc 0.7039451185879758 {'DROP': [18, 25]} {'FUNC': <function catBoostTrain at 0x7fb474529dc0>, 'ITERS': 10} {}\n"
     ]
    },
    {
     "name": "stderr",
     "output_type": "stream",
     "text": [
      "100%|███████████████████████████████████████████| 10/10 [00:00<00:00, 11.83it/s]\n"
     ]
    },
    {
     "name": "stdout",
     "output_type": "stream",
     "text": [
      "kfolded auc 0.7142544585401728 {'DROP': [18, 26]} {'FUNC': <function catBoostTrain at 0x7fb474529dc0>, 'ITERS': 10} {}\n"
     ]
    },
    {
     "name": "stderr",
     "output_type": "stream",
     "text": [
      "100%|███████████████████████████████████████████| 10/10 [00:00<00:00, 11.71it/s]\n"
     ]
    },
    {
     "name": "stdout",
     "output_type": "stream",
     "text": [
      "kfolded auc 0.731379159772017 {'DROP': [18, 27]} {'FUNC': <function catBoostTrain at 0x7fb474529dc0>, 'ITERS': 10} {}\n"
     ]
    },
    {
     "name": "stderr",
     "output_type": "stream",
     "text": [
      "100%|███████████████████████████████████████████| 10/10 [00:00<00:00, 12.70it/s]\n"
     ]
    },
    {
     "name": "stdout",
     "output_type": "stream",
     "text": [
      "kfolded auc 0.7642018293804009 {'DROP': [18, 28]} {'FUNC': <function catBoostTrain at 0x7fb474529dc0>, 'ITERS': 10} {}\n"
     ]
    },
    {
     "name": "stderr",
     "output_type": "stream",
     "text": [
      "100%|███████████████████████████████████████████| 10/10 [00:00<00:00, 11.76it/s]\n"
     ]
    },
    {
     "name": "stdout",
     "output_type": "stream",
     "text": [
      "kfolded auc 0.7586210700496415 {'DROP': [18, 29]} {'FUNC': <function catBoostTrain at 0x7fb474529dc0>, 'ITERS': 10} {}\n"
     ]
    },
    {
     "name": "stderr",
     "output_type": "stream",
     "text": [
      "100%|███████████████████████████████████████████| 10/10 [00:00<00:00, 11.37it/s]\n"
     ]
    },
    {
     "name": "stdout",
     "output_type": "stream",
     "text": [
      "kfolded auc 0.7516857418643134 {'DROP': [18, 30]} {'FUNC': <function catBoostTrain at 0x7fb474529dc0>, 'ITERS': 10} {}\n"
     ]
    },
    {
     "name": "stderr",
     "output_type": "stream",
     "text": [
      "100%|███████████████████████████████████████████| 10/10 [00:00<00:00, 12.63it/s]\n"
     ]
    },
    {
     "name": "stdout",
     "output_type": "stream",
     "text": [
      "kfolded auc 0.7527714193785622 {'DROP': [18, 31]} {'FUNC': <function catBoostTrain at 0x7fb474529dc0>, 'ITERS': 10} {}\n"
     ]
    },
    {
     "name": "stderr",
     "output_type": "stream",
     "text": [
      "100%|███████████████████████████████████████████| 10/10 [00:00<00:00, 12.19it/s]\n"
     ]
    },
    {
     "name": "stdout",
     "output_type": "stream",
     "text": [
      "kfolded auc 0.7492579058650486 {'DROP': [18, 32]} {'FUNC': <function catBoostTrain at 0x7fb474529dc0>, 'ITERS': 10} {}\n"
     ]
    },
    {
     "name": "stderr",
     "output_type": "stream",
     "text": [
      "100%|███████████████████████████████████████████| 10/10 [00:00<00:00, 12.29it/s]\n"
     ]
    },
    {
     "name": "stdout",
     "output_type": "stream",
     "text": [
      "kfolded auc 0.7500981338481337 {'DROP': [19]} {'FUNC': <function catBoostTrain at 0x7fb474529dc0>, 'ITERS': 10} {}\n"
     ]
    },
    {
     "name": "stderr",
     "output_type": "stream",
     "text": [
      "100%|███████████████████████████████████████████| 10/10 [00:00<00:00, 12.26it/s]\n"
     ]
    },
    {
     "name": "stdout",
     "output_type": "stream",
     "text": [
      "kfolded auc 0.7845084114726971 {'DROP': [19, 20]} {'FUNC': <function catBoostTrain at 0x7fb474529dc0>, 'ITERS': 10} {}\n"
     ]
    },
    {
     "name": "stderr",
     "output_type": "stream",
     "text": [
      "100%|███████████████████████████████████████████| 10/10 [00:00<00:00, 12.54it/s]\n"
     ]
    },
    {
     "name": "stdout",
     "output_type": "stream",
     "text": [
      "kfolded auc 0.77845536863394 {'DROP': [19, 21]} {'FUNC': <function catBoostTrain at 0x7fb474529dc0>, 'ITERS': 10} {}\n"
     ]
    },
    {
     "name": "stderr",
     "output_type": "stream",
     "text": [
      "100%|███████████████████████████████████████████| 10/10 [00:00<00:00, 12.32it/s]\n"
     ]
    },
    {
     "name": "stdout",
     "output_type": "stream",
     "text": [
      "kfolded auc 0.7917105626034198 {'DROP': [19, 22]} {'FUNC': <function catBoostTrain at 0x7fb474529dc0>, 'ITERS': 10} {}\n"
     ]
    },
    {
     "name": "stderr",
     "output_type": "stream",
     "text": [
      "100%|███████████████████████████████████████████| 10/10 [00:00<00:00, 12.86it/s]\n"
     ]
    },
    {
     "name": "stdout",
     "output_type": "stream",
     "text": [
      "kfolded auc 0.7754274682846112 {'DROP': [19, 23]} {'FUNC': <function catBoostTrain at 0x7fb474529dc0>, 'ITERS': 10} {}\n"
     ]
    },
    {
     "name": "stderr",
     "output_type": "stream",
     "text": [
      "100%|███████████████████████████████████████████| 10/10 [00:00<00:00, 12.75it/s]\n"
     ]
    },
    {
     "name": "stdout",
     "output_type": "stream",
     "text": [
      "kfolded auc 0.7500981338481337 {'DROP': [19, 24]} {'FUNC': <function catBoostTrain at 0x7fb474529dc0>, 'ITERS': 10} {}\n"
     ]
    },
    {
     "name": "stderr",
     "output_type": "stream",
     "text": [
      "100%|███████████████████████████████████████████| 10/10 [00:00<00:00, 13.06it/s]\n"
     ]
    },
    {
     "name": "stdout",
     "output_type": "stream",
     "text": [
      "kfolded auc 0.7159896120610407 {'DROP': [19, 25]} {'FUNC': <function catBoostTrain at 0x7fb474529dc0>, 'ITERS': 10} {}\n"
     ]
    },
    {
     "name": "stderr",
     "output_type": "stream",
     "text": [
      "100%|███████████████████████████████████████████| 10/10 [00:00<00:00, 12.10it/s]\n"
     ]
    },
    {
     "name": "stdout",
     "output_type": "stream",
     "text": [
      "kfolded auc 0.7330014708586138 {'DROP': [19, 26]} {'FUNC': <function catBoostTrain at 0x7fb474529dc0>, 'ITERS': 10} {}\n"
     ]
    },
    {
     "name": "stderr",
     "output_type": "stream",
     "text": [
      "100%|███████████████████████████████████████████| 10/10 [00:00<00:00, 11.47it/s]\n"
     ]
    },
    {
     "name": "stdout",
     "output_type": "stream",
     "text": [
      "kfolded auc 0.7293496047067475 {'DROP': [19, 27]} {'FUNC': <function catBoostTrain at 0x7fb474529dc0>, 'ITERS': 10} {}\n"
     ]
    },
    {
     "name": "stderr",
     "output_type": "stream",
     "text": [
      "100%|███████████████████████████████████████████| 10/10 [00:00<00:00, 12.11it/s]\n"
     ]
    },
    {
     "name": "stdout",
     "output_type": "stream",
     "text": [
      "kfolded auc 0.7329633204633204 {'DROP': [19, 28]} {'FUNC': <function catBoostTrain at 0x7fb474529dc0>, 'ITERS': 10} {}\n"
     ]
    },
    {
     "name": "stderr",
     "output_type": "stream",
     "text": [
      "100%|███████████████████████████████████████████| 10/10 [00:00<00:00, 11.55it/s]\n"
     ]
    },
    {
     "name": "stdout",
     "output_type": "stream",
     "text": [
      "kfolded auc 0.7315671538885825 {'DROP': [19, 29]} {'FUNC': <function catBoostTrain at 0x7fb474529dc0>, 'ITERS': 10} {}\n"
     ]
    },
    {
     "name": "stderr",
     "output_type": "stream",
     "text": [
      "100%|███████████████████████████████████████████| 10/10 [00:00<00:00, 11.75it/s]\n"
     ]
    },
    {
     "name": "stdout",
     "output_type": "stream",
     "text": [
      "kfolded auc 0.7323494668137526 {'DROP': [19, 30]} {'FUNC': <function catBoostTrain at 0x7fb474529dc0>, 'ITERS': 10} {}\n"
     ]
    },
    {
     "name": "stderr",
     "output_type": "stream",
     "text": [
      "100%|███████████████████████████████████████████| 10/10 [00:00<00:00, 11.50it/s]\n"
     ]
    },
    {
     "name": "stdout",
     "output_type": "stream",
     "text": [
      "kfolded auc 0.7219201599558742 {'DROP': [19, 31]} {'FUNC': <function catBoostTrain at 0x7fb474529dc0>, 'ITERS': 10} {}\n"
     ]
    },
    {
     "name": "stderr",
     "output_type": "stream",
     "text": [
      "100%|███████████████████████████████████████████| 10/10 [00:00<00:00, 12.31it/s]\n"
     ]
    },
    {
     "name": "stdout",
     "output_type": "stream",
     "text": [
      "kfolded auc 0.7186982901268616 {'DROP': [19, 32]} {'FUNC': <function catBoostTrain at 0x7fb474529dc0>, 'ITERS': 10} {}\n"
     ]
    },
    {
     "name": "stderr",
     "output_type": "stream",
     "text": [
      "100%|███████████████████████████████████████████| 10/10 [00:00<00:00, 12.13it/s]\n"
     ]
    },
    {
     "name": "stdout",
     "output_type": "stream",
     "text": [
      "kfolded auc 0.7845084114726971 {'DROP': [20]} {'FUNC': <function catBoostTrain at 0x7fb474529dc0>, 'ITERS': 10} {}\n"
     ]
    },
    {
     "name": "stderr",
     "output_type": "stream",
     "text": [
      "100%|███████████████████████████████████████████| 10/10 [00:00<00:00, 11.45it/s]\n"
     ]
    },
    {
     "name": "stdout",
     "output_type": "stream",
     "text": [
      "kfolded auc 0.7560682110682111 {'DROP': [20, 21]} {'FUNC': <function catBoostTrain at 0x7fb474529dc0>, 'ITERS': 10} {}\n"
     ]
    },
    {
     "name": "stderr",
     "output_type": "stream",
     "text": [
      "100%|███████████████████████████████████████████| 10/10 [00:00<00:00, 12.80it/s]\n"
     ]
    },
    {
     "name": "stdout",
     "output_type": "stream",
     "text": [
      "kfolded auc 0.7367507813936386 {'DROP': [20, 22]} {'FUNC': <function catBoostTrain at 0x7fb474529dc0>, 'ITERS': 10} {}\n"
     ]
    },
    {
     "name": "stderr",
     "output_type": "stream",
     "text": [
      "100%|███████████████████████████████████████████| 10/10 [00:00<00:00, 12.51it/s]\n"
     ]
    },
    {
     "name": "stdout",
     "output_type": "stream",
     "text": [
      "kfolded auc 0.7435608567751426 {'DROP': [20, 23]} {'FUNC': <function catBoostTrain at 0x7fb474529dc0>, 'ITERS': 10} {}\n"
     ]
    },
    {
     "name": "stderr",
     "output_type": "stream",
     "text": [
      "100%|███████████████████████████████████████████| 10/10 [00:00<00:00, 10.79it/s]\n"
     ]
    },
    {
     "name": "stdout",
     "output_type": "stream",
     "text": [
      "kfolded auc 0.7845084114726971 {'DROP': [20, 24]} {'FUNC': <function catBoostTrain at 0x7fb474529dc0>, 'ITERS': 10} {}\n"
     ]
    },
    {
     "name": "stderr",
     "output_type": "stream",
     "text": [
      "100%|███████████████████████████████████████████| 10/10 [00:00<00:00, 11.01it/s]\n"
     ]
    },
    {
     "name": "stdout",
     "output_type": "stream",
     "text": [
      "kfolded auc 0.6939200680272108 {'DROP': [20, 25]} {'FUNC': <function catBoostTrain at 0x7fb474529dc0>, 'ITERS': 10} {}\n"
     ]
    },
    {
     "name": "stderr",
     "output_type": "stream",
     "text": [
      "100%|███████████████████████████████████████████| 10/10 [00:00<00:00, 13.10it/s]\n"
     ]
    },
    {
     "name": "stdout",
     "output_type": "stream",
     "text": [
      "kfolded auc 0.7445681651038794 {'DROP': [20, 26]} {'FUNC': <function catBoostTrain at 0x7fb474529dc0>, 'ITERS': 10} {}\n"
     ]
    },
    {
     "name": "stderr",
     "output_type": "stream",
     "text": [
      "100%|███████████████████████████████████████████| 10/10 [00:00<00:00, 12.00it/s]\n"
     ]
    },
    {
     "name": "stdout",
     "output_type": "stream",
     "text": [
      "kfolded auc 0.7395569038426182 {'DROP': [20, 27]} {'FUNC': <function catBoostTrain at 0x7fb474529dc0>, 'ITERS': 10} {}\n"
     ]
    },
    {
     "name": "stderr",
     "output_type": "stream",
     "text": [
      "100%|███████████████████████████████████████████| 10/10 [00:00<00:00, 11.87it/s]\n"
     ]
    },
    {
     "name": "stdout",
     "output_type": "stream",
     "text": [
      "kfolded auc 0.7439389134031991 {'DROP': [20, 28]} {'FUNC': <function catBoostTrain at 0x7fb474529dc0>, 'ITERS': 10} {}\n"
     ]
    },
    {
     "name": "stderr",
     "output_type": "stream",
     "text": [
      "100%|███████████████████████████████████████████| 10/10 [00:00<00:00, 12.45it/s]\n"
     ]
    },
    {
     "name": "stdout",
     "output_type": "stream",
     "text": [
      "kfolded auc 0.7386410645339216 {'DROP': [20, 29]} {'FUNC': <function catBoostTrain at 0x7fb474529dc0>, 'ITERS': 10} {}\n"
     ]
    },
    {
     "name": "stderr",
     "output_type": "stream",
     "text": [
      "100%|███████████████████████████████████████████| 10/10 [00:00<00:00, 11.41it/s]\n"
     ]
    },
    {
     "name": "stdout",
     "output_type": "stream",
     "text": [
      "kfolded auc 0.7519537139179997 {'DROP': [20, 30]} {'FUNC': <function catBoostTrain at 0x7fb474529dc0>, 'ITERS': 10} {}\n"
     ]
    },
    {
     "name": "stderr",
     "output_type": "stream",
     "text": [
      "100%|███████████████████████████████████████████| 10/10 [00:00<00:00, 10.97it/s]\n"
     ]
    },
    {
     "name": "stdout",
     "output_type": "stream",
     "text": [
      "kfolded auc 0.7515772660415517 {'DROP': [20, 31]} {'FUNC': <function catBoostTrain at 0x7fb474529dc0>, 'ITERS': 10} {}\n"
     ]
    },
    {
     "name": "stderr",
     "output_type": "stream",
     "text": [
      "100%|███████████████████████████████████████████| 10/10 [00:00<00:00, 10.93it/s]\n"
     ]
    },
    {
     "name": "stdout",
     "output_type": "stream",
     "text": [
      "kfolded auc 0.7464276521419378 {'DROP': [20, 32]} {'FUNC': <function catBoostTrain at 0x7fb474529dc0>, 'ITERS': 10} {}\n"
     ]
    },
    {
     "name": "stderr",
     "output_type": "stream",
     "text": [
      "100%|███████████████████████████████████████████| 10/10 [00:00<00:00, 12.22it/s]\n"
     ]
    },
    {
     "name": "stdout",
     "output_type": "stream",
     "text": [
      "kfolded auc 0.77845536863394 {'DROP': [21]} {'FUNC': <function catBoostTrain at 0x7fb474529dc0>, 'ITERS': 10} {}\n"
     ]
    },
    {
     "name": "stderr",
     "output_type": "stream",
     "text": [
      "100%|███████████████████████████████████████████| 10/10 [00:00<00:00, 12.31it/s]\n"
     ]
    },
    {
     "name": "stdout",
     "output_type": "stream",
     "text": [
      "kfolded auc 0.771779738922596 {'DROP': [21, 22]} {'FUNC': <function catBoostTrain at 0x7fb474529dc0>, 'ITERS': 10} {}\n"
     ]
    },
    {
     "name": "stderr",
     "output_type": "stream",
     "text": [
      "100%|███████████████████████████████████████████| 10/10 [00:00<00:00, 11.53it/s]\n"
     ]
    },
    {
     "name": "stdout",
     "output_type": "stream",
     "text": [
      "kfolded auc 0.7393429398786542 {'DROP': [21, 23]} {'FUNC': <function catBoostTrain at 0x7fb474529dc0>, 'ITERS': 10} {}\n"
     ]
    },
    {
     "name": "stderr",
     "output_type": "stream",
     "text": [
      "100%|███████████████████████████████████████████| 10/10 [00:00<00:00, 12.03it/s]\n"
     ]
    },
    {
     "name": "stdout",
     "output_type": "stream",
     "text": [
      "kfolded auc 0.77845536863394 {'DROP': [21, 24]} {'FUNC': <function catBoostTrain at 0x7fb474529dc0>, 'ITERS': 10} {}\n"
     ]
    },
    {
     "name": "stderr",
     "output_type": "stream",
     "text": [
      "100%|███████████████████████████████████████████| 10/10 [00:00<00:00, 10.58it/s]\n"
     ]
    },
    {
     "name": "stdout",
     "output_type": "stream",
     "text": [
      "kfolded auc 0.7145796561867991 {'DROP': [21, 25]} {'FUNC': <function catBoostTrain at 0x7fb474529dc0>, 'ITERS': 10} {}\n"
     ]
    },
    {
     "name": "stderr",
     "output_type": "stream",
     "text": [
      "100%|███████████████████████████████████████████| 10/10 [00:00<00:00, 13.37it/s]\n"
     ]
    },
    {
     "name": "stdout",
     "output_type": "stream",
     "text": [
      "kfolded auc 0.7582948382055525 {'DROP': [21, 26]} {'FUNC': <function catBoostTrain at 0x7fb474529dc0>, 'ITERS': 10} {}\n"
     ]
    },
    {
     "name": "stderr",
     "output_type": "stream",
     "text": [
      "100%|███████████████████████████████████████████| 10/10 [00:00<00:00, 12.48it/s]\n"
     ]
    },
    {
     "name": "stdout",
     "output_type": "stream",
     "text": [
      "kfolded auc 0.7389924618496048 {'DROP': [21, 27]} {'FUNC': <function catBoostTrain at 0x7fb474529dc0>, 'ITERS': 10} {}\n"
     ]
    },
    {
     "name": "stderr",
     "output_type": "stream",
     "text": [
      "100%|███████████████████████████████████████████| 10/10 [00:00<00:00, 11.64it/s]\n"
     ]
    },
    {
     "name": "stdout",
     "output_type": "stream",
     "text": [
      "kfolded auc 0.7616331127045413 {'DROP': [21, 28]} {'FUNC': <function catBoostTrain at 0x7fb474529dc0>, 'ITERS': 10} {}\n"
     ]
    },
    {
     "name": "stderr",
     "output_type": "stream",
     "text": [
      "100%|███████████████████████████████████████████| 10/10 [00:00<00:00, 12.81it/s]\n"
     ]
    },
    {
     "name": "stdout",
     "output_type": "stream",
     "text": [
      "kfolded auc 0.7610548814120243 {'DROP': [21, 29]} {'FUNC': <function catBoostTrain at 0x7fb474529dc0>, 'ITERS': 10} {}\n"
     ]
    },
    {
     "name": "stderr",
     "output_type": "stream",
     "text": [
      "100%|███████████████████████████████████████████| 10/10 [00:00<00:00, 11.70it/s]\n"
     ]
    },
    {
     "name": "stdout",
     "output_type": "stream",
     "text": [
      "kfolded auc 0.7528359992645707 {'DROP': [21, 30]} {'FUNC': <function catBoostTrain at 0x7fb474529dc0>, 'ITERS': 10} {}\n"
     ]
    },
    {
     "name": "stderr",
     "output_type": "stream",
     "text": [
      "100%|███████████████████████████████████████████| 10/10 [00:00<00:00, 12.71it/s]\n"
     ]
    },
    {
     "name": "stdout",
     "output_type": "stream",
     "text": [
      "kfolded auc 0.7463175675675675 {'DROP': [21, 31]} {'FUNC': <function catBoostTrain at 0x7fb474529dc0>, 'ITERS': 10} {}\n"
     ]
    },
    {
     "name": "stderr",
     "output_type": "stream",
     "text": [
      "100%|███████████████████████████████████████████| 10/10 [00:00<00:00, 11.85it/s]\n"
     ]
    },
    {
     "name": "stdout",
     "output_type": "stream",
     "text": [
      "kfolded auc 0.7579391891891891 {'DROP': [21, 32]} {'FUNC': <function catBoostTrain at 0x7fb474529dc0>, 'ITERS': 10} {}\n"
     ]
    },
    {
     "name": "stderr",
     "output_type": "stream",
     "text": [
      "100%|███████████████████████████████████████████| 10/10 [00:00<00:00, 11.24it/s]\n"
     ]
    },
    {
     "name": "stdout",
     "output_type": "stream",
     "text": [
      "kfolded auc 0.7917105626034198 {'DROP': [22]} {'FUNC': <function catBoostTrain at 0x7fb474529dc0>, 'ITERS': 10} {}\n"
     ]
    },
    {
     "name": "stderr",
     "output_type": "stream",
     "text": [
      "100%|███████████████████████████████████████████| 10/10 [00:00<00:00, 12.55it/s]\n"
     ]
    },
    {
     "name": "stdout",
     "output_type": "stream",
     "text": [
      "kfolded auc 0.7545433443647729 {'DROP': [22, 23]} {'FUNC': <function catBoostTrain at 0x7fb474529dc0>, 'ITERS': 10} {}\n"
     ]
    },
    {
     "name": "stderr",
     "output_type": "stream",
     "text": [
      "100%|███████████████████████████████████████████| 10/10 [00:00<00:00, 13.24it/s]\n"
     ]
    },
    {
     "name": "stdout",
     "output_type": "stream",
     "text": [
      "kfolded auc 0.7917105626034198 {'DROP': [22, 24]} {'FUNC': <function catBoostTrain at 0x7fb474529dc0>, 'ITERS': 10} {}\n"
     ]
    },
    {
     "name": "stderr",
     "output_type": "stream",
     "text": [
      "100%|███████████████████████████████████████████| 10/10 [00:00<00:00, 12.84it/s]\n"
     ]
    },
    {
     "name": "stdout",
     "output_type": "stream",
     "text": [
      "kfolded auc 0.7166953943739658 {'DROP': [22, 25]} {'FUNC': <function catBoostTrain at 0x7fb474529dc0>, 'ITERS': 10} {}\n"
     ]
    },
    {
     "name": "stderr",
     "output_type": "stream",
     "text": [
      "100%|███████████████████████████████████████████| 10/10 [00:00<00:00, 11.81it/s]\n"
     ]
    },
    {
     "name": "stdout",
     "output_type": "stream",
     "text": [
      "kfolded auc 0.7570575933075933 {'DROP': [22, 26]} {'FUNC': <function catBoostTrain at 0x7fb474529dc0>, 'ITERS': 10} {}\n"
     ]
    },
    {
     "name": "stderr",
     "output_type": "stream",
     "text": [
      "100%|███████████████████████████████████████████| 10/10 [00:00<00:00, 12.15it/s]\n"
     ]
    },
    {
     "name": "stdout",
     "output_type": "stream",
     "text": [
      "kfolded auc 0.7452955506526935 {'DROP': [22, 27]} {'FUNC': <function catBoostTrain at 0x7fb474529dc0>, 'ITERS': 10} {}\n"
     ]
    },
    {
     "name": "stderr",
     "output_type": "stream",
     "text": [
      "100%|███████████████████████████████████████████| 10/10 [00:00<00:00, 11.35it/s]\n"
     ]
    },
    {
     "name": "stdout",
     "output_type": "stream",
     "text": [
      "kfolded auc 0.7449039345467917 {'DROP': [22, 28]} {'FUNC': <function catBoostTrain at 0x7fb474529dc0>, 'ITERS': 10} {}\n"
     ]
    },
    {
     "name": "stderr",
     "output_type": "stream",
     "text": [
      "100%|███████████████████████████████████████████| 10/10 [00:00<00:00, 11.29it/s]\n"
     ]
    },
    {
     "name": "stdout",
     "output_type": "stream",
     "text": [
      "kfolded auc 0.7479447049089906 {'DROP': [22, 29]} {'FUNC': <function catBoostTrain at 0x7fb474529dc0>, 'ITERS': 10} {}\n"
     ]
    },
    {
     "name": "stderr",
     "output_type": "stream",
     "text": [
      "100%|███████████████████████████████████████████| 10/10 [00:00<00:00, 11.55it/s]\n"
     ]
    },
    {
     "name": "stdout",
     "output_type": "stream",
     "text": [
      "kfolded auc 0.7521695164552307 {'DROP': [22, 30]} {'FUNC': <function catBoostTrain at 0x7fb474529dc0>, 'ITERS': 10} {}\n"
     ]
    },
    {
     "name": "stderr",
     "output_type": "stream",
     "text": [
      "100%|███████████████████████████████████████████| 10/10 [00:00<00:00, 12.60it/s]\n"
     ]
    },
    {
     "name": "stdout",
     "output_type": "stream",
     "text": [
      "kfolded auc 0.7528801250229822 {'DROP': [22, 31]} {'FUNC': <function catBoostTrain at 0x7fb474529dc0>, 'ITERS': 10} {}\n"
     ]
    },
    {
     "name": "stderr",
     "output_type": "stream",
     "text": [
      "100%|███████████████████████████████████████████| 10/10 [00:00<00:00, 11.15it/s]\n"
     ]
    },
    {
     "name": "stdout",
     "output_type": "stream",
     "text": [
      "kfolded auc 0.7527721088435373 {'DROP': [22, 32]} {'FUNC': <function catBoostTrain at 0x7fb474529dc0>, 'ITERS': 10} {}\n"
     ]
    },
    {
     "name": "stderr",
     "output_type": "stream",
     "text": [
      "100%|███████████████████████████████████████████| 10/10 [00:00<00:00, 11.40it/s]\n"
     ]
    },
    {
     "name": "stdout",
     "output_type": "stream",
     "text": [
      "kfolded auc 0.7754274682846112 {'DROP': [23]} {'FUNC': <function catBoostTrain at 0x7fb474529dc0>, 'ITERS': 10} {}\n"
     ]
    },
    {
     "name": "stderr",
     "output_type": "stream",
     "text": [
      "100%|███████████████████████████████████████████| 10/10 [00:00<00:00, 11.45it/s]\n"
     ]
    },
    {
     "name": "stdout",
     "output_type": "stream",
     "text": [
      "kfolded auc 0.7754274682846112 {'DROP': [23, 24]} {'FUNC': <function catBoostTrain at 0x7fb474529dc0>, 'ITERS': 10} {}\n"
     ]
    },
    {
     "name": "stderr",
     "output_type": "stream",
     "text": [
      "100%|███████████████████████████████████████████| 10/10 [00:00<00:00, 12.77it/s]\n"
     ]
    },
    {
     "name": "stdout",
     "output_type": "stream",
     "text": [
      "kfolded auc 0.706085677514249 {'DROP': [23, 25]} {'FUNC': <function catBoostTrain at 0x7fb474529dc0>, 'ITERS': 10} {}\n"
     ]
    },
    {
     "name": "stderr",
     "output_type": "stream",
     "text": [
      "100%|███████████████████████████████████████████| 10/10 [00:00<00:00, 12.44it/s]\n"
     ]
    },
    {
     "name": "stdout",
     "output_type": "stream",
     "text": [
      "kfolded auc 0.7433059845559845 {'DROP': [23, 26]} {'FUNC': <function catBoostTrain at 0x7fb474529dc0>, 'ITERS': 10} {}\n"
     ]
    },
    {
     "name": "stderr",
     "output_type": "stream",
     "text": [
      "100%|███████████████████████████████████████████| 10/10 [00:00<00:00, 11.43it/s]\n"
     ]
    },
    {
     "name": "stdout",
     "output_type": "stream",
     "text": [
      "kfolded auc 0.7259037736716307 {'DROP': [23, 27]} {'FUNC': <function catBoostTrain at 0x7fb474529dc0>, 'ITERS': 10} {}\n"
     ]
    },
    {
     "name": "stderr",
     "output_type": "stream",
     "text": [
      "100%|███████████████████████████████████████████| 10/10 [00:00<00:00, 10.90it/s]\n"
     ]
    },
    {
     "name": "stdout",
     "output_type": "stream",
     "text": [
      "kfolded auc 0.7600280382423239 {'DROP': [23, 28]} {'FUNC': <function catBoostTrain at 0x7fb474529dc0>, 'ITERS': 10} {}\n"
     ]
    },
    {
     "name": "stderr",
     "output_type": "stream",
     "text": [
      "100%|███████████████████████████████████████████| 10/10 [00:00<00:00, 11.41it/s]\n"
     ]
    },
    {
     "name": "stdout",
     "output_type": "stream",
     "text": [
      "kfolded auc 0.759590227983085 {'DROP': [23, 29]} {'FUNC': <function catBoostTrain at 0x7fb474529dc0>, 'ITERS': 10} {}\n"
     ]
    },
    {
     "name": "stderr",
     "output_type": "stream",
     "text": [
      "100%|███████████████████████████████████████████| 10/10 [00:00<00:00, 12.43it/s]\n"
     ]
    },
    {
     "name": "stdout",
     "output_type": "stream",
     "text": [
      "kfolded auc 0.7554782588711161 {'DROP': [23, 30]} {'FUNC': <function catBoostTrain at 0x7fb474529dc0>, 'ITERS': 10} {}\n"
     ]
    },
    {
     "name": "stderr",
     "output_type": "stream",
     "text": [
      "100%|███████████████████████████████████████████| 10/10 [00:00<00:00, 11.31it/s]\n"
     ]
    },
    {
     "name": "stdout",
     "output_type": "stream",
     "text": [
      "kfolded auc 0.7545348409634125 {'DROP': [23, 31]} {'FUNC': <function catBoostTrain at 0x7fb474529dc0>, 'ITERS': 10} {}\n"
     ]
    },
    {
     "name": "stderr",
     "output_type": "stream",
     "text": [
      "100%|███████████████████████████████████████████| 10/10 [00:00<00:00, 11.45it/s]\n"
     ]
    },
    {
     "name": "stdout",
     "output_type": "stream",
     "text": [
      "kfolded auc 0.7567645706931422 {'DROP': [23, 32]} {'FUNC': <function catBoostTrain at 0x7fb474529dc0>, 'ITERS': 10} {}\n"
     ]
    },
    {
     "name": "stderr",
     "output_type": "stream",
     "text": [
      "100%|███████████████████████████████████████████| 10/10 [00:00<00:00, 11.74it/s]\n"
     ]
    },
    {
     "name": "stdout",
     "output_type": "stream",
     "text": [
      "kfolded auc 0.7500981338481337 {'DROP': [24]} {'FUNC': <function catBoostTrain at 0x7fb474529dc0>, 'ITERS': 10} {}\n"
     ]
    },
    {
     "name": "stderr",
     "output_type": "stream",
     "text": [
      "100%|███████████████████████████████████████████| 10/10 [00:00<00:00, 11.74it/s]\n"
     ]
    },
    {
     "name": "stdout",
     "output_type": "stream",
     "text": [
      "kfolded auc 0.7159896120610407 {'DROP': [24, 25]} {'FUNC': <function catBoostTrain at 0x7fb474529dc0>, 'ITERS': 10} {}\n"
     ]
    },
    {
     "name": "stderr",
     "output_type": "stream",
     "text": [
      "100%|███████████████████████████████████████████| 10/10 [00:00<00:00, 10.91it/s]\n"
     ]
    },
    {
     "name": "stdout",
     "output_type": "stream",
     "text": [
      "kfolded auc 0.7330014708586138 {'DROP': [24, 26]} {'FUNC': <function catBoostTrain at 0x7fb474529dc0>, 'ITERS': 10} {}\n"
     ]
    },
    {
     "name": "stderr",
     "output_type": "stream",
     "text": [
      "100%|███████████████████████████████████████████| 10/10 [00:00<00:00, 12.72it/s]\n"
     ]
    },
    {
     "name": "stdout",
     "output_type": "stream",
     "text": [
      "kfolded auc 0.7293496047067475 {'DROP': [24, 27]} {'FUNC': <function catBoostTrain at 0x7fb474529dc0>, 'ITERS': 10} {}\n"
     ]
    },
    {
     "name": "stderr",
     "output_type": "stream",
     "text": [
      "100%|███████████████████████████████████████████| 10/10 [00:00<00:00, 11.51it/s]\n"
     ]
    },
    {
     "name": "stdout",
     "output_type": "stream",
     "text": [
      "kfolded auc 0.7329633204633204 {'DROP': [24, 28]} {'FUNC': <function catBoostTrain at 0x7fb474529dc0>, 'ITERS': 10} {}\n"
     ]
    },
    {
     "name": "stderr",
     "output_type": "stream",
     "text": [
      "100%|███████████████████████████████████████████| 10/10 [00:00<00:00, 11.21it/s]\n"
     ]
    },
    {
     "name": "stdout",
     "output_type": "stream",
     "text": [
      "kfolded auc 0.7315671538885825 {'DROP': [24, 29]} {'FUNC': <function catBoostTrain at 0x7fb474529dc0>, 'ITERS': 10} {}\n"
     ]
    },
    {
     "name": "stderr",
     "output_type": "stream",
     "text": [
      "100%|███████████████████████████████████████████| 10/10 [00:00<00:00, 11.62it/s]\n"
     ]
    },
    {
     "name": "stdout",
     "output_type": "stream",
     "text": [
      "kfolded auc 0.7323494668137526 {'DROP': [24, 30]} {'FUNC': <function catBoostTrain at 0x7fb474529dc0>, 'ITERS': 10} {}\n"
     ]
    },
    {
     "name": "stderr",
     "output_type": "stream",
     "text": [
      "100%|███████████████████████████████████████████| 10/10 [00:00<00:00, 11.90it/s]\n"
     ]
    },
    {
     "name": "stdout",
     "output_type": "stream",
     "text": [
      "kfolded auc 0.7219201599558742 {'DROP': [24, 31]} {'FUNC': <function catBoostTrain at 0x7fb474529dc0>, 'ITERS': 10} {}\n"
     ]
    },
    {
     "name": "stderr",
     "output_type": "stream",
     "text": [
      "100%|███████████████████████████████████████████| 10/10 [00:00<00:00, 11.59it/s]\n"
     ]
    },
    {
     "name": "stdout",
     "output_type": "stream",
     "text": [
      "kfolded auc 0.7186982901268616 {'DROP': [24, 32]} {'FUNC': <function catBoostTrain at 0x7fb474529dc0>, 'ITERS': 10} {}\n"
     ]
    },
    {
     "name": "stderr",
     "output_type": "stream",
     "text": [
      "100%|███████████████████████████████████████████| 10/10 [00:00<00:00, 11.38it/s]\n"
     ]
    },
    {
     "name": "stdout",
     "output_type": "stream",
     "text": [
      "kfolded auc 0.7159896120610407 {'DROP': [25]} {'FUNC': <function catBoostTrain at 0x7fb474529dc0>, 'ITERS': 10} {}\n"
     ]
    },
    {
     "name": "stderr",
     "output_type": "stream",
     "text": [
      "100%|███████████████████████████████████████████| 10/10 [00:00<00:00, 12.39it/s]\n"
     ]
    },
    {
     "name": "stdout",
     "output_type": "stream",
     "text": [
      "kfolded auc 0.7120271419378561 {'DROP': [25, 26]} {'FUNC': <function catBoostTrain at 0x7fb474529dc0>, 'ITERS': 10} {}\n"
     ]
    },
    {
     "name": "stderr",
     "output_type": "stream",
     "text": [
      "100%|███████████████████████████████████████████| 10/10 [00:00<00:00, 11.76it/s]\n"
     ]
    },
    {
     "name": "stdout",
     "output_type": "stream",
     "text": [
      "kfolded auc 0.709128286449715 {'DROP': [25, 27]} {'FUNC': <function catBoostTrain at 0x7fb474529dc0>, 'ITERS': 10} {}\n"
     ]
    },
    {
     "name": "stderr",
     "output_type": "stream",
     "text": [
      "100%|███████████████████████████████████████████| 10/10 [00:00<00:00, 11.83it/s]\n"
     ]
    },
    {
     "name": "stdout",
     "output_type": "stream",
     "text": [
      "kfolded auc 0.70714101856959 {'DROP': [25, 28]} {'FUNC': <function catBoostTrain at 0x7fb474529dc0>, 'ITERS': 10} {}\n"
     ]
    },
    {
     "name": "stderr",
     "output_type": "stream",
     "text": [
      "100%|███████████████████████████████████████████| 10/10 [00:00<00:00, 12.48it/s]\n"
     ]
    },
    {
     "name": "stdout",
     "output_type": "stream",
     "text": [
      "kfolded auc 0.7107715113072255 {'DROP': [25, 29]} {'FUNC': <function catBoostTrain at 0x7fb474529dc0>, 'ITERS': 10} {}\n"
     ]
    },
    {
     "name": "stderr",
     "output_type": "stream",
     "text": [
      "100%|███████████████████████████████████████████| 10/10 [00:00<00:00, 11.42it/s]\n"
     ]
    },
    {
     "name": "stdout",
     "output_type": "stream",
     "text": [
      "kfolded auc 0.7089444291230005 {'DROP': [25, 30]} {'FUNC': <function catBoostTrain at 0x7fb474529dc0>, 'ITERS': 10} {}\n"
     ]
    },
    {
     "name": "stderr",
     "output_type": "stream",
     "text": [
      "100%|███████████████████████████████████████████| 10/10 [00:00<00:00, 10.95it/s]\n"
     ]
    },
    {
     "name": "stdout",
     "output_type": "stream",
     "text": [
      "kfolded auc 0.7091023166023166 {'DROP': [25, 31]} {'FUNC': <function catBoostTrain at 0x7fb474529dc0>, 'ITERS': 10} {}\n"
     ]
    },
    {
     "name": "stderr",
     "output_type": "stream",
     "text": [
      "100%|███████████████████████████████████████████| 10/10 [00:00<00:00, 11.40it/s]\n"
     ]
    },
    {
     "name": "stdout",
     "output_type": "stream",
     "text": [
      "kfolded auc 0.7157915057915057 {'DROP': [25, 32]} {'FUNC': <function catBoostTrain at 0x7fb474529dc0>, 'ITERS': 10} {}\n"
     ]
    },
    {
     "name": "stderr",
     "output_type": "stream",
     "text": [
      "100%|███████████████████████████████████████████| 10/10 [00:00<00:00, 11.82it/s]\n"
     ]
    },
    {
     "name": "stdout",
     "output_type": "stream",
     "text": [
      "kfolded auc 0.7330014708586138 {'DROP': [26]} {'FUNC': <function catBoostTrain at 0x7fb474529dc0>, 'ITERS': 10} {}\n"
     ]
    },
    {
     "name": "stderr",
     "output_type": "stream",
     "text": [
      "100%|███████████████████████████████████████████| 10/10 [00:00<00:00, 11.10it/s]\n"
     ]
    },
    {
     "name": "stdout",
     "output_type": "stream",
     "text": [
      "kfolded auc 0.7722506435006435 {'DROP': [26, 27]} {'FUNC': <function catBoostTrain at 0x7fb474529dc0>, 'ITERS': 10} {}\n"
     ]
    },
    {
     "name": "stderr",
     "output_type": "stream",
     "text": [
      "100%|███████████████████████████████████████████| 10/10 [00:00<00:00, 11.58it/s]\n"
     ]
    },
    {
     "name": "stdout",
     "output_type": "stream",
     "text": [
      "kfolded auc 0.7541324232395661 {'DROP': [26, 28]} {'FUNC': <function catBoostTrain at 0x7fb474529dc0>, 'ITERS': 10} {}\n"
     ]
    },
    {
     "name": "stderr",
     "output_type": "stream",
     "text": [
      "100%|███████████████████████████████████████████| 10/10 [00:00<00:00, 11.92it/s]\n"
     ]
    },
    {
     "name": "stdout",
     "output_type": "stream",
     "text": [
      "kfolded auc 0.7590002757859902 {'DROP': [26, 29]} {'FUNC': <function catBoostTrain at 0x7fb474529dc0>, 'ITERS': 10} {}\n"
     ]
    },
    {
     "name": "stderr",
     "output_type": "stream",
     "text": [
      "100%|███████████████████████████████████████████| 10/10 [00:01<00:00,  9.12it/s]\n"
     ]
    },
    {
     "name": "stdout",
     "output_type": "stream",
     "text": [
      "kfolded auc 0.7607648464791322 {'DROP': [26, 30]} {'FUNC': <function catBoostTrain at 0x7fb474529dc0>, 'ITERS': 10} {}\n"
     ]
    },
    {
     "name": "stderr",
     "output_type": "stream",
     "text": [
      "100%|███████████████████████████████████████████| 10/10 [00:00<00:00, 10.50it/s]\n"
     ]
    },
    {
     "name": "stdout",
     "output_type": "stream",
     "text": [
      "kfolded auc 0.7584075657289943 {'DROP': [26, 31]} {'FUNC': <function catBoostTrain at 0x7fb474529dc0>, 'ITERS': 10} {}\n"
     ]
    },
    {
     "name": "stderr",
     "output_type": "stream",
     "text": [
      "100%|███████████████████████████████████████████| 10/10 [00:01<00:00,  9.54it/s]\n"
     ]
    },
    {
     "name": "stdout",
     "output_type": "stream",
     "text": [
      "kfolded auc 0.7630359441073726 {'DROP': [26, 32]} {'FUNC': <function catBoostTrain at 0x7fb474529dc0>, 'ITERS': 10} {}\n"
     ]
    },
    {
     "name": "stderr",
     "output_type": "stream",
     "text": [
      "100%|███████████████████████████████████████████| 10/10 [00:01<00:00,  9.84it/s]\n"
     ]
    },
    {
     "name": "stdout",
     "output_type": "stream",
     "text": [
      "kfolded auc 0.7293496047067475 {'DROP': [27]} {'FUNC': <function catBoostTrain at 0x7fb474529dc0>, 'ITERS': 10} {}\n"
     ]
    },
    {
     "name": "stderr",
     "output_type": "stream",
     "text": [
      "100%|███████████████████████████████████████████| 10/10 [00:00<00:00, 10.02it/s]\n"
     ]
    },
    {
     "name": "stdout",
     "output_type": "stream",
     "text": [
      "kfolded auc 0.7432234785806214 {'DROP': [27, 28]} {'FUNC': <function catBoostTrain at 0x7fb474529dc0>, 'ITERS': 10} {}\n"
     ]
    },
    {
     "name": "stderr",
     "output_type": "stream",
     "text": [
      "100%|███████████████████████████████████████████| 10/10 [00:00<00:00, 10.15it/s]\n"
     ]
    },
    {
     "name": "stdout",
     "output_type": "stream",
     "text": [
      "kfolded auc 0.7456101765030337 {'DROP': [27, 29]} {'FUNC': <function catBoostTrain at 0x7fb474529dc0>, 'ITERS': 10} {}\n"
     ]
    },
    {
     "name": "stderr",
     "output_type": "stream",
     "text": [
      "100%|███████████████████████████████████████████| 10/10 [00:01<00:00,  9.86it/s]\n"
     ]
    },
    {
     "name": "stdout",
     "output_type": "stream",
     "text": [
      "kfolded auc 0.7465876080161795 {'DROP': [27, 30]} {'FUNC': <function catBoostTrain at 0x7fb474529dc0>, 'ITERS': 10} {}\n"
     ]
    },
    {
     "name": "stderr",
     "output_type": "stream",
     "text": [
      "100%|███████████████████████████████████████████| 10/10 [00:01<00:00,  9.77it/s]\n"
     ]
    },
    {
     "name": "stdout",
     "output_type": "stream",
     "text": [
      "kfolded auc 0.7488577863577863 {'DROP': [27, 31]} {'FUNC': <function catBoostTrain at 0x7fb474529dc0>, 'ITERS': 10} {}\n"
     ]
    },
    {
     "name": "stderr",
     "output_type": "stream",
     "text": [
      "100%|███████████████████████████████████████████| 10/10 [00:01<00:00,  9.89it/s]\n"
     ]
    },
    {
     "name": "stdout",
     "output_type": "stream",
     "text": [
      "kfolded auc 0.7541618404118405 {'DROP': [27, 32]} {'FUNC': <function catBoostTrain at 0x7fb474529dc0>, 'ITERS': 10} {}\n"
     ]
    },
    {
     "name": "stderr",
     "output_type": "stream",
     "text": [
      "100%|███████████████████████████████████████████| 10/10 [00:00<00:00, 10.64it/s]\n"
     ]
    },
    {
     "name": "stdout",
     "output_type": "stream",
     "text": [
      "kfolded auc 0.7329633204633204 {'DROP': [28]} {'FUNC': <function catBoostTrain at 0x7fb474529dc0>, 'ITERS': 10} {}\n"
     ]
    },
    {
     "name": "stderr",
     "output_type": "stream",
     "text": [
      "100%|███████████████████████████████████████████| 10/10 [00:01<00:00,  9.96it/s]\n"
     ]
    },
    {
     "name": "stdout",
     "output_type": "stream",
     "text": [
      "kfolded auc 0.7455943188086044 {'DROP': [28, 29]} {'FUNC': <function catBoostTrain at 0x7fb474529dc0>, 'ITERS': 10} {}\n"
     ]
    },
    {
     "name": "stderr",
     "output_type": "stream",
     "text": [
      "100%|███████████████████████████████████████████| 10/10 [00:01<00:00,  9.63it/s]\n"
     ]
    },
    {
     "name": "stdout",
     "output_type": "stream",
     "text": [
      "kfolded auc 0.7502077587791872 {'DROP': [28, 30]} {'FUNC': <function catBoostTrain at 0x7fb474529dc0>, 'ITERS': 10} {}\n"
     ]
    },
    {
     "name": "stderr",
     "output_type": "stream",
     "text": [
      "100%|███████████████████████████████████████████| 10/10 [00:00<00:00, 10.20it/s]\n"
     ]
    },
    {
     "name": "stdout",
     "output_type": "stream",
     "text": [
      "kfolded auc 0.7516269075197647 {'DROP': [28, 31]} {'FUNC': <function catBoostTrain at 0x7fb474529dc0>, 'ITERS': 10} {}\n"
     ]
    },
    {
     "name": "stderr",
     "output_type": "stream",
     "text": [
      "100%|███████████████████████████████████████████| 10/10 [00:00<00:00, 10.57it/s]\n"
     ]
    },
    {
     "name": "stdout",
     "output_type": "stream",
     "text": [
      "kfolded auc 0.7551066372494943 {'DROP': [28, 32]} {'FUNC': <function catBoostTrain at 0x7fb474529dc0>, 'ITERS': 10} {}\n"
     ]
    },
    {
     "name": "stderr",
     "output_type": "stream",
     "text": [
      "100%|███████████████████████████████████████████| 10/10 [00:00<00:00, 10.22it/s]\n"
     ]
    },
    {
     "name": "stdout",
     "output_type": "stream",
     "text": [
      "kfolded auc 0.7315671538885825 {'DROP': [29]} {'FUNC': <function catBoostTrain at 0x7fb474529dc0>, 'ITERS': 10} {}\n"
     ]
    },
    {
     "name": "stderr",
     "output_type": "stream",
     "text": [
      "100%|███████████████████████████████████████████| 10/10 [00:01<00:00,  9.09it/s]\n"
     ]
    },
    {
     "name": "stdout",
     "output_type": "stream",
     "text": [
      "kfolded auc 0.7589988968560397 {'DROP': [29, 30]} {'FUNC': <function catBoostTrain at 0x7fb474529dc0>, 'ITERS': 10} {}\n"
     ]
    },
    {
     "name": "stderr",
     "output_type": "stream",
     "text": [
      "100%|███████████████████████████████████████████| 10/10 [00:01<00:00,  8.76it/s]\n"
     ]
    },
    {
     "name": "stdout",
     "output_type": "stream",
     "text": [
      "kfolded auc 0.7583900992829565 {'DROP': [29, 31]} {'FUNC': <function catBoostTrain at 0x7fb474529dc0>, 'ITERS': 10} {}\n"
     ]
    },
    {
     "name": "stderr",
     "output_type": "stream",
     "text": [
      "100%|███████████████████████████████████████████| 10/10 [00:01<00:00,  9.98it/s]\n"
     ]
    },
    {
     "name": "stdout",
     "output_type": "stream",
     "text": [
      "kfolded auc 0.7606873965802536 {'DROP': [29, 32]} {'FUNC': <function catBoostTrain at 0x7fb474529dc0>, 'ITERS': 10} {}\n"
     ]
    },
    {
     "name": "stderr",
     "output_type": "stream",
     "text": [
      "100%|███████████████████████████████████████████| 10/10 [00:00<00:00, 10.10it/s]\n"
     ]
    },
    {
     "name": "stdout",
     "output_type": "stream",
     "text": [
      "kfolded auc 0.7323494668137526 {'DROP': [30]} {'FUNC': <function catBoostTrain at 0x7fb474529dc0>, 'ITERS': 10} {}\n"
     ]
    },
    {
     "name": "stderr",
     "output_type": "stream",
     "text": [
      "100%|███████████████████████████████████████████| 10/10 [00:01<00:00,  9.83it/s]\n"
     ]
    },
    {
     "name": "stdout",
     "output_type": "stream",
     "text": [
      "kfolded auc 0.7625602132744989 {'DROP': [30, 31]} {'FUNC': <function catBoostTrain at 0x7fb474529dc0>, 'ITERS': 10} {}\n"
     ]
    },
    {
     "name": "stderr",
     "output_type": "stream",
     "text": [
      "100%|███████████████████████████████████████████| 10/10 [00:00<00:00, 10.24it/s]\n"
     ]
    },
    {
     "name": "stdout",
     "output_type": "stream",
     "text": [
      "kfolded auc 0.7686412943555802 {'DROP': [30, 32]} {'FUNC': <function catBoostTrain at 0x7fb474529dc0>, 'ITERS': 10} {}\n"
     ]
    },
    {
     "name": "stderr",
     "output_type": "stream",
     "text": [
      "100%|███████████████████████████████████████████| 10/10 [00:01<00:00,  9.34it/s]\n"
     ]
    },
    {
     "name": "stdout",
     "output_type": "stream",
     "text": [
      "kfolded auc 0.7219201599558742 {'DROP': [31]} {'FUNC': <function catBoostTrain at 0x7fb474529dc0>, 'ITERS': 10} {}\n"
     ]
    },
    {
     "name": "stderr",
     "output_type": "stream",
     "text": [
      "100%|███████████████████████████████████████████| 10/10 [00:00<00:00, 10.06it/s]\n"
     ]
    },
    {
     "name": "stdout",
     "output_type": "stream",
     "text": [
      "kfolded auc 0.7636075105717962 {'DROP': [31, 32]} {'FUNC': <function catBoostTrain at 0x7fb474529dc0>, 'ITERS': 10} {}\n"
     ]
    },
    {
     "name": "stderr",
     "output_type": "stream",
     "text": [
      "100%|███████████████████████████████████████████| 10/10 [00:00<00:00, 10.07it/s]"
     ]
    },
    {
     "name": "stdout",
     "output_type": "stream",
     "text": [
      "kfolded auc 0.7186982901268616 {'DROP': [32]} {'FUNC': <function catBoostTrain at 0x7fb474529dc0>, 'ITERS': 10} {}\n"
     ]
    },
    {
     "name": "stderr",
     "output_type": "stream",
     "text": [
      "\n"
     ]
    }
   ],
   "source": [
    "#checking all possible column drops\n",
    "import pickle\n",
    "\n",
    "drops=[[]]\n",
    "for a1 in range(len(df.columns)-1):\n",
    "    drops.append([a1])\n",
    "    for a2 in range(a1+1,len(df.columns)-1):\n",
    "        drops.append([a1,a2])\n",
    "        '''for a3 in range(a2+1,len(df.columns)-1):\n",
    "            drops.append([a1,a2,a3])\n",
    "            for a4 in range(a3+1,len(df.columns)-1):\n",
    "                drops.append([a1,a2,a3,a4])\n",
    "                for a5 in range(a4+1,len(df.columns)-1):\n",
    "                    drops.append([a1,a2,a3,a4,a5])\n",
    "                    for a6 in range(a5+1,len(df.columns)-1):\n",
    "                        drops.append([a1,a2,a3,a4,a5,a6])\n",
    "                        for a7 in range(a6+1,len(df.columns)-1):\n",
    "                            drops.append([a1,a2,a3,a4,a5,a6,a7])\n",
    "                            for a8 in range(a7+1,len(df.columns)-1):\n",
    "                                drops.append([a1,a2,a3,a4,a5,a6,a7,a8])\n",
    "                                for a9 in range(a8+1,len(df.columns)-1):\n",
    "                                    drops.append([a1,a2,a3,a4,a5,a6,a7,a8,a9])''';\n",
    "print(len(drops))\n",
    "datasetParams={\"DROP\":drops}\n",
    "trainingParams={\"FUNC\":catBoostTrain,\"ITERS\":10}\n",
    "libSpecificParams={}\n",
    "\n",
    "res=runGridTest(df,datasetParams,trainingParams,libSpecificParams,10)\n",
    "with open(\"res.pickle\",\"wb\") as f:\n",
    "    pickle.dump(res,f)"
   ]
  },
  {
   "cell_type": "code",
   "execution_count": 15,
   "id": "14724177",
   "metadata": {},
   "outputs": [
    {
     "name": "stdout",
     "output_type": "stream",
     "text": [
      "[(0.7887219617576761, \"{'DROP': [2, 12]} {'FUNC': <function catBoostTrain at 0x7fb474529dc0>, 'ITERS': 10} {}\"), (0.7917105626034198, \"{'DROP': [19, 22]} {'FUNC': <function catBoostTrain at 0x7fb474529dc0>, 'ITERS': 10} {}\"), (0.7917105626034198, \"{'DROP': [22, 24]} {'FUNC': <function catBoostTrain at 0x7fb474529dc0>, 'ITERS': 10} {}\"), (0.7917105626034198, \"{'DROP': [22]} {'FUNC': <function catBoostTrain at 0x7fb474529dc0>, 'ITERS': 10} {}\"), (0.7917105626034198, \"{'DROP': [7, 22]} {'FUNC': <function catBoostTrain at 0x7fb474529dc0>, 'ITERS': 10} {}\"), (0.7917211343997058, \"{'DROP': [0, 14]} {'FUNC': <function catBoostTrain at 0x7fb474529dc0>, 'ITERS': 10} {}\"), (0.7949342710056995, \"{'DROP': [7, 9]} {'FUNC': <function catBoostTrain at 0x7fb474529dc0>, 'ITERS': 10} {}\"), (0.7949342710056995, \"{'DROP': [9, 19]} {'FUNC': <function catBoostTrain at 0x7fb474529dc0>, 'ITERS': 10} {}\"), (0.7949342710056995, \"{'DROP': [9, 24]} {'FUNC': <function catBoostTrain at 0x7fb474529dc0>, 'ITERS': 10} {}\"), (0.7949342710056995, \"{'DROP': [9]} {'FUNC': <function catBoostTrain at 0x7fb474529dc0>, 'ITERS': 10} {}\")]\n"
     ]
    }
   ],
   "source": [
    "res=sorted(res)\n",
    "print(res[-10:])"
   ]
  },
  {
   "cell_type": "code",
   "execution_count": null,
   "id": "778096fd",
   "metadata": {},
   "outputs": [],
   "source": []
  },
  {
   "cell_type": "code",
   "execution_count": null,
   "id": "b1adec14",
   "metadata": {},
   "outputs": [],
   "source": []
  },
  {
   "cell_type": "code",
   "execution_count": null,
   "id": "d017f295",
   "metadata": {},
   "outputs": [],
   "source": []
  },
  {
   "cell_type": "code",
   "execution_count": null,
   "id": "7ea51cd8",
   "metadata": {},
   "outputs": [],
   "source": []
  },
  {
   "cell_type": "code",
   "execution_count": null,
   "id": "9ab66f95",
   "metadata": {},
   "outputs": [],
   "source": []
  },
  {
   "cell_type": "code",
   "execution_count": null,
   "id": "0c88d67d",
   "metadata": {},
   "outputs": [],
   "source": []
  },
  {
   "cell_type": "code",
   "execution_count": null,
   "id": "3f447bde",
   "metadata": {},
   "outputs": [],
   "source": []
  },
  {
   "cell_type": "code",
   "execution_count": null,
   "id": "79d4ea4e",
   "metadata": {},
   "outputs": [],
   "source": []
  },
  {
   "cell_type": "markdown",
   "id": "705a0014",
   "metadata": {},
   "source": [
    "## FINE-TUNING BEST CONFIGS (with Optuna)"
   ]
  },
  {
   "cell_type": "code",
   "execution_count": 84,
   "id": "54b96b6d",
   "metadata": {},
   "outputs": [
    {
     "name": "stderr",
     "output_type": "stream",
     "text": [
      "\u001b[32m[I 2023-01-17 21:38:46,930]\u001b[0m A new study created in memory with name: no-name-d43ab61f-211c-44d8-afbb-e7c81d5dddde\u001b[0m\n"
     ]
    },
    {
     "name": "stdout",
     "output_type": "stream",
     "text": [
      "[[[1, 3, 5, 6, 8, 9, 11, 12, 13, 14, 15, 18, 20, 22, 25, 27, 28, 7, 19, 24]]] <class 'list'>\n",
      "[[[1, 3, 8], [5, 6], [12, 9, 20], [11, 28], [13, 15], [22, 27], [18, 14]]] <class 'list'>\n",
      "<function catBoostTrain at 0x7fca9b7f2ca0> <class 'function'>\n",
      "Poisson <class 'str'>\n",
      "2000 <class 'int'>\n",
      "4 <class 'int'>\n",
      "19 <class 'int'>\n",
      "1 dataset params configs\n",
      "1 training params configs\n",
      "1 lib specific params configs\n",
      "1 all params configs\n",
      "datasetParams [{'DROP': [[1, 3, 5, 6, 8, 9, 11, 12, 13, 14, 15, 18, 20, 22, 25, 27, 28, 7, 19, 24]], 'UNITE': [[1, 3, 8], [5, 6], [12, 9, 20], [11, 28], [13, 15], [22, 27], [18, 14]]}]\n",
      "trainingParams [{'FUNC': <function catBoostTrain at 0x7fca9b7f2ca0>, 'LOSS': 'Poisson', 'ITERS': 2000}]\n",
      "libSpecificParams [{'max_depth': 4, 'min_data_in_leaf': 19}]\n"
     ]
    },
    {
     "name": "stderr",
     "output_type": "stream",
     "text": [
      "/usr/local/lib/python3.8/dist-packages/pandas/core/indexes/base.py:5382: FutureWarning: Using a non-tuple sequence for multidimensional indexing is deprecated; use `arr[tuple(seq)]` instead of `arr[seq]`. In the future this will be interpreted as an array index, `arr[np.array(seq)]`, which will result either in an error or a different result.\n",
      "  result = getitem(key)\n",
      "  0%|                                                    | 0/10 [00:00<?, ?it/s]/usr/local/lib/python3.8/dist-packages/pandas/core/indexes/base.py:5382: FutureWarning: Using a non-tuple sequence for multidimensional indexing is deprecated; use `arr[tuple(seq)]` instead of `arr[seq]`. In the future this will be interpreted as an array index, `arr[np.array(seq)]`, which will result either in an error or a different result.\n",
      "  result = getitem(key)\n",
      " 10%|████▍                                       | 1/10 [00:04<00:39,  4.37s/it]/usr/local/lib/python3.8/dist-packages/pandas/core/indexes/base.py:5382: FutureWarning: Using a non-tuple sequence for multidimensional indexing is deprecated; use `arr[tuple(seq)]` instead of `arr[seq]`. In the future this will be interpreted as an array index, `arr[np.array(seq)]`, which will result either in an error or a different result.\n",
      "  result = getitem(key)\n",
      " 20%|████████▊                                   | 2/10 [00:10<00:42,  5.35s/it]/usr/local/lib/python3.8/dist-packages/pandas/core/indexes/base.py:5382: FutureWarning: Using a non-tuple sequence for multidimensional indexing is deprecated; use `arr[tuple(seq)]` instead of `arr[seq]`. In the future this will be interpreted as an array index, `arr[np.array(seq)]`, which will result either in an error or a different result.\n",
      "  result = getitem(key)\n",
      " 30%|█████████████▏                              | 3/10 [00:16<00:40,  5.78s/it]/usr/local/lib/python3.8/dist-packages/pandas/core/indexes/base.py:5382: FutureWarning: Using a non-tuple sequence for multidimensional indexing is deprecated; use `arr[tuple(seq)]` instead of `arr[seq]`. In the future this will be interpreted as an array index, `arr[np.array(seq)]`, which will result either in an error or a different result.\n",
      "  result = getitem(key)\n",
      " 40%|█████████████████▌                          | 4/10 [00:22<00:34,  5.80s/it]/usr/local/lib/python3.8/dist-packages/pandas/core/indexes/base.py:5382: FutureWarning: Using a non-tuple sequence for multidimensional indexing is deprecated; use `arr[tuple(seq)]` instead of `arr[seq]`. In the future this will be interpreted as an array index, `arr[np.array(seq)]`, which will result either in an error or a different result.\n",
      "  result = getitem(key)\n",
      " 50%|██████████████████████                      | 5/10 [00:28<00:29,  5.93s/it]/usr/local/lib/python3.8/dist-packages/pandas/core/indexes/base.py:5382: FutureWarning: Using a non-tuple sequence for multidimensional indexing is deprecated; use `arr[tuple(seq)]` instead of `arr[seq]`. In the future this will be interpreted as an array index, `arr[np.array(seq)]`, which will result either in an error or a different result.\n",
      "  result = getitem(key)\n",
      " 60%|██████████████████████████▍                 | 6/10 [00:34<00:23,  5.92s/it]/usr/local/lib/python3.8/dist-packages/pandas/core/indexes/base.py:5382: FutureWarning: Using a non-tuple sequence for multidimensional indexing is deprecated; use `arr[tuple(seq)]` instead of `arr[seq]`. In the future this will be interpreted as an array index, `arr[np.array(seq)]`, which will result either in an error or a different result.\n",
      "  result = getitem(key)\n",
      " 70%|██████████████████████████████▊             | 7/10 [00:40<00:17,  5.94s/it]/usr/local/lib/python3.8/dist-packages/pandas/core/indexes/base.py:5382: FutureWarning: Using a non-tuple sequence for multidimensional indexing is deprecated; use `arr[tuple(seq)]` instead of `arr[seq]`. In the future this will be interpreted as an array index, `arr[np.array(seq)]`, which will result either in an error or a different result.\n",
      "  result = getitem(key)\n",
      " 80%|███████████████████████████████████▏        | 8/10 [00:46<00:11,  5.98s/it]/usr/local/lib/python3.8/dist-packages/pandas/core/indexes/base.py:5382: FutureWarning: Using a non-tuple sequence for multidimensional indexing is deprecated; use `arr[tuple(seq)]` instead of `arr[seq]`. In the future this will be interpreted as an array index, `arr[np.array(seq)]`, which will result either in an error or a different result.\n",
      "  result = getitem(key)\n",
      " 90%|███████████████████████████████████████▌    | 9/10 [00:52<00:05,  5.94s/it]/usr/local/lib/python3.8/dist-packages/pandas/core/indexes/base.py:5382: FutureWarning: Using a non-tuple sequence for multidimensional indexing is deprecated; use `arr[tuple(seq)]` instead of `arr[seq]`. In the future this will be interpreted as an array index, `arr[np.array(seq)]`, which will result either in an error or a different result.\n",
      "  result = getitem(key)\n",
      "100%|███████████████████████████████████████████| 10/10 [00:58<00:00,  5.82s/it]\n",
      "\u001b[32m[I 2023-01-17 21:39:46,833]\u001b[0m Trial 0 finished with value: 0.8074616197830483 and parameters: {'max_depth': 4, 'min_data_in_leaf': 19}. Best is trial 0 with value: 0.8074616197830483.\u001b[0m\n"
     ]
    },
    {
     "name": "stdout",
     "output_type": "stream",
     "text": [
      "kfolded auc 0.8074616197830483 {'DROP': [[1, 3, 5, 6, 8, 9, 11, 12, 13, 14, 15, 18, 20, 22, 25, 27, 28, 7, 19, 24]], 'UNITE': [[1, 3, 8], [5, 6], [12, 9, 20], [11, 28], [13, 15], [22, 27], [18, 14]]} {'FUNC': <function catBoostTrain at 0x7fca9b7f2ca0>, 'LOSS': 'Poisson', 'ITERS': 2000} {'max_depth': 4, 'min_data_in_leaf': 19}\n",
      "[[[1, 3, 5, 6, 8, 9, 11, 12, 13, 14, 15, 18, 20, 22, 25, 27, 28, 7, 19, 24]]] <class 'list'>\n",
      "[[[1, 3, 8], [5, 6], [12, 9, 20], [11, 28], [13, 15], [22, 27], [18, 14]]] <class 'list'>\n",
      "<function catBoostTrain at 0x7fca9b7f2ca0> <class 'function'>\n",
      "Poisson <class 'str'>\n",
      "2000 <class 'int'>\n",
      "8 <class 'int'>\n",
      "13 <class 'int'>\n",
      "1 dataset params configs\n",
      "1 training params configs\n",
      "1 lib specific params configs\n",
      "1 all params configs\n",
      "datasetParams [{'DROP': [[1, 3, 5, 6, 8, 9, 11, 12, 13, 14, 15, 18, 20, 22, 25, 27, 28, 7, 19, 24]], 'UNITE': [[1, 3, 8], [5, 6], [12, 9, 20], [11, 28], [13, 15], [22, 27], [18, 14]]}]\n",
      "trainingParams [{'FUNC': <function catBoostTrain at 0x7fca9b7f2ca0>, 'LOSS': 'Poisson', 'ITERS': 2000}]\n",
      "libSpecificParams [{'max_depth': 8, 'min_data_in_leaf': 13}]\n"
     ]
    },
    {
     "name": "stderr",
     "output_type": "stream",
     "text": [
      "/usr/local/lib/python3.8/dist-packages/pandas/core/indexes/base.py:5382: FutureWarning: Using a non-tuple sequence for multidimensional indexing is deprecated; use `arr[tuple(seq)]` instead of `arr[seq]`. In the future this will be interpreted as an array index, `arr[np.array(seq)]`, which will result either in an error or a different result.\n",
      "  result = getitem(key)\n",
      "  0%|                                                    | 0/10 [00:00<?, ?it/s]/usr/local/lib/python3.8/dist-packages/pandas/core/indexes/base.py:5382: FutureWarning: Using a non-tuple sequence for multidimensional indexing is deprecated; use `arr[tuple(seq)]` instead of `arr[seq]`. In the future this will be interpreted as an array index, `arr[np.array(seq)]`, which will result either in an error or a different result.\n",
      "  result = getitem(key)\n",
      " 10%|████▍                                       | 1/10 [00:12<01:54, 12.75s/it]/usr/local/lib/python3.8/dist-packages/pandas/core/indexes/base.py:5382: FutureWarning: Using a non-tuple sequence for multidimensional indexing is deprecated; use `arr[tuple(seq)]` instead of `arr[seq]`. In the future this will be interpreted as an array index, `arr[np.array(seq)]`, which will result either in an error or a different result.\n",
      "  result = getitem(key)\n",
      " 20%|████████▊                                   | 2/10 [00:25<01:43, 12.97s/it]/usr/local/lib/python3.8/dist-packages/pandas/core/indexes/base.py:5382: FutureWarning: Using a non-tuple sequence for multidimensional indexing is deprecated; use `arr[tuple(seq)]` instead of `arr[seq]`. In the future this will be interpreted as an array index, `arr[np.array(seq)]`, which will result either in an error or a different result.\n",
      "  result = getitem(key)\n",
      " 30%|█████████████▏                              | 3/10 [00:38<01:28, 12.60s/it]/usr/local/lib/python3.8/dist-packages/pandas/core/indexes/base.py:5382: FutureWarning: Using a non-tuple sequence for multidimensional indexing is deprecated; use `arr[tuple(seq)]` instead of `arr[seq]`. In the future this will be interpreted as an array index, `arr[np.array(seq)]`, which will result either in an error or a different result.\n",
      "  result = getitem(key)\n",
      " 40%|█████████████████▌                          | 4/10 [00:50<01:14, 12.49s/it]/usr/local/lib/python3.8/dist-packages/pandas/core/indexes/base.py:5382: FutureWarning: Using a non-tuple sequence for multidimensional indexing is deprecated; use `arr[tuple(seq)]` instead of `arr[seq]`. In the future this will be interpreted as an array index, `arr[np.array(seq)]`, which will result either in an error or a different result.\n",
      "  result = getitem(key)\n",
      " 50%|██████████████████████                      | 5/10 [01:03<01:02, 12.57s/it]/usr/local/lib/python3.8/dist-packages/pandas/core/indexes/base.py:5382: FutureWarning: Using a non-tuple sequence for multidimensional indexing is deprecated; use `arr[tuple(seq)]` instead of `arr[seq]`. In the future this will be interpreted as an array index, `arr[np.array(seq)]`, which will result either in an error or a different result.\n",
      "  result = getitem(key)\n",
      " 60%|██████████████████████████▍                 | 6/10 [01:16<00:51, 12.83s/it]/usr/local/lib/python3.8/dist-packages/pandas/core/indexes/base.py:5382: FutureWarning: Using a non-tuple sequence for multidimensional indexing is deprecated; use `arr[tuple(seq)]` instead of `arr[seq]`. In the future this will be interpreted as an array index, `arr[np.array(seq)]`, which will result either in an error or a different result.\n",
      "  result = getitem(key)\n",
      " 70%|██████████████████████████████▊             | 7/10 [01:29<00:38, 12.80s/it]/usr/local/lib/python3.8/dist-packages/pandas/core/indexes/base.py:5382: FutureWarning: Using a non-tuple sequence for multidimensional indexing is deprecated; use `arr[tuple(seq)]` instead of `arr[seq]`. In the future this will be interpreted as an array index, `arr[np.array(seq)]`, which will result either in an error or a different result.\n",
      "  result = getitem(key)\n",
      " 80%|███████████████████████████████████▏        | 8/10 [01:42<00:25, 12.86s/it]/usr/local/lib/python3.8/dist-packages/pandas/core/indexes/base.py:5382: FutureWarning: Using a non-tuple sequence for multidimensional indexing is deprecated; use `arr[tuple(seq)]` instead of `arr[seq]`. In the future this will be interpreted as an array index, `arr[np.array(seq)]`, which will result either in an error or a different result.\n",
      "  result = getitem(key)\n",
      " 90%|███████████████████████████████████████▌    | 9/10 [01:54<00:12, 12.82s/it]/usr/local/lib/python3.8/dist-packages/pandas/core/indexes/base.py:5382: FutureWarning: Using a non-tuple sequence for multidimensional indexing is deprecated; use `arr[tuple(seq)]` instead of `arr[seq]`. In the future this will be interpreted as an array index, `arr[np.array(seq)]`, which will result either in an error or a different result.\n",
      "  result = getitem(key)\n",
      "100%|███████████████████████████████████████████| 10/10 [02:07<00:00, 12.72s/it]\n",
      "\u001b[32m[I 2023-01-17 21:41:56,746]\u001b[0m Trial 1 finished with value: 0.8103504780290495 and parameters: {'max_depth': 8, 'min_data_in_leaf': 13}. Best is trial 1 with value: 0.8103504780290495.\u001b[0m\n"
     ]
    },
    {
     "name": "stdout",
     "output_type": "stream",
     "text": [
      "kfolded auc 0.8103504780290495 {'DROP': [[1, 3, 5, 6, 8, 9, 11, 12, 13, 14, 15, 18, 20, 22, 25, 27, 28, 7, 19, 24]], 'UNITE': [[1, 3, 8], [5, 6], [12, 9, 20], [11, 28], [13, 15], [22, 27], [18, 14]]} {'FUNC': <function catBoostTrain at 0x7fca9b7f2ca0>, 'LOSS': 'Poisson', 'ITERS': 2000} {'max_depth': 8, 'min_data_in_leaf': 13}\n",
      "[[[1, 3, 5, 6, 8, 9, 11, 12, 13, 14, 15, 18, 20, 22, 25, 27, 28, 7, 19, 24]]] <class 'list'>\n",
      "[[[1, 3, 8], [5, 6], [12, 9, 20], [11, 28], [13, 15], [22, 27], [18, 14]]] <class 'list'>\n",
      "<function catBoostTrain at 0x7fca9b7f2ca0> <class 'function'>\n",
      "Poisson <class 'str'>\n",
      "2000 <class 'int'>\n",
      "2 <class 'int'>\n",
      "4 <class 'int'>\n",
      "1 dataset params configs\n",
      "1 training params configs\n",
      "1 lib specific params configs\n",
      "1 all params configs\n",
      "datasetParams [{'DROP': [[1, 3, 5, 6, 8, 9, 11, 12, 13, 14, 15, 18, 20, 22, 25, 27, 28, 7, 19, 24]], 'UNITE': [[1, 3, 8], [5, 6], [12, 9, 20], [11, 28], [13, 15], [22, 27], [18, 14]]}]\n",
      "trainingParams [{'FUNC': <function catBoostTrain at 0x7fca9b7f2ca0>, 'LOSS': 'Poisson', 'ITERS': 2000}]\n",
      "libSpecificParams [{'max_depth': 2, 'min_data_in_leaf': 4}]\n"
     ]
    },
    {
     "name": "stderr",
     "output_type": "stream",
     "text": [
      "/usr/local/lib/python3.8/dist-packages/pandas/core/indexes/base.py:5382: FutureWarning: Using a non-tuple sequence for multidimensional indexing is deprecated; use `arr[tuple(seq)]` instead of `arr[seq]`. In the future this will be interpreted as an array index, `arr[np.array(seq)]`, which will result either in an error or a different result.\n",
      "  result = getitem(key)\n",
      "  0%|                                                    | 0/10 [00:00<?, ?it/s]/usr/local/lib/python3.8/dist-packages/pandas/core/indexes/base.py:5382: FutureWarning: Using a non-tuple sequence for multidimensional indexing is deprecated; use `arr[tuple(seq)]` instead of `arr[seq]`. In the future this will be interpreted as an array index, `arr[np.array(seq)]`, which will result either in an error or a different result.\n",
      "  result = getitem(key)\n",
      " 10%|████▍                                       | 1/10 [00:05<00:45,  5.10s/it]/usr/local/lib/python3.8/dist-packages/pandas/core/indexes/base.py:5382: FutureWarning: Using a non-tuple sequence for multidimensional indexing is deprecated; use `arr[tuple(seq)]` instead of `arr[seq]`. In the future this will be interpreted as an array index, `arr[np.array(seq)]`, which will result either in an error or a different result.\n",
      "  result = getitem(key)\n",
      " 20%|████████▊                                   | 2/10 [00:10<00:41,  5.14s/it]/usr/local/lib/python3.8/dist-packages/pandas/core/indexes/base.py:5382: FutureWarning: Using a non-tuple sequence for multidimensional indexing is deprecated; use `arr[tuple(seq)]` instead of `arr[seq]`. In the future this will be interpreted as an array index, `arr[np.array(seq)]`, which will result either in an error or a different result.\n",
      "  result = getitem(key)\n",
      " 30%|█████████████▏                              | 3/10 [00:15<00:36,  5.16s/it]/usr/local/lib/python3.8/dist-packages/pandas/core/indexes/base.py:5382: FutureWarning: Using a non-tuple sequence for multidimensional indexing is deprecated; use `arr[tuple(seq)]` instead of `arr[seq]`. In the future this will be interpreted as an array index, `arr[np.array(seq)]`, which will result either in an error or a different result.\n",
      "  result = getitem(key)\n",
      " 40%|█████████████████▌                          | 4/10 [00:21<00:32,  5.34s/it]/usr/local/lib/python3.8/dist-packages/pandas/core/indexes/base.py:5382: FutureWarning: Using a non-tuple sequence for multidimensional indexing is deprecated; use `arr[tuple(seq)]` instead of `arr[seq]`. In the future this will be interpreted as an array index, `arr[np.array(seq)]`, which will result either in an error or a different result.\n",
      "  result = getitem(key)\n",
      " 50%|██████████████████████                      | 5/10 [00:26<00:26,  5.25s/it]/usr/local/lib/python3.8/dist-packages/pandas/core/indexes/base.py:5382: FutureWarning: Using a non-tuple sequence for multidimensional indexing is deprecated; use `arr[tuple(seq)]` instead of `arr[seq]`. In the future this will be interpreted as an array index, `arr[np.array(seq)]`, which will result either in an error or a different result.\n",
      "  result = getitem(key)\n",
      " 60%|██████████████████████████▍                 | 6/10 [00:31<00:21,  5.29s/it]/usr/local/lib/python3.8/dist-packages/pandas/core/indexes/base.py:5382: FutureWarning: Using a non-tuple sequence for multidimensional indexing is deprecated; use `arr[tuple(seq)]` instead of `arr[seq]`. In the future this will be interpreted as an array index, `arr[np.array(seq)]`, which will result either in an error or a different result.\n",
      "  result = getitem(key)\n",
      " 70%|██████████████████████████████▊             | 7/10 [00:37<00:16,  5.42s/it]/usr/local/lib/python3.8/dist-packages/pandas/core/indexes/base.py:5382: FutureWarning: Using a non-tuple sequence for multidimensional indexing is deprecated; use `arr[tuple(seq)]` instead of `arr[seq]`. In the future this will be interpreted as an array index, `arr[np.array(seq)]`, which will result either in an error or a different result.\n",
      "  result = getitem(key)\n",
      " 80%|███████████████████████████████████▏        | 8/10 [00:42<00:10,  5.43s/it]/usr/local/lib/python3.8/dist-packages/pandas/core/indexes/base.py:5382: FutureWarning: Using a non-tuple sequence for multidimensional indexing is deprecated; use `arr[tuple(seq)]` instead of `arr[seq]`. In the future this will be interpreted as an array index, `arr[np.array(seq)]`, which will result either in an error or a different result.\n",
      "  result = getitem(key)\n",
      " 90%|███████████████████████████████████████▌    | 9/10 [00:47<00:05,  5.31s/it]/usr/local/lib/python3.8/dist-packages/pandas/core/indexes/base.py:5382: FutureWarning: Using a non-tuple sequence for multidimensional indexing is deprecated; use `arr[tuple(seq)]` instead of `arr[seq]`. In the future this will be interpreted as an array index, `arr[np.array(seq)]`, which will result either in an error or a different result.\n",
      "  result = getitem(key)\n",
      "100%|███████████████████████████████████████████| 10/10 [00:52<00:00,  5.29s/it]\n",
      "\u001b[32m[I 2023-01-17 21:42:52,349]\u001b[0m Trial 2 finished with value: 0.8095134675491817 and parameters: {'max_depth': 2, 'min_data_in_leaf': 4}. Best is trial 1 with value: 0.8103504780290495.\u001b[0m\n"
     ]
    },
    {
     "name": "stdout",
     "output_type": "stream",
     "text": [
      "kfolded auc 0.8095134675491817 {'DROP': [[1, 3, 5, 6, 8, 9, 11, 12, 13, 14, 15, 18, 20, 22, 25, 27, 28, 7, 19, 24]], 'UNITE': [[1, 3, 8], [5, 6], [12, 9, 20], [11, 28], [13, 15], [22, 27], [18, 14]]} {'FUNC': <function catBoostTrain at 0x7fca9b7f2ca0>, 'LOSS': 'Poisson', 'ITERS': 2000} {'max_depth': 2, 'min_data_in_leaf': 4}\n",
      "[[[1, 3, 5, 6, 8, 9, 11, 12, 13, 14, 15, 18, 20, 22, 25, 27, 28, 7, 19, 24]]] <class 'list'>\n",
      "[[[1, 3, 8], [5, 6], [12, 9, 20], [11, 28], [13, 15], [22, 27], [18, 14]]] <class 'list'>\n",
      "<function catBoostTrain at 0x7fca9b7f2ca0> <class 'function'>\n",
      "Poisson <class 'str'>\n",
      "2000 <class 'int'>\n",
      "2 <class 'int'>\n",
      "19 <class 'int'>\n",
      "1 dataset params configs\n",
      "1 training params configs\n",
      "1 lib specific params configs\n",
      "1 all params configs\n",
      "datasetParams [{'DROP': [[1, 3, 5, 6, 8, 9, 11, 12, 13, 14, 15, 18, 20, 22, 25, 27, 28, 7, 19, 24]], 'UNITE': [[1, 3, 8], [5, 6], [12, 9, 20], [11, 28], [13, 15], [22, 27], [18, 14]]}]\n",
      "trainingParams [{'FUNC': <function catBoostTrain at 0x7fca9b7f2ca0>, 'LOSS': 'Poisson', 'ITERS': 2000}]\n",
      "libSpecificParams [{'max_depth': 2, 'min_data_in_leaf': 19}]\n"
     ]
    },
    {
     "name": "stderr",
     "output_type": "stream",
     "text": [
      "/usr/local/lib/python3.8/dist-packages/pandas/core/indexes/base.py:5382: FutureWarning: Using a non-tuple sequence for multidimensional indexing is deprecated; use `arr[tuple(seq)]` instead of `arr[seq]`. In the future this will be interpreted as an array index, `arr[np.array(seq)]`, which will result either in an error or a different result.\n",
      "  result = getitem(key)\n",
      "  0%|                                                    | 0/10 [00:00<?, ?it/s]/usr/local/lib/python3.8/dist-packages/pandas/core/indexes/base.py:5382: FutureWarning: Using a non-tuple sequence for multidimensional indexing is deprecated; use `arr[tuple(seq)]` instead of `arr[seq]`. In the future this will be interpreted as an array index, `arr[np.array(seq)]`, which will result either in an error or a different result.\n",
      "  result = getitem(key)\n",
      " 10%|████▍                                       | 1/10 [00:05<00:47,  5.25s/it]/usr/local/lib/python3.8/dist-packages/pandas/core/indexes/base.py:5382: FutureWarning: Using a non-tuple sequence for multidimensional indexing is deprecated; use `arr[tuple(seq)]` instead of `arr[seq]`. In the future this will be interpreted as an array index, `arr[np.array(seq)]`, which will result either in an error or a different result.\n",
      "  result = getitem(key)\n",
      " 20%|████████▊                                   | 2/10 [00:10<00:41,  5.18s/it]/usr/local/lib/python3.8/dist-packages/pandas/core/indexes/base.py:5382: FutureWarning: Using a non-tuple sequence for multidimensional indexing is deprecated; use `arr[tuple(seq)]` instead of `arr[seq]`. In the future this will be interpreted as an array index, `arr[np.array(seq)]`, which will result either in an error or a different result.\n",
      "  result = getitem(key)\n",
      " 30%|█████████████▏                              | 3/10 [00:15<00:36,  5.24s/it]/usr/local/lib/python3.8/dist-packages/pandas/core/indexes/base.py:5382: FutureWarning: Using a non-tuple sequence for multidimensional indexing is deprecated; use `arr[tuple(seq)]` instead of `arr[seq]`. In the future this will be interpreted as an array index, `arr[np.array(seq)]`, which will result either in an error or a different result.\n",
      "  result = getitem(key)\n",
      " 40%|█████████████████▌                          | 4/10 [00:21<00:32,  5.37s/it]/usr/local/lib/python3.8/dist-packages/pandas/core/indexes/base.py:5382: FutureWarning: Using a non-tuple sequence for multidimensional indexing is deprecated; use `arr[tuple(seq)]` instead of `arr[seq]`. In the future this will be interpreted as an array index, `arr[np.array(seq)]`, which will result either in an error or a different result.\n",
      "  result = getitem(key)\n",
      " 50%|██████████████████████                      | 5/10 [00:26<00:26,  5.34s/it]/usr/local/lib/python3.8/dist-packages/pandas/core/indexes/base.py:5382: FutureWarning: Using a non-tuple sequence for multidimensional indexing is deprecated; use `arr[tuple(seq)]` instead of `arr[seq]`. In the future this will be interpreted as an array index, `arr[np.array(seq)]`, which will result either in an error or a different result.\n",
      "  result = getitem(key)\n",
      " 60%|██████████████████████████▍                 | 6/10 [00:31<00:21,  5.26s/it]/usr/local/lib/python3.8/dist-packages/pandas/core/indexes/base.py:5382: FutureWarning: Using a non-tuple sequence for multidimensional indexing is deprecated; use `arr[tuple(seq)]` instead of `arr[seq]`. In the future this will be interpreted as an array index, `arr[np.array(seq)]`, which will result either in an error or a different result.\n",
      "  result = getitem(key)\n",
      " 70%|██████████████████████████████▊             | 7/10 [00:36<00:15,  5.22s/it]/usr/local/lib/python3.8/dist-packages/pandas/core/indexes/base.py:5382: FutureWarning: Using a non-tuple sequence for multidimensional indexing is deprecated; use `arr[tuple(seq)]` instead of `arr[seq]`. In the future this will be interpreted as an array index, `arr[np.array(seq)]`, which will result either in an error or a different result.\n",
      "  result = getitem(key)\n",
      " 80%|███████████████████████████████████▏        | 8/10 [00:41<00:10,  5.13s/it]/usr/local/lib/python3.8/dist-packages/pandas/core/indexes/base.py:5382: FutureWarning: Using a non-tuple sequence for multidimensional indexing is deprecated; use `arr[tuple(seq)]` instead of `arr[seq]`. In the future this will be interpreted as an array index, `arr[np.array(seq)]`, which will result either in an error or a different result.\n",
      "  result = getitem(key)\n",
      " 90%|███████████████████████████████████████▌    | 9/10 [00:46<00:05,  5.08s/it]/usr/local/lib/python3.8/dist-packages/pandas/core/indexes/base.py:5382: FutureWarning: Using a non-tuple sequence for multidimensional indexing is deprecated; use `arr[tuple(seq)]` instead of `arr[seq]`. In the future this will be interpreted as an array index, `arr[np.array(seq)]`, which will result either in an error or a different result.\n",
      "  result = getitem(key)\n",
      "100%|███████████████████████████████████████████| 10/10 [00:51<00:00,  5.17s/it]\n",
      "\u001b[32m[I 2023-01-17 21:43:46,765]\u001b[0m Trial 3 finished with value: 0.8095134675491817 and parameters: {'max_depth': 2, 'min_data_in_leaf': 19}. Best is trial 1 with value: 0.8103504780290495.\u001b[0m\n"
     ]
    },
    {
     "name": "stdout",
     "output_type": "stream",
     "text": [
      "kfolded auc 0.8095134675491817 {'DROP': [[1, 3, 5, 6, 8, 9, 11, 12, 13, 14, 15, 18, 20, 22, 25, 27, 28, 7, 19, 24]], 'UNITE': [[1, 3, 8], [5, 6], [12, 9, 20], [11, 28], [13, 15], [22, 27], [18, 14]]} {'FUNC': <function catBoostTrain at 0x7fca9b7f2ca0>, 'LOSS': 'Poisson', 'ITERS': 2000} {'max_depth': 2, 'min_data_in_leaf': 19}\n",
      "[[[1, 3, 5, 6, 8, 9, 11, 12, 13, 14, 15, 18, 20, 22, 25, 27, 28, 7, 19, 24]]] <class 'list'>\n",
      "[[[1, 3, 8], [5, 6], [12, 9, 20], [11, 28], [13, 15], [22, 27], [18, 14]]] <class 'list'>\n",
      "<function catBoostTrain at 0x7fca9b7f2ca0> <class 'function'>\n",
      "Poisson <class 'str'>\n",
      "2000 <class 'int'>\n",
      "8 <class 'int'>\n",
      "13 <class 'int'>\n",
      "1 dataset params configs\n",
      "1 training params configs\n",
      "1 lib specific params configs\n",
      "1 all params configs\n",
      "datasetParams [{'DROP': [[1, 3, 5, 6, 8, 9, 11, 12, 13, 14, 15, 18, 20, 22, 25, 27, 28, 7, 19, 24]], 'UNITE': [[1, 3, 8], [5, 6], [12, 9, 20], [11, 28], [13, 15], [22, 27], [18, 14]]}]\n",
      "trainingParams [{'FUNC': <function catBoostTrain at 0x7fca9b7f2ca0>, 'LOSS': 'Poisson', 'ITERS': 2000}]\n",
      "libSpecificParams [{'max_depth': 8, 'min_data_in_leaf': 13}]\n"
     ]
    },
    {
     "name": "stderr",
     "output_type": "stream",
     "text": [
      "/usr/local/lib/python3.8/dist-packages/pandas/core/indexes/base.py:5382: FutureWarning: Using a non-tuple sequence for multidimensional indexing is deprecated; use `arr[tuple(seq)]` instead of `arr[seq]`. In the future this will be interpreted as an array index, `arr[np.array(seq)]`, which will result either in an error or a different result.\n",
      "  result = getitem(key)\n",
      "  0%|                                                    | 0/10 [00:00<?, ?it/s]/usr/local/lib/python3.8/dist-packages/pandas/core/indexes/base.py:5382: FutureWarning: Using a non-tuple sequence for multidimensional indexing is deprecated; use `arr[tuple(seq)]` instead of `arr[seq]`. In the future this will be interpreted as an array index, `arr[np.array(seq)]`, which will result either in an error or a different result.\n",
      "  result = getitem(key)\n",
      " 10%|████▍                                       | 1/10 [00:11<01:46, 11.84s/it]/usr/local/lib/python3.8/dist-packages/pandas/core/indexes/base.py:5382: FutureWarning: Using a non-tuple sequence for multidimensional indexing is deprecated; use `arr[tuple(seq)]` instead of `arr[seq]`. In the future this will be interpreted as an array index, `arr[np.array(seq)]`, which will result either in an error or a different result.\n",
      "  result = getitem(key)\n",
      " 20%|████████▊                                   | 2/10 [00:23<01:35, 12.00s/it]/usr/local/lib/python3.8/dist-packages/pandas/core/indexes/base.py:5382: FutureWarning: Using a non-tuple sequence for multidimensional indexing is deprecated; use `arr[tuple(seq)]` instead of `arr[seq]`. In the future this will be interpreted as an array index, `arr[np.array(seq)]`, which will result either in an error or a different result.\n",
      "  result = getitem(key)\n",
      " 30%|█████████████▏                              | 3/10 [00:35<01:23, 12.00s/it]/usr/local/lib/python3.8/dist-packages/pandas/core/indexes/base.py:5382: FutureWarning: Using a non-tuple sequence for multidimensional indexing is deprecated; use `arr[tuple(seq)]` instead of `arr[seq]`. In the future this will be interpreted as an array index, `arr[np.array(seq)]`, which will result either in an error or a different result.\n",
      "  result = getitem(key)\n",
      " 40%|█████████████████▌                          | 4/10 [00:48<01:12, 12.04s/it]/usr/local/lib/python3.8/dist-packages/pandas/core/indexes/base.py:5382: FutureWarning: Using a non-tuple sequence for multidimensional indexing is deprecated; use `arr[tuple(seq)]` instead of `arr[seq]`. In the future this will be interpreted as an array index, `arr[np.array(seq)]`, which will result either in an error or a different result.\n",
      "  result = getitem(key)\n",
      " 50%|██████████████████████                      | 5/10 [01:00<01:00, 12.01s/it]/usr/local/lib/python3.8/dist-packages/pandas/core/indexes/base.py:5382: FutureWarning: Using a non-tuple sequence for multidimensional indexing is deprecated; use `arr[tuple(seq)]` instead of `arr[seq]`. In the future this will be interpreted as an array index, `arr[np.array(seq)]`, which will result either in an error or a different result.\n",
      "  result = getitem(key)\n",
      " 60%|██████████████████████████▍                 | 6/10 [01:12<00:48, 12.09s/it]/usr/local/lib/python3.8/dist-packages/pandas/core/indexes/base.py:5382: FutureWarning: Using a non-tuple sequence for multidimensional indexing is deprecated; use `arr[tuple(seq)]` instead of `arr[seq]`. In the future this will be interpreted as an array index, `arr[np.array(seq)]`, which will result either in an error or a different result.\n",
      "  result = getitem(key)\n",
      " 70%|██████████████████████████████▊             | 7/10 [01:24<00:36, 12.05s/it]/usr/local/lib/python3.8/dist-packages/pandas/core/indexes/base.py:5382: FutureWarning: Using a non-tuple sequence for multidimensional indexing is deprecated; use `arr[tuple(seq)]` instead of `arr[seq]`. In the future this will be interpreted as an array index, `arr[np.array(seq)]`, which will result either in an error or a different result.\n",
      "  result = getitem(key)\n",
      " 80%|███████████████████████████████████▏        | 8/10 [01:36<00:24, 12.14s/it]/usr/local/lib/python3.8/dist-packages/pandas/core/indexes/base.py:5382: FutureWarning: Using a non-tuple sequence for multidimensional indexing is deprecated; use `arr[tuple(seq)]` instead of `arr[seq]`. In the future this will be interpreted as an array index, `arr[np.array(seq)]`, which will result either in an error or a different result.\n",
      "  result = getitem(key)\n",
      " 90%|███████████████████████████████████████▌    | 9/10 [01:49<00:12, 12.28s/it]/usr/local/lib/python3.8/dist-packages/pandas/core/indexes/base.py:5382: FutureWarning: Using a non-tuple sequence for multidimensional indexing is deprecated; use `arr[tuple(seq)]` instead of `arr[seq]`. In the future this will be interpreted as an array index, `arr[np.array(seq)]`, which will result either in an error or a different result.\n",
      "  result = getitem(key)\n",
      "100%|███████████████████████████████████████████| 10/10 [02:01<00:00, 12.11s/it]\n",
      "\u001b[32m[I 2023-01-17 21:45:50,470]\u001b[0m Trial 4 finished with value: 0.8103504780290495 and parameters: {'max_depth': 8, 'min_data_in_leaf': 13}. Best is trial 1 with value: 0.8103504780290495.\u001b[0m\n"
     ]
    },
    {
     "name": "stdout",
     "output_type": "stream",
     "text": [
      "kfolded auc 0.8103504780290495 {'DROP': [[1, 3, 5, 6, 8, 9, 11, 12, 13, 14, 15, 18, 20, 22, 25, 27, 28, 7, 19, 24]], 'UNITE': [[1, 3, 8], [5, 6], [12, 9, 20], [11, 28], [13, 15], [22, 27], [18, 14]]} {'FUNC': <function catBoostTrain at 0x7fca9b7f2ca0>, 'LOSS': 'Poisson', 'ITERS': 2000} {'max_depth': 8, 'min_data_in_leaf': 13}\n",
      "[[[1, 3, 5, 6, 8, 9, 11, 12, 13, 14, 15, 18, 20, 22, 25, 27, 28, 7, 19, 24]]] <class 'list'>\n",
      "[[[1, 3, 8], [5, 6], [12, 9, 20], [11, 28], [13, 15], [22, 27], [18, 14]]] <class 'list'>\n",
      "<function catBoostTrain at 0x7fca9b7f2ca0> <class 'function'>\n",
      "Poisson <class 'str'>\n",
      "2000 <class 'int'>\n",
      "2 <class 'int'>\n",
      "19 <class 'int'>\n",
      "1 dataset params configs\n",
      "1 training params configs\n",
      "1 lib specific params configs\n",
      "1 all params configs\n",
      "datasetParams [{'DROP': [[1, 3, 5, 6, 8, 9, 11, 12, 13, 14, 15, 18, 20, 22, 25, 27, 28, 7, 19, 24]], 'UNITE': [[1, 3, 8], [5, 6], [12, 9, 20], [11, 28], [13, 15], [22, 27], [18, 14]]}]\n",
      "trainingParams [{'FUNC': <function catBoostTrain at 0x7fca9b7f2ca0>, 'LOSS': 'Poisson', 'ITERS': 2000}]\n",
      "libSpecificParams [{'max_depth': 2, 'min_data_in_leaf': 19}]\n"
     ]
    },
    {
     "name": "stderr",
     "output_type": "stream",
     "text": [
      "/usr/local/lib/python3.8/dist-packages/pandas/core/indexes/base.py:5382: FutureWarning: Using a non-tuple sequence for multidimensional indexing is deprecated; use `arr[tuple(seq)]` instead of `arr[seq]`. In the future this will be interpreted as an array index, `arr[np.array(seq)]`, which will result either in an error or a different result.\n",
      "  result = getitem(key)\n",
      "  0%|                                                    | 0/10 [00:00<?, ?it/s]/usr/local/lib/python3.8/dist-packages/pandas/core/indexes/base.py:5382: FutureWarning: Using a non-tuple sequence for multidimensional indexing is deprecated; use `arr[tuple(seq)]` instead of `arr[seq]`. In the future this will be interpreted as an array index, `arr[np.array(seq)]`, which will result either in an error or a different result.\n",
      "  result = getitem(key)\n",
      " 10%|████▍                                       | 1/10 [00:05<00:45,  5.10s/it]/usr/local/lib/python3.8/dist-packages/pandas/core/indexes/base.py:5382: FutureWarning: Using a non-tuple sequence for multidimensional indexing is deprecated; use `arr[tuple(seq)]` instead of `arr[seq]`. In the future this will be interpreted as an array index, `arr[np.array(seq)]`, which will result either in an error or a different result.\n",
      "  result = getitem(key)\n",
      " 20%|████████▊                                   | 2/10 [00:10<00:41,  5.22s/it]/usr/local/lib/python3.8/dist-packages/pandas/core/indexes/base.py:5382: FutureWarning: Using a non-tuple sequence for multidimensional indexing is deprecated; use `arr[tuple(seq)]` instead of `arr[seq]`. In the future this will be interpreted as an array index, `arr[np.array(seq)]`, which will result either in an error or a different result.\n",
      "  result = getitem(key)\n",
      " 30%|█████████████▏                              | 3/10 [00:15<00:35,  5.10s/it]/usr/local/lib/python3.8/dist-packages/pandas/core/indexes/base.py:5382: FutureWarning: Using a non-tuple sequence for multidimensional indexing is deprecated; use `arr[tuple(seq)]` instead of `arr[seq]`. In the future this will be interpreted as an array index, `arr[np.array(seq)]`, which will result either in an error or a different result.\n",
      "  result = getitem(key)\n",
      " 40%|█████████████████▌                          | 4/10 [00:20<00:30,  5.06s/it]/usr/local/lib/python3.8/dist-packages/pandas/core/indexes/base.py:5382: FutureWarning: Using a non-tuple sequence for multidimensional indexing is deprecated; use `arr[tuple(seq)]` instead of `arr[seq]`. In the future this will be interpreted as an array index, `arr[np.array(seq)]`, which will result either in an error or a different result.\n",
      "  result = getitem(key)\n",
      " 50%|██████████████████████                      | 5/10 [00:25<00:25,  5.06s/it]/usr/local/lib/python3.8/dist-packages/pandas/core/indexes/base.py:5382: FutureWarning: Using a non-tuple sequence for multidimensional indexing is deprecated; use `arr[tuple(seq)]` instead of `arr[seq]`. In the future this will be interpreted as an array index, `arr[np.array(seq)]`, which will result either in an error or a different result.\n",
      "  result = getitem(key)\n",
      " 60%|██████████████████████████▍                 | 6/10 [00:30<00:20,  5.06s/it]/usr/local/lib/python3.8/dist-packages/pandas/core/indexes/base.py:5382: FutureWarning: Using a non-tuple sequence for multidimensional indexing is deprecated; use `arr[tuple(seq)]` instead of `arr[seq]`. In the future this will be interpreted as an array index, `arr[np.array(seq)]`, which will result either in an error or a different result.\n",
      "  result = getitem(key)\n",
      " 70%|██████████████████████████████▊             | 7/10 [00:35<00:15,  5.17s/it]/usr/local/lib/python3.8/dist-packages/pandas/core/indexes/base.py:5382: FutureWarning: Using a non-tuple sequence for multidimensional indexing is deprecated; use `arr[tuple(seq)]` instead of `arr[seq]`. In the future this will be interpreted as an array index, `arr[np.array(seq)]`, which will result either in an error or a different result.\n",
      "  result = getitem(key)\n",
      " 80%|███████████████████████████████████▏        | 8/10 [00:41<00:10,  5.17s/it]/usr/local/lib/python3.8/dist-packages/pandas/core/indexes/base.py:5382: FutureWarning: Using a non-tuple sequence for multidimensional indexing is deprecated; use `arr[tuple(seq)]` instead of `arr[seq]`. In the future this will be interpreted as an array index, `arr[np.array(seq)]`, which will result either in an error or a different result.\n",
      "  result = getitem(key)\n",
      " 90%|███████████████████████████████████████▌    | 9/10 [00:46<00:05,  5.22s/it]/usr/local/lib/python3.8/dist-packages/pandas/core/indexes/base.py:5382: FutureWarning: Using a non-tuple sequence for multidimensional indexing is deprecated; use `arr[tuple(seq)]` instead of `arr[seq]`. In the future this will be interpreted as an array index, `arr[np.array(seq)]`, which will result either in an error or a different result.\n",
      "  result = getitem(key)\n",
      "100%|███████████████████████████████████████████| 10/10 [00:51<00:00,  5.20s/it]\n",
      "\u001b[32m[I 2023-01-17 21:46:45,040]\u001b[0m Trial 5 finished with value: 0.8095134675491817 and parameters: {'max_depth': 2, 'min_data_in_leaf': 19}. Best is trial 1 with value: 0.8103504780290495.\u001b[0m\n"
     ]
    },
    {
     "name": "stdout",
     "output_type": "stream",
     "text": [
      "kfolded auc 0.8095134675491817 {'DROP': [[1, 3, 5, 6, 8, 9, 11, 12, 13, 14, 15, 18, 20, 22, 25, 27, 28, 7, 19, 24]], 'UNITE': [[1, 3, 8], [5, 6], [12, 9, 20], [11, 28], [13, 15], [22, 27], [18, 14]]} {'FUNC': <function catBoostTrain at 0x7fca9b7f2ca0>, 'LOSS': 'Poisson', 'ITERS': 2000} {'max_depth': 2, 'min_data_in_leaf': 19}\n",
      "[[[1, 3, 5, 6, 8, 9, 11, 12, 13, 14, 15, 18, 20, 22, 25, 27, 28, 7, 19, 24]]] <class 'list'>\n",
      "[[[1, 3, 8], [5, 6], [12, 9, 20], [11, 28], [13, 15], [22, 27], [18, 14]]] <class 'list'>\n",
      "<function catBoostTrain at 0x7fca9b7f2ca0> <class 'function'>\n",
      "Poisson <class 'str'>\n",
      "2000 <class 'int'>\n",
      "10 <class 'int'>\n",
      "4 <class 'int'>\n",
      "1 dataset params configs\n",
      "1 training params configs\n",
      "1 lib specific params configs\n",
      "1 all params configs\n",
      "datasetParams [{'DROP': [[1, 3, 5, 6, 8, 9, 11, 12, 13, 14, 15, 18, 20, 22, 25, 27, 28, 7, 19, 24]], 'UNITE': [[1, 3, 8], [5, 6], [12, 9, 20], [11, 28], [13, 15], [22, 27], [18, 14]]}]\n",
      "trainingParams [{'FUNC': <function catBoostTrain at 0x7fca9b7f2ca0>, 'LOSS': 'Poisson', 'ITERS': 2000}]\n",
      "libSpecificParams [{'max_depth': 10, 'min_data_in_leaf': 4}]\n"
     ]
    },
    {
     "name": "stderr",
     "output_type": "stream",
     "text": [
      "/usr/local/lib/python3.8/dist-packages/pandas/core/indexes/base.py:5382: FutureWarning: Using a non-tuple sequence for multidimensional indexing is deprecated; use `arr[tuple(seq)]` instead of `arr[seq]`. In the future this will be interpreted as an array index, `arr[np.array(seq)]`, which will result either in an error or a different result.\n",
      "  result = getitem(key)\n",
      "  0%|                                                    | 0/10 [00:00<?, ?it/s]/usr/local/lib/python3.8/dist-packages/pandas/core/indexes/base.py:5382: FutureWarning: Using a non-tuple sequence for multidimensional indexing is deprecated; use `arr[tuple(seq)]` instead of `arr[seq]`. In the future this will be interpreted as an array index, `arr[np.array(seq)]`, which will result either in an error or a different result.\n",
      "  result = getitem(key)\n",
      " 10%|████▍                                       | 1/10 [00:29<04:25, 29.54s/it]/usr/local/lib/python3.8/dist-packages/pandas/core/indexes/base.py:5382: FutureWarning: Using a non-tuple sequence for multidimensional indexing is deprecated; use `arr[tuple(seq)]` instead of `arr[seq]`. In the future this will be interpreted as an array index, `arr[np.array(seq)]`, which will result either in an error or a different result.\n",
      "  result = getitem(key)\n",
      " 20%|████████▊                                   | 2/10 [00:58<03:55, 29.38s/it]/usr/local/lib/python3.8/dist-packages/pandas/core/indexes/base.py:5382: FutureWarning: Using a non-tuple sequence for multidimensional indexing is deprecated; use `arr[tuple(seq)]` instead of `arr[seq]`. In the future this will be interpreted as an array index, `arr[np.array(seq)]`, which will result either in an error or a different result.\n",
      "  result = getitem(key)\n",
      " 30%|█████████████▏                              | 3/10 [01:28<03:26, 29.47s/it]/usr/local/lib/python3.8/dist-packages/pandas/core/indexes/base.py:5382: FutureWarning: Using a non-tuple sequence for multidimensional indexing is deprecated; use `arr[tuple(seq)]` instead of `arr[seq]`. In the future this will be interpreted as an array index, `arr[np.array(seq)]`, which will result either in an error or a different result.\n",
      "  result = getitem(key)\n",
      " 40%|█████████████████▌                          | 4/10 [01:57<02:56, 29.39s/it]/usr/local/lib/python3.8/dist-packages/pandas/core/indexes/base.py:5382: FutureWarning: Using a non-tuple sequence for multidimensional indexing is deprecated; use `arr[tuple(seq)]` instead of `arr[seq]`. In the future this will be interpreted as an array index, `arr[np.array(seq)]`, which will result either in an error or a different result.\n",
      "  result = getitem(key)\n",
      " 50%|██████████████████████                      | 5/10 [02:30<02:32, 30.56s/it]/usr/local/lib/python3.8/dist-packages/pandas/core/indexes/base.py:5382: FutureWarning: Using a non-tuple sequence for multidimensional indexing is deprecated; use `arr[tuple(seq)]` instead of `arr[seq]`. In the future this will be interpreted as an array index, `arr[np.array(seq)]`, which will result either in an error or a different result.\n",
      "  result = getitem(key)\n",
      " 60%|██████████████████████████▍                 | 6/10 [03:07<02:11, 32.87s/it]/usr/local/lib/python3.8/dist-packages/pandas/core/indexes/base.py:5382: FutureWarning: Using a non-tuple sequence for multidimensional indexing is deprecated; use `arr[tuple(seq)]` instead of `arr[seq]`. In the future this will be interpreted as an array index, `arr[np.array(seq)]`, which will result either in an error or a different result.\n",
      "  result = getitem(key)\n",
      " 70%|██████████████████████████████▊             | 7/10 [03:53<01:51, 37.06s/it]/usr/local/lib/python3.8/dist-packages/pandas/core/indexes/base.py:5382: FutureWarning: Using a non-tuple sequence for multidimensional indexing is deprecated; use `arr[tuple(seq)]` instead of `arr[seq]`. In the future this will be interpreted as an array index, `arr[np.array(seq)]`, which will result either in an error or a different result.\n",
      "  result = getitem(key)\n",
      " 80%|███████████████████████████████████▏        | 8/10 [04:28<01:12, 36.48s/it]/usr/local/lib/python3.8/dist-packages/pandas/core/indexes/base.py:5382: FutureWarning: Using a non-tuple sequence for multidimensional indexing is deprecated; use `arr[tuple(seq)]` instead of `arr[seq]`. In the future this will be interpreted as an array index, `arr[np.array(seq)]`, which will result either in an error or a different result.\n",
      "  result = getitem(key)\n",
      " 90%|███████████████████████████████████████▌    | 9/10 [04:53<00:32, 32.78s/it]/usr/local/lib/python3.8/dist-packages/pandas/core/indexes/base.py:5382: FutureWarning: Using a non-tuple sequence for multidimensional indexing is deprecated; use `arr[tuple(seq)]` instead of `arr[seq]`. In the future this will be interpreted as an array index, `arr[np.array(seq)]`, which will result either in an error or a different result.\n",
      "  result = getitem(key)\n",
      "100%|███████████████████████████████████████████| 10/10 [05:21<00:00, 32.12s/it]\n",
      "\u001b[32m[I 2023-01-17 21:52:09,064]\u001b[0m Trial 6 finished with value: 0.8111907060121346 and parameters: {'max_depth': 10, 'min_data_in_leaf': 4}. Best is trial 6 with value: 0.8111907060121346.\u001b[0m\n"
     ]
    },
    {
     "name": "stdout",
     "output_type": "stream",
     "text": [
      "kfolded auc 0.8111907060121346 {'DROP': [[1, 3, 5, 6, 8, 9, 11, 12, 13, 14, 15, 18, 20, 22, 25, 27, 28, 7, 19, 24]], 'UNITE': [[1, 3, 8], [5, 6], [12, 9, 20], [11, 28], [13, 15], [22, 27], [18, 14]]} {'FUNC': <function catBoostTrain at 0x7fca9b7f2ca0>, 'LOSS': 'Poisson', 'ITERS': 2000} {'max_depth': 10, 'min_data_in_leaf': 4}\n",
      "[[[1, 3, 5, 6, 8, 9, 11, 12, 13, 14, 15, 18, 20, 22, 25, 27, 28, 7, 19, 24]]] <class 'list'>\n",
      "[[[1, 3, 8], [5, 6], [12, 9, 20], [11, 28], [13, 15], [22, 27], [18, 14]]] <class 'list'>\n",
      "<function catBoostTrain at 0x7fca9b7f2ca0> <class 'function'>\n",
      "Poisson <class 'str'>\n",
      "2000 <class 'int'>\n",
      "2 <class 'int'>\n",
      "4 <class 'int'>\n",
      "1 dataset params configs\n",
      "1 training params configs\n",
      "1 lib specific params configs\n",
      "1 all params configs\n",
      "datasetParams [{'DROP': [[1, 3, 5, 6, 8, 9, 11, 12, 13, 14, 15, 18, 20, 22, 25, 27, 28, 7, 19, 24]], 'UNITE': [[1, 3, 8], [5, 6], [12, 9, 20], [11, 28], [13, 15], [22, 27], [18, 14]]}]\n",
      "trainingParams [{'FUNC': <function catBoostTrain at 0x7fca9b7f2ca0>, 'LOSS': 'Poisson', 'ITERS': 2000}]\n",
      "libSpecificParams [{'max_depth': 2, 'min_data_in_leaf': 4}]\n"
     ]
    },
    {
     "name": "stderr",
     "output_type": "stream",
     "text": [
      "/usr/local/lib/python3.8/dist-packages/pandas/core/indexes/base.py:5382: FutureWarning: Using a non-tuple sequence for multidimensional indexing is deprecated; use `arr[tuple(seq)]` instead of `arr[seq]`. In the future this will be interpreted as an array index, `arr[np.array(seq)]`, which will result either in an error or a different result.\n",
      "  result = getitem(key)\n",
      "  0%|                                                    | 0/10 [00:00<?, ?it/s]/usr/local/lib/python3.8/dist-packages/pandas/core/indexes/base.py:5382: FutureWarning: Using a non-tuple sequence for multidimensional indexing is deprecated; use `arr[tuple(seq)]` instead of `arr[seq]`. In the future this will be interpreted as an array index, `arr[np.array(seq)]`, which will result either in an error or a different result.\n",
      "  result = getitem(key)\n",
      " 10%|████▍                                       | 1/10 [00:04<00:44,  5.00s/it]/usr/local/lib/python3.8/dist-packages/pandas/core/indexes/base.py:5382: FutureWarning: Using a non-tuple sequence for multidimensional indexing is deprecated; use `arr[tuple(seq)]` instead of `arr[seq]`. In the future this will be interpreted as an array index, `arr[np.array(seq)]`, which will result either in an error or a different result.\n",
      "  result = getitem(key)\n",
      " 20%|████████▊                                   | 2/10 [00:10<00:40,  5.07s/it]/usr/local/lib/python3.8/dist-packages/pandas/core/indexes/base.py:5382: FutureWarning: Using a non-tuple sequence for multidimensional indexing is deprecated; use `arr[tuple(seq)]` instead of `arr[seq]`. In the future this will be interpreted as an array index, `arr[np.array(seq)]`, which will result either in an error or a different result.\n",
      "  result = getitem(key)\n",
      " 30%|█████████████▏                              | 3/10 [00:15<00:36,  5.20s/it]/usr/local/lib/python3.8/dist-packages/pandas/core/indexes/base.py:5382: FutureWarning: Using a non-tuple sequence for multidimensional indexing is deprecated; use `arr[tuple(seq)]` instead of `arr[seq]`. In the future this will be interpreted as an array index, `arr[np.array(seq)]`, which will result either in an error or a different result.\n",
      "  result = getitem(key)\n",
      " 40%|█████████████████▌                          | 4/10 [00:20<00:31,  5.21s/it]/usr/local/lib/python3.8/dist-packages/pandas/core/indexes/base.py:5382: FutureWarning: Using a non-tuple sequence for multidimensional indexing is deprecated; use `arr[tuple(seq)]` instead of `arr[seq]`. In the future this will be interpreted as an array index, `arr[np.array(seq)]`, which will result either in an error or a different result.\n",
      "  result = getitem(key)\n",
      " 50%|██████████████████████                      | 5/10 [00:25<00:25,  5.12s/it]/usr/local/lib/python3.8/dist-packages/pandas/core/indexes/base.py:5382: FutureWarning: Using a non-tuple sequence for multidimensional indexing is deprecated; use `arr[tuple(seq)]` instead of `arr[seq]`. In the future this will be interpreted as an array index, `arr[np.array(seq)]`, which will result either in an error or a different result.\n",
      "  result = getitem(key)\n",
      " 60%|██████████████████████████▍                 | 6/10 [00:30<00:20,  5.09s/it]/usr/local/lib/python3.8/dist-packages/pandas/core/indexes/base.py:5382: FutureWarning: Using a non-tuple sequence for multidimensional indexing is deprecated; use `arr[tuple(seq)]` instead of `arr[seq]`. In the future this will be interpreted as an array index, `arr[np.array(seq)]`, which will result either in an error or a different result.\n",
      "  result = getitem(key)\n",
      " 70%|██████████████████████████████▊             | 7/10 [00:36<00:15,  5.29s/it]/usr/local/lib/python3.8/dist-packages/pandas/core/indexes/base.py:5382: FutureWarning: Using a non-tuple sequence for multidimensional indexing is deprecated; use `arr[tuple(seq)]` instead of `arr[seq]`. In the future this will be interpreted as an array index, `arr[np.array(seq)]`, which will result either in an error or a different result.\n",
      "  result = getitem(key)\n",
      " 80%|███████████████████████████████████▏        | 8/10 [00:41<00:10,  5.29s/it]/usr/local/lib/python3.8/dist-packages/pandas/core/indexes/base.py:5382: FutureWarning: Using a non-tuple sequence for multidimensional indexing is deprecated; use `arr[tuple(seq)]` instead of `arr[seq]`. In the future this will be interpreted as an array index, `arr[np.array(seq)]`, which will result either in an error or a different result.\n",
      "  result = getitem(key)\n",
      " 90%|███████████████████████████████████████▌    | 9/10 [00:47<00:05,  5.39s/it]/usr/local/lib/python3.8/dist-packages/pandas/core/indexes/base.py:5382: FutureWarning: Using a non-tuple sequence for multidimensional indexing is deprecated; use `arr[tuple(seq)]` instead of `arr[seq]`. In the future this will be interpreted as an array index, `arr[np.array(seq)]`, which will result either in an error or a different result.\n",
      "  result = getitem(key)\n",
      "100%|███████████████████████████████████████████| 10/10 [00:52<00:00,  5.23s/it]\n",
      "\u001b[32m[I 2023-01-17 21:53:04,003]\u001b[0m Trial 7 finished with value: 0.8095134675491817 and parameters: {'max_depth': 2, 'min_data_in_leaf': 4}. Best is trial 6 with value: 0.8111907060121346.\u001b[0m\n"
     ]
    },
    {
     "name": "stdout",
     "output_type": "stream",
     "text": [
      "kfolded auc 0.8095134675491817 {'DROP': [[1, 3, 5, 6, 8, 9, 11, 12, 13, 14, 15, 18, 20, 22, 25, 27, 28, 7, 19, 24]], 'UNITE': [[1, 3, 8], [5, 6], [12, 9, 20], [11, 28], [13, 15], [22, 27], [18, 14]]} {'FUNC': <function catBoostTrain at 0x7fca9b7f2ca0>, 'LOSS': 'Poisson', 'ITERS': 2000} {'max_depth': 2, 'min_data_in_leaf': 4}\n",
      "[[[1, 3, 5, 6, 8, 9, 11, 12, 13, 14, 15, 18, 20, 22, 25, 27, 28, 7, 19, 24]]] <class 'list'>\n",
      "[[[1, 3, 8], [5, 6], [12, 9, 20], [11, 28], [13, 15], [22, 27], [18, 14]]] <class 'list'>\n",
      "<function catBoostTrain at 0x7fca9b7f2ca0> <class 'function'>\n",
      "Poisson <class 'str'>\n",
      "2000 <class 'int'>\n",
      "4 <class 'int'>\n",
      "10 <class 'int'>\n",
      "1 dataset params configs\n",
      "1 training params configs\n",
      "1 lib specific params configs\n",
      "1 all params configs\n",
      "datasetParams [{'DROP': [[1, 3, 5, 6, 8, 9, 11, 12, 13, 14, 15, 18, 20, 22, 25, 27, 28, 7, 19, 24]], 'UNITE': [[1, 3, 8], [5, 6], [12, 9, 20], [11, 28], [13, 15], [22, 27], [18, 14]]}]\n",
      "trainingParams [{'FUNC': <function catBoostTrain at 0x7fca9b7f2ca0>, 'LOSS': 'Poisson', 'ITERS': 2000}]\n",
      "libSpecificParams [{'max_depth': 4, 'min_data_in_leaf': 10}]\n"
     ]
    },
    {
     "name": "stderr",
     "output_type": "stream",
     "text": [
      "/usr/local/lib/python3.8/dist-packages/pandas/core/indexes/base.py:5382: FutureWarning: Using a non-tuple sequence for multidimensional indexing is deprecated; use `arr[tuple(seq)]` instead of `arr[seq]`. In the future this will be interpreted as an array index, `arr[np.array(seq)]`, which will result either in an error or a different result.\n",
      "  result = getitem(key)\n",
      "  0%|                                                    | 0/10 [00:00<?, ?it/s]/usr/local/lib/python3.8/dist-packages/pandas/core/indexes/base.py:5382: FutureWarning: Using a non-tuple sequence for multidimensional indexing is deprecated; use `arr[tuple(seq)]` instead of `arr[seq]`. In the future this will be interpreted as an array index, `arr[np.array(seq)]`, which will result either in an error or a different result.\n",
      "  result = getitem(key)\n",
      " 10%|████▍                                       | 1/10 [00:05<00:52,  5.87s/it]/usr/local/lib/python3.8/dist-packages/pandas/core/indexes/base.py:5382: FutureWarning: Using a non-tuple sequence for multidimensional indexing is deprecated; use `arr[tuple(seq)]` instead of `arr[seq]`. In the future this will be interpreted as an array index, `arr[np.array(seq)]`, which will result either in an error or a different result.\n",
      "  result = getitem(key)\n",
      " 20%|████████▊                                   | 2/10 [00:11<00:47,  5.93s/it]/usr/local/lib/python3.8/dist-packages/pandas/core/indexes/base.py:5382: FutureWarning: Using a non-tuple sequence for multidimensional indexing is deprecated; use `arr[tuple(seq)]` instead of `arr[seq]`. In the future this will be interpreted as an array index, `arr[np.array(seq)]`, which will result either in an error or a different result.\n",
      "  result = getitem(key)\n",
      " 30%|█████████████▏                              | 3/10 [00:17<00:41,  5.91s/it]/usr/local/lib/python3.8/dist-packages/pandas/core/indexes/base.py:5382: FutureWarning: Using a non-tuple sequence for multidimensional indexing is deprecated; use `arr[tuple(seq)]` instead of `arr[seq]`. In the future this will be interpreted as an array index, `arr[np.array(seq)]`, which will result either in an error or a different result.\n",
      "  result = getitem(key)\n",
      " 40%|█████████████████▌                          | 4/10 [00:23<00:35,  5.90s/it]/usr/local/lib/python3.8/dist-packages/pandas/core/indexes/base.py:5382: FutureWarning: Using a non-tuple sequence for multidimensional indexing is deprecated; use `arr[tuple(seq)]` instead of `arr[seq]`. In the future this will be interpreted as an array index, `arr[np.array(seq)]`, which will result either in an error or a different result.\n",
      "  result = getitem(key)\n",
      " 50%|██████████████████████                      | 5/10 [00:29<00:28,  5.80s/it]/usr/local/lib/python3.8/dist-packages/pandas/core/indexes/base.py:5382: FutureWarning: Using a non-tuple sequence for multidimensional indexing is deprecated; use `arr[tuple(seq)]` instead of `arr[seq]`. In the future this will be interpreted as an array index, `arr[np.array(seq)]`, which will result either in an error or a different result.\n",
      "  result = getitem(key)\n",
      " 60%|██████████████████████████▍                 | 6/10 [00:34<00:23,  5.77s/it]/usr/local/lib/python3.8/dist-packages/pandas/core/indexes/base.py:5382: FutureWarning: Using a non-tuple sequence for multidimensional indexing is deprecated; use `arr[tuple(seq)]` instead of `arr[seq]`. In the future this will be interpreted as an array index, `arr[np.array(seq)]`, which will result either in an error or a different result.\n",
      "  result = getitem(key)\n",
      " 70%|██████████████████████████████▊             | 7/10 [00:40<00:17,  5.74s/it]/usr/local/lib/python3.8/dist-packages/pandas/core/indexes/base.py:5382: FutureWarning: Using a non-tuple sequence for multidimensional indexing is deprecated; use `arr[tuple(seq)]` instead of `arr[seq]`. In the future this will be interpreted as an array index, `arr[np.array(seq)]`, which will result either in an error or a different result.\n",
      "  result = getitem(key)\n",
      " 80%|███████████████████████████████████▏        | 8/10 [00:46<00:11,  5.72s/it]/usr/local/lib/python3.8/dist-packages/pandas/core/indexes/base.py:5382: FutureWarning: Using a non-tuple sequence for multidimensional indexing is deprecated; use `arr[tuple(seq)]` instead of `arr[seq]`. In the future this will be interpreted as an array index, `arr[np.array(seq)]`, which will result either in an error or a different result.\n",
      "  result = getitem(key)\n",
      " 90%|███████████████████████████████████████▌    | 9/10 [00:52<00:05,  5.72s/it]/usr/local/lib/python3.8/dist-packages/pandas/core/indexes/base.py:5382: FutureWarning: Using a non-tuple sequence for multidimensional indexing is deprecated; use `arr[tuple(seq)]` instead of `arr[seq]`. In the future this will be interpreted as an array index, `arr[np.array(seq)]`, which will result either in an error or a different result.\n",
      "  result = getitem(key)\n",
      "100%|███████████████████████████████████████████| 10/10 [00:57<00:00,  5.76s/it]\n",
      "\u001b[32m[I 2023-01-17 21:54:04,305]\u001b[0m Trial 8 finished with value: 0.8074616197830483 and parameters: {'max_depth': 4, 'min_data_in_leaf': 10}. Best is trial 6 with value: 0.8111907060121346.\u001b[0m\n"
     ]
    },
    {
     "name": "stdout",
     "output_type": "stream",
     "text": [
      "kfolded auc 0.8074616197830483 {'DROP': [[1, 3, 5, 6, 8, 9, 11, 12, 13, 14, 15, 18, 20, 22, 25, 27, 28, 7, 19, 24]], 'UNITE': [[1, 3, 8], [5, 6], [12, 9, 20], [11, 28], [13, 15], [22, 27], [18, 14]]} {'FUNC': <function catBoostTrain at 0x7fca9b7f2ca0>, 'LOSS': 'Poisson', 'ITERS': 2000} {'max_depth': 4, 'min_data_in_leaf': 10}\n",
      "[[[1, 3, 5, 6, 8, 9, 11, 12, 13, 14, 15, 18, 20, 22, 25, 27, 28, 7, 19, 24]]] <class 'list'>\n",
      "[[[1, 3, 8], [5, 6], [12, 9, 20], [11, 28], [13, 15], [22, 27], [18, 14]]] <class 'list'>\n",
      "<function catBoostTrain at 0x7fca9b7f2ca0> <class 'function'>\n",
      "Poisson <class 'str'>\n",
      "2000 <class 'int'>\n",
      "6 <class 'int'>\n",
      "7 <class 'int'>\n",
      "1 dataset params configs\n",
      "1 training params configs\n",
      "1 lib specific params configs\n",
      "1 all params configs\n",
      "datasetParams [{'DROP': [[1, 3, 5, 6, 8, 9, 11, 12, 13, 14, 15, 18, 20, 22, 25, 27, 28, 7, 19, 24]], 'UNITE': [[1, 3, 8], [5, 6], [12, 9, 20], [11, 28], [13, 15], [22, 27], [18, 14]]}]\n",
      "trainingParams [{'FUNC': <function catBoostTrain at 0x7fca9b7f2ca0>, 'LOSS': 'Poisson', 'ITERS': 2000}]\n",
      "libSpecificParams [{'max_depth': 6, 'min_data_in_leaf': 7}]\n"
     ]
    },
    {
     "name": "stderr",
     "output_type": "stream",
     "text": [
      "/usr/local/lib/python3.8/dist-packages/pandas/core/indexes/base.py:5382: FutureWarning: Using a non-tuple sequence for multidimensional indexing is deprecated; use `arr[tuple(seq)]` instead of `arr[seq]`. In the future this will be interpreted as an array index, `arr[np.array(seq)]`, which will result either in an error or a different result.\n",
      "  result = getitem(key)\n",
      "  0%|                                                    | 0/10 [00:00<?, ?it/s]/usr/local/lib/python3.8/dist-packages/pandas/core/indexes/base.py:5382: FutureWarning: Using a non-tuple sequence for multidimensional indexing is deprecated; use `arr[tuple(seq)]` instead of `arr[seq]`. In the future this will be interpreted as an array index, `arr[np.array(seq)]`, which will result either in an error or a different result.\n",
      "  result = getitem(key)\n",
      " 10%|████▍                                       | 1/10 [00:07<01:06,  7.36s/it]/usr/local/lib/python3.8/dist-packages/pandas/core/indexes/base.py:5382: FutureWarning: Using a non-tuple sequence for multidimensional indexing is deprecated; use `arr[tuple(seq)]` instead of `arr[seq]`. In the future this will be interpreted as an array index, `arr[np.array(seq)]`, which will result either in an error or a different result.\n",
      "  result = getitem(key)\n",
      " 20%|████████▊                                   | 2/10 [00:14<00:58,  7.32s/it]/usr/local/lib/python3.8/dist-packages/pandas/core/indexes/base.py:5382: FutureWarning: Using a non-tuple sequence for multidimensional indexing is deprecated; use `arr[tuple(seq)]` instead of `arr[seq]`. In the future this will be interpreted as an array index, `arr[np.array(seq)]`, which will result either in an error or a different result.\n",
      "  result = getitem(key)\n",
      " 30%|█████████████▏                              | 3/10 [00:22<00:51,  7.39s/it]/usr/local/lib/python3.8/dist-packages/pandas/core/indexes/base.py:5382: FutureWarning: Using a non-tuple sequence for multidimensional indexing is deprecated; use `arr[tuple(seq)]` instead of `arr[seq]`. In the future this will be interpreted as an array index, `arr[np.array(seq)]`, which will result either in an error or a different result.\n",
      "  result = getitem(key)\n",
      " 40%|█████████████████▌                          | 4/10 [00:29<00:43,  7.29s/it]/usr/local/lib/python3.8/dist-packages/pandas/core/indexes/base.py:5382: FutureWarning: Using a non-tuple sequence for multidimensional indexing is deprecated; use `arr[tuple(seq)]` instead of `arr[seq]`. In the future this will be interpreted as an array index, `arr[np.array(seq)]`, which will result either in an error or a different result.\n",
      "  result = getitem(key)\n",
      " 50%|██████████████████████                      | 5/10 [00:36<00:36,  7.30s/it]/usr/local/lib/python3.8/dist-packages/pandas/core/indexes/base.py:5382: FutureWarning: Using a non-tuple sequence for multidimensional indexing is deprecated; use `arr[tuple(seq)]` instead of `arr[seq]`. In the future this will be interpreted as an array index, `arr[np.array(seq)]`, which will result either in an error or a different result.\n",
      "  result = getitem(key)\n",
      " 60%|██████████████████████████▍                 | 6/10 [00:44<00:30,  7.59s/it]/usr/local/lib/python3.8/dist-packages/pandas/core/indexes/base.py:5382: FutureWarning: Using a non-tuple sequence for multidimensional indexing is deprecated; use `arr[tuple(seq)]` instead of `arr[seq]`. In the future this will be interpreted as an array index, `arr[np.array(seq)]`, which will result either in an error or a different result.\n",
      "  result = getitem(key)\n",
      " 70%|██████████████████████████████▊             | 7/10 [00:52<00:23,  7.75s/it]/usr/local/lib/python3.8/dist-packages/pandas/core/indexes/base.py:5382: FutureWarning: Using a non-tuple sequence for multidimensional indexing is deprecated; use `arr[tuple(seq)]` instead of `arr[seq]`. In the future this will be interpreted as an array index, `arr[np.array(seq)]`, which will result either in an error or a different result.\n",
      "  result = getitem(key)\n",
      " 80%|███████████████████████████████████▏        | 8/10 [01:00<00:15,  7.81s/it]/usr/local/lib/python3.8/dist-packages/pandas/core/indexes/base.py:5382: FutureWarning: Using a non-tuple sequence for multidimensional indexing is deprecated; use `arr[tuple(seq)]` instead of `arr[seq]`. In the future this will be interpreted as an array index, `arr[np.array(seq)]`, which will result either in an error or a different result.\n",
      "  result = getitem(key)\n",
      " 90%|███████████████████████████████████████▌    | 9/10 [01:08<00:07,  7.93s/it]/usr/local/lib/python3.8/dist-packages/pandas/core/indexes/base.py:5382: FutureWarning: Using a non-tuple sequence for multidimensional indexing is deprecated; use `arr[tuple(seq)]` instead of `arr[seq]`. In the future this will be interpreted as an array index, `arr[np.array(seq)]`, which will result either in an error or a different result.\n",
      "  result = getitem(key)\n",
      "100%|███████████████████████████████████████████| 10/10 [01:17<00:00,  7.73s/it]\n",
      "\u001b[32m[I 2023-01-17 21:55:24,153]\u001b[0m Trial 9 finished with value: 0.8093594870380585 and parameters: {'max_depth': 6, 'min_data_in_leaf': 7}. Best is trial 6 with value: 0.8111907060121346.\u001b[0m\n"
     ]
    },
    {
     "name": "stdout",
     "output_type": "stream",
     "text": [
      "kfolded auc 0.8093594870380585 {'DROP': [[1, 3, 5, 6, 8, 9, 11, 12, 13, 14, 15, 18, 20, 22, 25, 27, 28, 7, 19, 24]], 'UNITE': [[1, 3, 8], [5, 6], [12, 9, 20], [11, 28], [13, 15], [22, 27], [18, 14]]} {'FUNC': <function catBoostTrain at 0x7fca9b7f2ca0>, 'LOSS': 'Poisson', 'ITERS': 2000} {'max_depth': 6, 'min_data_in_leaf': 7}\n",
      "[[[1, 3, 5, 6, 8, 9, 11, 12, 13, 14, 15, 18, 20, 22, 25, 27, 28, 7, 19, 24]]] <class 'list'>\n",
      "[[[1, 3, 8], [5, 6], [12, 9, 20], [11, 28], [13, 15], [22, 27], [18, 14]]] <class 'list'>\n",
      "<function catBoostTrain at 0x7fca9b7f2ca0> <class 'function'>\n",
      "Poisson <class 'str'>\n",
      "2000 <class 'int'>\n",
      "8 <class 'int'>\n",
      "1 <class 'int'>\n",
      "1 dataset params configs\n",
      "1 training params configs\n",
      "1 lib specific params configs\n",
      "1 all params configs\n",
      "datasetParams [{'DROP': [[1, 3, 5, 6, 8, 9, 11, 12, 13, 14, 15, 18, 20, 22, 25, 27, 28, 7, 19, 24]], 'UNITE': [[1, 3, 8], [5, 6], [12, 9, 20], [11, 28], [13, 15], [22, 27], [18, 14]]}]\n",
      "trainingParams [{'FUNC': <function catBoostTrain at 0x7fca9b7f2ca0>, 'LOSS': 'Poisson', 'ITERS': 2000}]\n",
      "libSpecificParams [{'max_depth': 8, 'min_data_in_leaf': 1}]\n"
     ]
    },
    {
     "name": "stderr",
     "output_type": "stream",
     "text": [
      "/usr/local/lib/python3.8/dist-packages/pandas/core/indexes/base.py:5382: FutureWarning: Using a non-tuple sequence for multidimensional indexing is deprecated; use `arr[tuple(seq)]` instead of `arr[seq]`. In the future this will be interpreted as an array index, `arr[np.array(seq)]`, which will result either in an error or a different result.\n",
      "  result = getitem(key)\n",
      "  0%|                                                    | 0/10 [00:00<?, ?it/s]/usr/local/lib/python3.8/dist-packages/pandas/core/indexes/base.py:5382: FutureWarning: Using a non-tuple sequence for multidimensional indexing is deprecated; use `arr[tuple(seq)]` instead of `arr[seq]`. In the future this will be interpreted as an array index, `arr[np.array(seq)]`, which will result either in an error or a different result.\n",
      "  result = getitem(key)\n",
      " 10%|████▍                                       | 1/10 [00:12<01:56, 12.98s/it]/usr/local/lib/python3.8/dist-packages/pandas/core/indexes/base.py:5382: FutureWarning: Using a non-tuple sequence for multidimensional indexing is deprecated; use `arr[tuple(seq)]` instead of `arr[seq]`. In the future this will be interpreted as an array index, `arr[np.array(seq)]`, which will result either in an error or a different result.\n",
      "  result = getitem(key)\n",
      " 20%|████████▊                                   | 2/10 [00:25<01:42, 12.82s/it]/usr/local/lib/python3.8/dist-packages/pandas/core/indexes/base.py:5382: FutureWarning: Using a non-tuple sequence for multidimensional indexing is deprecated; use `arr[tuple(seq)]` instead of `arr[seq]`. In the future this will be interpreted as an array index, `arr[np.array(seq)]`, which will result either in an error or a different result.\n",
      "  result = getitem(key)\n",
      " 30%|█████████████▏                              | 3/10 [00:38<01:29, 12.73s/it]/usr/local/lib/python3.8/dist-packages/pandas/core/indexes/base.py:5382: FutureWarning: Using a non-tuple sequence for multidimensional indexing is deprecated; use `arr[tuple(seq)]` instead of `arr[seq]`. In the future this will be interpreted as an array index, `arr[np.array(seq)]`, which will result either in an error or a different result.\n",
      "  result = getitem(key)\n",
      " 40%|█████████████████▌                          | 4/10 [00:51<01:16, 12.74s/it]/usr/local/lib/python3.8/dist-packages/pandas/core/indexes/base.py:5382: FutureWarning: Using a non-tuple sequence for multidimensional indexing is deprecated; use `arr[tuple(seq)]` instead of `arr[seq]`. In the future this will be interpreted as an array index, `arr[np.array(seq)]`, which will result either in an error or a different result.\n",
      "  result = getitem(key)\n",
      " 50%|██████████████████████                      | 5/10 [01:06<01:08, 13.72s/it]/usr/local/lib/python3.8/dist-packages/pandas/core/indexes/base.py:5382: FutureWarning: Using a non-tuple sequence for multidimensional indexing is deprecated; use `arr[tuple(seq)]` instead of `arr[seq]`. In the future this will be interpreted as an array index, `arr[np.array(seq)]`, which will result either in an error or a different result.\n",
      "  result = getitem(key)\n",
      " 60%|██████████████████████████▍                 | 6/10 [01:20<00:55, 13.92s/it]/usr/local/lib/python3.8/dist-packages/pandas/core/indexes/base.py:5382: FutureWarning: Using a non-tuple sequence for multidimensional indexing is deprecated; use `arr[tuple(seq)]` instead of `arr[seq]`. In the future this will be interpreted as an array index, `arr[np.array(seq)]`, which will result either in an error or a different result.\n",
      "  result = getitem(key)\n",
      " 70%|██████████████████████████████▊             | 7/10 [01:34<00:41, 13.75s/it]/usr/local/lib/python3.8/dist-packages/pandas/core/indexes/base.py:5382: FutureWarning: Using a non-tuple sequence for multidimensional indexing is deprecated; use `arr[tuple(seq)]` instead of `arr[seq]`. In the future this will be interpreted as an array index, `arr[np.array(seq)]`, which will result either in an error or a different result.\n",
      "  result = getitem(key)\n",
      " 80%|███████████████████████████████████▏        | 8/10 [01:48<00:27, 13.77s/it]/usr/local/lib/python3.8/dist-packages/pandas/core/indexes/base.py:5382: FutureWarning: Using a non-tuple sequence for multidimensional indexing is deprecated; use `arr[tuple(seq)]` instead of `arr[seq]`. In the future this will be interpreted as an array index, `arr[np.array(seq)]`, which will result either in an error or a different result.\n",
      "  result = getitem(key)\n",
      " 90%|███████████████████████████████████████▌    | 9/10 [02:02<00:13, 14.00s/it]/usr/local/lib/python3.8/dist-packages/pandas/core/indexes/base.py:5382: FutureWarning: Using a non-tuple sequence for multidimensional indexing is deprecated; use `arr[tuple(seq)]` instead of `arr[seq]`. In the future this will be interpreted as an array index, `arr[np.array(seq)]`, which will result either in an error or a different result.\n",
      "  result = getitem(key)\n",
      "100%|███████████████████████████████████████████| 10/10 [02:15<00:00, 13.54s/it]\n",
      "\u001b[32m[I 2023-01-17 21:57:42,447]\u001b[0m Trial 10 finished with value: 0.8103504780290495 and parameters: {'max_depth': 8, 'min_data_in_leaf': 1}. Best is trial 6 with value: 0.8111907060121346.\u001b[0m\n"
     ]
    },
    {
     "name": "stdout",
     "output_type": "stream",
     "text": [
      "kfolded auc 0.8103504780290495 {'DROP': [[1, 3, 5, 6, 8, 9, 11, 12, 13, 14, 15, 18, 20, 22, 25, 27, 28, 7, 19, 24]], 'UNITE': [[1, 3, 8], [5, 6], [12, 9, 20], [11, 28], [13, 15], [22, 27], [18, 14]]} {'FUNC': <function catBoostTrain at 0x7fca9b7f2ca0>, 'LOSS': 'Poisson', 'ITERS': 2000} {'max_depth': 8, 'min_data_in_leaf': 1}\n",
      "[[[1, 3, 5, 6, 8, 9, 11, 12, 13, 14, 15, 18, 20, 22, 25, 27, 28, 7, 19, 24]]] <class 'list'>\n",
      "[[[1, 3, 8], [5, 6], [12, 9, 20], [11, 28], [13, 15], [22, 27], [18, 14]]] <class 'list'>\n",
      "<function catBoostTrain at 0x7fca9b7f2ca0> <class 'function'>\n",
      "Poisson <class 'str'>\n",
      "2000 <class 'int'>\n",
      "4 <class 'int'>\n",
      "7 <class 'int'>\n",
      "1 dataset params configs\n",
      "1 training params configs\n",
      "1 lib specific params configs\n",
      "1 all params configs\n",
      "datasetParams [{'DROP': [[1, 3, 5, 6, 8, 9, 11, 12, 13, 14, 15, 18, 20, 22, 25, 27, 28, 7, 19, 24]], 'UNITE': [[1, 3, 8], [5, 6], [12, 9, 20], [11, 28], [13, 15], [22, 27], [18, 14]]}]\n",
      "trainingParams [{'FUNC': <function catBoostTrain at 0x7fca9b7f2ca0>, 'LOSS': 'Poisson', 'ITERS': 2000}]\n",
      "libSpecificParams [{'max_depth': 4, 'min_data_in_leaf': 7}]\n"
     ]
    },
    {
     "name": "stderr",
     "output_type": "stream",
     "text": [
      "/usr/local/lib/python3.8/dist-packages/pandas/core/indexes/base.py:5382: FutureWarning: Using a non-tuple sequence for multidimensional indexing is deprecated; use `arr[tuple(seq)]` instead of `arr[seq]`. In the future this will be interpreted as an array index, `arr[np.array(seq)]`, which will result either in an error or a different result.\n",
      "  result = getitem(key)\n",
      "  0%|                                                    | 0/10 [00:00<?, ?it/s]/usr/local/lib/python3.8/dist-packages/pandas/core/indexes/base.py:5382: FutureWarning: Using a non-tuple sequence for multidimensional indexing is deprecated; use `arr[tuple(seq)]` instead of `arr[seq]`. In the future this will be interpreted as an array index, `arr[np.array(seq)]`, which will result either in an error or a different result.\n",
      "  result = getitem(key)\n",
      " 10%|████▍                                       | 1/10 [00:05<00:53,  5.91s/it]/usr/local/lib/python3.8/dist-packages/pandas/core/indexes/base.py:5382: FutureWarning: Using a non-tuple sequence for multidimensional indexing is deprecated; use `arr[tuple(seq)]` instead of `arr[seq]`. In the future this will be interpreted as an array index, `arr[np.array(seq)]`, which will result either in an error or a different result.\n",
      "  result = getitem(key)\n",
      " 20%|████████▊                                   | 2/10 [00:11<00:47,  5.92s/it]/usr/local/lib/python3.8/dist-packages/pandas/core/indexes/base.py:5382: FutureWarning: Using a non-tuple sequence for multidimensional indexing is deprecated; use `arr[tuple(seq)]` instead of `arr[seq]`. In the future this will be interpreted as an array index, `arr[np.array(seq)]`, which will result either in an error or a different result.\n",
      "  result = getitem(key)\n",
      " 30%|█████████████▏                              | 3/10 [00:18<00:42,  6.04s/it]/usr/local/lib/python3.8/dist-packages/pandas/core/indexes/base.py:5382: FutureWarning: Using a non-tuple sequence for multidimensional indexing is deprecated; use `arr[tuple(seq)]` instead of `arr[seq]`. In the future this will be interpreted as an array index, `arr[np.array(seq)]`, which will result either in an error or a different result.\n",
      "  result = getitem(key)\n",
      " 40%|█████████████████▌                          | 4/10 [00:24<00:36,  6.09s/it]/usr/local/lib/python3.8/dist-packages/pandas/core/indexes/base.py:5382: FutureWarning: Using a non-tuple sequence for multidimensional indexing is deprecated; use `arr[tuple(seq)]` instead of `arr[seq]`. In the future this will be interpreted as an array index, `arr[np.array(seq)]`, which will result either in an error or a different result.\n",
      "  result = getitem(key)\n",
      " 50%|██████████████████████                      | 5/10 [00:29<00:29,  5.98s/it]/usr/local/lib/python3.8/dist-packages/pandas/core/indexes/base.py:5382: FutureWarning: Using a non-tuple sequence for multidimensional indexing is deprecated; use `arr[tuple(seq)]` instead of `arr[seq]`. In the future this will be interpreted as an array index, `arr[np.array(seq)]`, which will result either in an error or a different result.\n",
      "  result = getitem(key)\n",
      " 60%|██████████████████████████▍                 | 6/10 [00:35<00:23,  5.96s/it]/usr/local/lib/python3.8/dist-packages/pandas/core/indexes/base.py:5382: FutureWarning: Using a non-tuple sequence for multidimensional indexing is deprecated; use `arr[tuple(seq)]` instead of `arr[seq]`. In the future this will be interpreted as an array index, `arr[np.array(seq)]`, which will result either in an error or a different result.\n",
      "  result = getitem(key)\n",
      " 70%|██████████████████████████████▊             | 7/10 [00:41<00:17,  5.92s/it]/usr/local/lib/python3.8/dist-packages/pandas/core/indexes/base.py:5382: FutureWarning: Using a non-tuple sequence for multidimensional indexing is deprecated; use `arr[tuple(seq)]` instead of `arr[seq]`. In the future this will be interpreted as an array index, `arr[np.array(seq)]`, which will result either in an error or a different result.\n",
      "  result = getitem(key)\n",
      " 80%|███████████████████████████████████▏        | 8/10 [00:47<00:11,  5.86s/it]/usr/local/lib/python3.8/dist-packages/pandas/core/indexes/base.py:5382: FutureWarning: Using a non-tuple sequence for multidimensional indexing is deprecated; use `arr[tuple(seq)]` instead of `arr[seq]`. In the future this will be interpreted as an array index, `arr[np.array(seq)]`, which will result either in an error or a different result.\n",
      "  result = getitem(key)\n",
      " 90%|███████████████████████████████████████▌    | 9/10 [00:53<00:05,  5.86s/it]/usr/local/lib/python3.8/dist-packages/pandas/core/indexes/base.py:5382: FutureWarning: Using a non-tuple sequence for multidimensional indexing is deprecated; use `arr[tuple(seq)]` instead of `arr[seq]`. In the future this will be interpreted as an array index, `arr[np.array(seq)]`, which will result either in an error or a different result.\n",
      "  result = getitem(key)\n",
      "100%|███████████████████████████████████████████| 10/10 [00:59<00:00,  5.92s/it]\n",
      "\u001b[32m[I 2023-01-17 21:58:44,286]\u001b[0m Trial 11 finished with value: 0.8074616197830483 and parameters: {'max_depth': 4, 'min_data_in_leaf': 7}. Best is trial 6 with value: 0.8111907060121346.\u001b[0m\n"
     ]
    },
    {
     "name": "stdout",
     "output_type": "stream",
     "text": [
      "kfolded auc 0.8074616197830483 {'DROP': [[1, 3, 5, 6, 8, 9, 11, 12, 13, 14, 15, 18, 20, 22, 25, 27, 28, 7, 19, 24]], 'UNITE': [[1, 3, 8], [5, 6], [12, 9, 20], [11, 28], [13, 15], [22, 27], [18, 14]]} {'FUNC': <function catBoostTrain at 0x7fca9b7f2ca0>, 'LOSS': 'Poisson', 'ITERS': 2000} {'max_depth': 4, 'min_data_in_leaf': 7}\n",
      "score: 0.8111907060121346, params: {'max_depth': 10, 'min_data_in_leaf': 4}\n"
     ]
    }
   ],
   "source": [
    "import optuna\n",
    "\n",
    "def my_objective(trial):\n",
    "    param = {\n",
    " #     'max_leaves': trial.suggest_int('max_leaves', 20, 100),\n",
    "      'max_depth': trial.suggest_int('max_depth', 2, 10, 2),\n",
    "      'min_data_in_leaf': trial.suggest_int('min_data_in_leaf', 1, 19, 3)\n",
    "    }\n",
    "    #datasetParams={\"DROP\":[[[1,3,5,6,8,9,11,12,13,14,15,18,20,22,25,27,28, 7,19,24]]],\"UNITE\":[[[1,3,8],[5,6],[12,9,20],[11,28],[13,15],[22,27],[18,14]]]} #drop 1-variant columns, unite (and drop) few-variants columns\n",
    "    #trainingParams={\"FUNC\":catBoostTrain,\"LOSS\":\"Poisson\",\"ITERS\":2000}\n",
    "    datasetParams={}\n",
    "    trainingParams={\"FUNC\":catBoostTrain,\"LOSS\":Poisson\",\"ITERS\":2000}\n",
    "    libSpecificParams=param\n",
    "    res=runGridTest(df,datasetParams,trainingParams,libSpecificParams,10)\n",
    "    #res=np.array(res)\n",
    "    return res[0][0]\n",
    "    \n",
    "\n",
    "cat_roc_study = optuna.create_study(direction='maximize', sampler=optuna.samplers.RandomSampler(seed=42), #TPESampler(seed=42),\n",
    "                                   pruner=optuna.pruners.MedianPruner( #HyperbandPruner(\n",
    "      #  n_startup_trials=5, n_warmup_steps=30, interval_steps=6\n",
    "    ))\n",
    "cat_roc_study.optimize(my_objective, n_trials=12)\n",
    "\n",
    "cat_roc_best = cat_roc_study.best_trial\n",
    "cat_roc_best_params = cat_roc_best.params\n",
    "print('score: {0}, params: {1}'.format(cat_roc_best.value, cat_roc_best_params))"
   ]
  },
  {
   "cell_type": "code",
   "execution_count": null,
   "id": "d81fa394",
   "metadata": {},
   "outputs": [],
   "source": []
  },
  {
   "cell_type": "markdown",
   "id": "f8abdbce",
   "metadata": {},
   "source": [
    "## SUBMISSION CREATION"
   ]
  },
  {
   "cell_type": "code",
   "execution_count": 47,
   "id": "b6cdadf9",
   "metadata": {},
   "outputs": [
    {
     "name": "stderr",
     "output_type": "stream",
     "text": [
      "100%|███████████████████████████████████████████| 12/12 [02:54<00:00, 14.55s/it]\n"
     ]
    },
    {
     "data": {
      "text/html": [
       "<div>\n",
       "<style scoped>\n",
       "    .dataframe tbody tr th:only-of-type {\n",
       "        vertical-align: middle;\n",
       "    }\n",
       "\n",
       "    .dataframe tbody tr th {\n",
       "        vertical-align: top;\n",
       "    }\n",
       "\n",
       "    .dataframe thead th {\n",
       "        text-align: right;\n",
       "    }\n",
       "</style>\n",
       "<table border=\"1\" class=\"dataframe\">\n",
       "  <thead>\n",
       "    <tr style=\"text-align: right;\">\n",
       "      <th></th>\n",
       "      <th>Class</th>\n",
       "    </tr>\n",
       "    <tr>\n",
       "      <th>id</th>\n",
       "      <th></th>\n",
       "    </tr>\n",
       "  </thead>\n",
       "  <tbody>\n",
       "    <tr>\n",
       "      <th>219129</th>\n",
       "      <td>0.001773</td>\n",
       "    </tr>\n",
       "    <tr>\n",
       "      <th>219130</th>\n",
       "      <td>0.001235</td>\n",
       "    </tr>\n",
       "    <tr>\n",
       "      <th>219131</th>\n",
       "      <td>0.000833</td>\n",
       "    </tr>\n",
       "    <tr>\n",
       "      <th>219132</th>\n",
       "      <td>0.004191</td>\n",
       "    </tr>\n",
       "    <tr>\n",
       "      <th>219133</th>\n",
       "      <td>0.001885</td>\n",
       "    </tr>\n",
       "    <tr>\n",
       "      <th>219134</th>\n",
       "      <td>0.001510</td>\n",
       "    </tr>\n",
       "    <tr>\n",
       "      <th>219135</th>\n",
       "      <td>0.001502</td>\n",
       "    </tr>\n",
       "    <tr>\n",
       "      <th>219136</th>\n",
       "      <td>0.003089</td>\n",
       "    </tr>\n",
       "    <tr>\n",
       "      <th>219137</th>\n",
       "      <td>0.001309</td>\n",
       "    </tr>\n",
       "    <tr>\n",
       "      <th>219138</th>\n",
       "      <td>0.001842</td>\n",
       "    </tr>\n",
       "    <tr>\n",
       "      <th>219139</th>\n",
       "      <td>0.001727</td>\n",
       "    </tr>\n",
       "    <tr>\n",
       "      <th>219140</th>\n",
       "      <td>0.000718</td>\n",
       "    </tr>\n",
       "  </tbody>\n",
       "</table>\n",
       "</div>"
      ],
      "text/plain": [
       "           Class\n",
       "id              \n",
       "219129  0.001773\n",
       "219130  0.001235\n",
       "219131  0.000833\n",
       "219132  0.004191\n",
       "219133  0.001885\n",
       "219134  0.001510\n",
       "219135  0.001502\n",
       "219136  0.003089\n",
       "219137  0.001309\n",
       "219138  0.001842\n",
       "219139  0.001727\n",
       "219140  0.000718"
      ]
     },
     "execution_count": 47,
     "metadata": {},
     "output_type": "execute_result"
    }
   ],
   "source": [
    "#Submission file craft\n",
    "\n",
    "dfTest=pd.read_csv(DATA_DIR+\"/test.csv\")\n",
    "ids=dfTest.iloc[:,0]\n",
    "dfTest=dfTest.iloc[:,1:] #drop ID\n",
    "\n",
    "#Best configs\n",
    "df2=df.copy()\n",
    "\n",
    "BINS=40\n",
    "\n",
    "exp = expander.Normalizer1d(BINS)\n",
    "am = np.log2(df[\"Amount\"].values+1)\n",
    "exp.fit(am)\n",
    "am2 = exp.predict(am)\n",
    "df2[\"Amount\"] = am2\n",
    "\n",
    "am=np.log2(dfTest[\"Amount\"].values+1)\n",
    "am2=exp.predict(am)\n",
    "dfTest[\"Amount\"]=am2\n",
    "\n",
    "datasetParams={\"DROP\":[\"Time\"],\"TO_BINS\":[(\"Amount\",BINS)]}\n",
    "trainingParams={\"FUNC\":catBoostTrain}\n",
    "libSpecificParams={}\n",
    "\n",
    "\n",
    "X_Train, Y_Train, X_Test = prepareDataset(df2, df2.columns[-1], datasetParams, dfTest)\n",
    "\n",
    "Y_Pred_total = 0\n",
    "kCount = 0\n",
    "\n",
    "stf = StratifiedKFold(12, shuffle=True, random_state=1)\n",
    "for train_ix, test_ix in tqdm(stf.split(X_Train, Y_Train), total = 12): #get one stratified k-fold to estimate performance\n",
    "    Y_Pred = catBoostTrain(X_Train[train_ix], Y_Train[train_ix], X_Train[test_ix], Y_Train[test_ix], X_Test, trainingParams, libSpecificParams)\n",
    "    Y_Pred -= Y_Pred.min()\n",
    "    Y_Pred /= Y_Pred.max()\n",
    "    Y_Pred_total += Y_Pred\n",
    "    kCount += 1\n",
    "    #break\n",
    "\n",
    "Y_Pred = Y_Pred_total / kCount #OOF\n",
    "    \n",
    "dfSub=pd.DataFrame({df.columns[-1]:Y_Pred},index=ids)\n",
    "dfSub.to_csv(DATA_DIR+'/subs/sub_'+datetime.datetime.now().strftime(\"%d.%m.%Y__%H.%M.%S\")+'.csv')\n",
    "dfSub.head(12)"
   ]
  },
  {
   "cell_type": "code",
   "execution_count": null,
   "id": "2cd370a3",
   "metadata": {},
   "outputs": [],
   "source": []
  },
  {
   "cell_type": "code",
   "execution_count": 15,
   "id": "ee8147ee",
   "metadata": {},
   "outputs": [
    {
     "data": {
      "text/plain": [
       "Index(['Age', 'BusinessTravel', 'DailyRate', 'Department', 'DistanceFromHome',\n",
       "       'Education', 'EducationField', 'EmployeeCount',\n",
       "       'EnvironmentSatisfaction', 'Gender', 'HourlyRate', 'JobInvolvement',\n",
       "       'JobLevel', 'JobRole', 'JobSatisfaction', 'MaritalStatus',\n",
       "       'MonthlyIncome', 'MonthlyRate', 'NumCompaniesWorked', 'Over18',\n",
       "       'OverTime', 'PercentSalaryHike', 'PerformanceRating',\n",
       "       'RelationshipSatisfaction', 'StandardHours', 'StockOptionLevel',\n",
       "       'TotalWorkingYears', 'TrainingTimesLastYear', 'WorkLifeBalance',\n",
       "       'YearsAtCompany', 'YearsInCurrentRole', 'YearsSinceLastPromotion',\n",
       "       'YearsWithCurrManager', 'Attrition'],\n",
       "      dtype='object')"
      ]
     },
     "execution_count": 15,
     "metadata": {},
     "output_type": "execute_result"
    }
   ],
   "source": [
    "df.columns"
   ]
  },
  {
   "cell_type": "code",
   "execution_count": null,
   "id": "17df7bfd",
   "metadata": {},
   "outputs": [],
   "source": []
  },
  {
   "cell_type": "code",
   "execution_count": 20,
   "id": "eb1f13e0",
   "metadata": {},
   "outputs": [
    {
     "name": "stdout",
     "output_type": "stream",
     "text": [
      "BusinessTravel ['Travel_Frequently' 'Travel_Rarely' 'Non-Travel']\n",
      "Department ['Research & Development' 'Sales' 'Human Resources']\n",
      "Education [ 3  4  1  2  5 15]\n",
      "EducationField ['Medical' 'Other' 'Marketing' 'Life Sciences' 'Technical Degree'\n",
      " 'Human Resources']\n",
      "EnvironmentSatisfaction [4 1 3 2]\n",
      "Gender ['Male' 'Female']\n",
      "JobInvolvement [3 1 2 4]\n",
      "JobLevel [1 2 5 3 4 7]\n",
      "JobSatisfaction [4 1 2 3]\n",
      "MaritalStatus ['Married' 'Divorced' 'Single']\n",
      "OverTime ['Yes' 'No']\n",
      "PerformanceRating [3 4]\n",
      "RelationshipSatisfaction [2 4 3 1]\n",
      "StockOptionLevel [1 2 0 3]\n",
      "WorkLifeBalance [3 1 2 4]\n",
      "Attrition [0 1]\n"
     ]
    }
   ],
   "source": [
    "#RnD\n",
    "#print(df[\"JobInvolvement\"].unique())\n",
    "#df[\"RelationshipSatisfaction\"].unique()\n",
    "for c in df.columns:\n",
    "    if len(df[c].unique())<7 and len(df[c].unique())>1:\n",
    "        print(c,df[c].unique())"
   ]
  },
  {
   "cell_type": "code",
   "execution_count": 48,
   "id": "2dbb51a7",
   "metadata": {},
   "outputs": [
    {
     "name": "stdout",
     "output_type": "stream",
     "text": [
      "0.11926058437686345\n"
     ]
    }
   ],
   "source": [
    "#base Percents\n",
    "print(df[\"Attrition\"][df[\"Attrition\"]==1].count()/df.shape[0])"
   ]
  },
  {
   "cell_type": "code",
   "execution_count": 88,
   "id": "ba0b862d",
   "metadata": {},
   "outputs": [
    {
     "name": "stdout",
     "output_type": "stream",
     "text": [
      "655 19.39% \n",
      "617 6.81% \n",
      "75 6.67% \n",
      "235 8.94% \n",
      "94 5.32% \n",
      "1 0.00% >7< SMALL!!!\n"
     ]
    }
   ],
   "source": [
    "c1=\"JobLevel\"\n",
    "l1=df[c1].unique()\n",
    "#c2=\"WorkLifeBalance\"\n",
    "#l2=df[c2].unique()\n",
    "for i in range(len(l1)):\n",
    "    total=df[c1][df[c1]==l1[i]].count()\n",
    "    attr=df[c1][(df[c1]==l1[i]) & (df[\"Attrition\"]==1)].count()\n",
    "    result=\"\"\n",
    "    if total<40:\n",
    "        result+=\">\"+str(l1[i])+\"< SMALL!!!\"\n",
    "    print(total,\"{:.2f}%\".format(100*attr/total),result)\n",
    "    "
   ]
  },
  {
   "cell_type": "code",
   "execution_count": 101,
   "id": "433c6361",
   "metadata": {},
   "outputs": [
    {
     "name": "stdout",
     "output_type": "stream",
     "text": [
      "BusinessTravel ['Travel_Frequently' 'Travel_Rarely' 'Non-Travel']\n",
      "Department ['Research & Development' 'Sales' 'Human Resources']\n",
      "Education [ 3  4  1  2  5 15]\n",
      "EducationField ['Medical' 'Other' 'Marketing' 'Life Sciences' 'Technical Degree'\n",
      " 'Human Resources']\n",
      "EnvironmentSatisfaction [4 1 3 2]\n",
      "Gender ['Male' 'Female']\n",
      "JobInvolvement [3 1 2 4]\n",
      "JobLevel [1 2 5 3 4 7]\n",
      "JobSatisfaction [4 1 2 3]\n",
      "MaritalStatus ['Married' 'Divorced' 'Single']\n",
      "OverTime ['Yes' 'No']\n",
      "PerformanceRating [3 4]\n",
      "RelationshipSatisfaction [2 4 3 1]\n",
      "StockOptionLevel [1 2 0 3]\n",
      "WorkLifeBalance [3 1 2 4]\n",
      "Attrition [0 1]\n"
     ]
    }
   ],
   "source": [
    "feats=[]\n",
    "for c in df.columns:\n",
    "    if len(df[c].unique())<7 and len(df[c].unique())>1:\n",
    "        print(c,df[c].unique())\n",
    "        feats.append(c)"
   ]
  },
  {
   "cell_type": "code",
   "execution_count": 121,
   "id": "e90ab098",
   "metadata": {
    "scrolled": false
   },
   "outputs": [
    {
     "name": "stdout",
     "output_type": "stream",
     "text": [
      "106 35 33.02% 1 Travel_Frequently \n",
      "512 89 17.38% 1 Travel_Rarely \n",
      "37 3 8.11% 1 Non-Travel \n",
      "92 8 8.70% 2 Travel_Frequently \n",
      "462 32 6.93% 2 Travel_Rarely \n",
      "63 2 3.17% 2 Non-Travel \n",
      "12 2 16.67% 5 Travel_Frequently SMALL!!!\n",
      "58 3 5.17% 5 Travel_Rarely \n",
      "5 0 0.00% 5 Non-Travel SMALL!!!\n",
      "39 4 10.26% 3 Travel_Frequently \n",
      "178 17 9.55% 3 Travel_Rarely \n",
      "18 0 0.00% 3 Non-Travel SMALL!!!\n",
      "12 2 16.67% 4 Travel_Frequently SMALL!!!\n",
      "79 3 3.80% 4 Travel_Rarely \n",
      "3 0 0.00% 4 Non-Travel SMALL!!!\n",
      "0 0 0.00% 7 Travel_Frequently SMALL!!!\n",
      "1 0 0.00% 7 Travel_Rarely SMALL!!!\n",
      "0 0 0.00% 7 Non-Travel SMALL!!!\n",
      "555 94 16.94% 1 Research & Development \n",
      "80 26 32.50% 1 Sales \n",
      "20 7 35.00% 1 Human Resources \n",
      "350 16 4.57% 2 Research & Development \n",
      "258 26 10.08% 2 Sales \n",
      "9 0 0.00% 2 Human Resources SMALL!!!\n",
      "54 2 3.70% 5 Research & Development \n",
      "19 3 15.79% 5 Sales SMALL!!!\n",
      "2 0 0.00% 5 Human Resources SMALL!!!\n",
      "144 10 6.94% 3 Research & Development \n",
      "86 11 12.79% 3 Sales \n",
      "5 0 0.00% 3 Human Resources SMALL!!!\n",
      "63 4 6.35% 4 Research & Development \n",
      "28 1 3.57% 4 Sales \n",
      "3 0 0.00% 4 Human Resources SMALL!!!\n",
      "1 0 0.00% 7 Research & Development SMALL!!!\n",
      "0 0 0.00% 7 Sales SMALL!!!\n",
      "0 0 0.00% 7 Human Resources SMALL!!!\n",
      "310 67 21.61% 1 3 \n",
      "132 18 13.64% 1 4 \n",
      "99 22 22.22% 1 1 \n",
      "102 20 19.61% 1 2 \n",
      "11 0 0.00% 1 5 SMALL!!!\n",
      "1 0 0.00% 1 15 SMALL!!!\n",
      "213 12 5.63% 2 3 \n",
      "207 14 6.76% 2 4 \n",
      "48 8 16.67% 2 1 \n",
      "133 7 5.26% 2 2 \n",
      "16 1 6.25% 2 5 SMALL!!!\n",
      "0 0 0.00% 2 15 SMALL!!!\n",
      "27 1 3.70% 5 3 \n",
      "24 1 4.17% 5 4 \n",
      "9 2 22.22% 5 1 SMALL!!!\n",
      "12 1 8.33% 5 2 SMALL!!!\n",
      "3 0 0.00% 5 5 SMALL!!!\n",
      "0 0 0.00% 5 15 SMALL!!!\n",
      "98 11 11.22% 3 3 \n",
      "72 5 6.94% 3 4 \n",
      "19 1 5.26% 3 1 SMALL!!!\n",
      "38 3 7.89% 3 2 \n",
      "8 1 12.50% 3 5 SMALL!!!\n",
      "0 0 0.00% 3 15 SMALL!!!\n",
      "33 1 3.03% 4 3 \n",
      "29 0 0.00% 4 4 \n",
      "7 1 14.29% 4 1 SMALL!!!\n",
      "19 3 15.79% 4 2 SMALL!!!\n",
      "6 0 0.00% 4 5 SMALL!!!\n",
      "0 0 0.00% 4 15 SMALL!!!\n",
      "1 0 0.00% 7 3 SMALL!!!\n",
      "0 0 0.00% 7 4 SMALL!!!\n",
      "0 0 0.00% 7 1 SMALL!!!\n",
      "0 0 0.00% 7 2 SMALL!!!\n",
      "0 0 0.00% 7 5 SMALL!!!\n",
      "0 0 0.00% 7 15 SMALL!!!\n",
      "233 40 17.17% 1 Medical \n",
      "31 3 9.68% 1 Other \n",
      "23 9 39.13% 1 Marketing \n",
      "308 64 20.78% 1 Life Sciences \n",
      "55 8 14.55% 1 Technical Degree \n",
      "5 3 60.00% 1 Human Resources SMALL!!!\n",
      "190 12 6.32% 2 Medical \n",
      "38 2 5.26% 2 Other \n",
      "76 10 13.16% 2 Marketing \n",
      "283 14 4.95% 2 Life Sciences \n",
      "28 4 14.29% 2 Technical Degree \n",
      "2 0 0.00% 2 Human Resources SMALL!!!\n",
      "31 2 6.45% 5 Medical \n",
      "1 0 0.00% 5 Other SMALL!!!\n",
      "11 2 18.18% 5 Marketing SMALL!!!\n",
      "28 1 3.57% 5 Life Sciences \n",
      "3 0 0.00% 5 Technical Degree SMALL!!!\n",
      "1 0 0.00% 5 Human Resources SMALL!!!\n",
      "64 6 9.38% 3 Medical \n",
      "7 1 14.29% 3 Other SMALL!!!\n",
      "37 5 13.51% 3 Marketing \n",
      "106 7 6.60% 3 Life Sciences \n",
      "18 2 11.11% 3 Technical Degree SMALL!!!\n",
      "3 0 0.00% 3 Human Resources SMALL!!!\n",
      "31 3 9.68% 4 Medical \n",
      "5 0 0.00% 4 Other SMALL!!!\n",
      "5 0 0.00% 4 Marketing SMALL!!!\n",
      "49 2 4.08% 4 Life Sciences \n",
      "2 0 0.00% 4 Technical Degree SMALL!!!\n",
      "2 0 0.00% 4 Human Resources SMALL!!!\n",
      "0 0 0.00% 7 Medical SMALL!!!\n",
      "0 0 0.00% 7 Other SMALL!!!\n",
      "0 0 0.00% 7 Marketing SMALL!!!\n",
      "1 0 0.00% 7 Life Sciences SMALL!!!\n",
      "0 0 0.00% 7 Technical Degree SMALL!!!\n",
      "0 0 0.00% 7 Human Resources SMALL!!!\n",
      "206 28 13.59% 1 4 \n",
      "124 37 29.84% 1 1 \n",
      "195 39 20.00% 1 3 \n",
      "130 23 17.69% 1 2 \n",
      "200 11 5.50% 2 4 \n",
      "110 9 8.18% 2 1 \n",
      "179 14 7.82% 2 3 \n",
      "128 8 6.25% 2 2 \n",
      "25 1 4.00% 5 4 \n",
      "12 1 8.33% 5 1 SMALL!!!\n",
      "20 0 0.00% 5 3 \n",
      "18 3 16.67% 5 2 SMALL!!!\n",
      "73 6 8.22% 3 4 \n",
      "40 5 12.50% 3 1 \n",
      "72 5 6.94% 3 3 \n",
      "50 5 10.00% 3 2 \n",
      "32 1 3.12% 4 4 \n",
      "13 3 23.08% 4 1 SMALL!!!\n",
      "30 0 0.00% 4 3 \n",
      "19 1 5.26% 4 2 SMALL!!!\n",
      "1 0 0.00% 7 4 SMALL!!!\n",
      "0 0 0.00% 7 1 SMALL!!!\n",
      "0 0 0.00% 7 3 SMALL!!!\n",
      "0 0 0.00% 7 2 SMALL!!!\n",
      "446 92 20.63% 1 Male \n",
      "209 35 16.75% 1 Female \n",
      "378 28 7.41% 2 Male \n",
      "239 14 5.86% 2 Female \n",
      "41 3 7.32% 5 Male \n",
      "34 2 5.88% 5 Female \n",
      "148 14 9.46% 3 Male \n",
      "87 7 8.05% 3 Female \n",
      "51 1 1.96% 4 Male \n",
      "43 4 9.30% 4 Female \n",
      "0 0 0.00% 7 Male SMALL!!!\n",
      "1 0 0.00% 7 Female SMALL!!!\n",
      "429 74 17.25% 1 3 \n",
      "28 16 57.14% 1 1 \n",
      "151 34 22.52% 1 2 \n",
      "47 3 6.38% 1 4 \n",
      "407 19 4.67% 2 3 \n",
      "26 4 15.38% 2 1 \n",
      "123 13 10.57% 2 2 \n",
      "61 6 9.84% 2 4 \n",
      "49 3 6.12% 5 3 \n",
      "7 2 28.57% 5 1 SMALL!!!\n",
      "13 0 0.00% 5 2 SMALL!!!\n",
      "6 0 0.00% 5 4 SMALL!!!\n",
      "159 14 8.81% 3 3 \n",
      "8 2 25.00% 3 1 SMALL!!!\n",
      "50 4 8.00% 3 2 \n",
      "18 1 5.56% 3 4 SMALL!!!\n",
      "62 2 3.23% 4 3 \n",
      "4 1 25.00% 4 1 SMALL!!!\n",
      "21 2 9.52% 4 2 \n",
      "7 0 0.00% 4 4 SMALL!!!\n",
      "1 0 0.00% 7 3 SMALL!!!\n",
      "0 0 0.00% 7 1 SMALL!!!\n",
      "0 0 0.00% 7 2 SMALL!!!\n",
      "0 0 0.00% 7 4 SMALL!!!\n",
      "211 34 16.11% 1 4 \n",
      "109 28 25.69% 1 1 \n",
      "116 20 17.24% 1 2 \n",
      "219 45 20.55% 1 3 \n",
      "211 7 3.32% 2 4 \n",
      "115 14 12.17% 2 1 \n",
      "111 8 7.21% 2 2 \n",
      "180 13 7.22% 2 3 \n",
      "22 1 4.55% 5 4 \n",
      "16 1 6.25% 5 1 SMALL!!!\n",
      "17 2 11.76% 5 2 SMALL!!!\n",
      "20 1 5.00% 5 3 \n",
      "83 7 8.43% 3 4 \n",
      "51 4 7.84% 3 1 \n",
      "33 3 9.09% 3 2 \n",
      "68 7 10.29% 3 3 \n",
      "34 1 2.94% 4 4 \n",
      "19 0 0.00% 4 1 SMALL!!!\n",
      "13 1 7.69% 4 2 SMALL!!!\n",
      "28 3 10.71% 4 3 \n",
      "0 0 0.00% 7 4 SMALL!!!\n",
      "0 0 0.00% 7 1 SMALL!!!\n",
      "0 0 0.00% 7 2 SMALL!!!\n",
      "1 0 0.00% 7 3 SMALL!!!\n",
      "298 48 16.11% 1 Married \n",
      "114 10 8.77% 1 Divorced \n",
      "243 69 28.40% 1 Single \n",
      "292 15 5.14% 2 Married \n",
      "123 1 0.81% 2 Divorced \n",
      "202 26 12.87% 2 Single \n",
      "32 0 0.00% 5 Married \n",
      "17 1 5.88% 5 Divorced SMALL!!!\n",
      "26 4 15.38% 5 Single \n",
      "106 4 3.77% 3 Married \n",
      "54 4 7.41% 3 Divorced \n",
      "75 13 17.33% 3 Single \n",
      "45 3 6.67% 4 Married \n",
      "19 0 0.00% 4 Divorced SMALL!!!\n",
      "30 2 6.67% 4 Single \n",
      "0 0 0.00% 7 Married SMALL!!!\n",
      "0 0 0.00% 7 Divorced SMALL!!!\n",
      "1 0 0.00% 7 Single SMALL!!!\n",
      "154 51 33.12% 1 Yes \n",
      "501 76 15.17% 1 No \n",
      "138 21 15.22% 2 Yes \n",
      "479 21 4.38% 2 No \n",
      "19 3 15.79% 5 Yes SMALL!!!\n",
      "56 2 3.57% 5 No \n",
      "68 11 16.18% 3 Yes \n",
      "167 10 5.99% 3 No \n",
      "21 2 9.52% 4 Yes \n",
      "73 3 4.11% 4 No \n",
      "0 0 0.00% 7 Yes SMALL!!!\n",
      "1 0 0.00% 7 No SMALL!!!\n",
      "562 105 18.68% 1 3 \n",
      "93 22 23.66% 1 4 \n",
      "537 39 7.26% 2 3 \n",
      "80 3 3.75% 2 4 \n",
      "72 5 6.94% 5 3 \n",
      "3 0 0.00% 5 4 SMALL!!!\n",
      "210 19 9.05% 3 3 \n",
      "25 2 8.00% 3 4 \n",
      "81 4 4.94% 4 3 \n",
      "13 1 7.69% 4 4 SMALL!!!\n",
      "1 0 0.00% 7 3 SMALL!!!\n",
      "0 0 0.00% 7 4 SMALL!!!\n",
      "132 29 21.97% 1 2 \n",
      "201 24 11.94% 1 4 \n",
      "208 39 18.75% 1 3 \n",
      "114 35 30.70% 1 1 \n",
      "115 6 5.22% 2 2 \n",
      "187 17 9.09% 2 4 \n",
      "190 5 2.63% 2 3 \n",
      "125 14 11.20% 2 1 \n",
      "17 0 0.00% 5 2 SMALL!!!\n",
      "21 1 4.76% 5 4 \n",
      "24 2 8.33% 5 3 \n",
      "13 2 15.38% 5 1 SMALL!!!\n",
      "54 3 5.56% 3 2 \n",
      "70 6 8.57% 3 4 \n",
      "73 8 10.96% 3 3 \n",
      "38 4 10.53% 3 1 \n",
      "19 0 0.00% 4 2 SMALL!!!\n",
      "38 1 2.63% 4 4 \n",
      "28 3 10.71% 4 3 \n",
      "9 1 11.11% 4 1 SMALL!!!\n",
      "0 0 0.00% 7 2 SMALL!!!\n",
      "1 0 0.00% 7 4 SMALL!!!\n",
      "0 0 0.00% 7 3 SMALL!!!\n",
      "0 0 0.00% 7 1 SMALL!!!\n",
      "286 25 8.74% 1 1 \n",
      "39 3 7.69% 1 2 \n",
      "303 96 31.68% 1 0 \n",
      "27 3 11.11% 1 3 \n",
      "269 6 2.23% 2 1 \n",
      "67 2 2.99% 2 2 \n",
      "260 34 13.08% 2 0 \n",
      "21 0 0.00% 2 3 \n",
      "39 1 2.56% 5 1 \n",
      "2 0 0.00% 5 2 SMALL!!!\n",
      "31 4 12.90% 5 0 \n",
      "3 0 0.00% 5 3 SMALL!!!\n",
      "107 3 2.80% 3 1 \n",
      "18 1 5.56% 3 2 SMALL!!!\n",
      "98 15 15.31% 3 0 \n",
      "12 2 16.67% 3 3 SMALL!!!\n",
      "44 1 2.27% 4 1 \n",
      "9 0 0.00% 4 2 SMALL!!!\n",
      "39 4 10.26% 4 0 \n",
      "2 0 0.00% 4 3 SMALL!!!\n",
      "0 0 0.00% 7 1 SMALL!!!\n",
      "0 0 0.00% 7 2 SMALL!!!\n",
      "1 0 0.00% 7 0 SMALL!!!\n",
      "0 0 0.00% 7 3 SMALL!!!\n",
      "420 76 18.10% 1 3 \n",
      "26 12 46.15% 1 1 \n",
      "158 25 15.82% 1 2 \n",
      "51 14 27.45% 1 4 \n",
      "402 30 7.46% 2 3 \n",
      "26 3 11.54% 2 1 \n",
      "142 9 6.34% 2 2 \n",
      "47 0 0.00% 2 4 \n",
      "52 2 3.85% 5 3 \n",
      "3 1 33.33% 5 1 SMALL!!!\n",
      "17 2 11.76% 5 2 SMALL!!!\n",
      "3 0 0.00% 5 4 SMALL!!!\n",
      "162 13 8.02% 3 3 \n",
      "8 1 12.50% 3 1 SMALL!!!\n",
      "45 5 11.11% 3 2 \n",
      "20 2 10.00% 3 4 \n",
      "53 3 5.66% 4 3 \n",
      "5 1 20.00% 4 1 SMALL!!!\n",
      "22 1 4.55% 4 2 \n",
      "14 0 0.00% 4 4 SMALL!!!\n",
      "0 0 0.00% 7 3 SMALL!!!\n",
      "0 0 0.00% 7 1 SMALL!!!\n",
      "1 0 0.00% 7 2 SMALL!!!\n",
      "0 0 0.00% 7 4 SMALL!!!\n",
      "528 0 0.00% 1 0 \n",
      "127 127 100.00% 1 1 \n",
      "575 0 0.00% 2 0 \n",
      "42 42 100.00% 2 1 \n",
      "70 0 0.00% 5 0 \n",
      "5 5 100.00% 5 1 SMALL!!!\n",
      "214 0 0.00% 3 0 \n",
      "21 21 100.00% 3 1 \n",
      "89 0 0.00% 4 0 \n",
      "5 5 100.00% 4 1 SMALL!!!\n",
      "1 0 0.00% 7 0 SMALL!!!\n",
      "0 0 0.00% 7 1 SMALL!!!\n",
      "\n",
      "JobLevel Attrition std [(0, 7), (3.326577012381387, 4), (3.5077859002340466, 5), (13.748612291991511, 2), (14.75165165700851, 3), (15.173323271159111, 1)]\n"
     ]
    }
   ],
   "source": [
    "rats={}\n",
    "c1=\"JobLevel\"\n",
    "l1=df[c1].unique()\n",
    "for c2 in feats:\n",
    "    if c2==c1:\n",
    "        continue\n",
    "    #c2=\"EducationField\"\n",
    "    l2=df[c2].unique()\n",
    "    for i in range(len(l1)):\n",
    "        if not l1[i] in rats:\n",
    "            rats[l1[i]]=[]\n",
    "        ratsNow=[]\n",
    "        for j in range(len(l2)):\n",
    "            total=df[(df[c1]==l1[i]) & (df[c2]==l2[j])].shape[0]\n",
    "            attr=df[(df[c1]==l1[i]) & (df[c2]==l2[j]) & (df[\"Attrition\"]==1)].shape[0]\n",
    "            result=\"\"\n",
    "            if total<20:\n",
    "                result+=\"SMALL!!!\"\n",
    "            ratio=100*attr/max(1,total)\n",
    "            print(total,attr,\"{:.2f}%\".format(ratio), l1[i],l2[j],result)\n",
    "            if total>20:\n",
    "                ratsNow.append(ratio)\n",
    "        rats[l1[i]].extend(ratsNow)\n",
    "print()\n",
    "res=[]\n",
    "for r in rats:\n",
    "    ar=np.array(rats[r])\n",
    "    if len(ar)==0:\n",
    "        res.append((0,r))\n",
    "    else:\n",
    "        res.append(((ar-ar.mean()).std(),r))\n",
    "res=sorted(res)\n",
    "print(c1,c2,'std',res)"
   ]
  },
  {
   "cell_type": "code",
   "execution_count": 123,
   "id": "bef394b7",
   "metadata": {},
   "outputs": [
    {
     "name": "stdout",
     "output_type": "stream",
     "text": [
      "[3.7974683544303796, 6.349206349206349, 3.5714285714285716, 3.0303030303030303, 0.0, 9.67741935483871, 4.081632653061225, 3.125, 0.0, 1.9607843137254901, 9.30232558139535, 3.225806451612903, 9.523809523809524, 2.9411764705882355, 10.714285714285714, 6.666666666666667, 6.666666666666667, 9.523809523809524, 4.109589041095891, 4.938271604938271, 2.6315789473684212, 10.714285714285714, 2.272727272727273, 10.256410256410257, 5.660377358490566, 4.545454545454546, 0.0]\n"
     ]
    }
   ],
   "source": [
    "print(rats[4])"
   ]
  }
 ],
 "metadata": {
  "kernelspec": {
   "display_name": "Python 3 (ipykernel)",
   "language": "python",
   "name": "python3"
  },
  "language_info": {
   "codemirror_mode": {
    "name": "ipython",
    "version": 3
   },
   "file_extension": ".py",
   "mimetype": "text/x-python",
   "name": "python",
   "nbconvert_exporter": "python",
   "pygments_lexer": "ipython3",
   "version": "3.8.10"
  }
 },
 "nbformat": 4,
 "nbformat_minor": 5
}
